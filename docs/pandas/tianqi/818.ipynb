{
 "cells": [
  {
   "cell_type": "code",
   "execution_count": 1,
   "metadata": {},
   "outputs": [],
   "source": [
    "import requests          # 需要下载安装 \n",
    "import json              # 内置第三方库\n",
    "from lxml import etree   # 解析HTML\n",
    "import json              # to load json"
   ]
  },
  {
   "cell_type": "markdown",
   "metadata": {},
   "source": [
    "### 构造url"
   ]
  },
  {
   "cell_type": "code",
   "execution_count": 2,
   "metadata": {},
   "outputs": [],
   "source": [
    "# 构建完整的url 链接\n",
    "def get_url(start_years, end_years, areaId, areaType, month=1):\n",
    "    params = {\n",
    "        'areaInfo[areaId]': areaId,        # 57083\n",
    "        'areaInfo[areaType]': areaType,    # 2\n",
    "        'date[year]': start_years,         # 2019\n",
    "        'date[month]': month               # 8\n",
    "    }\n",
    "    # 1 年的数据\n",
    "    for year in range(start_years, end_years):\n",
    "        params['date[year]'] = year\n",
    "        for month in range(1,13):\n",
    "            params['date[month]'] = month\n",
    "            main_url = 'http://tianqi.2345.com/Pc/GetHistory'\n",
    "            get_json(main_url, params)"
   ]
  },
  {
   "cell_type": "markdown",
   "metadata": {},
   "source": [
    "### 爬取网页信息"
   ]
  },
  {
   "cell_type": "code",
   "execution_count": 3,
   "metadata": {},
   "outputs": [],
   "source": [
    "# 网页返回的是json对象\n",
    "def get_json(url, params):\n",
    "    # define headers\n",
    "    headers = {\n",
    "        'User-Agent':\n",
    "        'Mozilla/5.0 (Windows NT 10.0; Win64; x64) AppleWebKit/537.36 (KHTML, like Gecko) Chrome/84.0.4147.125 Safari/537.36User-Agent: Mozilla/5.0 (Windows NT 10.0; Win64; x64) AppleWebKit/537.36 (KHTML, like Gecko) Chrome/84.0.4147.125 Safari/537.36',\n",
    "        'Referer': 'http://tianqi.2345.com/wea_history/57083.htm'\n",
    "    }\n",
    "    response = requests.get(url, params=params, headers=headers)\n",
    "    # response.text or content.decode('utf-8') is not true, because it is not html.\n",
    "    # so we use the lib json.\n",
    "    print('爬取 {} 状态是: {}'.format(response.url, response.status_code))\n",
    "    data = json.loads(response.content.decode('utf-8'))\n",
    "    get_info(data['data'])"
   ]
  },
  {
   "cell_type": "markdown",
   "metadata": {},
   "source": [
    "### 获取数据"
   ]
  },
  {
   "cell_type": "code",
   "execution_count": 4,
   "metadata": {},
   "outputs": [],
   "source": [
    "# 提取数据\n",
    "days = {\n",
    "    'date':[],\n",
    "    'week':[],\n",
    "    'max_temperature':[],\n",
    "    'min_temperature':[],\n",
    "    'day_status':[],\n",
    "    'wind':[],\n",
    "    'aqi':[],\n",
    "    'aqi_status':[]\n",
    "}\n",
    "def get_info(data):\n",
    "    # html = etree.HTML(html_elements)  # 初始化生成一个XPath解析对象\n",
    "    # result = etree.tostring(html, encoding='utf-8')  # 解析对象输出代码\n",
    "    html=etree.HTML(data,etree.HTMLParser())\n",
    "    trs = html.xpath('//tr')[1:]\n",
    "    for tr in trs:\n",
    "        data = tr.xpath('.//text()')\n",
    "        # 消去垃圾值\n",
    "        data = [x for x in data if x != '\\n        ' and x != '    ']\n",
    "        # 划分数据\n",
    "        res_data = []\n",
    "        for x in data:\n",
    "            res_data += x.split()\n",
    "        # print(res_data)\n",
    "\n",
    "\n",
    "        # 添加数据\n",
    "        days['date'].append(res_data[0])\n",
    "        days['week'].append(res_data[1])\n",
    "        days['max_temperature'].append(res_data[2])\n",
    "        days['min_temperature'].append(res_data[3])\n",
    "        days['day_status'].append(res_data[4])\n",
    "        days['wind'].append(res_data[5])\n",
    "        days['aqi'].append(res_data[6])\n",
    "        days['aqi_status'].append(res_data[7])"
   ]
  },
  {
   "cell_type": "code",
   "execution_count": 5,
   "metadata": {},
   "outputs": [
    {
     "name": "stdout",
     "output_type": "stream",
     "text": [
      "爬取 http://tianqi.2345.com/Pc/GetHistory?areaInfo%5BareaId%5D=57083&areaInfo%5BareaType%5D=2&date%5Byear%5D=2017&date%5Bmonth%5D=1 状态是: 200\n",
      "爬取 http://tianqi.2345.com/Pc/GetHistory?areaInfo%5BareaId%5D=57083&areaInfo%5BareaType%5D=2&date%5Byear%5D=2017&date%5Bmonth%5D=2 状态是: 200\n",
      "爬取 http://tianqi.2345.com/Pc/GetHistory?areaInfo%5BareaId%5D=57083&areaInfo%5BareaType%5D=2&date%5Byear%5D=2017&date%5Bmonth%5D=3 状态是: 200\n",
      "爬取 http://tianqi.2345.com/Pc/GetHistory?areaInfo%5BareaId%5D=57083&areaInfo%5BareaType%5D=2&date%5Byear%5D=2017&date%5Bmonth%5D=4 状态是: 200\n",
      "爬取 http://tianqi.2345.com/Pc/GetHistory?areaInfo%5BareaId%5D=57083&areaInfo%5BareaType%5D=2&date%5Byear%5D=2017&date%5Bmonth%5D=5 状态是: 200\n",
      "爬取 http://tianqi.2345.com/Pc/GetHistory?areaInfo%5BareaId%5D=57083&areaInfo%5BareaType%5D=2&date%5Byear%5D=2017&date%5Bmonth%5D=6 状态是: 200\n",
      "爬取 http://tianqi.2345.com/Pc/GetHistory?areaInfo%5BareaId%5D=57083&areaInfo%5BareaType%5D=2&date%5Byear%5D=2017&date%5Bmonth%5D=7 状态是: 200\n",
      "爬取 http://tianqi.2345.com/Pc/GetHistory?areaInfo%5BareaId%5D=57083&areaInfo%5BareaType%5D=2&date%5Byear%5D=2017&date%5Bmonth%5D=8 状态是: 200\n",
      "爬取 http://tianqi.2345.com/Pc/GetHistory?areaInfo%5BareaId%5D=57083&areaInfo%5BareaType%5D=2&date%5Byear%5D=2017&date%5Bmonth%5D=9 状态是: 200\n",
      "爬取 http://tianqi.2345.com/Pc/GetHistory?areaInfo%5BareaId%5D=57083&areaInfo%5BareaType%5D=2&date%5Byear%5D=2017&date%5Bmonth%5D=10 状态是: 200\n",
      "爬取 http://tianqi.2345.com/Pc/GetHistory?areaInfo%5BareaId%5D=57083&areaInfo%5BareaType%5D=2&date%5Byear%5D=2017&date%5Bmonth%5D=11 状态是: 200\n",
      "爬取 http://tianqi.2345.com/Pc/GetHistory?areaInfo%5BareaId%5D=57083&areaInfo%5BareaType%5D=2&date%5Byear%5D=2017&date%5Bmonth%5D=12 状态是: 200\n",
      "爬取 http://tianqi.2345.com/Pc/GetHistory?areaInfo%5BareaId%5D=57083&areaInfo%5BareaType%5D=2&date%5Byear%5D=2018&date%5Bmonth%5D=1 状态是: 200\n",
      "爬取 http://tianqi.2345.com/Pc/GetHistory?areaInfo%5BareaId%5D=57083&areaInfo%5BareaType%5D=2&date%5Byear%5D=2018&date%5Bmonth%5D=2 状态是: 200\n",
      "爬取 http://tianqi.2345.com/Pc/GetHistory?areaInfo%5BareaId%5D=57083&areaInfo%5BareaType%5D=2&date%5Byear%5D=2018&date%5Bmonth%5D=3 状态是: 200\n",
      "爬取 http://tianqi.2345.com/Pc/GetHistory?areaInfo%5BareaId%5D=57083&areaInfo%5BareaType%5D=2&date%5Byear%5D=2018&date%5Bmonth%5D=4 状态是: 200\n",
      "爬取 http://tianqi.2345.com/Pc/GetHistory?areaInfo%5BareaId%5D=57083&areaInfo%5BareaType%5D=2&date%5Byear%5D=2018&date%5Bmonth%5D=5 状态是: 200\n",
      "爬取 http://tianqi.2345.com/Pc/GetHistory?areaInfo%5BareaId%5D=57083&areaInfo%5BareaType%5D=2&date%5Byear%5D=2018&date%5Bmonth%5D=6 状态是: 200\n",
      "爬取 http://tianqi.2345.com/Pc/GetHistory?areaInfo%5BareaId%5D=57083&areaInfo%5BareaType%5D=2&date%5Byear%5D=2018&date%5Bmonth%5D=7 状态是: 200\n",
      "爬取 http://tianqi.2345.com/Pc/GetHistory?areaInfo%5BareaId%5D=57083&areaInfo%5BareaType%5D=2&date%5Byear%5D=2018&date%5Bmonth%5D=8 状态是: 200\n",
      "爬取 http://tianqi.2345.com/Pc/GetHistory?areaInfo%5BareaId%5D=57083&areaInfo%5BareaType%5D=2&date%5Byear%5D=2018&date%5Bmonth%5D=9 状态是: 200\n",
      "爬取 http://tianqi.2345.com/Pc/GetHistory?areaInfo%5BareaId%5D=57083&areaInfo%5BareaType%5D=2&date%5Byear%5D=2018&date%5Bmonth%5D=10 状态是: 200\n",
      "爬取 http://tianqi.2345.com/Pc/GetHistory?areaInfo%5BareaId%5D=57083&areaInfo%5BareaType%5D=2&date%5Byear%5D=2018&date%5Bmonth%5D=11 状态是: 200\n",
      "爬取 http://tianqi.2345.com/Pc/GetHistory?areaInfo%5BareaId%5D=57083&areaInfo%5BareaType%5D=2&date%5Byear%5D=2018&date%5Bmonth%5D=12 状态是: 200\n",
      "爬取 http://tianqi.2345.com/Pc/GetHistory?areaInfo%5BareaId%5D=57083&areaInfo%5BareaType%5D=2&date%5Byear%5D=2019&date%5Bmonth%5D=1 状态是: 200\n",
      "爬取 http://tianqi.2345.com/Pc/GetHistory?areaInfo%5BareaId%5D=57083&areaInfo%5BareaType%5D=2&date%5Byear%5D=2019&date%5Bmonth%5D=2 状态是: 200\n",
      "爬取 http://tianqi.2345.com/Pc/GetHistory?areaInfo%5BareaId%5D=57083&areaInfo%5BareaType%5D=2&date%5Byear%5D=2019&date%5Bmonth%5D=3 状态是: 200\n",
      "爬取 http://tianqi.2345.com/Pc/GetHistory?areaInfo%5BareaId%5D=57083&areaInfo%5BareaType%5D=2&date%5Byear%5D=2019&date%5Bmonth%5D=4 状态是: 200\n",
      "爬取 http://tianqi.2345.com/Pc/GetHistory?areaInfo%5BareaId%5D=57083&areaInfo%5BareaType%5D=2&date%5Byear%5D=2019&date%5Bmonth%5D=5 状态是: 200\n",
      "爬取 http://tianqi.2345.com/Pc/GetHistory?areaInfo%5BareaId%5D=57083&areaInfo%5BareaType%5D=2&date%5Byear%5D=2019&date%5Bmonth%5D=6 状态是: 200\n",
      "爬取 http://tianqi.2345.com/Pc/GetHistory?areaInfo%5BareaId%5D=57083&areaInfo%5BareaType%5D=2&date%5Byear%5D=2019&date%5Bmonth%5D=7 状态是: 200\n",
      "爬取 http://tianqi.2345.com/Pc/GetHistory?areaInfo%5BareaId%5D=57083&areaInfo%5BareaType%5D=2&date%5Byear%5D=2019&date%5Bmonth%5D=8 状态是: 200\n",
      "爬取 http://tianqi.2345.com/Pc/GetHistory?areaInfo%5BareaId%5D=57083&areaInfo%5BareaType%5D=2&date%5Byear%5D=2019&date%5Bmonth%5D=9 状态是: 200\n",
      "爬取 http://tianqi.2345.com/Pc/GetHistory?areaInfo%5BareaId%5D=57083&areaInfo%5BareaType%5D=2&date%5Byear%5D=2019&date%5Bmonth%5D=10 状态是: 200\n",
      "爬取 http://tianqi.2345.com/Pc/GetHistory?areaInfo%5BareaId%5D=57083&areaInfo%5BareaType%5D=2&date%5Byear%5D=2019&date%5Bmonth%5D=11 状态是: 200\n",
      "爬取 http://tianqi.2345.com/Pc/GetHistory?areaInfo%5BareaId%5D=57083&areaInfo%5BareaType%5D=2&date%5Byear%5D=2019&date%5Bmonth%5D=12 状态是: 200\n"
     ]
    }
   ],
   "source": [
    "if __name__ == '__main__':\n",
    "    get_url(2017, 2020, 57083, 2)"
   ]
  },
  {
   "cell_type": "code",
   "execution_count": 6,
   "metadata": {},
   "outputs": [],
   "source": [
    "import pandas  as pd"
   ]
  },
  {
   "cell_type": "code",
   "execution_count": 7,
   "metadata": {},
   "outputs": [],
   "source": [
    "df =  pd.DataFrame(days, index=days['date'])"
   ]
  },
  {
   "cell_type": "code",
   "execution_count": 8,
   "metadata": {},
   "outputs": [
    {
     "data": {
      "text/html": [
       "<div>\n",
       "<style scoped>\n",
       "    .dataframe tbody tr th:only-of-type {\n",
       "        vertical-align: middle;\n",
       "    }\n",
       "\n",
       "    .dataframe tbody tr th {\n",
       "        vertical-align: top;\n",
       "    }\n",
       "\n",
       "    .dataframe thead th {\n",
       "        text-align: right;\n",
       "    }\n",
       "</style>\n",
       "<table border=\"1\" class=\"dataframe\">\n",
       "  <thead>\n",
       "    <tr style=\"text-align: right;\">\n",
       "      <th></th>\n",
       "      <th>date</th>\n",
       "      <th>week</th>\n",
       "      <th>max_temperature</th>\n",
       "      <th>min_temperature</th>\n",
       "      <th>day_status</th>\n",
       "      <th>wind</th>\n",
       "      <th>aqi</th>\n",
       "      <th>aqi_status</th>\n",
       "    </tr>\n",
       "  </thead>\n",
       "  <tbody>\n",
       "    <tr>\n",
       "      <th>2017-01-01</th>\n",
       "      <td>2017-01-01</td>\n",
       "      <td>周日</td>\n",
       "      <td>-</td>\n",
       "      <td>-</td>\n",
       "      <td>多云</td>\n",
       "      <td>无持续风向微风</td>\n",
       "      <td>372</td>\n",
       "      <td>严重</td>\n",
       "    </tr>\n",
       "    <tr>\n",
       "      <th>2017-01-02</th>\n",
       "      <td>2017-01-02</td>\n",
       "      <td>周一</td>\n",
       "      <td>-</td>\n",
       "      <td>-</td>\n",
       "      <td>霾</td>\n",
       "      <td>无持续风向微风</td>\n",
       "      <td>361</td>\n",
       "      <td>严重</td>\n",
       "    </tr>\n",
       "    <tr>\n",
       "      <th>2017-01-03</th>\n",
       "      <td>2017-01-03</td>\n",
       "      <td>周二</td>\n",
       "      <td>-</td>\n",
       "      <td>-</td>\n",
       "      <td>霾~雾</td>\n",
       "      <td>无持续风向微风</td>\n",
       "      <td>280</td>\n",
       "      <td>重度</td>\n",
       "    </tr>\n",
       "    <tr>\n",
       "      <th>2017-01-04</th>\n",
       "      <td>2017-01-04</td>\n",
       "      <td>周三</td>\n",
       "      <td>9°</td>\n",
       "      <td>2°</td>\n",
       "      <td>小雨</td>\n",
       "      <td>无持续风向微风</td>\n",
       "      <td>193</td>\n",
       "      <td>中度</td>\n",
       "    </tr>\n",
       "    <tr>\n",
       "      <th>2017-01-05</th>\n",
       "      <td>2017-01-05</td>\n",
       "      <td>周四</td>\n",
       "      <td>5°</td>\n",
       "      <td>1°</td>\n",
       "      <td>小雨</td>\n",
       "      <td>无持续风向微风</td>\n",
       "      <td>216</td>\n",
       "      <td>重度</td>\n",
       "    </tr>\n",
       "  </tbody>\n",
       "</table>\n",
       "</div>"
      ],
      "text/plain": [
       "                  date week max_temperature min_temperature day_status  \\\n",
       "2017-01-01  2017-01-01   周日               -               -         多云   \n",
       "2017-01-02  2017-01-02   周一               -               -          霾   \n",
       "2017-01-03  2017-01-03   周二               -               -        霾~雾   \n",
       "2017-01-04  2017-01-04   周三              9°              2°         小雨   \n",
       "2017-01-05  2017-01-05   周四              5°              1°         小雨   \n",
       "\n",
       "               wind  aqi aqi_status  \n",
       "2017-01-01  无持续风向微风  372         严重  \n",
       "2017-01-02  无持续风向微风  361         严重  \n",
       "2017-01-03  无持续风向微风  280         重度  \n",
       "2017-01-04  无持续风向微风  193         中度  \n",
       "2017-01-05  无持续风向微风  216         重度  "
      ]
     },
     "execution_count": 8,
     "metadata": {},
     "output_type": "execute_result"
    }
   ],
   "source": [
    "df.head()"
   ]
  },
  {
   "cell_type": "code",
   "execution_count": 9,
   "metadata": {},
   "outputs": [],
   "source": [
    "df.to_excel('result.xlsx', index=None)"
   ]
  }
 ],
 "metadata": {
  "kernelspec": {
   "display_name": "Python 3",
   "language": "python",
   "name": "python3"
  },
  "language_info": {
   "codemirror_mode": {
    "name": "ipython",
    "version": 3
   },
   "file_extension": ".py",
   "mimetype": "text/x-python",
   "name": "python",
   "nbconvert_exporter": "python",
   "pygments_lexer": "ipython3",
   "version": "3.7.2"
  }
 },
 "nbformat": 4,
 "nbformat_minor": 4
}
