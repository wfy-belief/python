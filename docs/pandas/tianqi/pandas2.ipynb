{
 "cells": [
  {
   "cell_type": "code",
   "execution_count": 15,
   "metadata": {
    "ExecuteTime": {
     "end_time": "2020-08-22T12:29:49.139322Z",
     "start_time": "2020-08-22T12:29:49.134371Z"
    }
   },
   "outputs": [],
   "source": [
    "import pandas as pd\n",
    "%matplotlib widget\n",
    "# https://www.cnblogs.com/feffery/p/13364668.html"
   ]
  },
  {
   "cell_type": "code",
   "execution_count": 16,
   "metadata": {
    "ExecuteTime": {
     "end_time": "2020-08-22T12:29:49.934968Z",
     "start_time": "2020-08-22T12:29:49.141321Z"
    }
   },
   "outputs": [],
   "source": [
    "url = 'https://raw.githubusercontent.com/peiss/ant-learn-pandas/master/datas/stocks/%E4%BA%92%E8%81%94%E7%BD%91%E5%85%AC%E5%8F%B8%E8%82%A1%E7%A5%A8.xlsx'\n",
    "stocks = pd.read_excel(url)"
   ]
  },
  {
   "cell_type": "code",
   "execution_count": 17,
   "metadata": {
    "ExecuteTime": {
     "end_time": "2020-08-22T12:29:49.951485Z",
     "start_time": "2020-08-22T12:29:49.937490Z"
    }
   },
   "outputs": [
    {
     "data": {
      "text/html": [
       "<div>\n",
       "<style scoped>\n",
       "    .dataframe tbody tr th:only-of-type {\n",
       "        vertical-align: middle;\n",
       "    }\n",
       "\n",
       "    .dataframe tbody tr th {\n",
       "        vertical-align: top;\n",
       "    }\n",
       "\n",
       "    .dataframe thead th {\n",
       "        text-align: right;\n",
       "    }\n",
       "</style>\n",
       "<table border=\"1\" class=\"dataframe\">\n",
       "  <thead>\n",
       "    <tr style=\"text-align: right;\">\n",
       "      <th></th>\n",
       "      <th>日期</th>\n",
       "      <th>公司</th>\n",
       "      <th>收盘</th>\n",
       "      <th>开盘</th>\n",
       "      <th>高</th>\n",
       "      <th>低</th>\n",
       "      <th>交易量</th>\n",
       "      <th>涨跌幅</th>\n",
       "    </tr>\n",
       "  </thead>\n",
       "  <tbody>\n",
       "    <tr>\n",
       "      <th>0</th>\n",
       "      <td>2019-10-03</td>\n",
       "      <td>BIDU</td>\n",
       "      <td>104.32</td>\n",
       "      <td>102.35</td>\n",
       "      <td>104.73</td>\n",
       "      <td>101.15</td>\n",
       "      <td>2.24</td>\n",
       "      <td>0.02</td>\n",
       "    </tr>\n",
       "    <tr>\n",
       "      <th>1</th>\n",
       "      <td>2019-10-02</td>\n",
       "      <td>BIDU</td>\n",
       "      <td>102.62</td>\n",
       "      <td>100.85</td>\n",
       "      <td>103.24</td>\n",
       "      <td>99.50</td>\n",
       "      <td>2.69</td>\n",
       "      <td>0.01</td>\n",
       "    </tr>\n",
       "    <tr>\n",
       "      <th>2</th>\n",
       "      <td>2019-10-01</td>\n",
       "      <td>BIDU</td>\n",
       "      <td>102.00</td>\n",
       "      <td>102.80</td>\n",
       "      <td>103.26</td>\n",
       "      <td>101.00</td>\n",
       "      <td>1.78</td>\n",
       "      <td>-0.01</td>\n",
       "    </tr>\n",
       "    <tr>\n",
       "      <th>3</th>\n",
       "      <td>2019-10-03</td>\n",
       "      <td>BABA</td>\n",
       "      <td>169.48</td>\n",
       "      <td>166.65</td>\n",
       "      <td>170.18</td>\n",
       "      <td>165.00</td>\n",
       "      <td>10.39</td>\n",
       "      <td>0.02</td>\n",
       "    </tr>\n",
       "    <tr>\n",
       "      <th>4</th>\n",
       "      <td>2019-10-02</td>\n",
       "      <td>BABA</td>\n",
       "      <td>165.77</td>\n",
       "      <td>162.82</td>\n",
       "      <td>166.88</td>\n",
       "      <td>161.90</td>\n",
       "      <td>11.60</td>\n",
       "      <td>0.00</td>\n",
       "    </tr>\n",
       "    <tr>\n",
       "      <th>5</th>\n",
       "      <td>2019-10-01</td>\n",
       "      <td>BABA</td>\n",
       "      <td>165.15</td>\n",
       "      <td>168.01</td>\n",
       "      <td>168.23</td>\n",
       "      <td>163.64</td>\n",
       "      <td>14.19</td>\n",
       "      <td>-0.01</td>\n",
       "    </tr>\n",
       "    <tr>\n",
       "      <th>6</th>\n",
       "      <td>2019-10-03</td>\n",
       "      <td>IQ</td>\n",
       "      <td>16.06</td>\n",
       "      <td>15.71</td>\n",
       "      <td>16.38</td>\n",
       "      <td>15.32</td>\n",
       "      <td>10.08</td>\n",
       "      <td>0.02</td>\n",
       "    </tr>\n",
       "    <tr>\n",
       "      <th>7</th>\n",
       "      <td>2019-10-02</td>\n",
       "      <td>IQ</td>\n",
       "      <td>15.72</td>\n",
       "      <td>15.85</td>\n",
       "      <td>15.87</td>\n",
       "      <td>15.12</td>\n",
       "      <td>8.10</td>\n",
       "      <td>-0.01</td>\n",
       "    </tr>\n",
       "    <tr>\n",
       "      <th>8</th>\n",
       "      <td>2019-10-01</td>\n",
       "      <td>IQ</td>\n",
       "      <td>15.92</td>\n",
       "      <td>16.14</td>\n",
       "      <td>16.22</td>\n",
       "      <td>15.50</td>\n",
       "      <td>11.65</td>\n",
       "      <td>-0.01</td>\n",
       "    </tr>\n",
       "    <tr>\n",
       "      <th>9</th>\n",
       "      <td>2019-10-03</td>\n",
       "      <td>JD</td>\n",
       "      <td>28.80</td>\n",
       "      <td>28.11</td>\n",
       "      <td>28.97</td>\n",
       "      <td>27.82</td>\n",
       "      <td>8.77</td>\n",
       "      <td>0.03</td>\n",
       "    </tr>\n",
       "    <tr>\n",
       "      <th>10</th>\n",
       "      <td>2019-10-02</td>\n",
       "      <td>JD</td>\n",
       "      <td>28.06</td>\n",
       "      <td>28.00</td>\n",
       "      <td>28.22</td>\n",
       "      <td>27.53</td>\n",
       "      <td>9.53</td>\n",
       "      <td>0.00</td>\n",
       "    </tr>\n",
       "    <tr>\n",
       "      <th>11</th>\n",
       "      <td>2019-10-01</td>\n",
       "      <td>JD</td>\n",
       "      <td>28.19</td>\n",
       "      <td>28.22</td>\n",
       "      <td>28.57</td>\n",
       "      <td>27.97</td>\n",
       "      <td>10.64</td>\n",
       "      <td>0.00</td>\n",
       "    </tr>\n",
       "  </tbody>\n",
       "</table>\n",
       "</div>"
      ],
      "text/plain": [
       "            日期    公司      收盘      开盘       高       低    交易量   涨跌幅\n",
       "0   2019-10-03  BIDU  104.32  102.35  104.73  101.15   2.24  0.02\n",
       "1   2019-10-02  BIDU  102.62  100.85  103.24   99.50   2.69  0.01\n",
       "2   2019-10-01  BIDU  102.00  102.80  103.26  101.00   1.78 -0.01\n",
       "3   2019-10-03  BABA  169.48  166.65  170.18  165.00  10.39  0.02\n",
       "4   2019-10-02  BABA  165.77  162.82  166.88  161.90  11.60  0.00\n",
       "5   2019-10-01  BABA  165.15  168.01  168.23  163.64  14.19 -0.01\n",
       "6   2019-10-03    IQ   16.06   15.71   16.38   15.32  10.08  0.02\n",
       "7   2019-10-02    IQ   15.72   15.85   15.87   15.12   8.10 -0.01\n",
       "8   2019-10-01    IQ   15.92   16.14   16.22   15.50  11.65 -0.01\n",
       "9   2019-10-03    JD   28.80   28.11   28.97   27.82   8.77  0.03\n",
       "10  2019-10-02    JD   28.06   28.00   28.22   27.53   9.53  0.00\n",
       "11  2019-10-01    JD   28.19   28.22   28.57   27.97  10.64  0.00"
      ]
     },
     "execution_count": 17,
     "metadata": {},
     "output_type": "execute_result"
    }
   ],
   "source": [
    "stocks"
   ]
  },
  {
   "cell_type": "markdown",
   "metadata": {},
   "source": [
    "##  Pandas的分层索引MultiIndex\n",
    "\n",
    "为什么要学习分层索引MultiIndex？\n",
    "\n",
    "- 分层索引：在一个轴向上拥有多个索引层级，可以表达更高维度数据的形式；\n",
    "- 可以更方便的进行数据筛选，如果有序则性能更好；\n",
    "- groupby等操作的结果，如果是多KEY，结果是分层索引，需要会使用\n",
    "- 一般不需要自己创建分层索引(MultiIndex有构造函数但一般不用)\n",
    "\n",
    "演示数据：百度、阿里巴巴、爱奇艺、京东四家公司的10天股票数据\n",
    "数据来自：英为财经\n",
    "https://cn.investing.com/\n",
    "\n",
    "本次演示提纲：\n",
    "一、Series的分层索引MultiIndex\n",
    "二、Series有多层索引怎样筛选数据？\n",
    "三、DataFrame的多层索引MultiIndex\n",
    "四、DataFrame有多层索引怎样筛选数据？"
   ]
  },
  {
   "cell_type": "code",
   "execution_count": 18,
   "metadata": {
    "ExecuteTime": {
     "end_time": "2020-08-22T12:29:49.962457Z",
     "start_time": "2020-08-22T12:29:49.953446Z"
    }
   },
   "outputs": [
    {
     "data": {
      "text/plain": [
       "(12, 8)"
      ]
     },
     "execution_count": 18,
     "metadata": {},
     "output_type": "execute_result"
    }
   ],
   "source": [
    "stocks.shape"
   ]
  },
  {
   "cell_type": "code",
   "execution_count": 19,
   "metadata": {
    "ExecuteTime": {
     "end_time": "2020-08-22T12:29:49.975422Z",
     "start_time": "2020-08-22T12:29:49.964454Z"
    }
   },
   "outputs": [
    {
     "data": {
      "text/plain": [
       "array(['BIDU', 'BABA', 'IQ', 'JD'], dtype=object)"
      ]
     },
     "execution_count": 19,
     "metadata": {},
     "output_type": "execute_result"
    }
   ],
   "source": [
    "stocks['公司'].unique()\n"
   ]
  },
  {
   "cell_type": "code",
   "execution_count": 20,
   "metadata": {
    "ExecuteTime": {
     "end_time": "2020-08-22T12:29:49.987392Z",
     "start_time": "2020-08-22T12:29:49.977382Z"
    }
   },
   "outputs": [
    {
     "data": {
      "text/plain": [
       "RangeIndex(start=0, stop=12, step=1)"
      ]
     },
     "execution_count": 20,
     "metadata": {},
     "output_type": "execute_result"
    }
   ],
   "source": [
    "stocks.index"
   ]
  },
  {
   "cell_type": "code",
   "execution_count": 21,
   "metadata": {
    "ExecuteTime": {
     "end_time": "2020-08-22T12:29:50.002315Z",
     "start_time": "2020-08-22T12:29:49.989350Z"
    }
   },
   "outputs": [
    {
     "data": {
      "text/plain": [
       "公司\n",
       "BABA    166.80\n",
       "BIDU    102.98\n",
       "IQ       15.90\n",
       "JD       28.35\n",
       "Name: 收盘, dtype: float64"
      ]
     },
     "execution_count": 21,
     "metadata": {},
     "output_type": "execute_result"
    }
   ],
   "source": [
    "stocks.groupby('公司')[\"收盘\"].mean()"
   ]
  },
  {
   "cell_type": "markdown",
   "metadata": {},
   "source": [
    "## 一、Series的分层索引MultiIndex"
   ]
  },
  {
   "cell_type": "code",
   "execution_count": 22,
   "metadata": {
    "ExecuteTime": {
     "end_time": "2020-08-22T12:29:50.021276Z",
     "start_time": "2020-08-22T12:29:50.007310Z"
    }
   },
   "outputs": [
    {
     "data": {
      "text/plain": [
       "公司    日期        \n",
       "BABA  2019-10-01    165.15\n",
       "      2019-10-02    165.77\n",
       "      2019-10-03    169.48\n",
       "BIDU  2019-10-01    102.00\n",
       "      2019-10-02    102.62\n",
       "      2019-10-03    104.32\n",
       "IQ    2019-10-01     15.92\n",
       "      2019-10-02     15.72\n",
       "      2019-10-03     16.06\n",
       "JD    2019-10-01     28.19\n",
       "      2019-10-02     28.06\n",
       "      2019-10-03     28.80\n",
       "Name: 收盘, dtype: float64"
      ]
     },
     "execution_count": 22,
     "metadata": {},
     "output_type": "execute_result"
    }
   ],
   "source": [
    "ser = stocks.groupby(['公司', '日期'])['收盘'].mean()\n",
    "ser"
   ]
  },
  {
   "cell_type": "code",
   "execution_count": 23,
   "metadata": {
    "ExecuteTime": {
     "end_time": "2020-08-22T12:29:50.034230Z",
     "start_time": "2020-08-22T12:29:50.024258Z"
    }
   },
   "outputs": [
    {
     "data": {
      "text/plain": [
       "MultiIndex([('BABA', '2019-10-01'),\n",
       "            ('BABA', '2019-10-02'),\n",
       "            ('BABA', '2019-10-03'),\n",
       "            ('BIDU', '2019-10-01'),\n",
       "            ('BIDU', '2019-10-02'),\n",
       "            ('BIDU', '2019-10-03'),\n",
       "            (  'IQ', '2019-10-01'),\n",
       "            (  'IQ', '2019-10-02'),\n",
       "            (  'IQ', '2019-10-03'),\n",
       "            (  'JD', '2019-10-01'),\n",
       "            (  'JD', '2019-10-02'),\n",
       "            (  'JD', '2019-10-03')],\n",
       "           names=['公司', '日期'])"
      ]
     },
     "execution_count": 23,
     "metadata": {},
     "output_type": "execute_result"
    }
   ],
   "source": [
    "ser.index"
   ]
  },
  {
   "cell_type": "code",
   "execution_count": 24,
   "metadata": {
    "ExecuteTime": {
     "end_time": "2020-08-22T12:29:50.051220Z",
     "start_time": "2020-08-22T12:29:50.036226Z"
    }
   },
   "outputs": [
    {
     "data": {
      "text/html": [
       "<div>\n",
       "<style scoped>\n",
       "    .dataframe tbody tr th:only-of-type {\n",
       "        vertical-align: middle;\n",
       "    }\n",
       "\n",
       "    .dataframe tbody tr th {\n",
       "        vertical-align: top;\n",
       "    }\n",
       "\n",
       "    .dataframe thead th {\n",
       "        text-align: right;\n",
       "    }\n",
       "</style>\n",
       "<table border=\"1\" class=\"dataframe\">\n",
       "  <thead>\n",
       "    <tr style=\"text-align: right;\">\n",
       "      <th>日期</th>\n",
       "      <th>2019-10-01</th>\n",
       "      <th>2019-10-02</th>\n",
       "      <th>2019-10-03</th>\n",
       "    </tr>\n",
       "    <tr>\n",
       "      <th>公司</th>\n",
       "      <th></th>\n",
       "      <th></th>\n",
       "      <th></th>\n",
       "    </tr>\n",
       "  </thead>\n",
       "  <tbody>\n",
       "    <tr>\n",
       "      <th>BABA</th>\n",
       "      <td>165.15</td>\n",
       "      <td>165.77</td>\n",
       "      <td>169.48</td>\n",
       "    </tr>\n",
       "    <tr>\n",
       "      <th>BIDU</th>\n",
       "      <td>102.00</td>\n",
       "      <td>102.62</td>\n",
       "      <td>104.32</td>\n",
       "    </tr>\n",
       "    <tr>\n",
       "      <th>IQ</th>\n",
       "      <td>15.92</td>\n",
       "      <td>15.72</td>\n",
       "      <td>16.06</td>\n",
       "    </tr>\n",
       "    <tr>\n",
       "      <th>JD</th>\n",
       "      <td>28.19</td>\n",
       "      <td>28.06</td>\n",
       "      <td>28.80</td>\n",
       "    </tr>\n",
       "  </tbody>\n",
       "</table>\n",
       "</div>"
      ],
      "text/plain": [
       "日期    2019-10-01  2019-10-02  2019-10-03\n",
       "公司                                      \n",
       "BABA      165.15      165.77      169.48\n",
       "BIDU      102.00      102.62      104.32\n",
       "IQ         15.92       15.72       16.06\n",
       "JD         28.19       28.06       28.80"
      ]
     },
     "execution_count": 24,
     "metadata": {},
     "output_type": "execute_result"
    }
   ],
   "source": [
    "# unstack把二级索引变成列\n",
    "ser.unstack()"
   ]
  },
  {
   "cell_type": "code",
   "execution_count": 25,
   "metadata": {
    "ExecuteTime": {
     "end_time": "2020-08-22T12:29:50.064149Z",
     "start_time": "2020-08-22T12:29:50.053183Z"
    }
   },
   "outputs": [
    {
     "data": {
      "text/plain": [
       "公司    日期        \n",
       "BABA  2019-10-01    165.15\n",
       "      2019-10-02    165.77\n",
       "      2019-10-03    169.48\n",
       "BIDU  2019-10-01    102.00\n",
       "      2019-10-02    102.62\n",
       "      2019-10-03    104.32\n",
       "IQ    2019-10-01     15.92\n",
       "      2019-10-02     15.72\n",
       "      2019-10-03     16.06\n",
       "JD    2019-10-01     28.19\n",
       "      2019-10-02     28.06\n",
       "      2019-10-03     28.80\n",
       "Name: 收盘, dtype: float64"
      ]
     },
     "execution_count": 25,
     "metadata": {},
     "output_type": "execute_result"
    }
   ],
   "source": [
    "ser"
   ]
  },
  {
   "cell_type": "code",
   "execution_count": 26,
   "metadata": {
    "ExecuteTime": {
     "end_time": "2020-08-22T12:29:50.077118Z",
     "start_time": "2020-08-22T12:29:50.065181Z"
    }
   },
   "outputs": [
    {
     "data": {
      "text/plain": [
       "pandas.core.series.Series"
      ]
     },
     "execution_count": 26,
     "metadata": {},
     "output_type": "execute_result"
    }
   ],
   "source": [
    "type(ser)"
   ]
  },
  {
   "cell_type": "code",
   "execution_count": 27,
   "metadata": {
    "ExecuteTime": {
     "end_time": "2020-08-22T12:29:50.095067Z",
     "start_time": "2020-08-22T12:29:50.079144Z"
    }
   },
   "outputs": [
    {
     "data": {
      "text/html": [
       "<div>\n",
       "<style scoped>\n",
       "    .dataframe tbody tr th:only-of-type {\n",
       "        vertical-align: middle;\n",
       "    }\n",
       "\n",
       "    .dataframe tbody tr th {\n",
       "        vertical-align: top;\n",
       "    }\n",
       "\n",
       "    .dataframe thead th {\n",
       "        text-align: right;\n",
       "    }\n",
       "</style>\n",
       "<table border=\"1\" class=\"dataframe\">\n",
       "  <thead>\n",
       "    <tr style=\"text-align: right;\">\n",
       "      <th></th>\n",
       "      <th>公司</th>\n",
       "      <th>日期</th>\n",
       "      <th>收盘</th>\n",
       "    </tr>\n",
       "  </thead>\n",
       "  <tbody>\n",
       "    <tr>\n",
       "      <th>0</th>\n",
       "      <td>BABA</td>\n",
       "      <td>2019-10-01</td>\n",
       "      <td>165.15</td>\n",
       "    </tr>\n",
       "    <tr>\n",
       "      <th>1</th>\n",
       "      <td>BABA</td>\n",
       "      <td>2019-10-02</td>\n",
       "      <td>165.77</td>\n",
       "    </tr>\n",
       "    <tr>\n",
       "      <th>2</th>\n",
       "      <td>BABA</td>\n",
       "      <td>2019-10-03</td>\n",
       "      <td>169.48</td>\n",
       "    </tr>\n",
       "    <tr>\n",
       "      <th>3</th>\n",
       "      <td>BIDU</td>\n",
       "      <td>2019-10-01</td>\n",
       "      <td>102.00</td>\n",
       "    </tr>\n",
       "    <tr>\n",
       "      <th>4</th>\n",
       "      <td>BIDU</td>\n",
       "      <td>2019-10-02</td>\n",
       "      <td>102.62</td>\n",
       "    </tr>\n",
       "    <tr>\n",
       "      <th>5</th>\n",
       "      <td>BIDU</td>\n",
       "      <td>2019-10-03</td>\n",
       "      <td>104.32</td>\n",
       "    </tr>\n",
       "    <tr>\n",
       "      <th>6</th>\n",
       "      <td>IQ</td>\n",
       "      <td>2019-10-01</td>\n",
       "      <td>15.92</td>\n",
       "    </tr>\n",
       "    <tr>\n",
       "      <th>7</th>\n",
       "      <td>IQ</td>\n",
       "      <td>2019-10-02</td>\n",
       "      <td>15.72</td>\n",
       "    </tr>\n",
       "    <tr>\n",
       "      <th>8</th>\n",
       "      <td>IQ</td>\n",
       "      <td>2019-10-03</td>\n",
       "      <td>16.06</td>\n",
       "    </tr>\n",
       "    <tr>\n",
       "      <th>9</th>\n",
       "      <td>JD</td>\n",
       "      <td>2019-10-01</td>\n",
       "      <td>28.19</td>\n",
       "    </tr>\n",
       "    <tr>\n",
       "      <th>10</th>\n",
       "      <td>JD</td>\n",
       "      <td>2019-10-02</td>\n",
       "      <td>28.06</td>\n",
       "    </tr>\n",
       "    <tr>\n",
       "      <th>11</th>\n",
       "      <td>JD</td>\n",
       "      <td>2019-10-03</td>\n",
       "      <td>28.80</td>\n",
       "    </tr>\n",
       "  </tbody>\n",
       "</table>\n",
       "</div>"
      ],
      "text/plain": [
       "      公司          日期      收盘\n",
       "0   BABA  2019-10-01  165.15\n",
       "1   BABA  2019-10-02  165.77\n",
       "2   BABA  2019-10-03  169.48\n",
       "3   BIDU  2019-10-01  102.00\n",
       "4   BIDU  2019-10-02  102.62\n",
       "5   BIDU  2019-10-03  104.32\n",
       "6     IQ  2019-10-01   15.92\n",
       "7     IQ  2019-10-02   15.72\n",
       "8     IQ  2019-10-03   16.06\n",
       "9     JD  2019-10-01   28.19\n",
       "10    JD  2019-10-02   28.06\n",
       "11    JD  2019-10-03   28.80"
      ]
     },
     "execution_count": 27,
     "metadata": {},
     "output_type": "execute_result"
    }
   ],
   "source": [
    "ser.reset_index()"
   ]
  },
  {
   "cell_type": "markdown",
   "metadata": {},
   "source": [
    "## 二、Series有多层索引MultiIndex怎样筛选数据？"
   ]
  },
  {
   "cell_type": "code",
   "execution_count": 28,
   "metadata": {
    "ExecuteTime": {
     "end_time": "2020-08-22T12:29:50.108115Z",
     "start_time": "2020-08-22T12:29:50.096063Z"
    }
   },
   "outputs": [
    {
     "data": {
      "text/plain": [
       "公司    日期        \n",
       "BABA  2019-10-01    165.15\n",
       "      2019-10-02    165.77\n",
       "      2019-10-03    169.48\n",
       "BIDU  2019-10-01    102.00\n",
       "      2019-10-02    102.62\n",
       "      2019-10-03    104.32\n",
       "IQ    2019-10-01     15.92\n",
       "      2019-10-02     15.72\n",
       "      2019-10-03     16.06\n",
       "JD    2019-10-01     28.19\n",
       "      2019-10-02     28.06\n",
       "      2019-10-03     28.80\n",
       "Name: 收盘, dtype: float64"
      ]
     },
     "execution_count": 28,
     "metadata": {},
     "output_type": "execute_result"
    }
   ],
   "source": [
    "ser"
   ]
  },
  {
   "cell_type": "code",
   "execution_count": 29,
   "metadata": {
    "ExecuteTime": {
     "end_time": "2020-08-22T12:29:50.124024Z",
     "start_time": "2020-08-22T12:29:50.109068Z"
    }
   },
   "outputs": [
    {
     "data": {
      "text/plain": [
       "日期\n",
       "2019-10-01    102.00\n",
       "2019-10-02    102.62\n",
       "2019-10-03    104.32\n",
       "Name: 收盘, dtype: float64"
      ]
     },
     "execution_count": 29,
     "metadata": {},
     "output_type": "execute_result"
    }
   ],
   "source": [
    "ser.loc['BIDU']"
   ]
  },
  {
   "cell_type": "code",
   "execution_count": 30,
   "metadata": {
    "ExecuteTime": {
     "end_time": "2020-08-22T12:29:50.135961Z",
     "start_time": "2020-08-22T12:29:50.125042Z"
    }
   },
   "outputs": [
    {
     "data": {
      "text/plain": [
       "102.62"
      ]
     },
     "execution_count": 30,
     "metadata": {},
     "output_type": "execute_result"
    }
   ],
   "source": [
    "# 多层索引，可以用元组的形式筛选\n",
    "ser.loc[('BIDU', '2019-10-02')]"
   ]
  },
  {
   "cell_type": "code",
   "execution_count": 31,
   "metadata": {
    "ExecuteTime": {
     "end_time": "2020-08-22T12:29:50.148961Z",
     "start_time": "2020-08-22T12:29:50.137954Z"
    }
   },
   "outputs": [
    {
     "data": {
      "text/plain": [
       "公司\n",
       "BABA    165.77\n",
       "BIDU    102.62\n",
       "IQ       15.72\n",
       "JD       28.06\n",
       "Name: 收盘, dtype: float64"
      ]
     },
     "execution_count": 31,
     "metadata": {},
     "output_type": "execute_result"
    }
   ],
   "source": [
    "ser.loc[:, '2019-10-02']"
   ]
  },
  {
   "cell_type": "code",
   "execution_count": 32,
   "metadata": {
    "ExecuteTime": {
     "end_time": "2020-08-22T12:29:50.161918Z",
     "start_time": "2020-08-22T12:29:50.149954Z"
    }
   },
   "outputs": [
    {
     "data": {
      "text/plain": [
       "公司\n",
       "BABA    165.77\n",
       "BIDU    102.62\n",
       "IQ       15.72\n",
       "JD       28.06\n",
       "Name: 收盘, dtype: float64"
      ]
     },
     "execution_count": 32,
     "metadata": {},
     "output_type": "execute_result"
    }
   ],
   "source": [
    "ser.loc[slice(None), '2019-10-02']"
   ]
  },
  {
   "cell_type": "markdown",
   "metadata": {},
   "source": [
    "## 三、DataFrame的多层索引MultiIndex"
   ]
  },
  {
   "cell_type": "code",
   "execution_count": 33,
   "metadata": {
    "ExecuteTime": {
     "end_time": "2020-08-22T12:29:50.184856Z",
     "start_time": "2020-08-22T12:29:50.162933Z"
    }
   },
   "outputs": [
    {
     "data": {
      "text/html": [
       "<div>\n",
       "<style scoped>\n",
       "    .dataframe tbody tr th:only-of-type {\n",
       "        vertical-align: middle;\n",
       "    }\n",
       "\n",
       "    .dataframe tbody tr th {\n",
       "        vertical-align: top;\n",
       "    }\n",
       "\n",
       "    .dataframe thead th {\n",
       "        text-align: right;\n",
       "    }\n",
       "</style>\n",
       "<table border=\"1\" class=\"dataframe\">\n",
       "  <thead>\n",
       "    <tr style=\"text-align: right;\">\n",
       "      <th></th>\n",
       "      <th>日期</th>\n",
       "      <th>公司</th>\n",
       "      <th>收盘</th>\n",
       "      <th>开盘</th>\n",
       "      <th>高</th>\n",
       "      <th>低</th>\n",
       "      <th>交易量</th>\n",
       "      <th>涨跌幅</th>\n",
       "    </tr>\n",
       "  </thead>\n",
       "  <tbody>\n",
       "    <tr>\n",
       "      <th>0</th>\n",
       "      <td>2019-10-03</td>\n",
       "      <td>BIDU</td>\n",
       "      <td>104.32</td>\n",
       "      <td>102.35</td>\n",
       "      <td>104.73</td>\n",
       "      <td>101.15</td>\n",
       "      <td>2.24</td>\n",
       "      <td>0.02</td>\n",
       "    </tr>\n",
       "    <tr>\n",
       "      <th>1</th>\n",
       "      <td>2019-10-02</td>\n",
       "      <td>BIDU</td>\n",
       "      <td>102.62</td>\n",
       "      <td>100.85</td>\n",
       "      <td>103.24</td>\n",
       "      <td>99.50</td>\n",
       "      <td>2.69</td>\n",
       "      <td>0.01</td>\n",
       "    </tr>\n",
       "    <tr>\n",
       "      <th>2</th>\n",
       "      <td>2019-10-01</td>\n",
       "      <td>BIDU</td>\n",
       "      <td>102.00</td>\n",
       "      <td>102.80</td>\n",
       "      <td>103.26</td>\n",
       "      <td>101.00</td>\n",
       "      <td>1.78</td>\n",
       "      <td>-0.01</td>\n",
       "    </tr>\n",
       "    <tr>\n",
       "      <th>3</th>\n",
       "      <td>2019-10-03</td>\n",
       "      <td>BABA</td>\n",
       "      <td>169.48</td>\n",
       "      <td>166.65</td>\n",
       "      <td>170.18</td>\n",
       "      <td>165.00</td>\n",
       "      <td>10.39</td>\n",
       "      <td>0.02</td>\n",
       "    </tr>\n",
       "    <tr>\n",
       "      <th>4</th>\n",
       "      <td>2019-10-02</td>\n",
       "      <td>BABA</td>\n",
       "      <td>165.77</td>\n",
       "      <td>162.82</td>\n",
       "      <td>166.88</td>\n",
       "      <td>161.90</td>\n",
       "      <td>11.60</td>\n",
       "      <td>0.00</td>\n",
       "    </tr>\n",
       "  </tbody>\n",
       "</table>\n",
       "</div>"
      ],
      "text/plain": [
       "           日期    公司      收盘      开盘       高       低    交易量   涨跌幅\n",
       "0  2019-10-03  BIDU  104.32  102.35  104.73  101.15   2.24  0.02\n",
       "1  2019-10-02  BIDU  102.62  100.85  103.24   99.50   2.69  0.01\n",
       "2  2019-10-01  BIDU  102.00  102.80  103.26  101.00   1.78 -0.01\n",
       "3  2019-10-03  BABA  169.48  166.65  170.18  165.00  10.39  0.02\n",
       "4  2019-10-02  BABA  165.77  162.82  166.88  161.90  11.60  0.00"
      ]
     },
     "execution_count": 33,
     "metadata": {},
     "output_type": "execute_result"
    }
   ],
   "source": [
    "stocks.head()"
   ]
  },
  {
   "cell_type": "code",
   "execution_count": 34,
   "metadata": {
    "ExecuteTime": {
     "end_time": "2020-08-22T12:29:50.207766Z",
     "start_time": "2020-08-22T12:29:50.187846Z"
    }
   },
   "outputs": [
    {
     "data": {
      "text/html": [
       "<div>\n",
       "<style scoped>\n",
       "    .dataframe tbody tr th:only-of-type {\n",
       "        vertical-align: middle;\n",
       "    }\n",
       "\n",
       "    .dataframe tbody tr th {\n",
       "        vertical-align: top;\n",
       "    }\n",
       "\n",
       "    .dataframe thead th {\n",
       "        text-align: right;\n",
       "    }\n",
       "</style>\n",
       "<table border=\"1\" class=\"dataframe\">\n",
       "  <thead>\n",
       "    <tr style=\"text-align: right;\">\n",
       "      <th></th>\n",
       "      <th></th>\n",
       "      <th>收盘</th>\n",
       "      <th>开盘</th>\n",
       "      <th>高</th>\n",
       "      <th>低</th>\n",
       "      <th>交易量</th>\n",
       "      <th>涨跌幅</th>\n",
       "    </tr>\n",
       "    <tr>\n",
       "      <th>公司</th>\n",
       "      <th>日期</th>\n",
       "      <th></th>\n",
       "      <th></th>\n",
       "      <th></th>\n",
       "      <th></th>\n",
       "      <th></th>\n",
       "      <th></th>\n",
       "    </tr>\n",
       "  </thead>\n",
       "  <tbody>\n",
       "    <tr>\n",
       "      <th rowspan=\"3\" valign=\"top\">BIDU</th>\n",
       "      <th>2019-10-03</th>\n",
       "      <td>104.32</td>\n",
       "      <td>102.35</td>\n",
       "      <td>104.73</td>\n",
       "      <td>101.15</td>\n",
       "      <td>2.24</td>\n",
       "      <td>0.02</td>\n",
       "    </tr>\n",
       "    <tr>\n",
       "      <th>2019-10-02</th>\n",
       "      <td>102.62</td>\n",
       "      <td>100.85</td>\n",
       "      <td>103.24</td>\n",
       "      <td>99.50</td>\n",
       "      <td>2.69</td>\n",
       "      <td>0.01</td>\n",
       "    </tr>\n",
       "    <tr>\n",
       "      <th>2019-10-01</th>\n",
       "      <td>102.00</td>\n",
       "      <td>102.80</td>\n",
       "      <td>103.26</td>\n",
       "      <td>101.00</td>\n",
       "      <td>1.78</td>\n",
       "      <td>-0.01</td>\n",
       "    </tr>\n",
       "    <tr>\n",
       "      <th rowspan=\"3\" valign=\"top\">BABA</th>\n",
       "      <th>2019-10-03</th>\n",
       "      <td>169.48</td>\n",
       "      <td>166.65</td>\n",
       "      <td>170.18</td>\n",
       "      <td>165.00</td>\n",
       "      <td>10.39</td>\n",
       "      <td>0.02</td>\n",
       "    </tr>\n",
       "    <tr>\n",
       "      <th>2019-10-02</th>\n",
       "      <td>165.77</td>\n",
       "      <td>162.82</td>\n",
       "      <td>166.88</td>\n",
       "      <td>161.90</td>\n",
       "      <td>11.60</td>\n",
       "      <td>0.00</td>\n",
       "    </tr>\n",
       "    <tr>\n",
       "      <th>2019-10-01</th>\n",
       "      <td>165.15</td>\n",
       "      <td>168.01</td>\n",
       "      <td>168.23</td>\n",
       "      <td>163.64</td>\n",
       "      <td>14.19</td>\n",
       "      <td>-0.01</td>\n",
       "    </tr>\n",
       "    <tr>\n",
       "      <th rowspan=\"3\" valign=\"top\">IQ</th>\n",
       "      <th>2019-10-03</th>\n",
       "      <td>16.06</td>\n",
       "      <td>15.71</td>\n",
       "      <td>16.38</td>\n",
       "      <td>15.32</td>\n",
       "      <td>10.08</td>\n",
       "      <td>0.02</td>\n",
       "    </tr>\n",
       "    <tr>\n",
       "      <th>2019-10-02</th>\n",
       "      <td>15.72</td>\n",
       "      <td>15.85</td>\n",
       "      <td>15.87</td>\n",
       "      <td>15.12</td>\n",
       "      <td>8.10</td>\n",
       "      <td>-0.01</td>\n",
       "    </tr>\n",
       "    <tr>\n",
       "      <th>2019-10-01</th>\n",
       "      <td>15.92</td>\n",
       "      <td>16.14</td>\n",
       "      <td>16.22</td>\n",
       "      <td>15.50</td>\n",
       "      <td>11.65</td>\n",
       "      <td>-0.01</td>\n",
       "    </tr>\n",
       "    <tr>\n",
       "      <th rowspan=\"3\" valign=\"top\">JD</th>\n",
       "      <th>2019-10-03</th>\n",
       "      <td>28.80</td>\n",
       "      <td>28.11</td>\n",
       "      <td>28.97</td>\n",
       "      <td>27.82</td>\n",
       "      <td>8.77</td>\n",
       "      <td>0.03</td>\n",
       "    </tr>\n",
       "    <tr>\n",
       "      <th>2019-10-02</th>\n",
       "      <td>28.06</td>\n",
       "      <td>28.00</td>\n",
       "      <td>28.22</td>\n",
       "      <td>27.53</td>\n",
       "      <td>9.53</td>\n",
       "      <td>0.00</td>\n",
       "    </tr>\n",
       "    <tr>\n",
       "      <th>2019-10-01</th>\n",
       "      <td>28.19</td>\n",
       "      <td>28.22</td>\n",
       "      <td>28.57</td>\n",
       "      <td>27.97</td>\n",
       "      <td>10.64</td>\n",
       "      <td>0.00</td>\n",
       "    </tr>\n",
       "  </tbody>\n",
       "</table>\n",
       "</div>"
      ],
      "text/plain": [
       "                     收盘      开盘       高       低    交易量   涨跌幅\n",
       "公司   日期                                                     \n",
       "BIDU 2019-10-03  104.32  102.35  104.73  101.15   2.24  0.02\n",
       "     2019-10-02  102.62  100.85  103.24   99.50   2.69  0.01\n",
       "     2019-10-01  102.00  102.80  103.26  101.00   1.78 -0.01\n",
       "BABA 2019-10-03  169.48  166.65  170.18  165.00  10.39  0.02\n",
       "     2019-10-02  165.77  162.82  166.88  161.90  11.60  0.00\n",
       "     2019-10-01  165.15  168.01  168.23  163.64  14.19 -0.01\n",
       "IQ   2019-10-03   16.06   15.71   16.38   15.32  10.08  0.02\n",
       "     2019-10-02   15.72   15.85   15.87   15.12   8.10 -0.01\n",
       "     2019-10-01   15.92   16.14   16.22   15.50  11.65 -0.01\n",
       "JD   2019-10-03   28.80   28.11   28.97   27.82   8.77  0.03\n",
       "     2019-10-02   28.06   28.00   28.22   27.53   9.53  0.00\n",
       "     2019-10-01   28.19   28.22   28.57   27.97  10.64  0.00"
      ]
     },
     "execution_count": 34,
     "metadata": {},
     "output_type": "execute_result"
    }
   ],
   "source": [
    "stocks.set_index(['公司', '日期'], inplace=True)\n",
    "stocks"
   ]
  },
  {
   "cell_type": "code",
   "execution_count": 35,
   "metadata": {
    "ExecuteTime": {
     "end_time": "2020-08-22T12:29:50.219735Z",
     "start_time": "2020-08-22T12:29:50.208763Z"
    }
   },
   "outputs": [
    {
     "data": {
      "text/plain": [
       "MultiIndex([('BIDU', '2019-10-03'),\n",
       "            ('BIDU', '2019-10-02'),\n",
       "            ('BIDU', '2019-10-01'),\n",
       "            ('BABA', '2019-10-03'),\n",
       "            ('BABA', '2019-10-02'),\n",
       "            ('BABA', '2019-10-01'),\n",
       "            (  'IQ', '2019-10-03'),\n",
       "            (  'IQ', '2019-10-02'),\n",
       "            (  'IQ', '2019-10-01'),\n",
       "            (  'JD', '2019-10-03'),\n",
       "            (  'JD', '2019-10-02'),\n",
       "            (  'JD', '2019-10-01')],\n",
       "           names=['公司', '日期'])"
      ]
     },
     "execution_count": 35,
     "metadata": {},
     "output_type": "execute_result"
    }
   ],
   "source": [
    "stocks.index"
   ]
  },
  {
   "cell_type": "code",
   "execution_count": 36,
   "metadata": {
    "ExecuteTime": {
     "end_time": "2020-08-22T12:29:50.242708Z",
     "start_time": "2020-08-22T12:29:50.221739Z"
    }
   },
   "outputs": [
    {
     "data": {
      "text/html": [
       "<div>\n",
       "<style scoped>\n",
       "    .dataframe tbody tr th:only-of-type {\n",
       "        vertical-align: middle;\n",
       "    }\n",
       "\n",
       "    .dataframe tbody tr th {\n",
       "        vertical-align: top;\n",
       "    }\n",
       "\n",
       "    .dataframe thead th {\n",
       "        text-align: right;\n",
       "    }\n",
       "</style>\n",
       "<table border=\"1\" class=\"dataframe\">\n",
       "  <thead>\n",
       "    <tr style=\"text-align: right;\">\n",
       "      <th></th>\n",
       "      <th></th>\n",
       "      <th>收盘</th>\n",
       "      <th>开盘</th>\n",
       "      <th>高</th>\n",
       "      <th>低</th>\n",
       "      <th>交易量</th>\n",
       "      <th>涨跌幅</th>\n",
       "    </tr>\n",
       "    <tr>\n",
       "      <th>公司</th>\n",
       "      <th>日期</th>\n",
       "      <th></th>\n",
       "      <th></th>\n",
       "      <th></th>\n",
       "      <th></th>\n",
       "      <th></th>\n",
       "      <th></th>\n",
       "    </tr>\n",
       "  </thead>\n",
       "  <tbody>\n",
       "    <tr>\n",
       "      <th rowspan=\"3\" valign=\"top\">BABA</th>\n",
       "      <th>2019-10-01</th>\n",
       "      <td>165.15</td>\n",
       "      <td>168.01</td>\n",
       "      <td>168.23</td>\n",
       "      <td>163.64</td>\n",
       "      <td>14.19</td>\n",
       "      <td>-0.01</td>\n",
       "    </tr>\n",
       "    <tr>\n",
       "      <th>2019-10-02</th>\n",
       "      <td>165.77</td>\n",
       "      <td>162.82</td>\n",
       "      <td>166.88</td>\n",
       "      <td>161.90</td>\n",
       "      <td>11.60</td>\n",
       "      <td>0.00</td>\n",
       "    </tr>\n",
       "    <tr>\n",
       "      <th>2019-10-03</th>\n",
       "      <td>169.48</td>\n",
       "      <td>166.65</td>\n",
       "      <td>170.18</td>\n",
       "      <td>165.00</td>\n",
       "      <td>10.39</td>\n",
       "      <td>0.02</td>\n",
       "    </tr>\n",
       "    <tr>\n",
       "      <th rowspan=\"3\" valign=\"top\">BIDU</th>\n",
       "      <th>2019-10-01</th>\n",
       "      <td>102.00</td>\n",
       "      <td>102.80</td>\n",
       "      <td>103.26</td>\n",
       "      <td>101.00</td>\n",
       "      <td>1.78</td>\n",
       "      <td>-0.01</td>\n",
       "    </tr>\n",
       "    <tr>\n",
       "      <th>2019-10-02</th>\n",
       "      <td>102.62</td>\n",
       "      <td>100.85</td>\n",
       "      <td>103.24</td>\n",
       "      <td>99.50</td>\n",
       "      <td>2.69</td>\n",
       "      <td>0.01</td>\n",
       "    </tr>\n",
       "    <tr>\n",
       "      <th>2019-10-03</th>\n",
       "      <td>104.32</td>\n",
       "      <td>102.35</td>\n",
       "      <td>104.73</td>\n",
       "      <td>101.15</td>\n",
       "      <td>2.24</td>\n",
       "      <td>0.02</td>\n",
       "    </tr>\n",
       "    <tr>\n",
       "      <th rowspan=\"3\" valign=\"top\">IQ</th>\n",
       "      <th>2019-10-01</th>\n",
       "      <td>15.92</td>\n",
       "      <td>16.14</td>\n",
       "      <td>16.22</td>\n",
       "      <td>15.50</td>\n",
       "      <td>11.65</td>\n",
       "      <td>-0.01</td>\n",
       "    </tr>\n",
       "    <tr>\n",
       "      <th>2019-10-02</th>\n",
       "      <td>15.72</td>\n",
       "      <td>15.85</td>\n",
       "      <td>15.87</td>\n",
       "      <td>15.12</td>\n",
       "      <td>8.10</td>\n",
       "      <td>-0.01</td>\n",
       "    </tr>\n",
       "    <tr>\n",
       "      <th>2019-10-03</th>\n",
       "      <td>16.06</td>\n",
       "      <td>15.71</td>\n",
       "      <td>16.38</td>\n",
       "      <td>15.32</td>\n",
       "      <td>10.08</td>\n",
       "      <td>0.02</td>\n",
       "    </tr>\n",
       "    <tr>\n",
       "      <th rowspan=\"3\" valign=\"top\">JD</th>\n",
       "      <th>2019-10-01</th>\n",
       "      <td>28.19</td>\n",
       "      <td>28.22</td>\n",
       "      <td>28.57</td>\n",
       "      <td>27.97</td>\n",
       "      <td>10.64</td>\n",
       "      <td>0.00</td>\n",
       "    </tr>\n",
       "    <tr>\n",
       "      <th>2019-10-02</th>\n",
       "      <td>28.06</td>\n",
       "      <td>28.00</td>\n",
       "      <td>28.22</td>\n",
       "      <td>27.53</td>\n",
       "      <td>9.53</td>\n",
       "      <td>0.00</td>\n",
       "    </tr>\n",
       "    <tr>\n",
       "      <th>2019-10-03</th>\n",
       "      <td>28.80</td>\n",
       "      <td>28.11</td>\n",
       "      <td>28.97</td>\n",
       "      <td>27.82</td>\n",
       "      <td>8.77</td>\n",
       "      <td>0.03</td>\n",
       "    </tr>\n",
       "  </tbody>\n",
       "</table>\n",
       "</div>"
      ],
      "text/plain": [
       "                     收盘      开盘       高       低    交易量   涨跌幅\n",
       "公司   日期                                                     \n",
       "BABA 2019-10-01  165.15  168.01  168.23  163.64  14.19 -0.01\n",
       "     2019-10-02  165.77  162.82  166.88  161.90  11.60  0.00\n",
       "     2019-10-03  169.48  166.65  170.18  165.00  10.39  0.02\n",
       "BIDU 2019-10-01  102.00  102.80  103.26  101.00   1.78 -0.01\n",
       "     2019-10-02  102.62  100.85  103.24   99.50   2.69  0.01\n",
       "     2019-10-03  104.32  102.35  104.73  101.15   2.24  0.02\n",
       "IQ   2019-10-01   15.92   16.14   16.22   15.50  11.65 -0.01\n",
       "     2019-10-02   15.72   15.85   15.87   15.12   8.10 -0.01\n",
       "     2019-10-03   16.06   15.71   16.38   15.32  10.08  0.02\n",
       "JD   2019-10-01   28.19   28.22   28.57   27.97  10.64  0.00\n",
       "     2019-10-02   28.06   28.00   28.22   27.53   9.53  0.00\n",
       "     2019-10-03   28.80   28.11   28.97   27.82   8.77  0.03"
      ]
     },
     "execution_count": 36,
     "metadata": {},
     "output_type": "execute_result"
    }
   ],
   "source": [
    "stocks.sort_index(inplace=True)\n",
    "stocks"
   ]
  },
  {
   "cell_type": "markdown",
   "metadata": {},
   "source": [
    "## 四、DataFrame有多层索引MultiIndex怎样筛选数据？\n",
    "\n",
    "【***重要知识\\***】在选择数据时：\n",
    "\n",
    "- 元组(key1,key2)代表筛选多层索引，其中key1是索引第一级，key2是第二级，比如key1=JD, key2=2019-10-02\n",
    "- 列表[key1,key2]代表同一层的多个KEY，其中key1和key2是并列的同级索引，比如key1=JD, key2=BIDU"
   ]
  },
  {
   "cell_type": "code",
   "execution_count": 37,
   "metadata": {
    "ExecuteTime": {
     "end_time": "2020-08-22T12:29:50.260661Z",
     "start_time": "2020-08-22T12:29:50.246663Z"
    }
   },
   "outputs": [
    {
     "data": {
      "text/html": [
       "<div>\n",
       "<style scoped>\n",
       "    .dataframe tbody tr th:only-of-type {\n",
       "        vertical-align: middle;\n",
       "    }\n",
       "\n",
       "    .dataframe tbody tr th {\n",
       "        vertical-align: top;\n",
       "    }\n",
       "\n",
       "    .dataframe thead th {\n",
       "        text-align: right;\n",
       "    }\n",
       "</style>\n",
       "<table border=\"1\" class=\"dataframe\">\n",
       "  <thead>\n",
       "    <tr style=\"text-align: right;\">\n",
       "      <th></th>\n",
       "      <th>收盘</th>\n",
       "      <th>开盘</th>\n",
       "      <th>高</th>\n",
       "      <th>低</th>\n",
       "      <th>交易量</th>\n",
       "      <th>涨跌幅</th>\n",
       "    </tr>\n",
       "    <tr>\n",
       "      <th>日期</th>\n",
       "      <th></th>\n",
       "      <th></th>\n",
       "      <th></th>\n",
       "      <th></th>\n",
       "      <th></th>\n",
       "      <th></th>\n",
       "    </tr>\n",
       "  </thead>\n",
       "  <tbody>\n",
       "    <tr>\n",
       "      <th>2019-10-01</th>\n",
       "      <td>102.00</td>\n",
       "      <td>102.80</td>\n",
       "      <td>103.26</td>\n",
       "      <td>101.00</td>\n",
       "      <td>1.78</td>\n",
       "      <td>-0.01</td>\n",
       "    </tr>\n",
       "    <tr>\n",
       "      <th>2019-10-02</th>\n",
       "      <td>102.62</td>\n",
       "      <td>100.85</td>\n",
       "      <td>103.24</td>\n",
       "      <td>99.50</td>\n",
       "      <td>2.69</td>\n",
       "      <td>0.01</td>\n",
       "    </tr>\n",
       "    <tr>\n",
       "      <th>2019-10-03</th>\n",
       "      <td>104.32</td>\n",
       "      <td>102.35</td>\n",
       "      <td>104.73</td>\n",
       "      <td>101.15</td>\n",
       "      <td>2.24</td>\n",
       "      <td>0.02</td>\n",
       "    </tr>\n",
       "  </tbody>\n",
       "</table>\n",
       "</div>"
      ],
      "text/plain": [
       "                收盘      开盘       高       低   交易量   涨跌幅\n",
       "日期                                                    \n",
       "2019-10-01  102.00  102.80  103.26  101.00  1.78 -0.01\n",
       "2019-10-02  102.62  100.85  103.24   99.50  2.69  0.01\n",
       "2019-10-03  104.32  102.35  104.73  101.15  2.24  0.02"
      ]
     },
     "execution_count": 37,
     "metadata": {},
     "output_type": "execute_result"
    }
   ],
   "source": [
    "stocks.loc['BIDU']"
   ]
  },
  {
   "cell_type": "code",
   "execution_count": 38,
   "metadata": {
    "ExecuteTime": {
     "end_time": "2020-08-22T12:29:50.277614Z",
     "start_time": "2020-08-22T12:29:50.262620Z"
    }
   },
   "outputs": [
    {
     "data": {
      "text/plain": [
       "收盘     102.62\n",
       "开盘     100.85\n",
       "高      103.24\n",
       "低       99.50\n",
       "交易量      2.69\n",
       "涨跌幅      0.01\n",
       "Name: (BIDU, 2019-10-02), dtype: float64"
      ]
     },
     "execution_count": 38,
     "metadata": {},
     "output_type": "execute_result"
    }
   ],
   "source": [
    "stocks.loc[('BIDU', '2019-10-02'), :]"
   ]
  },
  {
   "cell_type": "code",
   "execution_count": 39,
   "metadata": {
    "ExecuteTime": {
     "end_time": "2020-08-22T12:29:50.290598Z",
     "start_time": "2020-08-22T12:29:50.279575Z"
    }
   },
   "outputs": [
    {
     "data": {
      "text/plain": [
       "100.85"
      ]
     },
     "execution_count": 39,
     "metadata": {},
     "output_type": "execute_result"
    }
   ],
   "source": [
    "stocks.loc[('BIDU', '2019-10-02'), '开盘']"
   ]
  },
  {
   "cell_type": "code",
   "execution_count": 40,
   "metadata": {
    "ExecuteTime": {
     "end_time": "2020-08-22T12:29:50.311487Z",
     "start_time": "2020-08-22T12:29:50.292540Z"
    }
   },
   "outputs": [
    {
     "data": {
      "text/html": [
       "<div>\n",
       "<style scoped>\n",
       "    .dataframe tbody tr th:only-of-type {\n",
       "        vertical-align: middle;\n",
       "    }\n",
       "\n",
       "    .dataframe tbody tr th {\n",
       "        vertical-align: top;\n",
       "    }\n",
       "\n",
       "    .dataframe thead th {\n",
       "        text-align: right;\n",
       "    }\n",
       "</style>\n",
       "<table border=\"1\" class=\"dataframe\">\n",
       "  <thead>\n",
       "    <tr style=\"text-align: right;\">\n",
       "      <th></th>\n",
       "      <th></th>\n",
       "      <th>收盘</th>\n",
       "      <th>开盘</th>\n",
       "      <th>高</th>\n",
       "      <th>低</th>\n",
       "      <th>交易量</th>\n",
       "      <th>涨跌幅</th>\n",
       "    </tr>\n",
       "    <tr>\n",
       "      <th>公司</th>\n",
       "      <th>日期</th>\n",
       "      <th></th>\n",
       "      <th></th>\n",
       "      <th></th>\n",
       "      <th></th>\n",
       "      <th></th>\n",
       "      <th></th>\n",
       "    </tr>\n",
       "  </thead>\n",
       "  <tbody>\n",
       "    <tr>\n",
       "      <th rowspan=\"3\" valign=\"top\">BIDU</th>\n",
       "      <th>2019-10-01</th>\n",
       "      <td>102.00</td>\n",
       "      <td>102.80</td>\n",
       "      <td>103.26</td>\n",
       "      <td>101.00</td>\n",
       "      <td>1.78</td>\n",
       "      <td>-0.01</td>\n",
       "    </tr>\n",
       "    <tr>\n",
       "      <th>2019-10-02</th>\n",
       "      <td>102.62</td>\n",
       "      <td>100.85</td>\n",
       "      <td>103.24</td>\n",
       "      <td>99.50</td>\n",
       "      <td>2.69</td>\n",
       "      <td>0.01</td>\n",
       "    </tr>\n",
       "    <tr>\n",
       "      <th>2019-10-03</th>\n",
       "      <td>104.32</td>\n",
       "      <td>102.35</td>\n",
       "      <td>104.73</td>\n",
       "      <td>101.15</td>\n",
       "      <td>2.24</td>\n",
       "      <td>0.02</td>\n",
       "    </tr>\n",
       "    <tr>\n",
       "      <th rowspan=\"3\" valign=\"top\">JD</th>\n",
       "      <th>2019-10-01</th>\n",
       "      <td>28.19</td>\n",
       "      <td>28.22</td>\n",
       "      <td>28.57</td>\n",
       "      <td>27.97</td>\n",
       "      <td>10.64</td>\n",
       "      <td>0.00</td>\n",
       "    </tr>\n",
       "    <tr>\n",
       "      <th>2019-10-02</th>\n",
       "      <td>28.06</td>\n",
       "      <td>28.00</td>\n",
       "      <td>28.22</td>\n",
       "      <td>27.53</td>\n",
       "      <td>9.53</td>\n",
       "      <td>0.00</td>\n",
       "    </tr>\n",
       "    <tr>\n",
       "      <th>2019-10-03</th>\n",
       "      <td>28.80</td>\n",
       "      <td>28.11</td>\n",
       "      <td>28.97</td>\n",
       "      <td>27.82</td>\n",
       "      <td>8.77</td>\n",
       "      <td>0.03</td>\n",
       "    </tr>\n",
       "  </tbody>\n",
       "</table>\n",
       "</div>"
      ],
      "text/plain": [
       "                     收盘      开盘       高       低    交易量   涨跌幅\n",
       "公司   日期                                                     \n",
       "BIDU 2019-10-01  102.00  102.80  103.26  101.00   1.78 -0.01\n",
       "     2019-10-02  102.62  100.85  103.24   99.50   2.69  0.01\n",
       "     2019-10-03  104.32  102.35  104.73  101.15   2.24  0.02\n",
       "JD   2019-10-01   28.19   28.22   28.57   27.97  10.64  0.00\n",
       "     2019-10-02   28.06   28.00   28.22   27.53   9.53  0.00\n",
       "     2019-10-03   28.80   28.11   28.97   27.82   8.77  0.03"
      ]
     },
     "execution_count": 40,
     "metadata": {},
     "output_type": "execute_result"
    }
   ],
   "source": [
    "\n",
    "stocks.loc[['BIDU', 'JD'], :]"
   ]
  },
  {
   "cell_type": "code",
   "execution_count": 41,
   "metadata": {
    "ExecuteTime": {
     "end_time": "2020-08-22T12:29:50.330514Z",
     "start_time": "2020-08-22T12:29:50.313520Z"
    }
   },
   "outputs": [
    {
     "data": {
      "text/html": [
       "<div>\n",
       "<style scoped>\n",
       "    .dataframe tbody tr th:only-of-type {\n",
       "        vertical-align: middle;\n",
       "    }\n",
       "\n",
       "    .dataframe tbody tr th {\n",
       "        vertical-align: top;\n",
       "    }\n",
       "\n",
       "    .dataframe thead th {\n",
       "        text-align: right;\n",
       "    }\n",
       "</style>\n",
       "<table border=\"1\" class=\"dataframe\">\n",
       "  <thead>\n",
       "    <tr style=\"text-align: right;\">\n",
       "      <th></th>\n",
       "      <th></th>\n",
       "      <th>收盘</th>\n",
       "      <th>开盘</th>\n",
       "      <th>高</th>\n",
       "      <th>低</th>\n",
       "      <th>交易量</th>\n",
       "      <th>涨跌幅</th>\n",
       "    </tr>\n",
       "    <tr>\n",
       "      <th>公司</th>\n",
       "      <th>日期</th>\n",
       "      <th></th>\n",
       "      <th></th>\n",
       "      <th></th>\n",
       "      <th></th>\n",
       "      <th></th>\n",
       "      <th></th>\n",
       "    </tr>\n",
       "  </thead>\n",
       "  <tbody>\n",
       "    <tr>\n",
       "      <th>BIDU</th>\n",
       "      <th>2019-10-03</th>\n",
       "      <td>104.32</td>\n",
       "      <td>102.35</td>\n",
       "      <td>104.73</td>\n",
       "      <td>101.15</td>\n",
       "      <td>2.24</td>\n",
       "      <td>0.02</td>\n",
       "    </tr>\n",
       "    <tr>\n",
       "      <th>JD</th>\n",
       "      <th>2019-10-03</th>\n",
       "      <td>28.80</td>\n",
       "      <td>28.11</td>\n",
       "      <td>28.97</td>\n",
       "      <td>27.82</td>\n",
       "      <td>8.77</td>\n",
       "      <td>0.03</td>\n",
       "    </tr>\n",
       "  </tbody>\n",
       "</table>\n",
       "</div>"
      ],
      "text/plain": [
       "                     收盘      开盘       高       低   交易量   涨跌幅\n",
       "公司   日期                                                    \n",
       "BIDU 2019-10-03  104.32  102.35  104.73  101.15  2.24  0.02\n",
       "JD   2019-10-03   28.80   28.11   28.97   27.82  8.77  0.03"
      ]
     },
     "execution_count": 41,
     "metadata": {},
     "output_type": "execute_result"
    }
   ],
   "source": [
    "stocks.loc[(['BIDU', 'JD'], '2019-10-03'), :]"
   ]
  },
  {
   "cell_type": "code",
   "execution_count": 42,
   "metadata": {
    "ExecuteTime": {
     "end_time": "2020-08-22T12:29:50.347420Z",
     "start_time": "2020-08-22T12:29:50.331474Z"
    }
   },
   "outputs": [
    {
     "data": {
      "text/plain": [
       "公司    日期        \n",
       "BIDU  2019-10-03    104.32\n",
       "JD    2019-10-03     28.80\n",
       "Name: 收盘, dtype: float64"
      ]
     },
     "execution_count": 42,
     "metadata": {},
     "output_type": "execute_result"
    }
   ],
   "source": [
    "stocks.loc[(['BIDU', 'JD'], '2019-10-03'), '收盘']"
   ]
  },
  {
   "cell_type": "code",
   "execution_count": 43,
   "metadata": {
    "ExecuteTime": {
     "end_time": "2020-08-22T12:29:50.363377Z",
     "start_time": "2020-08-22T12:29:50.348421Z"
    }
   },
   "outputs": [
    {
     "data": {
      "text/plain": [
       "公司    日期        \n",
       "BIDU  2019-10-02    102.62\n",
       "      2019-10-03    104.32\n",
       "Name: 收盘, dtype: float64"
      ]
     },
     "execution_count": 43,
     "metadata": {},
     "output_type": "execute_result"
    }
   ],
   "source": [
    "stocks.loc[('BIDU', ['2019-10-02', '2019-10-03']), '收盘']"
   ]
  },
  {
   "cell_type": "code",
   "execution_count": 44,
   "metadata": {
    "ExecuteTime": {
     "end_time": "2020-08-22T12:29:50.383296Z",
     "start_time": "2020-08-22T12:29:50.364379Z"
    }
   },
   "outputs": [
    {
     "data": {
      "text/html": [
       "<div>\n",
       "<style scoped>\n",
       "    .dataframe tbody tr th:only-of-type {\n",
       "        vertical-align: middle;\n",
       "    }\n",
       "\n",
       "    .dataframe tbody tr th {\n",
       "        vertical-align: top;\n",
       "    }\n",
       "\n",
       "    .dataframe thead th {\n",
       "        text-align: right;\n",
       "    }\n",
       "</style>\n",
       "<table border=\"1\" class=\"dataframe\">\n",
       "  <thead>\n",
       "    <tr style=\"text-align: right;\">\n",
       "      <th></th>\n",
       "      <th></th>\n",
       "      <th>收盘</th>\n",
       "      <th>开盘</th>\n",
       "      <th>高</th>\n",
       "      <th>低</th>\n",
       "      <th>交易量</th>\n",
       "      <th>涨跌幅</th>\n",
       "    </tr>\n",
       "    <tr>\n",
       "      <th>公司</th>\n",
       "      <th>日期</th>\n",
       "      <th></th>\n",
       "      <th></th>\n",
       "      <th></th>\n",
       "      <th></th>\n",
       "      <th></th>\n",
       "      <th></th>\n",
       "    </tr>\n",
       "  </thead>\n",
       "  <tbody>\n",
       "    <tr>\n",
       "      <th rowspan=\"2\" valign=\"top\">BABA</th>\n",
       "      <th>2019-10-02</th>\n",
       "      <td>165.77</td>\n",
       "      <td>162.82</td>\n",
       "      <td>166.88</td>\n",
       "      <td>161.90</td>\n",
       "      <td>11.60</td>\n",
       "      <td>0.00</td>\n",
       "    </tr>\n",
       "    <tr>\n",
       "      <th>2019-10-03</th>\n",
       "      <td>169.48</td>\n",
       "      <td>166.65</td>\n",
       "      <td>170.18</td>\n",
       "      <td>165.00</td>\n",
       "      <td>10.39</td>\n",
       "      <td>0.02</td>\n",
       "    </tr>\n",
       "    <tr>\n",
       "      <th rowspan=\"2\" valign=\"top\">BIDU</th>\n",
       "      <th>2019-10-02</th>\n",
       "      <td>102.62</td>\n",
       "      <td>100.85</td>\n",
       "      <td>103.24</td>\n",
       "      <td>99.50</td>\n",
       "      <td>2.69</td>\n",
       "      <td>0.01</td>\n",
       "    </tr>\n",
       "    <tr>\n",
       "      <th>2019-10-03</th>\n",
       "      <td>104.32</td>\n",
       "      <td>102.35</td>\n",
       "      <td>104.73</td>\n",
       "      <td>101.15</td>\n",
       "      <td>2.24</td>\n",
       "      <td>0.02</td>\n",
       "    </tr>\n",
       "    <tr>\n",
       "      <th rowspan=\"2\" valign=\"top\">IQ</th>\n",
       "      <th>2019-10-02</th>\n",
       "      <td>15.72</td>\n",
       "      <td>15.85</td>\n",
       "      <td>15.87</td>\n",
       "      <td>15.12</td>\n",
       "      <td>8.10</td>\n",
       "      <td>-0.01</td>\n",
       "    </tr>\n",
       "    <tr>\n",
       "      <th>2019-10-03</th>\n",
       "      <td>16.06</td>\n",
       "      <td>15.71</td>\n",
       "      <td>16.38</td>\n",
       "      <td>15.32</td>\n",
       "      <td>10.08</td>\n",
       "      <td>0.02</td>\n",
       "    </tr>\n",
       "    <tr>\n",
       "      <th rowspan=\"2\" valign=\"top\">JD</th>\n",
       "      <th>2019-10-02</th>\n",
       "      <td>28.06</td>\n",
       "      <td>28.00</td>\n",
       "      <td>28.22</td>\n",
       "      <td>27.53</td>\n",
       "      <td>9.53</td>\n",
       "      <td>0.00</td>\n",
       "    </tr>\n",
       "    <tr>\n",
       "      <th>2019-10-03</th>\n",
       "      <td>28.80</td>\n",
       "      <td>28.11</td>\n",
       "      <td>28.97</td>\n",
       "      <td>27.82</td>\n",
       "      <td>8.77</td>\n",
       "      <td>0.03</td>\n",
       "    </tr>\n",
       "  </tbody>\n",
       "</table>\n",
       "</div>"
      ],
      "text/plain": [
       "                     收盘      开盘       高       低    交易量   涨跌幅\n",
       "公司   日期                                                     \n",
       "BABA 2019-10-02  165.77  162.82  166.88  161.90  11.60  0.00\n",
       "     2019-10-03  169.48  166.65  170.18  165.00  10.39  0.02\n",
       "BIDU 2019-10-02  102.62  100.85  103.24   99.50   2.69  0.01\n",
       "     2019-10-03  104.32  102.35  104.73  101.15   2.24  0.02\n",
       "IQ   2019-10-02   15.72   15.85   15.87   15.12   8.10 -0.01\n",
       "     2019-10-03   16.06   15.71   16.38   15.32  10.08  0.02\n",
       "JD   2019-10-02   28.06   28.00   28.22   27.53   9.53  0.00\n",
       "     2019-10-03   28.80   28.11   28.97   27.82   8.77  0.03"
      ]
     },
     "execution_count": 44,
     "metadata": {},
     "output_type": "execute_result"
    }
   ],
   "source": [
    "# slice(None)代表筛选这一索引的所有内容\n",
    "stocks.loc[(slice(None), ['2019-10-02', '2019-10-03']), :]"
   ]
  },
  {
   "cell_type": "code",
   "execution_count": 45,
   "metadata": {
    "ExecuteTime": {
     "end_time": "2020-08-22T12:29:50.412256Z",
     "start_time": "2020-08-22T12:29:50.384294Z"
    }
   },
   "outputs": [
    {
     "data": {
      "text/html": [
       "<div>\n",
       "<style scoped>\n",
       "    .dataframe tbody tr th:only-of-type {\n",
       "        vertical-align: middle;\n",
       "    }\n",
       "\n",
       "    .dataframe tbody tr th {\n",
       "        vertical-align: top;\n",
       "    }\n",
       "\n",
       "    .dataframe thead th {\n",
       "        text-align: right;\n",
       "    }\n",
       "</style>\n",
       "<table border=\"1\" class=\"dataframe\">\n",
       "  <thead>\n",
       "    <tr style=\"text-align: right;\">\n",
       "      <th></th>\n",
       "      <th>公司</th>\n",
       "      <th>日期</th>\n",
       "      <th>收盘</th>\n",
       "      <th>开盘</th>\n",
       "      <th>高</th>\n",
       "      <th>低</th>\n",
       "      <th>交易量</th>\n",
       "      <th>涨跌幅</th>\n",
       "    </tr>\n",
       "  </thead>\n",
       "  <tbody>\n",
       "    <tr>\n",
       "      <th>0</th>\n",
       "      <td>BABA</td>\n",
       "      <td>2019-10-01</td>\n",
       "      <td>165.15</td>\n",
       "      <td>168.01</td>\n",
       "      <td>168.23</td>\n",
       "      <td>163.64</td>\n",
       "      <td>14.19</td>\n",
       "      <td>-0.01</td>\n",
       "    </tr>\n",
       "    <tr>\n",
       "      <th>1</th>\n",
       "      <td>BABA</td>\n",
       "      <td>2019-10-02</td>\n",
       "      <td>165.77</td>\n",
       "      <td>162.82</td>\n",
       "      <td>166.88</td>\n",
       "      <td>161.90</td>\n",
       "      <td>11.60</td>\n",
       "      <td>0.00</td>\n",
       "    </tr>\n",
       "    <tr>\n",
       "      <th>2</th>\n",
       "      <td>BABA</td>\n",
       "      <td>2019-10-03</td>\n",
       "      <td>169.48</td>\n",
       "      <td>166.65</td>\n",
       "      <td>170.18</td>\n",
       "      <td>165.00</td>\n",
       "      <td>10.39</td>\n",
       "      <td>0.02</td>\n",
       "    </tr>\n",
       "    <tr>\n",
       "      <th>3</th>\n",
       "      <td>BIDU</td>\n",
       "      <td>2019-10-01</td>\n",
       "      <td>102.00</td>\n",
       "      <td>102.80</td>\n",
       "      <td>103.26</td>\n",
       "      <td>101.00</td>\n",
       "      <td>1.78</td>\n",
       "      <td>-0.01</td>\n",
       "    </tr>\n",
       "    <tr>\n",
       "      <th>4</th>\n",
       "      <td>BIDU</td>\n",
       "      <td>2019-10-02</td>\n",
       "      <td>102.62</td>\n",
       "      <td>100.85</td>\n",
       "      <td>103.24</td>\n",
       "      <td>99.50</td>\n",
       "      <td>2.69</td>\n",
       "      <td>0.01</td>\n",
       "    </tr>\n",
       "    <tr>\n",
       "      <th>5</th>\n",
       "      <td>BIDU</td>\n",
       "      <td>2019-10-03</td>\n",
       "      <td>104.32</td>\n",
       "      <td>102.35</td>\n",
       "      <td>104.73</td>\n",
       "      <td>101.15</td>\n",
       "      <td>2.24</td>\n",
       "      <td>0.02</td>\n",
       "    </tr>\n",
       "    <tr>\n",
       "      <th>6</th>\n",
       "      <td>IQ</td>\n",
       "      <td>2019-10-01</td>\n",
       "      <td>15.92</td>\n",
       "      <td>16.14</td>\n",
       "      <td>16.22</td>\n",
       "      <td>15.50</td>\n",
       "      <td>11.65</td>\n",
       "      <td>-0.01</td>\n",
       "    </tr>\n",
       "    <tr>\n",
       "      <th>7</th>\n",
       "      <td>IQ</td>\n",
       "      <td>2019-10-02</td>\n",
       "      <td>15.72</td>\n",
       "      <td>15.85</td>\n",
       "      <td>15.87</td>\n",
       "      <td>15.12</td>\n",
       "      <td>8.10</td>\n",
       "      <td>-0.01</td>\n",
       "    </tr>\n",
       "    <tr>\n",
       "      <th>8</th>\n",
       "      <td>IQ</td>\n",
       "      <td>2019-10-03</td>\n",
       "      <td>16.06</td>\n",
       "      <td>15.71</td>\n",
       "      <td>16.38</td>\n",
       "      <td>15.32</td>\n",
       "      <td>10.08</td>\n",
       "      <td>0.02</td>\n",
       "    </tr>\n",
       "    <tr>\n",
       "      <th>9</th>\n",
       "      <td>JD</td>\n",
       "      <td>2019-10-01</td>\n",
       "      <td>28.19</td>\n",
       "      <td>28.22</td>\n",
       "      <td>28.57</td>\n",
       "      <td>27.97</td>\n",
       "      <td>10.64</td>\n",
       "      <td>0.00</td>\n",
       "    </tr>\n",
       "    <tr>\n",
       "      <th>10</th>\n",
       "      <td>JD</td>\n",
       "      <td>2019-10-02</td>\n",
       "      <td>28.06</td>\n",
       "      <td>28.00</td>\n",
       "      <td>28.22</td>\n",
       "      <td>27.53</td>\n",
       "      <td>9.53</td>\n",
       "      <td>0.00</td>\n",
       "    </tr>\n",
       "    <tr>\n",
       "      <th>11</th>\n",
       "      <td>JD</td>\n",
       "      <td>2019-10-03</td>\n",
       "      <td>28.80</td>\n",
       "      <td>28.11</td>\n",
       "      <td>28.97</td>\n",
       "      <td>27.82</td>\n",
       "      <td>8.77</td>\n",
       "      <td>0.03</td>\n",
       "    </tr>\n",
       "  </tbody>\n",
       "</table>\n",
       "</div>"
      ],
      "text/plain": [
       "      公司          日期      收盘      开盘       高       低    交易量   涨跌幅\n",
       "0   BABA  2019-10-01  165.15  168.01  168.23  163.64  14.19 -0.01\n",
       "1   BABA  2019-10-02  165.77  162.82  166.88  161.90  11.60  0.00\n",
       "2   BABA  2019-10-03  169.48  166.65  170.18  165.00  10.39  0.02\n",
       "3   BIDU  2019-10-01  102.00  102.80  103.26  101.00   1.78 -0.01\n",
       "4   BIDU  2019-10-02  102.62  100.85  103.24   99.50   2.69  0.01\n",
       "5   BIDU  2019-10-03  104.32  102.35  104.73  101.15   2.24  0.02\n",
       "6     IQ  2019-10-01   15.92   16.14   16.22   15.50  11.65 -0.01\n",
       "7     IQ  2019-10-02   15.72   15.85   15.87   15.12   8.10 -0.01\n",
       "8     IQ  2019-10-03   16.06   15.71   16.38   15.32  10.08  0.02\n",
       "9     JD  2019-10-01   28.19   28.22   28.57   27.97  10.64  0.00\n",
       "10    JD  2019-10-02   28.06   28.00   28.22   27.53   9.53  0.00\n",
       "11    JD  2019-10-03   28.80   28.11   28.97   27.82   8.77  0.03"
      ]
     },
     "execution_count": 45,
     "metadata": {},
     "output_type": "execute_result"
    }
   ],
   "source": [
    "stocks.reset_index()"
   ]
  },
  {
   "cell_type": "code",
   "execution_count": 46,
   "metadata": {
    "ExecuteTime": {
     "end_time": "2020-08-22T12:29:50.424221Z",
     "start_time": "2020-08-22T12:29:50.413216Z"
    }
   },
   "outputs": [],
   "source": [
    "data = stocks.loc['BIDU']\n"
   ]
  },
  {
   "cell_type": "code",
   "execution_count": 47,
   "metadata": {
    "ExecuteTime": {
     "end_time": "2020-08-22T12:29:50.443138Z",
     "start_time": "2020-08-22T12:29:50.425185Z"
    }
   },
   "outputs": [
    {
     "data": {
      "text/html": [
       "<div>\n",
       "<style scoped>\n",
       "    .dataframe tbody tr th:only-of-type {\n",
       "        vertical-align: middle;\n",
       "    }\n",
       "\n",
       "    .dataframe tbody tr th {\n",
       "        vertical-align: top;\n",
       "    }\n",
       "\n",
       "    .dataframe thead th {\n",
       "        text-align: right;\n",
       "    }\n",
       "</style>\n",
       "<table border=\"1\" class=\"dataframe\">\n",
       "  <thead>\n",
       "    <tr style=\"text-align: right;\">\n",
       "      <th></th>\n",
       "      <th>收盘</th>\n",
       "      <th>开盘</th>\n",
       "      <th>高</th>\n",
       "      <th>低</th>\n",
       "      <th>交易量</th>\n",
       "      <th>涨跌幅</th>\n",
       "    </tr>\n",
       "    <tr>\n",
       "      <th>日期</th>\n",
       "      <th></th>\n",
       "      <th></th>\n",
       "      <th></th>\n",
       "      <th></th>\n",
       "      <th></th>\n",
       "      <th></th>\n",
       "    </tr>\n",
       "  </thead>\n",
       "  <tbody>\n",
       "    <tr>\n",
       "      <th>2019-10-01</th>\n",
       "      <td>102.00</td>\n",
       "      <td>102.80</td>\n",
       "      <td>103.26</td>\n",
       "      <td>101.00</td>\n",
       "      <td>1.78</td>\n",
       "      <td>-0.01</td>\n",
       "    </tr>\n",
       "    <tr>\n",
       "      <th>2019-10-02</th>\n",
       "      <td>102.62</td>\n",
       "      <td>100.85</td>\n",
       "      <td>103.24</td>\n",
       "      <td>99.50</td>\n",
       "      <td>2.69</td>\n",
       "      <td>0.01</td>\n",
       "    </tr>\n",
       "    <tr>\n",
       "      <th>2019-10-03</th>\n",
       "      <td>104.32</td>\n",
       "      <td>102.35</td>\n",
       "      <td>104.73</td>\n",
       "      <td>101.15</td>\n",
       "      <td>2.24</td>\n",
       "      <td>0.02</td>\n",
       "    </tr>\n",
       "  </tbody>\n",
       "</table>\n",
       "</div>"
      ],
      "text/plain": [
       "                收盘      开盘       高       低   交易量   涨跌幅\n",
       "日期                                                    \n",
       "2019-10-01  102.00  102.80  103.26  101.00  1.78 -0.01\n",
       "2019-10-02  102.62  100.85  103.24   99.50  2.69  0.01\n",
       "2019-10-03  104.32  102.35  104.73  101.15  2.24  0.02"
      ]
     },
     "execution_count": 47,
     "metadata": {},
     "output_type": "execute_result"
    }
   ],
   "source": [
    "data"
   ]
  },
  {
   "cell_type": "code",
   "execution_count": 48,
   "metadata": {
    "ExecuteTime": {
     "end_time": "2020-08-22T12:29:50.515945Z",
     "start_time": "2020-08-22T12:29:50.444172Z"
    }
   },
   "outputs": [
    {
     "data": {
      "application/vnd.jupyter.widget-view+json": {
       "model_id": "9093383301f44596a79fa513b692f05f",
       "version_major": 2,
       "version_minor": 0
      },
      "text/plain": [
       "Canvas(toolbar=Toolbar(toolitems=[('Home', 'Reset original view', 'home', 'home'), ('Back', 'Back to previous …"
      ]
     },
     "metadata": {},
     "output_type": "display_data"
    },
    {
     "name": "stderr",
     "output_type": "stream",
     "text": [
      "d:\\python\\lib\\site-packages\\pandas\\plotting\\_matplotlib\\core.py:1235: UserWarning: FixedFormatter should only be used together with FixedLocator\n",
      "  ax.set_xticklabels(xticklabels)\n"
     ]
    },
    {
     "data": {
      "text/plain": [
       "<AxesSubplot:xlabel='日期'>"
      ]
     },
     "execution_count": 48,
     "metadata": {},
     "output_type": "execute_result"
    }
   ],
   "source": [
    "data.plot()"
   ]
  }
 ],
 "metadata": {
  "kernelspec": {
   "display_name": "Python 3",
   "language": "python",
   "name": "python3"
  },
  "language_info": {
   "codemirror_mode": {
    "name": "ipython",
    "version": 3
   },
   "file_extension": ".py",
   "mimetype": "text/x-python",
   "name": "python",
   "nbconvert_exporter": "python",
   "pygments_lexer": "ipython3",
   "version": "3.7.2"
  },
  "toc": {
   "base_numbering": 1,
   "nav_menu": {},
   "number_sections": true,
   "sideBar": true,
   "skip_h1_title": false,
   "title_cell": "Table of Contents",
   "title_sidebar": "Contents",
   "toc_cell": false,
   "toc_position": {},
   "toc_section_display": true,
   "toc_window_display": false
  },
  "varInspector": {
   "cols": {
    "lenName": 16,
    "lenType": 16,
    "lenVar": 40
   },
   "kernels_config": {
    "python": {
     "delete_cmd_postfix": "",
     "delete_cmd_prefix": "del ",
     "library": "var_list.py",
     "varRefreshCmd": "print(var_dic_list())"
    },
    "r": {
     "delete_cmd_postfix": ") ",
     "delete_cmd_prefix": "rm(",
     "library": "var_list.r",
     "varRefreshCmd": "cat(var_dic_list()) "
    }
   },
   "types_to_exclude": [
    "module",
    "function",
    "builtin_function_or_method",
    "instance",
    "_Feature"
   ],
   "window_display": false
  }
 },
 "nbformat": 4,
 "nbformat_minor": 4
}
