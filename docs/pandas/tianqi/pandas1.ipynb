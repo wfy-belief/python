{
 "cells": [
  {
   "cell_type": "code",
   "execution_count": 1,
   "metadata": {
    "ExecuteTime": {
     "end_time": "2020-08-23T03:33:18.629674Z",
     "start_time": "2020-08-23T03:33:18.357976Z"
    }
   },
   "outputs": [],
   "source": [
    "import pandas as pd\n",
    "import numpy as np"
   ]
  },
  {
   "cell_type": "code",
   "execution_count": 2,
   "metadata": {
    "ExecuteTime": {
     "end_time": "2020-08-23T03:33:18.760836Z",
     "start_time": "2020-08-23T03:33:18.631179Z"
    }
   },
   "outputs": [],
   "source": [
    "df = pd.read_excel('./result.xlsx')"
   ]
  },
  {
   "cell_type": "code",
   "execution_count": 3,
   "metadata": {
    "ExecuteTime": {
     "end_time": "2020-08-23T03:33:18.783320Z",
     "start_time": "2020-08-23T03:33:18.763021Z"
    }
   },
   "outputs": [
    {
     "data": {
      "text/html": [
       "<div>\n",
       "<style scoped>\n",
       "    .dataframe tbody tr th:only-of-type {\n",
       "        vertical-align: middle;\n",
       "    }\n",
       "\n",
       "    .dataframe tbody tr th {\n",
       "        vertical-align: top;\n",
       "    }\n",
       "\n",
       "    .dataframe thead th {\n",
       "        text-align: right;\n",
       "    }\n",
       "</style>\n",
       "<table border=\"1\" class=\"dataframe\">\n",
       "  <thead>\n",
       "    <tr style=\"text-align: right;\">\n",
       "      <th></th>\n",
       "      <th>date</th>\n",
       "      <th>week</th>\n",
       "      <th>max_temperature</th>\n",
       "      <th>min_temperature</th>\n",
       "      <th>day_status</th>\n",
       "      <th>wind</th>\n",
       "      <th>aqi</th>\n",
       "      <th>aqi_status</th>\n",
       "    </tr>\n",
       "  </thead>\n",
       "  <tbody>\n",
       "    <tr>\n",
       "      <th>0</th>\n",
       "      <td>2017-01-01</td>\n",
       "      <td>周日</td>\n",
       "      <td>-</td>\n",
       "      <td>-</td>\n",
       "      <td>多云</td>\n",
       "      <td>无持续风向微风</td>\n",
       "      <td>372</td>\n",
       "      <td>严重</td>\n",
       "    </tr>\n",
       "    <tr>\n",
       "      <th>1</th>\n",
       "      <td>2017-01-02</td>\n",
       "      <td>周一</td>\n",
       "      <td>-</td>\n",
       "      <td>-</td>\n",
       "      <td>霾</td>\n",
       "      <td>无持续风向微风</td>\n",
       "      <td>361</td>\n",
       "      <td>严重</td>\n",
       "    </tr>\n",
       "    <tr>\n",
       "      <th>2</th>\n",
       "      <td>2017-01-03</td>\n",
       "      <td>周二</td>\n",
       "      <td>-</td>\n",
       "      <td>-</td>\n",
       "      <td>霾~雾</td>\n",
       "      <td>无持续风向微风</td>\n",
       "      <td>280</td>\n",
       "      <td>重度</td>\n",
       "    </tr>\n",
       "    <tr>\n",
       "      <th>3</th>\n",
       "      <td>2017-01-04</td>\n",
       "      <td>周三</td>\n",
       "      <td>9°</td>\n",
       "      <td>2°</td>\n",
       "      <td>小雨</td>\n",
       "      <td>无持续风向微风</td>\n",
       "      <td>193</td>\n",
       "      <td>中度</td>\n",
       "    </tr>\n",
       "    <tr>\n",
       "      <th>4</th>\n",
       "      <td>2017-01-05</td>\n",
       "      <td>周四</td>\n",
       "      <td>5°</td>\n",
       "      <td>1°</td>\n",
       "      <td>小雨</td>\n",
       "      <td>无持续风向微风</td>\n",
       "      <td>216</td>\n",
       "      <td>重度</td>\n",
       "    </tr>\n",
       "  </tbody>\n",
       "</table>\n",
       "</div>"
      ],
      "text/plain": [
       "         date week max_temperature min_temperature day_status     wind  aqi  \\\n",
       "0  2017-01-01   周日               -               -         多云  无持续风向微风  372   \n",
       "1  2017-01-02   周一               -               -          霾  无持续风向微风  361   \n",
       "2  2017-01-03   周二               -               -        霾~雾  无持续风向微风  280   \n",
       "3  2017-01-04   周三              9°              2°         小雨  无持续风向微风  193   \n",
       "4  2017-01-05   周四              5°              1°         小雨  无持续风向微风  216   \n",
       "\n",
       "  aqi_status  \n",
       "0         严重  \n",
       "1         严重  \n",
       "2         重度  \n",
       "3         中度  \n",
       "4         重度  "
      ]
     },
     "execution_count": 3,
     "metadata": {},
     "output_type": "execute_result"
    }
   ],
   "source": [
    "df.head()"
   ]
  },
  {
   "cell_type": "code",
   "execution_count": 4,
   "metadata": {
    "ExecuteTime": {
     "end_time": "2020-08-23T03:33:18.794433Z",
     "start_time": "2020-08-23T03:33:18.785316Z"
    }
   },
   "outputs": [],
   "source": [
    "# 设定索引为日期，方便按日期筛选\n",
    "df.set_index('date', inplace=True)"
   ]
  },
  {
   "cell_type": "code",
   "execution_count": 5,
   "metadata": {
    "ExecuteTime": {
     "end_time": "2020-08-23T03:33:18.811951Z",
     "start_time": "2020-08-23T03:33:18.795290Z"
    }
   },
   "outputs": [
    {
     "data": {
      "text/html": [
       "<div>\n",
       "<style scoped>\n",
       "    .dataframe tbody tr th:only-of-type {\n",
       "        vertical-align: middle;\n",
       "    }\n",
       "\n",
       "    .dataframe tbody tr th {\n",
       "        vertical-align: top;\n",
       "    }\n",
       "\n",
       "    .dataframe thead th {\n",
       "        text-align: right;\n",
       "    }\n",
       "</style>\n",
       "<table border=\"1\" class=\"dataframe\">\n",
       "  <thead>\n",
       "    <tr style=\"text-align: right;\">\n",
       "      <th></th>\n",
       "      <th>week</th>\n",
       "      <th>max_temperature</th>\n",
       "      <th>min_temperature</th>\n",
       "      <th>day_status</th>\n",
       "      <th>wind</th>\n",
       "      <th>aqi</th>\n",
       "      <th>aqi_status</th>\n",
       "    </tr>\n",
       "    <tr>\n",
       "      <th>date</th>\n",
       "      <th></th>\n",
       "      <th></th>\n",
       "      <th></th>\n",
       "      <th></th>\n",
       "      <th></th>\n",
       "      <th></th>\n",
       "      <th></th>\n",
       "    </tr>\n",
       "  </thead>\n",
       "  <tbody>\n",
       "    <tr>\n",
       "      <th>2017-01-01</th>\n",
       "      <td>周日</td>\n",
       "      <td>-</td>\n",
       "      <td>-</td>\n",
       "      <td>多云</td>\n",
       "      <td>无持续风向微风</td>\n",
       "      <td>372</td>\n",
       "      <td>严重</td>\n",
       "    </tr>\n",
       "    <tr>\n",
       "      <th>2017-01-02</th>\n",
       "      <td>周一</td>\n",
       "      <td>-</td>\n",
       "      <td>-</td>\n",
       "      <td>霾</td>\n",
       "      <td>无持续风向微风</td>\n",
       "      <td>361</td>\n",
       "      <td>严重</td>\n",
       "    </tr>\n",
       "    <tr>\n",
       "      <th>2017-01-03</th>\n",
       "      <td>周二</td>\n",
       "      <td>-</td>\n",
       "      <td>-</td>\n",
       "      <td>霾~雾</td>\n",
       "      <td>无持续风向微风</td>\n",
       "      <td>280</td>\n",
       "      <td>重度</td>\n",
       "    </tr>\n",
       "    <tr>\n",
       "      <th>2017-01-04</th>\n",
       "      <td>周三</td>\n",
       "      <td>9°</td>\n",
       "      <td>2°</td>\n",
       "      <td>小雨</td>\n",
       "      <td>无持续风向微风</td>\n",
       "      <td>193</td>\n",
       "      <td>中度</td>\n",
       "    </tr>\n",
       "    <tr>\n",
       "      <th>2017-01-05</th>\n",
       "      <td>周四</td>\n",
       "      <td>5°</td>\n",
       "      <td>1°</td>\n",
       "      <td>小雨</td>\n",
       "      <td>无持续风向微风</td>\n",
       "      <td>216</td>\n",
       "      <td>重度</td>\n",
       "    </tr>\n",
       "  </tbody>\n",
       "</table>\n",
       "</div>"
      ],
      "text/plain": [
       "           week max_temperature min_temperature day_status     wind  aqi  \\\n",
       "date                                                                       \n",
       "2017-01-01   周日               -               -         多云  无持续风向微风  372   \n",
       "2017-01-02   周一               -               -          霾  无持续风向微风  361   \n",
       "2017-01-03   周二               -               -        霾~雾  无持续风向微风  280   \n",
       "2017-01-04   周三              9°              2°         小雨  无持续风向微风  193   \n",
       "2017-01-05   周四              5°              1°         小雨  无持续风向微风  216   \n",
       "\n",
       "           aqi_status  \n",
       "date                   \n",
       "2017-01-01         严重  \n",
       "2017-01-02         严重  \n",
       "2017-01-03         重度  \n",
       "2017-01-04         中度  \n",
       "2017-01-05         重度  "
      ]
     },
     "execution_count": 5,
     "metadata": {},
     "output_type": "execute_result"
    }
   ],
   "source": [
    "df.head()"
   ]
  },
  {
   "cell_type": "code",
   "execution_count": 6,
   "metadata": {
    "ExecuteTime": {
     "end_time": "2020-08-23T03:33:18.826111Z",
     "start_time": "2020-08-23T03:33:18.813757Z"
    }
   },
   "outputs": [],
   "source": [
    "# 替换掉温度的后缀°\n",
    "df['min_temperature'] = df['min_temperature'].map(lambda x : int(x.replace('°','')) if x != '-' else np.nan)\n",
    "df['max_temperature'] = df['max_temperature'].map(lambda x : int(x.replace('°','')) if x != '-' else np.nan)"
   ]
  },
  {
   "cell_type": "code",
   "execution_count": 7,
   "metadata": {
    "ExecuteTime": {
     "end_time": "2020-08-23T03:33:18.840909Z",
     "start_time": "2020-08-23T03:33:18.827812Z"
    }
   },
   "outputs": [
    {
     "data": {
      "text/plain": [
       "week                object\n",
       "max_temperature    float64\n",
       "min_temperature    float64\n",
       "day_status          object\n",
       "wind                object\n",
       "aqi                  int64\n",
       "aqi_status          object\n",
       "dtype: object"
      ]
     },
     "execution_count": 7,
     "metadata": {},
     "output_type": "execute_result"
    }
   ],
   "source": [
    "df.dtypes"
   ]
  },
  {
   "cell_type": "markdown",
   "metadata": {},
   "source": [
    "## 1、使用单个label值查询数据¶\n",
    "行或者列，都可以只传入单个值，实现精确匹配\n"
   ]
  },
  {
   "cell_type": "code",
   "execution_count": 8,
   "metadata": {
    "ExecuteTime": {
     "end_time": "2020-08-23T03:33:18.853657Z",
     "start_time": "2020-08-23T03:33:18.843861Z"
    }
   },
   "outputs": [
    {
     "data": {
      "text/plain": [
       "193"
      ]
     },
     "execution_count": 8,
     "metadata": {},
     "output_type": "execute_result"
    }
   ],
   "source": [
    "# 得到单个值\n",
    "df.loc['2017-01-04','aqi']"
   ]
  },
  {
   "cell_type": "code",
   "execution_count": 9,
   "metadata": {
    "ExecuteTime": {
     "end_time": "2020-08-23T03:33:18.866674Z",
     "start_time": "2020-08-23T03:33:18.855775Z"
    }
   },
   "outputs": [
    {
     "data": {
      "text/plain": [
       "max_temperature      9\n",
       "aqi                193\n",
       "Name: 2017-01-04, dtype: object"
      ]
     },
     "execution_count": 9,
     "metadata": {},
     "output_type": "execute_result"
    }
   ],
   "source": [
    "# 得到一个Series\n",
    "df.loc['2017-01-04',['max_temperature','aqi']]\n"
   ]
  },
  {
   "cell_type": "markdown",
   "metadata": {},
   "source": [
    "## 2、使用值列表批量查询¶\n"
   ]
  },
  {
   "cell_type": "code",
   "execution_count": 10,
   "metadata": {
    "ExecuteTime": {
     "end_time": "2020-08-23T03:33:18.881264Z",
     "start_time": "2020-08-23T03:33:18.867611Z"
    }
   },
   "outputs": [
    {
     "data": {
      "text/plain": [
       "date\n",
       "2018-01-03    1.0\n",
       "2018-01-04   -2.0\n",
       "2018-01-05    0.0\n",
       "Name: max_temperature, dtype: float64"
      ]
     },
     "execution_count": 10,
     "metadata": {},
     "output_type": "execute_result"
    }
   ],
   "source": [
    "# 得到Series\n",
    "df.loc[['2018-01-03','2018-01-04','2018-01-05'], 'max_temperature']\n"
   ]
  },
  {
   "cell_type": "code",
   "execution_count": 11,
   "metadata": {
    "ExecuteTime": {
     "end_time": "2020-08-23T03:33:18.900527Z",
     "start_time": "2020-08-23T03:33:18.882258Z"
    }
   },
   "outputs": [
    {
     "data": {
      "text/html": [
       "<div>\n",
       "<style scoped>\n",
       "    .dataframe tbody tr th:only-of-type {\n",
       "        vertical-align: middle;\n",
       "    }\n",
       "\n",
       "    .dataframe tbody tr th {\n",
       "        vertical-align: top;\n",
       "    }\n",
       "\n",
       "    .dataframe thead th {\n",
       "        text-align: right;\n",
       "    }\n",
       "</style>\n",
       "<table border=\"1\" class=\"dataframe\">\n",
       "  <thead>\n",
       "    <tr style=\"text-align: right;\">\n",
       "      <th></th>\n",
       "      <th>max_temperature</th>\n",
       "      <th>min_temperature</th>\n",
       "    </tr>\n",
       "    <tr>\n",
       "      <th>date</th>\n",
       "      <th></th>\n",
       "      <th></th>\n",
       "    </tr>\n",
       "  </thead>\n",
       "  <tbody>\n",
       "    <tr>\n",
       "      <th>2018-01-03</th>\n",
       "      <td>1.0</td>\n",
       "      <td>-6.0</td>\n",
       "    </tr>\n",
       "    <tr>\n",
       "      <th>2018-01-04</th>\n",
       "      <td>-2.0</td>\n",
       "      <td>-10.0</td>\n",
       "    </tr>\n",
       "    <tr>\n",
       "      <th>2018-01-05</th>\n",
       "      <td>0.0</td>\n",
       "      <td>-8.0</td>\n",
       "    </tr>\n",
       "  </tbody>\n",
       "</table>\n",
       "</div>"
      ],
      "text/plain": [
       "            max_temperature  min_temperature\n",
       "date                                        \n",
       "2018-01-03              1.0             -6.0\n",
       "2018-01-04             -2.0            -10.0\n",
       "2018-01-05              0.0             -8.0"
      ]
     },
     "execution_count": 11,
     "metadata": {},
     "output_type": "execute_result"
    }
   ],
   "source": [
    "# 得到DataFrame\n",
    "df.loc[['2018-01-03','2018-01-04','2018-01-05'], ['max_temperature', 'min_temperature']]\n"
   ]
  },
  {
   "cell_type": "markdown",
   "metadata": {},
   "source": [
    "## 3、使用数值区间进行范围查询"
   ]
  },
  {
   "cell_type": "code",
   "execution_count": 12,
   "metadata": {
    "ExecuteTime": {
     "end_time": "2020-08-23T03:33:18.917177Z",
     "start_time": "2020-08-23T03:33:18.901861Z"
    }
   },
   "outputs": [
    {
     "data": {
      "text/plain": [
       "date\n",
       "2018-01-03    -6.0\n",
       "2018-01-04   -10.0\n",
       "2018-01-05    -8.0\n",
       "2018-01-06    -6.0\n",
       "2018-01-07    -5.0\n",
       "2018-01-08    -5.0\n",
       "2018-01-09    -5.0\n",
       "2018-01-10    -8.0\n",
       "Name: min_temperature, dtype: float64"
      ]
     },
     "execution_count": 12,
     "metadata": {},
     "output_type": "execute_result"
    }
   ],
   "source": [
    "# 行index按区间\n",
    "df.loc['2018-01-03':'2018-01-10', 'min_temperature']"
   ]
  },
  {
   "cell_type": "code",
   "execution_count": 13,
   "metadata": {
    "ExecuteTime": {
     "end_time": "2020-08-23T03:33:19.027346Z",
     "start_time": "2020-08-23T03:33:18.918464Z"
    }
   },
   "outputs": [
    {
     "data": {
      "text/plain": [
       "max_temperature          1\n",
       "min_temperature         -6\n",
       "day_status           小雪~大雪\n",
       "wind               东北风1-2级\n",
       "aqi                     67\n",
       "Name: 2018-01-03, dtype: object"
      ]
     },
     "execution_count": 13,
     "metadata": {},
     "output_type": "execute_result"
    }
   ],
   "source": [
    "# 列columns按区间\n",
    "df.loc['2018-01-03', 'max_temperature':'aqi']"
   ]
  },
  {
   "cell_type": "code",
   "execution_count": 14,
   "metadata": {
    "ExecuteTime": {
     "end_time": "2020-08-23T03:33:19.046244Z",
     "start_time": "2020-08-23T03:33:19.028315Z"
    }
   },
   "outputs": [
    {
     "data": {
      "text/html": [
       "<div>\n",
       "<style scoped>\n",
       "    .dataframe tbody tr th:only-of-type {\n",
       "        vertical-align: middle;\n",
       "    }\n",
       "\n",
       "    .dataframe tbody tr th {\n",
       "        vertical-align: top;\n",
       "    }\n",
       "\n",
       "    .dataframe thead th {\n",
       "        text-align: right;\n",
       "    }\n",
       "</style>\n",
       "<table border=\"1\" class=\"dataframe\">\n",
       "  <thead>\n",
       "    <tr style=\"text-align: right;\">\n",
       "      <th></th>\n",
       "      <th>max_temperature</th>\n",
       "      <th>min_temperature</th>\n",
       "      <th>day_status</th>\n",
       "      <th>wind</th>\n",
       "      <th>aqi</th>\n",
       "    </tr>\n",
       "    <tr>\n",
       "      <th>date</th>\n",
       "      <th></th>\n",
       "      <th></th>\n",
       "      <th></th>\n",
       "      <th></th>\n",
       "      <th></th>\n",
       "    </tr>\n",
       "  </thead>\n",
       "  <tbody>\n",
       "    <tr>\n",
       "      <th>2018-01-03</th>\n",
       "      <td>1.0</td>\n",
       "      <td>-6.0</td>\n",
       "      <td>小雪~大雪</td>\n",
       "      <td>东北风1-2级</td>\n",
       "      <td>67</td>\n",
       "    </tr>\n",
       "    <tr>\n",
       "      <th>2018-01-04</th>\n",
       "      <td>-2.0</td>\n",
       "      <td>-10.0</td>\n",
       "      <td>大雪~阴</td>\n",
       "      <td>东北风1-2级</td>\n",
       "      <td>61</td>\n",
       "    </tr>\n",
       "    <tr>\n",
       "      <th>2018-01-05</th>\n",
       "      <td>0.0</td>\n",
       "      <td>-8.0</td>\n",
       "      <td>多云~小雪</td>\n",
       "      <td>南风1-2级</td>\n",
       "      <td>92</td>\n",
       "    </tr>\n",
       "    <tr>\n",
       "      <th>2018-01-06</th>\n",
       "      <td>-2.0</td>\n",
       "      <td>-6.0</td>\n",
       "      <td>中雪~小雪</td>\n",
       "      <td>无持续风向微风</td>\n",
       "      <td>160</td>\n",
       "    </tr>\n",
       "    <tr>\n",
       "      <th>2018-01-07</th>\n",
       "      <td>0.0</td>\n",
       "      <td>-5.0</td>\n",
       "      <td>阴~多云</td>\n",
       "      <td>西风1-2级</td>\n",
       "      <td>177</td>\n",
       "    </tr>\n",
       "    <tr>\n",
       "      <th>2018-01-08</th>\n",
       "      <td>1.0</td>\n",
       "      <td>-5.0</td>\n",
       "      <td>多云~晴</td>\n",
       "      <td>西风4-5级</td>\n",
       "      <td>64</td>\n",
       "    </tr>\n",
       "    <tr>\n",
       "      <th>2018-01-09</th>\n",
       "      <td>2.0</td>\n",
       "      <td>-5.0</td>\n",
       "      <td>晴</td>\n",
       "      <td>西风3-4级</td>\n",
       "      <td>52</td>\n",
       "    </tr>\n",
       "    <tr>\n",
       "      <th>2018-01-10</th>\n",
       "      <td>4.0</td>\n",
       "      <td>-8.0</td>\n",
       "      <td>晴</td>\n",
       "      <td>西风3-4级</td>\n",
       "      <td>50</td>\n",
       "    </tr>\n",
       "  </tbody>\n",
       "</table>\n",
       "</div>"
      ],
      "text/plain": [
       "            max_temperature  min_temperature day_status     wind  aqi\n",
       "date                                                                 \n",
       "2018-01-03              1.0             -6.0      小雪~大雪  东北风1-2级   67\n",
       "2018-01-04             -2.0            -10.0       大雪~阴  东北风1-2级   61\n",
       "2018-01-05              0.0             -8.0      多云~小雪   南风1-2级   92\n",
       "2018-01-06             -2.0             -6.0      中雪~小雪  无持续风向微风  160\n",
       "2018-01-07              0.0             -5.0       阴~多云   西风1-2级  177\n",
       "2018-01-08              1.0             -5.0       多云~晴   西风4-5级   64\n",
       "2018-01-09              2.0             -5.0          晴   西风3-4级   52\n",
       "2018-01-10              4.0             -8.0          晴   西风3-4级   50"
      ]
     },
     "execution_count": 14,
     "metadata": {},
     "output_type": "execute_result"
    }
   ],
   "source": [
    "# 行和列都按区间查询\n",
    "df.loc['2018-01-03':'2018-01-10', 'max_temperature':'aqi']"
   ]
  },
  {
   "cell_type": "markdown",
   "metadata": {},
   "source": [
    "## 4、使用条件表达式查询\n",
    "\n",
    "bool列表的长度得等于行数或者列数"
   ]
  },
  {
   "cell_type": "code",
   "execution_count": 15,
   "metadata": {
    "ExecuteTime": {
     "end_time": "2020-08-23T03:33:19.151817Z",
     "start_time": "2020-08-23T03:33:19.047246Z"
    }
   },
   "outputs": [
    {
     "data": {
      "text/plain": [
       "date\n",
       "2017-01-01    False\n",
       "2017-01-02    False\n",
       "2017-01-03    False\n",
       "2017-01-04     True\n",
       "2017-01-05     True\n",
       "              ...  \n",
       "2019-12-27     True\n",
       "2019-12-28    False\n",
       "2019-12-29    False\n",
       "2019-12-30     True\n",
       "2019-12-31     True\n",
       "Name: min_temperature, Length: 1095, dtype: bool"
      ]
     },
     "execution_count": 15,
     "metadata": {},
     "output_type": "execute_result"
    }
   ],
   "source": [
    "df['min_temperature'] < 10 "
   ]
  },
  {
   "cell_type": "markdown",
   "metadata": {},
   "source": [
    "### 复杂条件查询，查一下我心中的完美天气\n",
    "\n",
    "注意，组合条件用&符号合并，每个条件判断都得带括号"
   ]
  },
  {
   "cell_type": "code",
   "execution_count": 16,
   "metadata": {
    "ExecuteTime": {
     "end_time": "2020-08-23T03:33:19.176232Z",
     "start_time": "2020-08-23T03:33:19.153262Z"
    }
   },
   "outputs": [
    {
     "data": {
      "text/html": [
       "<div>\n",
       "<style scoped>\n",
       "    .dataframe tbody tr th:only-of-type {\n",
       "        vertical-align: middle;\n",
       "    }\n",
       "\n",
       "    .dataframe tbody tr th {\n",
       "        vertical-align: top;\n",
       "    }\n",
       "\n",
       "    .dataframe thead th {\n",
       "        text-align: right;\n",
       "    }\n",
       "</style>\n",
       "<table border=\"1\" class=\"dataframe\">\n",
       "  <thead>\n",
       "    <tr style=\"text-align: right;\">\n",
       "      <th></th>\n",
       "      <th>week</th>\n",
       "      <th>max_temperature</th>\n",
       "      <th>min_temperature</th>\n",
       "      <th>day_status</th>\n",
       "      <th>wind</th>\n",
       "      <th>aqi</th>\n",
       "      <th>aqi_status</th>\n",
       "    </tr>\n",
       "    <tr>\n",
       "      <th>date</th>\n",
       "      <th></th>\n",
       "      <th></th>\n",
       "      <th></th>\n",
       "      <th></th>\n",
       "      <th></th>\n",
       "      <th></th>\n",
       "      <th></th>\n",
       "    </tr>\n",
       "  </thead>\n",
       "  <tbody>\n",
       "    <tr>\n",
       "      <th>2018-09-07</th>\n",
       "      <td>周五</td>\n",
       "      <td>29.0</td>\n",
       "      <td>17.0</td>\n",
       "      <td>晴</td>\n",
       "      <td>北风1-2级</td>\n",
       "      <td>49</td>\n",
       "      <td>优</td>\n",
       "    </tr>\n",
       "  </tbody>\n",
       "</table>\n",
       "</div>"
      ],
      "text/plain": [
       "           week  max_temperature  min_temperature day_status    wind  aqi  \\\n",
       "date                                                                        \n",
       "2018-09-07   周五             29.0             17.0          晴  北风1-2级   49   \n",
       "\n",
       "           aqi_status  \n",
       "date                   \n",
       "2018-09-07          优  "
      ]
     },
     "execution_count": 16,
     "metadata": {},
     "output_type": "execute_result"
    }
   ],
   "source": [
    "# 查询最高温度小于30度，并且最低温度大于15度，并且是晴天，并且天气为优的数据\n",
    "df[(df['max_temperature'] <= 30) & (df['min_temperature'] >= 15) & (df['day_status'] == '晴') & (df['aqi_status'] == '优')]"
   ]
  },
  {
   "cell_type": "markdown",
   "metadata": {},
   "source": [
    "我哭，郑州的好天气，三年才一天。\n"
   ]
  },
  {
   "cell_type": "markdown",
   "metadata": {},
   "source": [
    "## 5、调用函数查询"
   ]
  },
  {
   "cell_type": "code",
   "execution_count": 17,
   "metadata": {
    "ExecuteTime": {
     "end_time": "2020-08-23T03:33:19.199668Z",
     "start_time": "2020-08-23T03:33:19.177321Z"
    }
   },
   "outputs": [
    {
     "data": {
      "text/html": [
       "<div>\n",
       "<style scoped>\n",
       "    .dataframe tbody tr th:only-of-type {\n",
       "        vertical-align: middle;\n",
       "    }\n",
       "\n",
       "    .dataframe tbody tr th {\n",
       "        vertical-align: top;\n",
       "    }\n",
       "\n",
       "    .dataframe thead th {\n",
       "        text-align: right;\n",
       "    }\n",
       "</style>\n",
       "<table border=\"1\" class=\"dataframe\">\n",
       "  <thead>\n",
       "    <tr style=\"text-align: right;\">\n",
       "      <th></th>\n",
       "      <th>week</th>\n",
       "      <th>max_temperature</th>\n",
       "      <th>min_temperature</th>\n",
       "      <th>day_status</th>\n",
       "      <th>wind</th>\n",
       "      <th>aqi</th>\n",
       "      <th>aqi_status</th>\n",
       "    </tr>\n",
       "    <tr>\n",
       "      <th>date</th>\n",
       "      <th></th>\n",
       "      <th></th>\n",
       "      <th></th>\n",
       "      <th></th>\n",
       "      <th></th>\n",
       "      <th></th>\n",
       "      <th></th>\n",
       "    </tr>\n",
       "  </thead>\n",
       "  <tbody>\n",
       "    <tr>\n",
       "      <th>2017-04-14</th>\n",
       "      <td>周五</td>\n",
       "      <td>27.0</td>\n",
       "      <td>15.0</td>\n",
       "      <td>多云</td>\n",
       "      <td>西南风1-2级</td>\n",
       "      <td>117</td>\n",
       "      <td>轻度</td>\n",
       "    </tr>\n",
       "    <tr>\n",
       "      <th>2017-04-15</th>\n",
       "      <td>周六</td>\n",
       "      <td>29.0</td>\n",
       "      <td>17.0</td>\n",
       "      <td>多云~小雨</td>\n",
       "      <td>西风1-2级</td>\n",
       "      <td>125</td>\n",
       "      <td>轻度</td>\n",
       "    </tr>\n",
       "    <tr>\n",
       "      <th>2017-04-16</th>\n",
       "      <td>周日</td>\n",
       "      <td>24.0</td>\n",
       "      <td>15.0</td>\n",
       "      <td>小雨~多云</td>\n",
       "      <td>无持续风向微风</td>\n",
       "      <td>69</td>\n",
       "      <td>良</td>\n",
       "    </tr>\n",
       "    <tr>\n",
       "      <th>2017-04-17</th>\n",
       "      <td>周一</td>\n",
       "      <td>28.0</td>\n",
       "      <td>16.0</td>\n",
       "      <td>晴</td>\n",
       "      <td>西风3-4级</td>\n",
       "      <td>114</td>\n",
       "      <td>轻度</td>\n",
       "    </tr>\n",
       "    <tr>\n",
       "      <th>2017-04-23</th>\n",
       "      <td>周日</td>\n",
       "      <td>29.0</td>\n",
       "      <td>15.0</td>\n",
       "      <td>晴~多云</td>\n",
       "      <td>无持续风向微风</td>\n",
       "      <td>105</td>\n",
       "      <td>轻度</td>\n",
       "    </tr>\n",
       "    <tr>\n",
       "      <th>...</th>\n",
       "      <td>...</td>\n",
       "      <td>...</td>\n",
       "      <td>...</td>\n",
       "      <td>...</td>\n",
       "      <td>...</td>\n",
       "      <td>...</td>\n",
       "      <td>...</td>\n",
       "    </tr>\n",
       "    <tr>\n",
       "      <th>2019-09-27</th>\n",
       "      <td>周五</td>\n",
       "      <td>30.0</td>\n",
       "      <td>17.0</td>\n",
       "      <td>多云~晴</td>\n",
       "      <td>东南风2级</td>\n",
       "      <td>81</td>\n",
       "      <td>良</td>\n",
       "    </tr>\n",
       "    <tr>\n",
       "      <th>2019-09-28</th>\n",
       "      <td>周六</td>\n",
       "      <td>30.0</td>\n",
       "      <td>19.0</td>\n",
       "      <td>多云~晴</td>\n",
       "      <td>东南风2级</td>\n",
       "      <td>76</td>\n",
       "      <td>良</td>\n",
       "    </tr>\n",
       "    <tr>\n",
       "      <th>2019-10-02</th>\n",
       "      <td>周三</td>\n",
       "      <td>30.0</td>\n",
       "      <td>18.0</td>\n",
       "      <td>多云~晴</td>\n",
       "      <td>东南风2级</td>\n",
       "      <td>71</td>\n",
       "      <td>良</td>\n",
       "    </tr>\n",
       "    <tr>\n",
       "      <th>2019-10-10</th>\n",
       "      <td>周四</td>\n",
       "      <td>22.0</td>\n",
       "      <td>15.0</td>\n",
       "      <td>阴~小雨</td>\n",
       "      <td>西北风2级</td>\n",
       "      <td>28</td>\n",
       "      <td>优</td>\n",
       "    </tr>\n",
       "    <tr>\n",
       "      <th>2019-10-11</th>\n",
       "      <td>周五</td>\n",
       "      <td>22.0</td>\n",
       "      <td>16.0</td>\n",
       "      <td>多云~小雨</td>\n",
       "      <td>东北风2级</td>\n",
       "      <td>61</td>\n",
       "      <td>良</td>\n",
       "    </tr>\n",
       "  </tbody>\n",
       "</table>\n",
       "<p>191 rows × 7 columns</p>\n",
       "</div>"
      ],
      "text/plain": [
       "           week  max_temperature  min_temperature day_status     wind  aqi  \\\n",
       "date                                                                         \n",
       "2017-04-14   周五             27.0             15.0         多云  西南风1-2级  117   \n",
       "2017-04-15   周六             29.0             17.0      多云~小雨   西风1-2级  125   \n",
       "2017-04-16   周日             24.0             15.0      小雨~多云  无持续风向微风   69   \n",
       "2017-04-17   周一             28.0             16.0          晴   西风3-4级  114   \n",
       "2017-04-23   周日             29.0             15.0       晴~多云  无持续风向微风  105   \n",
       "...         ...              ...              ...        ...      ...  ...   \n",
       "2019-09-27   周五             30.0             17.0       多云~晴    东南风2级   81   \n",
       "2019-09-28   周六             30.0             19.0       多云~晴    东南风2级   76   \n",
       "2019-10-02   周三             30.0             18.0       多云~晴    东南风2级   71   \n",
       "2019-10-10   周四             22.0             15.0       阴~小雨    西北风2级   28   \n",
       "2019-10-11   周五             22.0             16.0      多云~小雨    东北风2级   61   \n",
       "\n",
       "           aqi_status  \n",
       "date                   \n",
       "2017-04-14         轻度  \n",
       "2017-04-15         轻度  \n",
       "2017-04-16          良  \n",
       "2017-04-17         轻度  \n",
       "2017-04-23         轻度  \n",
       "...               ...  \n",
       "2019-09-27          良  \n",
       "2019-09-28          良  \n",
       "2019-10-02          良  \n",
       "2019-10-10          优  \n",
       "2019-10-11          良  \n",
       "\n",
       "[191 rows x 7 columns]"
      ]
     },
     "execution_count": 17,
     "metadata": {},
     "output_type": "execute_result"
    }
   ],
   "source": [
    "# 直接写lambda表达式\n",
    "df.loc[lambda df : (df[\"max_temperature\"]<=30) & (df[\"min_temperature\"]>=15), :]"
   ]
  },
  {
   "cell_type": "code",
   "execution_count": 18,
   "metadata": {
    "ExecuteTime": {
     "end_time": "2020-08-23T03:33:19.249320Z",
     "start_time": "2020-08-23T03:33:19.201177Z"
    }
   },
   "outputs": [
    {
     "data": {
      "text/html": [
       "<div>\n",
       "<style scoped>\n",
       "    .dataframe tbody tr th:only-of-type {\n",
       "        vertical-align: middle;\n",
       "    }\n",
       "\n",
       "    .dataframe tbody tr th {\n",
       "        vertical-align: top;\n",
       "    }\n",
       "\n",
       "    .dataframe thead th {\n",
       "        text-align: right;\n",
       "    }\n",
       "</style>\n",
       "<table border=\"1\" class=\"dataframe\">\n",
       "  <thead>\n",
       "    <tr style=\"text-align: right;\">\n",
       "      <th></th>\n",
       "      <th>week</th>\n",
       "      <th>max_temperature</th>\n",
       "      <th>min_temperature</th>\n",
       "      <th>day_status</th>\n",
       "      <th>wind</th>\n",
       "      <th>aqi</th>\n",
       "      <th>aqi_status</th>\n",
       "    </tr>\n",
       "    <tr>\n",
       "      <th>date</th>\n",
       "      <th></th>\n",
       "      <th></th>\n",
       "      <th></th>\n",
       "      <th></th>\n",
       "      <th></th>\n",
       "      <th></th>\n",
       "      <th></th>\n",
       "    </tr>\n",
       "  </thead>\n",
       "  <tbody>\n",
       "    <tr>\n",
       "      <th>2019-09-01</th>\n",
       "      <td>周日</td>\n",
       "      <td>32.0</td>\n",
       "      <td>20.0</td>\n",
       "      <td>多云</td>\n",
       "      <td>东南风2级</td>\n",
       "      <td>62</td>\n",
       "      <td>良</td>\n",
       "    </tr>\n",
       "    <tr>\n",
       "      <th>2019-09-02</th>\n",
       "      <td>周一</td>\n",
       "      <td>30.0</td>\n",
       "      <td>20.0</td>\n",
       "      <td>多云</td>\n",
       "      <td>东南风2级</td>\n",
       "      <td>53</td>\n",
       "      <td>良</td>\n",
       "    </tr>\n",
       "    <tr>\n",
       "      <th>2019-09-03</th>\n",
       "      <td>周二</td>\n",
       "      <td>30.0</td>\n",
       "      <td>19.0</td>\n",
       "      <td>多云</td>\n",
       "      <td>东南风2级</td>\n",
       "      <td>60</td>\n",
       "      <td>良</td>\n",
       "    </tr>\n",
       "    <tr>\n",
       "      <th>2019-09-04</th>\n",
       "      <td>周三</td>\n",
       "      <td>31.0</td>\n",
       "      <td>19.0</td>\n",
       "      <td>多云</td>\n",
       "      <td>东南风2级</td>\n",
       "      <td>80</td>\n",
       "      <td>良</td>\n",
       "    </tr>\n",
       "    <tr>\n",
       "      <th>2019-09-05</th>\n",
       "      <td>周四</td>\n",
       "      <td>32.0</td>\n",
       "      <td>20.0</td>\n",
       "      <td>晴</td>\n",
       "      <td>东南风2级</td>\n",
       "      <td>72</td>\n",
       "      <td>良</td>\n",
       "    </tr>\n",
       "    <tr>\n",
       "      <th>2019-09-06</th>\n",
       "      <td>周五</td>\n",
       "      <td>33.0</td>\n",
       "      <td>20.0</td>\n",
       "      <td>晴</td>\n",
       "      <td>东南风2级</td>\n",
       "      <td>68</td>\n",
       "      <td>良</td>\n",
       "    </tr>\n",
       "    <tr>\n",
       "      <th>2019-09-07</th>\n",
       "      <td>周六</td>\n",
       "      <td>34.0</td>\n",
       "      <td>21.0</td>\n",
       "      <td>晴</td>\n",
       "      <td>西南风2级</td>\n",
       "      <td>87</td>\n",
       "      <td>良</td>\n",
       "    </tr>\n",
       "    <tr>\n",
       "      <th>2019-09-08</th>\n",
       "      <td>周日</td>\n",
       "      <td>36.0</td>\n",
       "      <td>23.0</td>\n",
       "      <td>晴</td>\n",
       "      <td>东南风2级</td>\n",
       "      <td>88</td>\n",
       "      <td>良</td>\n",
       "    </tr>\n",
       "    <tr>\n",
       "      <th>2019-09-09</th>\n",
       "      <td>周一</td>\n",
       "      <td>34.0</td>\n",
       "      <td>23.0</td>\n",
       "      <td>多云</td>\n",
       "      <td>东南风2级</td>\n",
       "      <td>82</td>\n",
       "      <td>良</td>\n",
       "    </tr>\n",
       "    <tr>\n",
       "      <th>2019-09-10</th>\n",
       "      <td>周二</td>\n",
       "      <td>27.0</td>\n",
       "      <td>19.0</td>\n",
       "      <td>小雨</td>\n",
       "      <td>东北风3级</td>\n",
       "      <td>95</td>\n",
       "      <td>良</td>\n",
       "    </tr>\n",
       "    <tr>\n",
       "      <th>2019-09-11</th>\n",
       "      <td>周三</td>\n",
       "      <td>22.0</td>\n",
       "      <td>19.0</td>\n",
       "      <td>小雨</td>\n",
       "      <td>东北风3级</td>\n",
       "      <td>33</td>\n",
       "      <td>优</td>\n",
       "    </tr>\n",
       "    <tr>\n",
       "      <th>2019-09-12</th>\n",
       "      <td>周四</td>\n",
       "      <td>22.0</td>\n",
       "      <td>19.0</td>\n",
       "      <td>小雨~阴</td>\n",
       "      <td>东北风2级</td>\n",
       "      <td>20</td>\n",
       "      <td>优</td>\n",
       "    </tr>\n",
       "    <tr>\n",
       "      <th>2019-09-13</th>\n",
       "      <td>周五</td>\n",
       "      <td>29.0</td>\n",
       "      <td>20.0</td>\n",
       "      <td>多云~阴</td>\n",
       "      <td>西北风3级</td>\n",
       "      <td>39</td>\n",
       "      <td>优</td>\n",
       "    </tr>\n",
       "    <tr>\n",
       "      <th>2019-09-14</th>\n",
       "      <td>周六</td>\n",
       "      <td>24.0</td>\n",
       "      <td>17.0</td>\n",
       "      <td>小雨</td>\n",
       "      <td>西北风3级</td>\n",
       "      <td>55</td>\n",
       "      <td>良</td>\n",
       "    </tr>\n",
       "    <tr>\n",
       "      <th>2019-09-15</th>\n",
       "      <td>周日</td>\n",
       "      <td>19.0</td>\n",
       "      <td>17.0</td>\n",
       "      <td>中雨~小雨</td>\n",
       "      <td>西北风2级</td>\n",
       "      <td>26</td>\n",
       "      <td>优</td>\n",
       "    </tr>\n",
       "    <tr>\n",
       "      <th>2019-09-16</th>\n",
       "      <td>周一</td>\n",
       "      <td>24.0</td>\n",
       "      <td>17.0</td>\n",
       "      <td>小雨~中雨</td>\n",
       "      <td>东南风2级</td>\n",
       "      <td>41</td>\n",
       "      <td>优</td>\n",
       "    </tr>\n",
       "    <tr>\n",
       "      <th>2019-09-17</th>\n",
       "      <td>周二</td>\n",
       "      <td>21.0</td>\n",
       "      <td>16.0</td>\n",
       "      <td>小雨~多云</td>\n",
       "      <td>西南风2级</td>\n",
       "      <td>42</td>\n",
       "      <td>优</td>\n",
       "    </tr>\n",
       "    <tr>\n",
       "      <th>2019-09-18</th>\n",
       "      <td>周三</td>\n",
       "      <td>27.0</td>\n",
       "      <td>17.0</td>\n",
       "      <td>多云~阴</td>\n",
       "      <td>东北风3级</td>\n",
       "      <td>63</td>\n",
       "      <td>良</td>\n",
       "    </tr>\n",
       "    <tr>\n",
       "      <th>2019-09-19</th>\n",
       "      <td>周四</td>\n",
       "      <td>21.0</td>\n",
       "      <td>17.0</td>\n",
       "      <td>阴</td>\n",
       "      <td>东北风1级</td>\n",
       "      <td>62</td>\n",
       "      <td>良</td>\n",
       "    </tr>\n",
       "    <tr>\n",
       "      <th>2019-09-20</th>\n",
       "      <td>周五</td>\n",
       "      <td>26.0</td>\n",
       "      <td>16.0</td>\n",
       "      <td>多云</td>\n",
       "      <td>西北风3级</td>\n",
       "      <td>44</td>\n",
       "      <td>优</td>\n",
       "    </tr>\n",
       "    <tr>\n",
       "      <th>2019-09-21</th>\n",
       "      <td>周六</td>\n",
       "      <td>27.0</td>\n",
       "      <td>17.0</td>\n",
       "      <td>晴</td>\n",
       "      <td>东北风2级</td>\n",
       "      <td>71</td>\n",
       "      <td>良</td>\n",
       "    </tr>\n",
       "    <tr>\n",
       "      <th>2019-09-22</th>\n",
       "      <td>周日</td>\n",
       "      <td>28.0</td>\n",
       "      <td>16.0</td>\n",
       "      <td>晴</td>\n",
       "      <td>东北风2级</td>\n",
       "      <td>83</td>\n",
       "      <td>良</td>\n",
       "    </tr>\n",
       "    <tr>\n",
       "      <th>2019-09-23</th>\n",
       "      <td>周一</td>\n",
       "      <td>29.0</td>\n",
       "      <td>17.0</td>\n",
       "      <td>晴~多云</td>\n",
       "      <td>西南风2级</td>\n",
       "      <td>90</td>\n",
       "      <td>良</td>\n",
       "    </tr>\n",
       "    <tr>\n",
       "      <th>2019-09-24</th>\n",
       "      <td>周二</td>\n",
       "      <td>31.0</td>\n",
       "      <td>17.0</td>\n",
       "      <td>多云</td>\n",
       "      <td>西北风2级</td>\n",
       "      <td>69</td>\n",
       "      <td>良</td>\n",
       "    </tr>\n",
       "    <tr>\n",
       "      <th>2019-09-25</th>\n",
       "      <td>周三</td>\n",
       "      <td>30.0</td>\n",
       "      <td>16.0</td>\n",
       "      <td>多云~晴</td>\n",
       "      <td>东北风2级</td>\n",
       "      <td>85</td>\n",
       "      <td>良</td>\n",
       "    </tr>\n",
       "    <tr>\n",
       "      <th>2019-09-26</th>\n",
       "      <td>周四</td>\n",
       "      <td>30.0</td>\n",
       "      <td>16.0</td>\n",
       "      <td>晴</td>\n",
       "      <td>东南风1级</td>\n",
       "      <td>87</td>\n",
       "      <td>良</td>\n",
       "    </tr>\n",
       "    <tr>\n",
       "      <th>2019-09-27</th>\n",
       "      <td>周五</td>\n",
       "      <td>30.0</td>\n",
       "      <td>17.0</td>\n",
       "      <td>多云~晴</td>\n",
       "      <td>东南风2级</td>\n",
       "      <td>81</td>\n",
       "      <td>良</td>\n",
       "    </tr>\n",
       "    <tr>\n",
       "      <th>2019-09-28</th>\n",
       "      <td>周六</td>\n",
       "      <td>30.0</td>\n",
       "      <td>19.0</td>\n",
       "      <td>多云~晴</td>\n",
       "      <td>东南风2级</td>\n",
       "      <td>76</td>\n",
       "      <td>良</td>\n",
       "    </tr>\n",
       "    <tr>\n",
       "      <th>2019-09-29</th>\n",
       "      <td>周日</td>\n",
       "      <td>31.0</td>\n",
       "      <td>18.0</td>\n",
       "      <td>晴</td>\n",
       "      <td>东南风3级</td>\n",
       "      <td>78</td>\n",
       "      <td>良</td>\n",
       "    </tr>\n",
       "    <tr>\n",
       "      <th>2019-09-30</th>\n",
       "      <td>周一</td>\n",
       "      <td>32.0</td>\n",
       "      <td>17.0</td>\n",
       "      <td>晴</td>\n",
       "      <td>东南风3级</td>\n",
       "      <td>76</td>\n",
       "      <td>良</td>\n",
       "    </tr>\n",
       "  </tbody>\n",
       "</table>\n",
       "</div>"
      ],
      "text/plain": [
       "           week  max_temperature  min_temperature day_status   wind  aqi  \\\n",
       "date                                                                       \n",
       "2019-09-01   周日             32.0             20.0         多云  东南风2级   62   \n",
       "2019-09-02   周一             30.0             20.0         多云  东南风2级   53   \n",
       "2019-09-03   周二             30.0             19.0         多云  东南风2级   60   \n",
       "2019-09-04   周三             31.0             19.0         多云  东南风2级   80   \n",
       "2019-09-05   周四             32.0             20.0          晴  东南风2级   72   \n",
       "2019-09-06   周五             33.0             20.0          晴  东南风2级   68   \n",
       "2019-09-07   周六             34.0             21.0          晴  西南风2级   87   \n",
       "2019-09-08   周日             36.0             23.0          晴  东南风2级   88   \n",
       "2019-09-09   周一             34.0             23.0         多云  东南风2级   82   \n",
       "2019-09-10   周二             27.0             19.0         小雨  东北风3级   95   \n",
       "2019-09-11   周三             22.0             19.0         小雨  东北风3级   33   \n",
       "2019-09-12   周四             22.0             19.0       小雨~阴  东北风2级   20   \n",
       "2019-09-13   周五             29.0             20.0       多云~阴  西北风3级   39   \n",
       "2019-09-14   周六             24.0             17.0         小雨  西北风3级   55   \n",
       "2019-09-15   周日             19.0             17.0      中雨~小雨  西北风2级   26   \n",
       "2019-09-16   周一             24.0             17.0      小雨~中雨  东南风2级   41   \n",
       "2019-09-17   周二             21.0             16.0      小雨~多云  西南风2级   42   \n",
       "2019-09-18   周三             27.0             17.0       多云~阴  东北风3级   63   \n",
       "2019-09-19   周四             21.0             17.0          阴  东北风1级   62   \n",
       "2019-09-20   周五             26.0             16.0         多云  西北风3级   44   \n",
       "2019-09-21   周六             27.0             17.0          晴  东北风2级   71   \n",
       "2019-09-22   周日             28.0             16.0          晴  东北风2级   83   \n",
       "2019-09-23   周一             29.0             17.0       晴~多云  西南风2级   90   \n",
       "2019-09-24   周二             31.0             17.0         多云  西北风2级   69   \n",
       "2019-09-25   周三             30.0             16.0       多云~晴  东北风2级   85   \n",
       "2019-09-26   周四             30.0             16.0          晴  东南风1级   87   \n",
       "2019-09-27   周五             30.0             17.0       多云~晴  东南风2级   81   \n",
       "2019-09-28   周六             30.0             19.0       多云~晴  东南风2级   76   \n",
       "2019-09-29   周日             31.0             18.0          晴  东南风3级   78   \n",
       "2019-09-30   周一             32.0             17.0          晴  东南风3级   76   \n",
       "\n",
       "           aqi_status  \n",
       "date                   \n",
       "2019-09-01          良  \n",
       "2019-09-02          良  \n",
       "2019-09-03          良  \n",
       "2019-09-04          良  \n",
       "2019-09-05          良  \n",
       "2019-09-06          良  \n",
       "2019-09-07          良  \n",
       "2019-09-08          良  \n",
       "2019-09-09          良  \n",
       "2019-09-10          良  \n",
       "2019-09-11          优  \n",
       "2019-09-12          优  \n",
       "2019-09-13          优  \n",
       "2019-09-14          良  \n",
       "2019-09-15          优  \n",
       "2019-09-16          优  \n",
       "2019-09-17          优  \n",
       "2019-09-18          良  \n",
       "2019-09-19          良  \n",
       "2019-09-20          优  \n",
       "2019-09-21          良  \n",
       "2019-09-22          良  \n",
       "2019-09-23          良  \n",
       "2019-09-24          良  \n",
       "2019-09-25          良  \n",
       "2019-09-26          良  \n",
       "2019-09-27          良  \n",
       "2019-09-28          良  \n",
       "2019-09-29          良  \n",
       "2019-09-30          良  "
      ]
     },
     "execution_count": 18,
     "metadata": {},
     "output_type": "execute_result"
    }
   ],
   "source": [
    "# 编写自己的函数，查询9月份，空气质量好的数据\n",
    "def query_my_data(df):\n",
    "    return df.index.str.startswith(\"2019-09\") & (df[\"aqi\"] <= 100)\n",
    "df.loc[query_my_data, :]"
   ]
  },
  {
   "cell_type": "markdown",
   "metadata": {},
   "source": [
    "## 6、直接赋值的方法¶\n",
    "实例：清理温度列，变成数字类型"
   ]
  },
  {
   "cell_type": "code",
   "execution_count": 19,
   "metadata": {
    "ExecuteTime": {
     "end_time": "2020-08-23T03:33:19.260280Z",
     "start_time": "2020-08-23T03:33:19.251528Z"
    }
   },
   "outputs": [],
   "source": [
    "df['dif'] = df['max_temperature'] - df['min_temperature']"
   ]
  },
  {
   "cell_type": "code",
   "execution_count": 20,
   "metadata": {
    "ExecuteTime": {
     "end_time": "2020-08-23T03:33:19.275276Z",
     "start_time": "2020-08-23T03:33:19.262741Z"
    }
   },
   "outputs": [
    {
     "data": {
      "text/plain": [
       "date\n",
       "2017-01-01    NaN\n",
       "2017-01-02    NaN\n",
       "2017-01-03    NaN\n",
       "2017-01-04    7.0\n",
       "2017-01-05    4.0\n",
       "Name: dif, dtype: float64"
      ]
     },
     "execution_count": 20,
     "metadata": {},
     "output_type": "execute_result"
    }
   ],
   "source": [
    "df['dif'].head()"
   ]
  },
  {
   "cell_type": "code",
   "execution_count": 21,
   "metadata": {
    "ExecuteTime": {
     "end_time": "2020-08-23T03:33:19.287208Z",
     "start_time": "2020-08-23T03:33:19.277235Z"
    }
   },
   "outputs": [
    {
     "data": {
      "text/plain": [
       "Index(['week', 'max_temperature', 'min_temperature', 'day_status', 'wind',\n",
       "       'aqi', 'aqi_status', 'dif'],\n",
       "      dtype='object')"
      ]
     },
     "execution_count": 21,
     "metadata": {},
     "output_type": "execute_result"
    }
   ],
   "source": [
    "df.columns"
   ]
  },
  {
   "cell_type": "code",
   "execution_count": 22,
   "metadata": {
    "ExecuteTime": {
     "end_time": "2020-08-23T03:33:19.298304Z",
     "start_time": "2020-08-23T03:33:19.289202Z"
    }
   },
   "outputs": [
    {
     "data": {
      "text/plain": [
       "Index(['2017-01-01', '2017-01-02', '2017-01-03', '2017-01-04', '2017-01-05',\n",
       "       '2017-01-06', '2017-01-07', '2017-01-08', '2017-01-09', '2017-01-10',\n",
       "       ...\n",
       "       '2019-12-22', '2019-12-23', '2019-12-24', '2019-12-25', '2019-12-26',\n",
       "       '2019-12-27', '2019-12-28', '2019-12-29', '2019-12-30', '2019-12-31'],\n",
       "      dtype='object', name='date', length=1095)"
      ]
     },
     "execution_count": 22,
     "metadata": {},
     "output_type": "execute_result"
    }
   ],
   "source": [
    "df.index"
   ]
  },
  {
   "cell_type": "markdown",
   "metadata": {},
   "source": [
    "## 7、df.apply方法\n",
    "Apply a function along an axis of the DataFrame.\n",
    "\n",
    "Objects passed to the function are Series objects whose index is either the DataFrame’s index (axis=0) or the DataFrame’s columns (axis=1).\n",
    "\n",
    "实例：添加一列温度类型：\n",
    "\n",
    "- 如果最高温度大于33度就是高温\n",
    "- 低于-10度是低温\n",
    "- 否则是常温"
   ]
  },
  {
   "cell_type": "code",
   "execution_count": 23,
   "metadata": {
    "ExecuteTime": {
     "end_time": "2020-08-23T03:33:19.343437Z",
     "start_time": "2020-08-23T03:33:19.302243Z"
    }
   },
   "outputs": [],
   "source": [
    "# apply\n",
    "def get_temperature_type(df):\n",
    "    if df['max_temperature'] >= 33:\n",
    "        return '高温'\n",
    "    elif df['min_temperature'] <= -10:\n",
    "        return '低温'\n",
    "    return '常温'\n",
    "\n",
    "df['temp_type'] = df.apply(get_temperature_type, axis=1)"
   ]
  },
  {
   "cell_type": "code",
   "execution_count": 24,
   "metadata": {
    "ExecuteTime": {
     "end_time": "2020-08-23T03:33:19.353321Z",
     "start_time": "2020-08-23T03:33:19.346634Z"
    }
   },
   "outputs": [
    {
     "data": {
      "text/plain": [
       "常温    909\n",
       "高温    185\n",
       "低温      1\n",
       "Name: temp_type, dtype: int64"
      ]
     },
     "execution_count": 24,
     "metadata": {},
     "output_type": "execute_result"
    }
   ],
   "source": [
    "df['temp_type'].value_counts()"
   ]
  },
  {
   "cell_type": "code",
   "execution_count": 25,
   "metadata": {
    "ExecuteTime": {
     "end_time": "2020-08-23T03:33:19.376342Z",
     "start_time": "2020-08-23T03:33:19.354529Z"
    }
   },
   "outputs": [],
   "source": [
    "# apply 第二个方法\n",
    "df.loc[:, 'temp_type2'] = df.apply(lambda x : '高温' if x['max_temperature'] >= 33 else '低温' if x['min_temperature'] <= -10 else '常温', axis=1)"
   ]
  },
  {
   "cell_type": "code",
   "execution_count": 26,
   "metadata": {
    "ExecuteTime": {
     "end_time": "2020-08-23T03:33:19.386343Z",
     "start_time": "2020-08-23T03:33:19.378027Z"
    }
   },
   "outputs": [
    {
     "data": {
      "text/plain": [
       "常温    909\n",
       "高温    185\n",
       "低温      1\n",
       "Name: temp_type2, dtype: int64"
      ]
     },
     "execution_count": 26,
     "metadata": {},
     "output_type": "execute_result"
    }
   ],
   "source": [
    "df['temp_type2'].value_counts()\n"
   ]
  },
  {
   "cell_type": "markdown",
   "metadata": {},
   "source": [
    "## 8、df.assign方法\n",
    "Assign new columns to a DataFrame.\n",
    "\n",
    "Returns a new object with all original columns in addition to new ones.\n",
    "\n",
    "\n",
    "实例：将温度从摄氏度变成华氏度\n"
   ]
  },
  {
   "cell_type": "code",
   "execution_count": 27,
   "metadata": {
    "ExecuteTime": {
     "end_time": "2020-08-23T03:33:19.416460Z",
     "start_time": "2020-08-23T03:33:19.387304Z"
    }
   },
   "outputs": [
    {
     "data": {
      "text/html": [
       "<div>\n",
       "<style scoped>\n",
       "    .dataframe tbody tr th:only-of-type {\n",
       "        vertical-align: middle;\n",
       "    }\n",
       "\n",
       "    .dataframe tbody tr th {\n",
       "        vertical-align: top;\n",
       "    }\n",
       "\n",
       "    .dataframe thead th {\n",
       "        text-align: right;\n",
       "    }\n",
       "</style>\n",
       "<table border=\"1\" class=\"dataframe\">\n",
       "  <thead>\n",
       "    <tr style=\"text-align: right;\">\n",
       "      <th></th>\n",
       "      <th>week</th>\n",
       "      <th>max_temperature</th>\n",
       "      <th>min_temperature</th>\n",
       "      <th>day_status</th>\n",
       "      <th>wind</th>\n",
       "      <th>aqi</th>\n",
       "      <th>aqi_status</th>\n",
       "      <th>dif</th>\n",
       "      <th>temp_type</th>\n",
       "      <th>temp_type2</th>\n",
       "      <th>max_t</th>\n",
       "      <th>min_t</th>\n",
       "    </tr>\n",
       "    <tr>\n",
       "      <th>date</th>\n",
       "      <th></th>\n",
       "      <th></th>\n",
       "      <th></th>\n",
       "      <th></th>\n",
       "      <th></th>\n",
       "      <th></th>\n",
       "      <th></th>\n",
       "      <th></th>\n",
       "      <th></th>\n",
       "      <th></th>\n",
       "      <th></th>\n",
       "      <th></th>\n",
       "    </tr>\n",
       "  </thead>\n",
       "  <tbody>\n",
       "    <tr>\n",
       "      <th>2017-01-01</th>\n",
       "      <td>周日</td>\n",
       "      <td>NaN</td>\n",
       "      <td>NaN</td>\n",
       "      <td>多云</td>\n",
       "      <td>无持续风向微风</td>\n",
       "      <td>372</td>\n",
       "      <td>严重</td>\n",
       "      <td>NaN</td>\n",
       "      <td>常温</td>\n",
       "      <td>常温</td>\n",
       "      <td>NaN</td>\n",
       "      <td>NaN</td>\n",
       "    </tr>\n",
       "    <tr>\n",
       "      <th>2017-01-02</th>\n",
       "      <td>周一</td>\n",
       "      <td>NaN</td>\n",
       "      <td>NaN</td>\n",
       "      <td>霾</td>\n",
       "      <td>无持续风向微风</td>\n",
       "      <td>361</td>\n",
       "      <td>严重</td>\n",
       "      <td>NaN</td>\n",
       "      <td>常温</td>\n",
       "      <td>常温</td>\n",
       "      <td>NaN</td>\n",
       "      <td>NaN</td>\n",
       "    </tr>\n",
       "    <tr>\n",
       "      <th>2017-01-03</th>\n",
       "      <td>周二</td>\n",
       "      <td>NaN</td>\n",
       "      <td>NaN</td>\n",
       "      <td>霾~雾</td>\n",
       "      <td>无持续风向微风</td>\n",
       "      <td>280</td>\n",
       "      <td>重度</td>\n",
       "      <td>NaN</td>\n",
       "      <td>常温</td>\n",
       "      <td>常温</td>\n",
       "      <td>NaN</td>\n",
       "      <td>NaN</td>\n",
       "    </tr>\n",
       "    <tr>\n",
       "      <th>2017-01-04</th>\n",
       "      <td>周三</td>\n",
       "      <td>9.0</td>\n",
       "      <td>2.0</td>\n",
       "      <td>小雨</td>\n",
       "      <td>无持续风向微风</td>\n",
       "      <td>193</td>\n",
       "      <td>中度</td>\n",
       "      <td>7.0</td>\n",
       "      <td>常温</td>\n",
       "      <td>常温</td>\n",
       "      <td>48.2</td>\n",
       "      <td>35.6</td>\n",
       "    </tr>\n",
       "    <tr>\n",
       "      <th>2017-01-05</th>\n",
       "      <td>周四</td>\n",
       "      <td>5.0</td>\n",
       "      <td>1.0</td>\n",
       "      <td>小雨</td>\n",
       "      <td>无持续风向微风</td>\n",
       "      <td>216</td>\n",
       "      <td>重度</td>\n",
       "      <td>4.0</td>\n",
       "      <td>常温</td>\n",
       "      <td>常温</td>\n",
       "      <td>41.0</td>\n",
       "      <td>33.8</td>\n",
       "    </tr>\n",
       "    <tr>\n",
       "      <th>...</th>\n",
       "      <td>...</td>\n",
       "      <td>...</td>\n",
       "      <td>...</td>\n",
       "      <td>...</td>\n",
       "      <td>...</td>\n",
       "      <td>...</td>\n",
       "      <td>...</td>\n",
       "      <td>...</td>\n",
       "      <td>...</td>\n",
       "      <td>...</td>\n",
       "      <td>...</td>\n",
       "      <td>...</td>\n",
       "    </tr>\n",
       "    <tr>\n",
       "      <th>2019-12-27</th>\n",
       "      <td>周五</td>\n",
       "      <td>14.0</td>\n",
       "      <td>-2.0</td>\n",
       "      <td>晴~多云</td>\n",
       "      <td>西南风2级</td>\n",
       "      <td>55</td>\n",
       "      <td>良</td>\n",
       "      <td>16.0</td>\n",
       "      <td>常温</td>\n",
       "      <td>常温</td>\n",
       "      <td>57.2</td>\n",
       "      <td>28.4</td>\n",
       "    </tr>\n",
       "    <tr>\n",
       "      <th>2019-12-28</th>\n",
       "      <td>周六</td>\n",
       "      <td>NaN</td>\n",
       "      <td>NaN</td>\n",
       "      <td>阴~多云</td>\n",
       "      <td>西南风2级</td>\n",
       "      <td>80</td>\n",
       "      <td>良</td>\n",
       "      <td>NaN</td>\n",
       "      <td>常温</td>\n",
       "      <td>常温</td>\n",
       "      <td>NaN</td>\n",
       "      <td>NaN</td>\n",
       "    </tr>\n",
       "    <tr>\n",
       "      <th>2019-12-29</th>\n",
       "      <td>周日</td>\n",
       "      <td>NaN</td>\n",
       "      <td>NaN</td>\n",
       "      <td>多云~晴</td>\n",
       "      <td>西南风2级</td>\n",
       "      <td>116</td>\n",
       "      <td>轻度</td>\n",
       "      <td>NaN</td>\n",
       "      <td>常温</td>\n",
       "      <td>常温</td>\n",
       "      <td>NaN</td>\n",
       "      <td>NaN</td>\n",
       "    </tr>\n",
       "    <tr>\n",
       "      <th>2019-12-30</th>\n",
       "      <td>周一</td>\n",
       "      <td>5.0</td>\n",
       "      <td>-7.0</td>\n",
       "      <td>晴</td>\n",
       "      <td>东北风3级</td>\n",
       "      <td>131</td>\n",
       "      <td>轻度</td>\n",
       "      <td>12.0</td>\n",
       "      <td>常温</td>\n",
       "      <td>常温</td>\n",
       "      <td>41.0</td>\n",
       "      <td>19.4</td>\n",
       "    </tr>\n",
       "    <tr>\n",
       "      <th>2019-12-31</th>\n",
       "      <td>周二</td>\n",
       "      <td>1.0</td>\n",
       "      <td>-4.0</td>\n",
       "      <td>多云</td>\n",
       "      <td>东南风2级</td>\n",
       "      <td>48</td>\n",
       "      <td>优</td>\n",
       "      <td>5.0</td>\n",
       "      <td>常温</td>\n",
       "      <td>常温</td>\n",
       "      <td>33.8</td>\n",
       "      <td>24.8</td>\n",
       "    </tr>\n",
       "  </tbody>\n",
       "</table>\n",
       "<p>1095 rows × 12 columns</p>\n",
       "</div>"
      ],
      "text/plain": [
       "           week  max_temperature  min_temperature day_status     wind  aqi  \\\n",
       "date                                                                         \n",
       "2017-01-01   周日              NaN              NaN         多云  无持续风向微风  372   \n",
       "2017-01-02   周一              NaN              NaN          霾  无持续风向微风  361   \n",
       "2017-01-03   周二              NaN              NaN        霾~雾  无持续风向微风  280   \n",
       "2017-01-04   周三              9.0              2.0         小雨  无持续风向微风  193   \n",
       "2017-01-05   周四              5.0              1.0         小雨  无持续风向微风  216   \n",
       "...         ...              ...              ...        ...      ...  ...   \n",
       "2019-12-27   周五             14.0             -2.0       晴~多云    西南风2级   55   \n",
       "2019-12-28   周六              NaN              NaN       阴~多云    西南风2级   80   \n",
       "2019-12-29   周日              NaN              NaN       多云~晴    西南风2级  116   \n",
       "2019-12-30   周一              5.0             -7.0          晴    东北风3级  131   \n",
       "2019-12-31   周二              1.0             -4.0         多云    东南风2级   48   \n",
       "\n",
       "           aqi_status   dif temp_type temp_type2  max_t  min_t  \n",
       "date                                                            \n",
       "2017-01-01         严重   NaN        常温         常温    NaN    NaN  \n",
       "2017-01-02         严重   NaN        常温         常温    NaN    NaN  \n",
       "2017-01-03         重度   NaN        常温         常温    NaN    NaN  \n",
       "2017-01-04         中度   7.0        常温         常温   48.2   35.6  \n",
       "2017-01-05         重度   4.0        常温         常温   41.0   33.8  \n",
       "...               ...   ...       ...        ...    ...    ...  \n",
       "2019-12-27          良  16.0        常温         常温   57.2   28.4  \n",
       "2019-12-28          良   NaN        常温         常温    NaN    NaN  \n",
       "2019-12-29         轻度   NaN        常温         常温    NaN    NaN  \n",
       "2019-12-30         轻度  12.0        常温         常温   41.0   19.4  \n",
       "2019-12-31          优   5.0        常温         常温   33.8   24.8  \n",
       "\n",
       "[1095 rows x 12 columns]"
      ]
     },
     "execution_count": 27,
     "metadata": {},
     "output_type": "execute_result"
    }
   ],
   "source": [
    "# assign 返回一个新对象 同时添加多列\n",
    "df.assign(\n",
    "    # 华氏摄氏度\n",
    "    max_t = lambda x: x['max_temperature'] * 9 / 5 + 32,\n",
    "    min_t = lambda x: x['min_temperature'] * 9 / 5 + 32,\n",
    ")"
   ]
  },
  {
   "cell_type": "markdown",
   "metadata": {},
   "source": [
    "## 9、按条件选择分组分别赋值\n",
    "\n",
    "按条件先选择数据，然后对这部分数据赋值新列\n",
    "实例：高低温差大于10度，则认为温差大"
   ]
  },
  {
   "cell_type": "code",
   "execution_count": 28,
   "metadata": {
    "ExecuteTime": {
     "end_time": "2020-08-23T03:33:19.425831Z",
     "start_time": "2020-08-23T03:33:19.417345Z"
    }
   },
   "outputs": [],
   "source": [
    "# wen cha\n",
    "# 先创建空列 可以不先创建\n",
    "df['wencha_type'] = ''"
   ]
  },
  {
   "cell_type": "code",
   "execution_count": 29,
   "metadata": {
    "ExecuteTime": {
     "end_time": "2020-08-23T03:33:19.439308Z",
     "start_time": "2020-08-23T03:33:19.427689Z"
    }
   },
   "outputs": [],
   "source": [
    "# 筛选满足条件的行，然后赋值\n",
    "df.loc[(df['max_temperature'] - df['min_temperature']) > 10, 'wencha_type'] = '温差大'\n",
    "df.loc[(df['max_temperature'] - df['min_temperature']) <= 10, 'wencha_type'] = '温差小'"
   ]
  },
  {
   "cell_type": "code",
   "execution_count": 30,
   "metadata": {
    "ExecuteTime": {
     "end_time": "2020-08-23T03:33:19.453143Z",
     "start_time": "2020-08-23T03:33:19.441248Z"
    }
   },
   "outputs": [
    {
     "data": {
      "text/plain": [
       "温差小    600\n",
       "温差大    455\n",
       "        40\n",
       "Name: wencha_type, dtype: int64"
      ]
     },
     "execution_count": 30,
     "metadata": {},
     "output_type": "execute_result"
    }
   ],
   "source": [
    "df['wencha_type'].value_counts()"
   ]
  },
  {
   "cell_type": "markdown",
   "metadata": {},
   "source": [
    "## 10 统计函数"
   ]
  },
  {
   "cell_type": "markdown",
   "metadata": {},
   "source": [
    "### 10.1汇总类统计函数\n"
   ]
  },
  {
   "cell_type": "code",
   "execution_count": 31,
   "metadata": {
    "ExecuteTime": {
     "end_time": "2020-08-23T03:33:19.479099Z",
     "start_time": "2020-08-23T03:33:19.454120Z"
    }
   },
   "outputs": [
    {
     "data": {
      "text/html": [
       "<div>\n",
       "<style scoped>\n",
       "    .dataframe tbody tr th:only-of-type {\n",
       "        vertical-align: middle;\n",
       "    }\n",
       "\n",
       "    .dataframe tbody tr th {\n",
       "        vertical-align: top;\n",
       "    }\n",
       "\n",
       "    .dataframe thead th {\n",
       "        text-align: right;\n",
       "    }\n",
       "</style>\n",
       "<table border=\"1\" class=\"dataframe\">\n",
       "  <thead>\n",
       "    <tr style=\"text-align: right;\">\n",
       "      <th></th>\n",
       "      <th>max_temperature</th>\n",
       "      <th>min_temperature</th>\n",
       "      <th>aqi</th>\n",
       "      <th>dif</th>\n",
       "    </tr>\n",
       "  </thead>\n",
       "  <tbody>\n",
       "    <tr>\n",
       "      <th>count</th>\n",
       "      <td>1055.000000</td>\n",
       "      <td>1055.000000</td>\n",
       "      <td>1095.000000</td>\n",
       "      <td>1055.000000</td>\n",
       "    </tr>\n",
       "    <tr>\n",
       "      <th>mean</th>\n",
       "      <td>21.766825</td>\n",
       "      <td>11.885308</td>\n",
       "      <td>104.319635</td>\n",
       "      <td>9.881517</td>\n",
       "    </tr>\n",
       "    <tr>\n",
       "      <th>std</th>\n",
       "      <td>10.458676</td>\n",
       "      <td>10.037459</td>\n",
       "      <td>60.200473</td>\n",
       "      <td>3.098661</td>\n",
       "    </tr>\n",
       "    <tr>\n",
       "      <th>min</th>\n",
       "      <td>-2.000000</td>\n",
       "      <td>-10.000000</td>\n",
       "      <td>20.000000</td>\n",
       "      <td>2.000000</td>\n",
       "    </tr>\n",
       "    <tr>\n",
       "      <th>25%</th>\n",
       "      <td>13.000000</td>\n",
       "      <td>3.000000</td>\n",
       "      <td>66.500000</td>\n",
       "      <td>8.000000</td>\n",
       "    </tr>\n",
       "    <tr>\n",
       "      <th>50%</th>\n",
       "      <td>23.000000</td>\n",
       "      <td>13.000000</td>\n",
       "      <td>86.000000</td>\n",
       "      <td>10.000000</td>\n",
       "    </tr>\n",
       "    <tr>\n",
       "      <th>75%</th>\n",
       "      <td>31.000000</td>\n",
       "      <td>21.000000</td>\n",
       "      <td>119.500000</td>\n",
       "      <td>12.000000</td>\n",
       "    </tr>\n",
       "    <tr>\n",
       "      <th>max</th>\n",
       "      <td>39.000000</td>\n",
       "      <td>29.000000</td>\n",
       "      <td>422.000000</td>\n",
       "      <td>20.000000</td>\n",
       "    </tr>\n",
       "  </tbody>\n",
       "</table>\n",
       "</div>"
      ],
      "text/plain": [
       "       max_temperature  min_temperature          aqi          dif\n",
       "count      1055.000000      1055.000000  1095.000000  1055.000000\n",
       "mean         21.766825        11.885308   104.319635     9.881517\n",
       "std          10.458676        10.037459    60.200473     3.098661\n",
       "min          -2.000000       -10.000000    20.000000     2.000000\n",
       "25%          13.000000         3.000000    66.500000     8.000000\n",
       "50%          23.000000        13.000000    86.000000    10.000000\n",
       "75%          31.000000        21.000000   119.500000    12.000000\n",
       "max          39.000000        29.000000   422.000000    20.000000"
      ]
     },
     "execution_count": 31,
     "metadata": {},
     "output_type": "execute_result"
    }
   ],
   "source": [
    "# 展示数字列的统计结果\n",
    "# count 计数\n",
    "# mean  平均值\n",
    "# std   标准差\n",
    "# min   最小值\n",
    "# max   最大值\n",
    "# xx%   不同位置的百分比数值\n",
    "# 50%    中位数\n",
    "df.describe()"
   ]
  },
  {
   "cell_type": "code",
   "execution_count": 32,
   "metadata": {
    "ExecuteTime": {
     "end_time": "2020-08-23T03:33:19.488229Z",
     "start_time": "2020-08-23T03:33:19.481248Z"
    }
   },
   "outputs": [
    {
     "data": {
      "text/plain": [
       "21.766824644549764"
      ]
     },
     "execution_count": 32,
     "metadata": {},
     "output_type": "execute_result"
    }
   ],
   "source": [
    "# 查看Series平均值\n",
    "df['max_temperature'].mean()"
   ]
  },
  {
   "cell_type": "code",
   "execution_count": 33,
   "metadata": {
    "ExecuteTime": {
     "end_time": "2020-08-23T03:33:19.504272Z",
     "start_time": "2020-08-23T03:33:19.489226Z"
    }
   },
   "outputs": [
    {
     "data": {
      "text/plain": [
       "39.0"
      ]
     },
     "execution_count": 33,
     "metadata": {},
     "output_type": "execute_result"
    }
   ],
   "source": [
    "# 最高温\n",
    "df['max_temperature'].max()"
   ]
  },
  {
   "cell_type": "code",
   "execution_count": 34,
   "metadata": {
    "ExecuteTime": {
     "end_time": "2020-08-23T03:33:19.516236Z",
     "start_time": "2020-08-23T03:33:19.505335Z"
    }
   },
   "outputs": [
    {
     "data": {
      "text/plain": [
       "-2.0"
      ]
     },
     "execution_count": 34,
     "metadata": {},
     "output_type": "execute_result"
    }
   ],
   "source": [
    "# 最低温\n",
    "df['max_temperature'].min()"
   ]
  },
  {
   "cell_type": "markdown",
   "metadata": {},
   "source": [
    "### 10.2唯一性去重和按值计数"
   ]
  },
  {
   "cell_type": "markdown",
   "metadata": {},
   "source": [
    "#### 10.2.1唯一性去重\n",
    "\n",
    "一般不用于数值类列，而是枚举，分类列"
   ]
  },
  {
   "cell_type": "code",
   "execution_count": 35,
   "metadata": {
    "ExecuteTime": {
     "end_time": "2020-08-23T03:33:19.536145Z",
     "start_time": "2020-08-23T03:33:19.518237Z"
    }
   },
   "outputs": [
    {
     "data": {
      "text/html": [
       "<div>\n",
       "<style scoped>\n",
       "    .dataframe tbody tr th:only-of-type {\n",
       "        vertical-align: middle;\n",
       "    }\n",
       "\n",
       "    .dataframe tbody tr th {\n",
       "        vertical-align: top;\n",
       "    }\n",
       "\n",
       "    .dataframe thead th {\n",
       "        text-align: right;\n",
       "    }\n",
       "</style>\n",
       "<table border=\"1\" class=\"dataframe\">\n",
       "  <thead>\n",
       "    <tr style=\"text-align: right;\">\n",
       "      <th></th>\n",
       "      <th>week</th>\n",
       "      <th>max_temperature</th>\n",
       "      <th>min_temperature</th>\n",
       "      <th>day_status</th>\n",
       "      <th>wind</th>\n",
       "      <th>aqi</th>\n",
       "      <th>aqi_status</th>\n",
       "      <th>dif</th>\n",
       "      <th>temp_type</th>\n",
       "      <th>temp_type2</th>\n",
       "      <th>wencha_type</th>\n",
       "    </tr>\n",
       "    <tr>\n",
       "      <th>date</th>\n",
       "      <th></th>\n",
       "      <th></th>\n",
       "      <th></th>\n",
       "      <th></th>\n",
       "      <th></th>\n",
       "      <th></th>\n",
       "      <th></th>\n",
       "      <th></th>\n",
       "      <th></th>\n",
       "      <th></th>\n",
       "      <th></th>\n",
       "    </tr>\n",
       "  </thead>\n",
       "  <tbody>\n",
       "    <tr>\n",
       "      <th>2017-01-01</th>\n",
       "      <td>周日</td>\n",
       "      <td>NaN</td>\n",
       "      <td>NaN</td>\n",
       "      <td>多云</td>\n",
       "      <td>无持续风向微风</td>\n",
       "      <td>372</td>\n",
       "      <td>严重</td>\n",
       "      <td>NaN</td>\n",
       "      <td>常温</td>\n",
       "      <td>常温</td>\n",
       "      <td></td>\n",
       "    </tr>\n",
       "    <tr>\n",
       "      <th>2017-01-02</th>\n",
       "      <td>周一</td>\n",
       "      <td>NaN</td>\n",
       "      <td>NaN</td>\n",
       "      <td>霾</td>\n",
       "      <td>无持续风向微风</td>\n",
       "      <td>361</td>\n",
       "      <td>严重</td>\n",
       "      <td>NaN</td>\n",
       "      <td>常温</td>\n",
       "      <td>常温</td>\n",
       "      <td></td>\n",
       "    </tr>\n",
       "    <tr>\n",
       "      <th>2017-01-03</th>\n",
       "      <td>周二</td>\n",
       "      <td>NaN</td>\n",
       "      <td>NaN</td>\n",
       "      <td>霾~雾</td>\n",
       "      <td>无持续风向微风</td>\n",
       "      <td>280</td>\n",
       "      <td>重度</td>\n",
       "      <td>NaN</td>\n",
       "      <td>常温</td>\n",
       "      <td>常温</td>\n",
       "      <td></td>\n",
       "    </tr>\n",
       "  </tbody>\n",
       "</table>\n",
       "</div>"
      ],
      "text/plain": [
       "           week  max_temperature  min_temperature day_status     wind  aqi  \\\n",
       "date                                                                         \n",
       "2017-01-01   周日              NaN              NaN         多云  无持续风向微风  372   \n",
       "2017-01-02   周一              NaN              NaN          霾  无持续风向微风  361   \n",
       "2017-01-03   周二              NaN              NaN        霾~雾  无持续风向微风  280   \n",
       "\n",
       "           aqi_status  dif temp_type temp_type2 wencha_type  \n",
       "date                                                         \n",
       "2017-01-01         严重  NaN        常温         常温              \n",
       "2017-01-02         严重  NaN        常温         常温              \n",
       "2017-01-03         重度  NaN        常温         常温              "
      ]
     },
     "execution_count": 35,
     "metadata": {},
     "output_type": "execute_result"
    }
   ],
   "source": [
    "df.head(3)"
   ]
  },
  {
   "cell_type": "code",
   "execution_count": 36,
   "metadata": {
    "ExecuteTime": {
     "end_time": "2020-08-23T03:33:19.549114Z",
     "start_time": "2020-08-23T03:33:19.537486Z"
    }
   },
   "outputs": [
    {
     "data": {
      "text/plain": [
       "array(['多云', '霾', '霾~雾', '小雨', '阵雨~多云', '晴', '阴~多云', '多云~阴', '晴~多云',\n",
       "       '多云~晴', '小雨~雨夹雪', '阴', '雨夹雪~多云', '阴~小雪', '阴~雨夹雪', '暴雪~小雪', '小雨~多云',\n",
       "       '小雨~阴', '多云~小雨', '中雨~小雨', '阵雨', '阵雨~阴', '晴~阴', '多云~阵雨', '阴~阵雨',\n",
       "       '小雨~大雨', '大雨~小雨', '晴~雷阵雨', '雷阵雨~阴', '雷阵雨~多云', '雷阵雨~中雨', '雷阵雨',\n",
       "       '雷阵雨~阵雨', '大雨~阴', '小雨~中雨', '中雨', '阵雨~小雨', '阴~小雨', '多云~小雪', '小雪~阴',\n",
       "       '小雪~大雪', '大雪~阴', '中雪~小雪', '小雪~中雪', '小雪~多云', '小雨~阵雨', '阵雨~中雨',\n",
       "       '中雨~阵雨', '中雨~大雨', '大雨', '小雨~晴', '晴~小雨', '雨夹雪~阴', '中雨~雨夹雪', '小雪',\n",
       "       '小雨~暴雨', '中雨~多云'], dtype=object)"
      ]
     },
     "execution_count": 36,
     "metadata": {},
     "output_type": "execute_result"
    }
   ],
   "source": [
    "df['day_status'].unique()"
   ]
  },
  {
   "cell_type": "code",
   "execution_count": 37,
   "metadata": {
    "ExecuteTime": {
     "end_time": "2020-08-23T03:33:19.560409Z",
     "start_time": "2020-08-23T03:33:19.552370Z"
    }
   },
   "outputs": [
    {
     "data": {
      "text/plain": [
       "array(['无持续风向微风', '西北风3-4级', '北风4-5级', '东北风3-4级', '西南风1-2级', '南风3-4级',\n",
       "       '东北风4-5级', '西北风4-5级', '东南风1-2级', '南风1-2级', '东北风1-2级', '东风1-2级',\n",
       "       '西风1-2级', '西南风3-4级', '西风3-4级', '北风3-4级', '东风3-4级', '北风1-2级',\n",
       "       '西北风1-2级', '东南风3-4级', '西风4-5级', '西北风5-6级', '南风4-5级', '东北风5-6级',\n",
       "       '西风5-6级', '西北风3级', '西南风2级', '东南风2级', '西北风2级', '西南风1级', '东北风2级',\n",
       "       '东北风1级', '西北风1级', '东北风3级', '东南风1级', '西北风4级', '西南风3级', '东北风4级',\n",
       "       '东南风3级', '西风3级', '西南风4级', '南风3级', '南风2级'], dtype=object)"
      ]
     },
     "execution_count": 37,
     "metadata": {},
     "output_type": "execute_result"
    }
   ],
   "source": [
    "df['wind'].unique()"
   ]
  },
  {
   "cell_type": "code",
   "execution_count": 38,
   "metadata": {
    "ExecuteTime": {
     "end_time": "2020-08-23T03:33:19.573329Z",
     "start_time": "2020-08-23T03:33:19.561360Z"
    }
   },
   "outputs": [
    {
     "data": {
      "text/plain": [
       "array(['严重', '重度', '中度', '轻度', '良', '优'], dtype=object)"
      ]
     },
     "execution_count": 38,
     "metadata": {},
     "output_type": "execute_result"
    }
   ],
   "source": [
    "df['aqi_status'].unique()"
   ]
  },
  {
   "cell_type": "markdown",
   "metadata": {},
   "source": [
    "#### 10.2.2按值计数"
   ]
  },
  {
   "cell_type": "code",
   "execution_count": 39,
   "metadata": {
    "ExecuteTime": {
     "end_time": "2020-08-23T03:33:19.588835Z",
     "start_time": "2020-08-23T03:33:19.574349Z"
    },
    "scrolled": true
   },
   "outputs": [
    {
     "data": {
      "text/plain": [
       "良     628\n",
       "轻度    224\n",
       "优      76\n",
       "重度     76\n",
       "中度     71\n",
       "严重     20\n",
       "Name: aqi_status, dtype: int64"
      ]
     },
     "execution_count": 39,
     "metadata": {},
     "output_type": "execute_result"
    }
   ],
   "source": [
    "df['aqi_status'].value_counts()"
   ]
  },
  {
   "cell_type": "code",
   "execution_count": 40,
   "metadata": {
    "ExecuteTime": {
     "end_time": "2020-08-23T03:33:19.605247Z",
     "start_time": "2020-08-23T03:33:19.589766Z"
    },
    "scrolled": true
   },
   "outputs": [
    {
     "data": {
      "text/plain": [
       "多云        0.239269\n",
       "晴         0.199087\n",
       "晴~多云      0.094977\n",
       "多云~晴      0.080365\n",
       "多云~阴      0.062100\n",
       "阴~多云      0.051142\n",
       "小雨        0.050228\n",
       "多云~小雨     0.027397\n",
       "阴         0.025571\n",
       "小雨~多云     0.023744\n",
       "阴~小雨      0.014612\n",
       "小雨~阴      0.013699\n",
       "阵雨        0.011872\n",
       "阵雨~多云     0.010046\n",
       "多云~阵雨     0.009132\n",
       "小雨~中雨     0.007306\n",
       "中雨~小雨     0.007306\n",
       "小雪~多云     0.005479\n",
       "中雨        0.004566\n",
       "多云~小雪     0.004566\n",
       "小雨~大雨     0.004566\n",
       "雷阵雨       0.003653\n",
       "阵雨~小雨     0.003653\n",
       "雷阵雨~中雨    0.002740\n",
       "阴~阵雨      0.002740\n",
       "阴~小雪      0.002740\n",
       "阵雨~阴      0.002740\n",
       "晴~雷阵雨     0.002740\n",
       "小雨~阵雨     0.001826\n",
       "晴~阴       0.001826\n",
       "小雪~阴      0.001826\n",
       "雨夹雪~多云    0.001826\n",
       "阴~雨夹雪     0.001826\n",
       "雷阵雨~阴     0.001826\n",
       "小雨~雨夹雪    0.000913\n",
       "霾~雾       0.000913\n",
       "雷阵雨~阵雨    0.000913\n",
       "小雨~暴雨     0.000913\n",
       "小雪        0.000913\n",
       "阵雨~中雨     0.000913\n",
       "大雨        0.000913\n",
       "霾         0.000913\n",
       "暴雪~小雪     0.000913\n",
       "大雨~阴      0.000913\n",
       "小雪~大雪     0.000913\n",
       "晴~小雨      0.000913\n",
       "中雨~雨夹雪    0.000913\n",
       "小雪~中雪     0.000913\n",
       "中雨~阵雨     0.000913\n",
       "雷阵雨~多云    0.000913\n",
       "中雨~多云     0.000913\n",
       "雨夹雪~阴     0.000913\n",
       "中雪~小雪     0.000913\n",
       "大雪~阴      0.000913\n",
       "大雨~小雨     0.000913\n",
       "中雨~大雨     0.000913\n",
       "小雨~晴      0.000913\n",
       "Name: day_status, dtype: float64"
      ]
     },
     "execution_count": 40,
     "metadata": {},
     "output_type": "execute_result"
    }
   ],
   "source": [
    "# 百分比显示 normalize\n",
    "df['day_status'].value_counts(normalize=True)"
   ]
  },
  {
   "cell_type": "markdown",
   "metadata": {},
   "source": [
    "##  11、相关系数和协方差\n",
    "\n",
    "用途（超级厉害）：\n",
    "\n",
    "1. 两只股票，是不是同涨同跌？程度多大？正相关还是负相关？\n",
    "2. 产品销量的波动，跟哪些因素正相关、负相关，程度有多大？\n",
    "\n",
    "来自知乎，对于两个变量X、Y：\n",
    "\n",
    "1. 协方差：***衡量同向反向程度\\***，如果协方差为正，说明X，Y同向变化，协方差越大说明同向程度越高；如果协方差为负，说明X，Y反向运动，协方差越小说明反向程度越高。\n",
    "2. 相关系数：***衡量相似度程度\\***，当他们的相关系数为1时，说明两个变量变化时的正向相似度最大，当相关系数为－1时，说明两个变量变化的反向相似度最大\n"
   ]
  },
  {
   "cell_type": "code",
   "execution_count": 41,
   "metadata": {
    "ExecuteTime": {
     "end_time": "2020-08-23T03:33:19.630173Z",
     "start_time": "2020-08-23T03:33:19.607230Z"
    }
   },
   "outputs": [
    {
     "data": {
      "text/html": [
       "<div>\n",
       "<style scoped>\n",
       "    .dataframe tbody tr th:only-of-type {\n",
       "        vertical-align: middle;\n",
       "    }\n",
       "\n",
       "    .dataframe tbody tr th {\n",
       "        vertical-align: top;\n",
       "    }\n",
       "\n",
       "    .dataframe thead th {\n",
       "        text-align: right;\n",
       "    }\n",
       "</style>\n",
       "<table border=\"1\" class=\"dataframe\">\n",
       "  <thead>\n",
       "    <tr style=\"text-align: right;\">\n",
       "      <th></th>\n",
       "      <th>max_temperature</th>\n",
       "      <th>min_temperature</th>\n",
       "      <th>aqi</th>\n",
       "      <th>dif</th>\n",
       "    </tr>\n",
       "  </thead>\n",
       "  <tbody>\n",
       "    <tr>\n",
       "      <th>max_temperature</th>\n",
       "      <td>109.383908</td>\n",
       "      <td>100.266400</td>\n",
       "      <td>-219.976416</td>\n",
       "      <td>9.117508</td>\n",
       "    </tr>\n",
       "    <tr>\n",
       "      <th>min_temperature</th>\n",
       "      <td>100.266400</td>\n",
       "      <td>100.750590</td>\n",
       "      <td>-254.507379</td>\n",
       "      <td>-0.484190</td>\n",
       "    </tr>\n",
       "    <tr>\n",
       "      <th>aqi</th>\n",
       "      <td>-219.976416</td>\n",
       "      <td>-254.507379</td>\n",
       "      <td>3624.097009</td>\n",
       "      <td>34.530963</td>\n",
       "    </tr>\n",
       "    <tr>\n",
       "      <th>dif</th>\n",
       "      <td>9.117508</td>\n",
       "      <td>-0.484190</td>\n",
       "      <td>34.530963</td>\n",
       "      <td>9.601698</td>\n",
       "    </tr>\n",
       "  </tbody>\n",
       "</table>\n",
       "</div>"
      ],
      "text/plain": [
       "                 max_temperature  min_temperature          aqi        dif\n",
       "max_temperature       109.383908       100.266400  -219.976416   9.117508\n",
       "min_temperature       100.266400       100.750590  -254.507379  -0.484190\n",
       "aqi                  -219.976416      -254.507379  3624.097009  34.530963\n",
       "dif                     9.117508        -0.484190    34.530963   9.601698"
      ]
     },
     "execution_count": 41,
     "metadata": {},
     "output_type": "execute_result"
    }
   ],
   "source": [
    "# 协方差矩阵\n",
    "df.cov()"
   ]
  },
  {
   "cell_type": "code",
   "execution_count": 42,
   "metadata": {
    "ExecuteTime": {
     "end_time": "2020-08-23T03:33:19.646716Z",
     "start_time": "2020-08-23T03:33:19.631169Z"
    }
   },
   "outputs": [
    {
     "data": {
      "text/html": [
       "<div>\n",
       "<style scoped>\n",
       "    .dataframe tbody tr th:only-of-type {\n",
       "        vertical-align: middle;\n",
       "    }\n",
       "\n",
       "    .dataframe tbody tr th {\n",
       "        vertical-align: top;\n",
       "    }\n",
       "\n",
       "    .dataframe thead th {\n",
       "        text-align: right;\n",
       "    }\n",
       "</style>\n",
       "<table border=\"1\" class=\"dataframe\">\n",
       "  <thead>\n",
       "    <tr style=\"text-align: right;\">\n",
       "      <th></th>\n",
       "      <th>max_temperature</th>\n",
       "      <th>min_temperature</th>\n",
       "      <th>aqi</th>\n",
       "      <th>dif</th>\n",
       "    </tr>\n",
       "  </thead>\n",
       "  <tbody>\n",
       "    <tr>\n",
       "      <th>max_temperature</th>\n",
       "      <td>1.000000</td>\n",
       "      <td>0.955113</td>\n",
       "      <td>-0.367766</td>\n",
       "      <td>0.281336</td>\n",
       "    </tr>\n",
       "    <tr>\n",
       "      <th>min_temperature</th>\n",
       "      <td>0.955113</td>\n",
       "      <td>1.000000</td>\n",
       "      <td>-0.443352</td>\n",
       "      <td>-0.015567</td>\n",
       "    </tr>\n",
       "    <tr>\n",
       "      <th>aqi</th>\n",
       "      <td>-0.367766</td>\n",
       "      <td>-0.443352</td>\n",
       "      <td>1.000000</td>\n",
       "      <td>0.194853</td>\n",
       "    </tr>\n",
       "    <tr>\n",
       "      <th>dif</th>\n",
       "      <td>0.281336</td>\n",
       "      <td>-0.015567</td>\n",
       "      <td>0.194853</td>\n",
       "      <td>1.000000</td>\n",
       "    </tr>\n",
       "  </tbody>\n",
       "</table>\n",
       "</div>"
      ],
      "text/plain": [
       "                 max_temperature  min_temperature       aqi       dif\n",
       "max_temperature         1.000000         0.955113 -0.367766  0.281336\n",
       "min_temperature         0.955113         1.000000 -0.443352 -0.015567\n",
       "aqi                    -0.367766        -0.443352  1.000000  0.194853\n",
       "dif                     0.281336        -0.015567  0.194853  1.000000"
      ]
     },
     "execution_count": 42,
     "metadata": {},
     "output_type": "execute_result"
    }
   ],
   "source": [
    "# 相关系数矩阵\n",
    "df.corr()"
   ]
  },
  {
   "cell_type": "code",
   "execution_count": 43,
   "metadata": {
    "ExecuteTime": {
     "end_time": "2020-08-23T03:33:19.670496Z",
     "start_time": "2020-08-23T03:33:19.648639Z"
    }
   },
   "outputs": [
    {
     "data": {
      "text/plain": [
       "-0.36776569069963444"
      ]
     },
     "execution_count": 43,
     "metadata": {},
     "output_type": "execute_result"
    }
   ],
   "source": [
    "# 单独查看空气质量和最高温度的相关系数\n",
    "df['aqi'].corr(df['max_temperature'])"
   ]
  },
  {
   "cell_type": "code",
   "execution_count": 44,
   "metadata": {
    "ExecuteTime": {
     "end_time": "2020-08-23T03:33:19.677557Z",
     "start_time": "2020-08-23T03:33:19.671511Z"
    }
   },
   "outputs": [
    {
     "data": {
      "text/plain": [
       "-0.44335170726841794"
      ]
     },
     "execution_count": 44,
     "metadata": {},
     "output_type": "execute_result"
    }
   ],
   "source": [
    "df['aqi'].corr(df['min_temperature'])"
   ]
  },
  {
   "cell_type": "code",
   "execution_count": 45,
   "metadata": {
    "ExecuteTime": {
     "end_time": "2020-08-23T03:33:19.688740Z",
     "start_time": "2020-08-23T03:33:19.679475Z"
    }
   },
   "outputs": [
    {
     "data": {
      "text/plain": [
       "0.1948527230549141"
      ]
     },
     "execution_count": 45,
     "metadata": {},
     "output_type": "execute_result"
    }
   ],
   "source": [
    "# 空气质量和温差的相关系数\n",
    "df['aqi'].corr(df['max_temperature'] - df['min_temperature'])"
   ]
  },
  {
   "cell_type": "markdown",
   "metadata": {},
   "source": [
    "## 12、数据清洗"
   ]
  },
  {
   "cell_type": "markdown",
   "metadata": {},
   "source": [
    "Pandas使用这些函数处理缺失值：\n",
    "\n",
    "- isnull和notnull：检测是否是空值，可用于df和series\n",
    "- dropna：丢弃、删除缺失值\n",
    "  - axis : 删除行还是列，{0 or ‘index’, 1 or ‘columns’}, default 0\n",
    "  - how : 如果等于any则任何值为空都删除，如果等于all则所有值都为空才删除\n",
    "  - inplace : 如果为True则修改当前df，否则返回新的df\n",
    "- fillna：填充空值\n",
    "  - value：用于填充的值，可以是单个值，或者字典（key是列名，value是值）\n",
    "  - method : 等于ffill使用前一个不为空的值填充forword fill；等于bfill使用后一个不为空的值填充backword fill\n",
    "  - axis : 按行还是列填充，{0 or ‘index’, 1 or ‘columns’}\n",
    "  - inplace : 如果为True则修改当前df，否则返回新的df"
   ]
  },
  {
   "cell_type": "markdown",
   "metadata": {},
   "source": [
    "### 12.1实例：特殊Excel的读取、清洗、处理"
   ]
  },
  {
   "cell_type": "markdown",
   "metadata": {},
   "source": [
    "<img src=\"https://cdn.jsdelivr.net/gh/wfy-belief/PicGo-images//blog/20200818182415.png\" style=\"zoom:50%;\" />"
   ]
  },
  {
   "cell_type": "markdown",
   "metadata": {},
   "source": [
    "### 步骤1：读取excel的时候，忽略前几个空行"
   ]
  },
  {
   "cell_type": "code",
   "execution_count": 46,
   "metadata": {
    "ExecuteTime": {
     "end_time": "2020-08-23T03:33:19.708326Z",
     "start_time": "2020-08-23T03:33:19.690605Z"
    }
   },
   "outputs": [],
   "source": [
    "tmp_data = pd.read_excel('./student_excel.xlsx', skiprows=2)"
   ]
  },
  {
   "cell_type": "code",
   "execution_count": 47,
   "metadata": {
    "ExecuteTime": {
     "end_time": "2020-08-23T03:33:19.721788Z",
     "start_time": "2020-08-23T03:33:19.711168Z"
    }
   },
   "outputs": [
    {
     "data": {
      "text/html": [
       "<div>\n",
       "<style scoped>\n",
       "    .dataframe tbody tr th:only-of-type {\n",
       "        vertical-align: middle;\n",
       "    }\n",
       "\n",
       "    .dataframe tbody tr th {\n",
       "        vertical-align: top;\n",
       "    }\n",
       "\n",
       "    .dataframe thead th {\n",
       "        text-align: right;\n",
       "    }\n",
       "</style>\n",
       "<table border=\"1\" class=\"dataframe\">\n",
       "  <thead>\n",
       "    <tr style=\"text-align: right;\">\n",
       "      <th></th>\n",
       "      <th>Unnamed: 0</th>\n",
       "      <th>姓名</th>\n",
       "      <th>科目</th>\n",
       "      <th>分数</th>\n",
       "    </tr>\n",
       "  </thead>\n",
       "  <tbody>\n",
       "    <tr>\n",
       "      <th>0</th>\n",
       "      <td>NaN</td>\n",
       "      <td>小明</td>\n",
       "      <td>语文</td>\n",
       "      <td>85.0</td>\n",
       "    </tr>\n",
       "    <tr>\n",
       "      <th>1</th>\n",
       "      <td>NaN</td>\n",
       "      <td>NaN</td>\n",
       "      <td>数学</td>\n",
       "      <td>80.0</td>\n",
       "    </tr>\n",
       "    <tr>\n",
       "      <th>2</th>\n",
       "      <td>NaN</td>\n",
       "      <td>NaN</td>\n",
       "      <td>英语</td>\n",
       "      <td>90.0</td>\n",
       "    </tr>\n",
       "    <tr>\n",
       "      <th>3</th>\n",
       "      <td>NaN</td>\n",
       "      <td>NaN</td>\n",
       "      <td>NaN</td>\n",
       "      <td>NaN</td>\n",
       "    </tr>\n",
       "    <tr>\n",
       "      <th>4</th>\n",
       "      <td>NaN</td>\n",
       "      <td>小王</td>\n",
       "      <td>语文</td>\n",
       "      <td>85.0</td>\n",
       "    </tr>\n",
       "    <tr>\n",
       "      <th>5</th>\n",
       "      <td>NaN</td>\n",
       "      <td>NaN</td>\n",
       "      <td>数学</td>\n",
       "      <td>NaN</td>\n",
       "    </tr>\n",
       "    <tr>\n",
       "      <th>6</th>\n",
       "      <td>NaN</td>\n",
       "      <td>NaN</td>\n",
       "      <td>英语</td>\n",
       "      <td>90.0</td>\n",
       "    </tr>\n",
       "    <tr>\n",
       "      <th>7</th>\n",
       "      <td>NaN</td>\n",
       "      <td>NaN</td>\n",
       "      <td>NaN</td>\n",
       "      <td>NaN</td>\n",
       "    </tr>\n",
       "    <tr>\n",
       "      <th>8</th>\n",
       "      <td>NaN</td>\n",
       "      <td>小刚</td>\n",
       "      <td>语文</td>\n",
       "      <td>85.0</td>\n",
       "    </tr>\n",
       "    <tr>\n",
       "      <th>9</th>\n",
       "      <td>NaN</td>\n",
       "      <td>NaN</td>\n",
       "      <td>数学</td>\n",
       "      <td>80.0</td>\n",
       "    </tr>\n",
       "    <tr>\n",
       "      <th>10</th>\n",
       "      <td>NaN</td>\n",
       "      <td>NaN</td>\n",
       "      <td>英语</td>\n",
       "      <td>90.0</td>\n",
       "    </tr>\n",
       "  </tbody>\n",
       "</table>\n",
       "</div>"
      ],
      "text/plain": [
       "    Unnamed: 0   姓名   科目    分数\n",
       "0          NaN   小明   语文  85.0\n",
       "1          NaN  NaN   数学  80.0\n",
       "2          NaN  NaN   英语  90.0\n",
       "3          NaN  NaN  NaN   NaN\n",
       "4          NaN   小王   语文  85.0\n",
       "5          NaN  NaN   数学   NaN\n",
       "6          NaN  NaN   英语  90.0\n",
       "7          NaN  NaN  NaN   NaN\n",
       "8          NaN   小刚   语文  85.0\n",
       "9          NaN  NaN   数学  80.0\n",
       "10         NaN  NaN   英语  90.0"
      ]
     },
     "execution_count": 47,
     "metadata": {},
     "output_type": "execute_result"
    }
   ],
   "source": [
    "tmp_data"
   ]
  },
  {
   "cell_type": "markdown",
   "metadata": {},
   "source": [
    "### 步骤2：检测空值"
   ]
  },
  {
   "cell_type": "code",
   "execution_count": 48,
   "metadata": {
    "ExecuteTime": {
     "end_time": "2020-08-23T03:33:19.740271Z",
     "start_time": "2020-08-23T03:33:19.723483Z"
    }
   },
   "outputs": [
    {
     "data": {
      "text/html": [
       "<div>\n",
       "<style scoped>\n",
       "    .dataframe tbody tr th:only-of-type {\n",
       "        vertical-align: middle;\n",
       "    }\n",
       "\n",
       "    .dataframe tbody tr th {\n",
       "        vertical-align: top;\n",
       "    }\n",
       "\n",
       "    .dataframe thead th {\n",
       "        text-align: right;\n",
       "    }\n",
       "</style>\n",
       "<table border=\"1\" class=\"dataframe\">\n",
       "  <thead>\n",
       "    <tr style=\"text-align: right;\">\n",
       "      <th></th>\n",
       "      <th>Unnamed: 0</th>\n",
       "      <th>姓名</th>\n",
       "      <th>科目</th>\n",
       "      <th>分数</th>\n",
       "    </tr>\n",
       "  </thead>\n",
       "  <tbody>\n",
       "    <tr>\n",
       "      <th>0</th>\n",
       "      <td>True</td>\n",
       "      <td>False</td>\n",
       "      <td>False</td>\n",
       "      <td>False</td>\n",
       "    </tr>\n",
       "    <tr>\n",
       "      <th>1</th>\n",
       "      <td>True</td>\n",
       "      <td>True</td>\n",
       "      <td>False</td>\n",
       "      <td>False</td>\n",
       "    </tr>\n",
       "    <tr>\n",
       "      <th>2</th>\n",
       "      <td>True</td>\n",
       "      <td>True</td>\n",
       "      <td>False</td>\n",
       "      <td>False</td>\n",
       "    </tr>\n",
       "    <tr>\n",
       "      <th>3</th>\n",
       "      <td>True</td>\n",
       "      <td>True</td>\n",
       "      <td>True</td>\n",
       "      <td>True</td>\n",
       "    </tr>\n",
       "    <tr>\n",
       "      <th>4</th>\n",
       "      <td>True</td>\n",
       "      <td>False</td>\n",
       "      <td>False</td>\n",
       "      <td>False</td>\n",
       "    </tr>\n",
       "    <tr>\n",
       "      <th>5</th>\n",
       "      <td>True</td>\n",
       "      <td>True</td>\n",
       "      <td>False</td>\n",
       "      <td>True</td>\n",
       "    </tr>\n",
       "    <tr>\n",
       "      <th>6</th>\n",
       "      <td>True</td>\n",
       "      <td>True</td>\n",
       "      <td>False</td>\n",
       "      <td>False</td>\n",
       "    </tr>\n",
       "    <tr>\n",
       "      <th>7</th>\n",
       "      <td>True</td>\n",
       "      <td>True</td>\n",
       "      <td>True</td>\n",
       "      <td>True</td>\n",
       "    </tr>\n",
       "    <tr>\n",
       "      <th>8</th>\n",
       "      <td>True</td>\n",
       "      <td>False</td>\n",
       "      <td>False</td>\n",
       "      <td>False</td>\n",
       "    </tr>\n",
       "    <tr>\n",
       "      <th>9</th>\n",
       "      <td>True</td>\n",
       "      <td>True</td>\n",
       "      <td>False</td>\n",
       "      <td>False</td>\n",
       "    </tr>\n",
       "    <tr>\n",
       "      <th>10</th>\n",
       "      <td>True</td>\n",
       "      <td>True</td>\n",
       "      <td>False</td>\n",
       "      <td>False</td>\n",
       "    </tr>\n",
       "  </tbody>\n",
       "</table>\n",
       "</div>"
      ],
      "text/plain": [
       "    Unnamed: 0     姓名     科目     分数\n",
       "0         True  False  False  False\n",
       "1         True   True  False  False\n",
       "2         True   True  False  False\n",
       "3         True   True   True   True\n",
       "4         True  False  False  False\n",
       "5         True   True  False   True\n",
       "6         True   True  False  False\n",
       "7         True   True   True   True\n",
       "8         True  False  False  False\n",
       "9         True   True  False  False\n",
       "10        True   True  False  False"
      ]
     },
     "execution_count": 48,
     "metadata": {},
     "output_type": "execute_result"
    }
   ],
   "source": [
    "tmp_data.isnull()"
   ]
  },
  {
   "cell_type": "code",
   "execution_count": 49,
   "metadata": {
    "ExecuteTime": {
     "end_time": "2020-08-23T03:33:19.753237Z",
     "start_time": "2020-08-23T03:33:19.741323Z"
    }
   },
   "outputs": [
    {
     "data": {
      "text/plain": [
       "0     False\n",
       "1     False\n",
       "2     False\n",
       "3      True\n",
       "4     False\n",
       "5      True\n",
       "6     False\n",
       "7      True\n",
       "8     False\n",
       "9     False\n",
       "10    False\n",
       "Name: 分数, dtype: bool"
      ]
     },
     "execution_count": 49,
     "metadata": {},
     "output_type": "execute_result"
    }
   ],
   "source": [
    "tmp_data['分数'].isnull()"
   ]
  },
  {
   "cell_type": "code",
   "execution_count": 50,
   "metadata": {
    "ExecuteTime": {
     "end_time": "2020-08-23T03:33:19.773184Z",
     "start_time": "2020-08-23T03:33:19.754234Z"
    }
   },
   "outputs": [
    {
     "data": {
      "text/html": [
       "<div>\n",
       "<style scoped>\n",
       "    .dataframe tbody tr th:only-of-type {\n",
       "        vertical-align: middle;\n",
       "    }\n",
       "\n",
       "    .dataframe tbody tr th {\n",
       "        vertical-align: top;\n",
       "    }\n",
       "\n",
       "    .dataframe thead th {\n",
       "        text-align: right;\n",
       "    }\n",
       "</style>\n",
       "<table border=\"1\" class=\"dataframe\">\n",
       "  <thead>\n",
       "    <tr style=\"text-align: right;\">\n",
       "      <th></th>\n",
       "      <th>Unnamed: 0</th>\n",
       "      <th>姓名</th>\n",
       "      <th>科目</th>\n",
       "      <th>分数</th>\n",
       "    </tr>\n",
       "  </thead>\n",
       "  <tbody>\n",
       "    <tr>\n",
       "      <th>0</th>\n",
       "      <td>False</td>\n",
       "      <td>True</td>\n",
       "      <td>True</td>\n",
       "      <td>True</td>\n",
       "    </tr>\n",
       "    <tr>\n",
       "      <th>1</th>\n",
       "      <td>False</td>\n",
       "      <td>False</td>\n",
       "      <td>True</td>\n",
       "      <td>True</td>\n",
       "    </tr>\n",
       "    <tr>\n",
       "      <th>2</th>\n",
       "      <td>False</td>\n",
       "      <td>False</td>\n",
       "      <td>True</td>\n",
       "      <td>True</td>\n",
       "    </tr>\n",
       "    <tr>\n",
       "      <th>3</th>\n",
       "      <td>False</td>\n",
       "      <td>False</td>\n",
       "      <td>False</td>\n",
       "      <td>False</td>\n",
       "    </tr>\n",
       "    <tr>\n",
       "      <th>4</th>\n",
       "      <td>False</td>\n",
       "      <td>True</td>\n",
       "      <td>True</td>\n",
       "      <td>True</td>\n",
       "    </tr>\n",
       "    <tr>\n",
       "      <th>5</th>\n",
       "      <td>False</td>\n",
       "      <td>False</td>\n",
       "      <td>True</td>\n",
       "      <td>False</td>\n",
       "    </tr>\n",
       "    <tr>\n",
       "      <th>6</th>\n",
       "      <td>False</td>\n",
       "      <td>False</td>\n",
       "      <td>True</td>\n",
       "      <td>True</td>\n",
       "    </tr>\n",
       "    <tr>\n",
       "      <th>7</th>\n",
       "      <td>False</td>\n",
       "      <td>False</td>\n",
       "      <td>False</td>\n",
       "      <td>False</td>\n",
       "    </tr>\n",
       "    <tr>\n",
       "      <th>8</th>\n",
       "      <td>False</td>\n",
       "      <td>True</td>\n",
       "      <td>True</td>\n",
       "      <td>True</td>\n",
       "    </tr>\n",
       "    <tr>\n",
       "      <th>9</th>\n",
       "      <td>False</td>\n",
       "      <td>False</td>\n",
       "      <td>True</td>\n",
       "      <td>True</td>\n",
       "    </tr>\n",
       "    <tr>\n",
       "      <th>10</th>\n",
       "      <td>False</td>\n",
       "      <td>False</td>\n",
       "      <td>True</td>\n",
       "      <td>True</td>\n",
       "    </tr>\n",
       "  </tbody>\n",
       "</table>\n",
       "</div>"
      ],
      "text/plain": [
       "    Unnamed: 0     姓名     科目     分数\n",
       "0        False   True   True   True\n",
       "1        False  False   True   True\n",
       "2        False  False   True   True\n",
       "3        False  False  False  False\n",
       "4        False   True   True   True\n",
       "5        False  False   True  False\n",
       "6        False  False   True   True\n",
       "7        False  False  False  False\n",
       "8        False   True   True   True\n",
       "9        False  False   True   True\n",
       "10       False  False   True   True"
      ]
     },
     "execution_count": 50,
     "metadata": {},
     "output_type": "execute_result"
    }
   ],
   "source": [
    "tmp_data.notnull()"
   ]
  },
  {
   "cell_type": "code",
   "execution_count": 51,
   "metadata": {
    "ExecuteTime": {
     "end_time": "2020-08-23T03:33:19.792368Z",
     "start_time": "2020-08-23T03:33:19.774557Z"
    }
   },
   "outputs": [
    {
     "data": {
      "text/html": [
       "<div>\n",
       "<style scoped>\n",
       "    .dataframe tbody tr th:only-of-type {\n",
       "        vertical-align: middle;\n",
       "    }\n",
       "\n",
       "    .dataframe tbody tr th {\n",
       "        vertical-align: top;\n",
       "    }\n",
       "\n",
       "    .dataframe thead th {\n",
       "        text-align: right;\n",
       "    }\n",
       "</style>\n",
       "<table border=\"1\" class=\"dataframe\">\n",
       "  <thead>\n",
       "    <tr style=\"text-align: right;\">\n",
       "      <th></th>\n",
       "      <th>Unnamed: 0</th>\n",
       "      <th>姓名</th>\n",
       "      <th>科目</th>\n",
       "      <th>分数</th>\n",
       "    </tr>\n",
       "  </thead>\n",
       "  <tbody>\n",
       "    <tr>\n",
       "      <th>0</th>\n",
       "      <td>NaN</td>\n",
       "      <td>小明</td>\n",
       "      <td>语文</td>\n",
       "      <td>85.0</td>\n",
       "    </tr>\n",
       "    <tr>\n",
       "      <th>1</th>\n",
       "      <td>NaN</td>\n",
       "      <td>NaN</td>\n",
       "      <td>数学</td>\n",
       "      <td>80.0</td>\n",
       "    </tr>\n",
       "    <tr>\n",
       "      <th>2</th>\n",
       "      <td>NaN</td>\n",
       "      <td>NaN</td>\n",
       "      <td>英语</td>\n",
       "      <td>90.0</td>\n",
       "    </tr>\n",
       "    <tr>\n",
       "      <th>4</th>\n",
       "      <td>NaN</td>\n",
       "      <td>小王</td>\n",
       "      <td>语文</td>\n",
       "      <td>85.0</td>\n",
       "    </tr>\n",
       "    <tr>\n",
       "      <th>6</th>\n",
       "      <td>NaN</td>\n",
       "      <td>NaN</td>\n",
       "      <td>英语</td>\n",
       "      <td>90.0</td>\n",
       "    </tr>\n",
       "    <tr>\n",
       "      <th>8</th>\n",
       "      <td>NaN</td>\n",
       "      <td>小刚</td>\n",
       "      <td>语文</td>\n",
       "      <td>85.0</td>\n",
       "    </tr>\n",
       "    <tr>\n",
       "      <th>9</th>\n",
       "      <td>NaN</td>\n",
       "      <td>NaN</td>\n",
       "      <td>数学</td>\n",
       "      <td>80.0</td>\n",
       "    </tr>\n",
       "    <tr>\n",
       "      <th>10</th>\n",
       "      <td>NaN</td>\n",
       "      <td>NaN</td>\n",
       "      <td>英语</td>\n",
       "      <td>90.0</td>\n",
       "    </tr>\n",
       "  </tbody>\n",
       "</table>\n",
       "</div>"
      ],
      "text/plain": [
       "    Unnamed: 0   姓名  科目    分数\n",
       "0          NaN   小明  语文  85.0\n",
       "1          NaN  NaN  数学  80.0\n",
       "2          NaN  NaN  英语  90.0\n",
       "4          NaN   小王  语文  85.0\n",
       "6          NaN  NaN  英语  90.0\n",
       "8          NaN   小刚  语文  85.0\n",
       "9          NaN  NaN  数学  80.0\n",
       "10         NaN  NaN  英语  90.0"
      ]
     },
     "execution_count": 51,
     "metadata": {},
     "output_type": "execute_result"
    }
   ],
   "source": [
    "# 筛选没有空分数的所有行\n",
    "tmp_data.loc[tmp_data['分数'].notnull(), :]"
   ]
  },
  {
   "cell_type": "markdown",
   "metadata": {},
   "source": [
    "### 步骤3：删除掉全是空值的列"
   ]
  },
  {
   "cell_type": "code",
   "execution_count": 52,
   "metadata": {
    "ExecuteTime": {
     "end_time": "2020-08-23T03:33:19.809350Z",
     "start_time": "2020-08-23T03:33:19.793608Z"
    }
   },
   "outputs": [],
   "source": [
    "# tmp_data.drop(axis=1, how='all', inplace=True)\n",
    "tmp_data.dropna(axis='columns', how='all', inplace=True)"
   ]
  },
  {
   "cell_type": "code",
   "execution_count": 53,
   "metadata": {
    "ExecuteTime": {
     "end_time": "2020-08-23T03:33:19.827608Z",
     "start_time": "2020-08-23T03:33:19.811212Z"
    }
   },
   "outputs": [
    {
     "data": {
      "text/html": [
       "<div>\n",
       "<style scoped>\n",
       "    .dataframe tbody tr th:only-of-type {\n",
       "        vertical-align: middle;\n",
       "    }\n",
       "\n",
       "    .dataframe tbody tr th {\n",
       "        vertical-align: top;\n",
       "    }\n",
       "\n",
       "    .dataframe thead th {\n",
       "        text-align: right;\n",
       "    }\n",
       "</style>\n",
       "<table border=\"1\" class=\"dataframe\">\n",
       "  <thead>\n",
       "    <tr style=\"text-align: right;\">\n",
       "      <th></th>\n",
       "      <th>姓名</th>\n",
       "      <th>科目</th>\n",
       "      <th>分数</th>\n",
       "    </tr>\n",
       "  </thead>\n",
       "  <tbody>\n",
       "    <tr>\n",
       "      <th>0</th>\n",
       "      <td>小明</td>\n",
       "      <td>语文</td>\n",
       "      <td>85.0</td>\n",
       "    </tr>\n",
       "    <tr>\n",
       "      <th>1</th>\n",
       "      <td>NaN</td>\n",
       "      <td>数学</td>\n",
       "      <td>80.0</td>\n",
       "    </tr>\n",
       "    <tr>\n",
       "      <th>2</th>\n",
       "      <td>NaN</td>\n",
       "      <td>英语</td>\n",
       "      <td>90.0</td>\n",
       "    </tr>\n",
       "    <tr>\n",
       "      <th>3</th>\n",
       "      <td>NaN</td>\n",
       "      <td>NaN</td>\n",
       "      <td>NaN</td>\n",
       "    </tr>\n",
       "    <tr>\n",
       "      <th>4</th>\n",
       "      <td>小王</td>\n",
       "      <td>语文</td>\n",
       "      <td>85.0</td>\n",
       "    </tr>\n",
       "    <tr>\n",
       "      <th>5</th>\n",
       "      <td>NaN</td>\n",
       "      <td>数学</td>\n",
       "      <td>NaN</td>\n",
       "    </tr>\n",
       "    <tr>\n",
       "      <th>6</th>\n",
       "      <td>NaN</td>\n",
       "      <td>英语</td>\n",
       "      <td>90.0</td>\n",
       "    </tr>\n",
       "    <tr>\n",
       "      <th>7</th>\n",
       "      <td>NaN</td>\n",
       "      <td>NaN</td>\n",
       "      <td>NaN</td>\n",
       "    </tr>\n",
       "    <tr>\n",
       "      <th>8</th>\n",
       "      <td>小刚</td>\n",
       "      <td>语文</td>\n",
       "      <td>85.0</td>\n",
       "    </tr>\n",
       "    <tr>\n",
       "      <th>9</th>\n",
       "      <td>NaN</td>\n",
       "      <td>数学</td>\n",
       "      <td>80.0</td>\n",
       "    </tr>\n",
       "    <tr>\n",
       "      <th>10</th>\n",
       "      <td>NaN</td>\n",
       "      <td>英语</td>\n",
       "      <td>90.0</td>\n",
       "    </tr>\n",
       "  </tbody>\n",
       "</table>\n",
       "</div>"
      ],
      "text/plain": [
       "     姓名   科目    分数\n",
       "0    小明   语文  85.0\n",
       "1   NaN   数学  80.0\n",
       "2   NaN   英语  90.0\n",
       "3   NaN  NaN   NaN\n",
       "4    小王   语文  85.0\n",
       "5   NaN   数学   NaN\n",
       "6   NaN   英语  90.0\n",
       "7   NaN  NaN   NaN\n",
       "8    小刚   语文  85.0\n",
       "9   NaN   数学  80.0\n",
       "10  NaN   英语  90.0"
      ]
     },
     "execution_count": 53,
     "metadata": {},
     "output_type": "execute_result"
    }
   ],
   "source": [
    "tmp_data"
   ]
  },
  {
   "cell_type": "markdown",
   "metadata": {},
   "source": [
    "### 步骤4：删除掉全是空值的行"
   ]
  },
  {
   "cell_type": "code",
   "execution_count": 54,
   "metadata": {
    "ExecuteTime": {
     "end_time": "2020-08-23T03:33:19.838122Z",
     "start_time": "2020-08-23T03:33:19.828969Z"
    }
   },
   "outputs": [],
   "source": [
    "tmp_data.dropna(axis=0, how='all', inplace=True)"
   ]
  },
  {
   "cell_type": "code",
   "execution_count": 55,
   "metadata": {
    "ExecuteTime": {
     "end_time": "2020-08-23T03:33:19.857700Z",
     "start_time": "2020-08-23T03:33:19.840395Z"
    }
   },
   "outputs": [
    {
     "data": {
      "text/html": [
       "<div>\n",
       "<style scoped>\n",
       "    .dataframe tbody tr th:only-of-type {\n",
       "        vertical-align: middle;\n",
       "    }\n",
       "\n",
       "    .dataframe tbody tr th {\n",
       "        vertical-align: top;\n",
       "    }\n",
       "\n",
       "    .dataframe thead th {\n",
       "        text-align: right;\n",
       "    }\n",
       "</style>\n",
       "<table border=\"1\" class=\"dataframe\">\n",
       "  <thead>\n",
       "    <tr style=\"text-align: right;\">\n",
       "      <th></th>\n",
       "      <th>姓名</th>\n",
       "      <th>科目</th>\n",
       "      <th>分数</th>\n",
       "    </tr>\n",
       "  </thead>\n",
       "  <tbody>\n",
       "    <tr>\n",
       "      <th>0</th>\n",
       "      <td>小明</td>\n",
       "      <td>语文</td>\n",
       "      <td>85.0</td>\n",
       "    </tr>\n",
       "    <tr>\n",
       "      <th>1</th>\n",
       "      <td>NaN</td>\n",
       "      <td>数学</td>\n",
       "      <td>80.0</td>\n",
       "    </tr>\n",
       "    <tr>\n",
       "      <th>2</th>\n",
       "      <td>NaN</td>\n",
       "      <td>英语</td>\n",
       "      <td>90.0</td>\n",
       "    </tr>\n",
       "    <tr>\n",
       "      <th>4</th>\n",
       "      <td>小王</td>\n",
       "      <td>语文</td>\n",
       "      <td>85.0</td>\n",
       "    </tr>\n",
       "    <tr>\n",
       "      <th>5</th>\n",
       "      <td>NaN</td>\n",
       "      <td>数学</td>\n",
       "      <td>NaN</td>\n",
       "    </tr>\n",
       "    <tr>\n",
       "      <th>6</th>\n",
       "      <td>NaN</td>\n",
       "      <td>英语</td>\n",
       "      <td>90.0</td>\n",
       "    </tr>\n",
       "    <tr>\n",
       "      <th>8</th>\n",
       "      <td>小刚</td>\n",
       "      <td>语文</td>\n",
       "      <td>85.0</td>\n",
       "    </tr>\n",
       "    <tr>\n",
       "      <th>9</th>\n",
       "      <td>NaN</td>\n",
       "      <td>数学</td>\n",
       "      <td>80.0</td>\n",
       "    </tr>\n",
       "    <tr>\n",
       "      <th>10</th>\n",
       "      <td>NaN</td>\n",
       "      <td>英语</td>\n",
       "      <td>90.0</td>\n",
       "    </tr>\n",
       "  </tbody>\n",
       "</table>\n",
       "</div>"
      ],
      "text/plain": [
       "     姓名  科目    分数\n",
       "0    小明  语文  85.0\n",
       "1   NaN  数学  80.0\n",
       "2   NaN  英语  90.0\n",
       "4    小王  语文  85.0\n",
       "5   NaN  数学   NaN\n",
       "6   NaN  英语  90.0\n",
       "8    小刚  语文  85.0\n",
       "9   NaN  数学  80.0\n",
       "10  NaN  英语  90.0"
      ]
     },
     "execution_count": 55,
     "metadata": {},
     "output_type": "execute_result"
    }
   ],
   "source": [
    "tmp_data"
   ]
  },
  {
   "cell_type": "markdown",
   "metadata": {},
   "source": [
    "### 步骤5：将分数列为空的填充为0分"
   ]
  },
  {
   "cell_type": "code",
   "execution_count": 56,
   "metadata": {
    "ExecuteTime": {
     "end_time": "2020-08-23T03:33:19.874207Z",
     "start_time": "2020-08-23T03:33:19.859335Z"
    }
   },
   "outputs": [
    {
     "data": {
      "text/html": [
       "<div>\n",
       "<style scoped>\n",
       "    .dataframe tbody tr th:only-of-type {\n",
       "        vertical-align: middle;\n",
       "    }\n",
       "\n",
       "    .dataframe tbody tr th {\n",
       "        vertical-align: top;\n",
       "    }\n",
       "\n",
       "    .dataframe thead th {\n",
       "        text-align: right;\n",
       "    }\n",
       "</style>\n",
       "<table border=\"1\" class=\"dataframe\">\n",
       "  <thead>\n",
       "    <tr style=\"text-align: right;\">\n",
       "      <th></th>\n",
       "      <th>姓名</th>\n",
       "      <th>科目</th>\n",
       "      <th>分数</th>\n",
       "    </tr>\n",
       "  </thead>\n",
       "  <tbody>\n",
       "    <tr>\n",
       "      <th>0</th>\n",
       "      <td>小明</td>\n",
       "      <td>语文</td>\n",
       "      <td>85.0</td>\n",
       "    </tr>\n",
       "    <tr>\n",
       "      <th>1</th>\n",
       "      <td>NaN</td>\n",
       "      <td>数学</td>\n",
       "      <td>80.0</td>\n",
       "    </tr>\n",
       "    <tr>\n",
       "      <th>2</th>\n",
       "      <td>NaN</td>\n",
       "      <td>英语</td>\n",
       "      <td>90.0</td>\n",
       "    </tr>\n",
       "    <tr>\n",
       "      <th>4</th>\n",
       "      <td>小王</td>\n",
       "      <td>语文</td>\n",
       "      <td>85.0</td>\n",
       "    </tr>\n",
       "    <tr>\n",
       "      <th>5</th>\n",
       "      <td>NaN</td>\n",
       "      <td>数学</td>\n",
       "      <td>0.0</td>\n",
       "    </tr>\n",
       "    <tr>\n",
       "      <th>6</th>\n",
       "      <td>NaN</td>\n",
       "      <td>英语</td>\n",
       "      <td>90.0</td>\n",
       "    </tr>\n",
       "    <tr>\n",
       "      <th>8</th>\n",
       "      <td>小刚</td>\n",
       "      <td>语文</td>\n",
       "      <td>85.0</td>\n",
       "    </tr>\n",
       "    <tr>\n",
       "      <th>9</th>\n",
       "      <td>NaN</td>\n",
       "      <td>数学</td>\n",
       "      <td>80.0</td>\n",
       "    </tr>\n",
       "    <tr>\n",
       "      <th>10</th>\n",
       "      <td>NaN</td>\n",
       "      <td>英语</td>\n",
       "      <td>90.0</td>\n",
       "    </tr>\n",
       "  </tbody>\n",
       "</table>\n",
       "</div>"
      ],
      "text/plain": [
       "     姓名  科目    分数\n",
       "0    小明  语文  85.0\n",
       "1   NaN  数学  80.0\n",
       "2   NaN  英语  90.0\n",
       "4    小王  语文  85.0\n",
       "5   NaN  数学   0.0\n",
       "6   NaN  英语  90.0\n",
       "8    小刚  语文  85.0\n",
       "9   NaN  数学  80.0\n",
       "10  NaN  英语  90.0"
      ]
     },
     "execution_count": 56,
     "metadata": {},
     "output_type": "execute_result"
    }
   ],
   "source": [
    "tmp_data.fillna({'分数':0})"
   ]
  },
  {
   "cell_type": "code",
   "execution_count": 57,
   "metadata": {
    "ExecuteTime": {
     "end_time": "2020-08-23T03:33:19.884614Z",
     "start_time": "2020-08-23T03:33:19.876264Z"
    }
   },
   "outputs": [],
   "source": [
    "# 等同于\n",
    "tmp_data['分数'] = tmp_data['分数'].fillna(0)"
   ]
  },
  {
   "cell_type": "code",
   "execution_count": 58,
   "metadata": {
    "ExecuteTime": {
     "end_time": "2020-08-23T03:33:19.900613Z",
     "start_time": "2020-08-23T03:33:19.886717Z"
    }
   },
   "outputs": [
    {
     "data": {
      "text/html": [
       "<div>\n",
       "<style scoped>\n",
       "    .dataframe tbody tr th:only-of-type {\n",
       "        vertical-align: middle;\n",
       "    }\n",
       "\n",
       "    .dataframe tbody tr th {\n",
       "        vertical-align: top;\n",
       "    }\n",
       "\n",
       "    .dataframe thead th {\n",
       "        text-align: right;\n",
       "    }\n",
       "</style>\n",
       "<table border=\"1\" class=\"dataframe\">\n",
       "  <thead>\n",
       "    <tr style=\"text-align: right;\">\n",
       "      <th></th>\n",
       "      <th>姓名</th>\n",
       "      <th>科目</th>\n",
       "      <th>分数</th>\n",
       "    </tr>\n",
       "  </thead>\n",
       "  <tbody>\n",
       "    <tr>\n",
       "      <th>0</th>\n",
       "      <td>小明</td>\n",
       "      <td>语文</td>\n",
       "      <td>85.0</td>\n",
       "    </tr>\n",
       "    <tr>\n",
       "      <th>1</th>\n",
       "      <td>NaN</td>\n",
       "      <td>数学</td>\n",
       "      <td>80.0</td>\n",
       "    </tr>\n",
       "    <tr>\n",
       "      <th>2</th>\n",
       "      <td>NaN</td>\n",
       "      <td>英语</td>\n",
       "      <td>90.0</td>\n",
       "    </tr>\n",
       "    <tr>\n",
       "      <th>4</th>\n",
       "      <td>小王</td>\n",
       "      <td>语文</td>\n",
       "      <td>85.0</td>\n",
       "    </tr>\n",
       "    <tr>\n",
       "      <th>5</th>\n",
       "      <td>NaN</td>\n",
       "      <td>数学</td>\n",
       "      <td>0.0</td>\n",
       "    </tr>\n",
       "    <tr>\n",
       "      <th>6</th>\n",
       "      <td>NaN</td>\n",
       "      <td>英语</td>\n",
       "      <td>90.0</td>\n",
       "    </tr>\n",
       "    <tr>\n",
       "      <th>8</th>\n",
       "      <td>小刚</td>\n",
       "      <td>语文</td>\n",
       "      <td>85.0</td>\n",
       "    </tr>\n",
       "    <tr>\n",
       "      <th>9</th>\n",
       "      <td>NaN</td>\n",
       "      <td>数学</td>\n",
       "      <td>80.0</td>\n",
       "    </tr>\n",
       "    <tr>\n",
       "      <th>10</th>\n",
       "      <td>NaN</td>\n",
       "      <td>英语</td>\n",
       "      <td>90.0</td>\n",
       "    </tr>\n",
       "  </tbody>\n",
       "</table>\n",
       "</div>"
      ],
      "text/plain": [
       "     姓名  科目    分数\n",
       "0    小明  语文  85.0\n",
       "1   NaN  数学  80.0\n",
       "2   NaN  英语  90.0\n",
       "4    小王  语文  85.0\n",
       "5   NaN  数学   0.0\n",
       "6   NaN  英语  90.0\n",
       "8    小刚  语文  85.0\n",
       "9   NaN  数学  80.0\n",
       "10  NaN  英语  90.0"
      ]
     },
     "execution_count": 58,
     "metadata": {},
     "output_type": "execute_result"
    }
   ],
   "source": [
    "tmp_data"
   ]
  },
  {
   "cell_type": "markdown",
   "metadata": {},
   "source": [
    "### 步骤6：将姓名的缺失值填充"
   ]
  },
  {
   "cell_type": "code",
   "execution_count": 59,
   "metadata": {
    "ExecuteTime": {
     "end_time": "2020-08-23T03:33:19.914243Z",
     "start_time": "2020-08-23T03:33:19.902612Z"
    }
   },
   "outputs": [],
   "source": [
    "tmp_data['姓名'] = tmp_data['姓名'].fillna(method='ffill')"
   ]
  },
  {
   "cell_type": "code",
   "execution_count": 60,
   "metadata": {
    "ExecuteTime": {
     "end_time": "2020-08-23T03:33:19.932157Z",
     "start_time": "2020-08-23T03:33:19.915224Z"
    }
   },
   "outputs": [
    {
     "data": {
      "text/html": [
       "<div>\n",
       "<style scoped>\n",
       "    .dataframe tbody tr th:only-of-type {\n",
       "        vertical-align: middle;\n",
       "    }\n",
       "\n",
       "    .dataframe tbody tr th {\n",
       "        vertical-align: top;\n",
       "    }\n",
       "\n",
       "    .dataframe thead th {\n",
       "        text-align: right;\n",
       "    }\n",
       "</style>\n",
       "<table border=\"1\" class=\"dataframe\">\n",
       "  <thead>\n",
       "    <tr style=\"text-align: right;\">\n",
       "      <th></th>\n",
       "      <th>姓名</th>\n",
       "      <th>科目</th>\n",
       "      <th>分数</th>\n",
       "    </tr>\n",
       "  </thead>\n",
       "  <tbody>\n",
       "    <tr>\n",
       "      <th>0</th>\n",
       "      <td>小明</td>\n",
       "      <td>语文</td>\n",
       "      <td>85.0</td>\n",
       "    </tr>\n",
       "    <tr>\n",
       "      <th>1</th>\n",
       "      <td>小明</td>\n",
       "      <td>数学</td>\n",
       "      <td>80.0</td>\n",
       "    </tr>\n",
       "    <tr>\n",
       "      <th>2</th>\n",
       "      <td>小明</td>\n",
       "      <td>英语</td>\n",
       "      <td>90.0</td>\n",
       "    </tr>\n",
       "    <tr>\n",
       "      <th>4</th>\n",
       "      <td>小王</td>\n",
       "      <td>语文</td>\n",
       "      <td>85.0</td>\n",
       "    </tr>\n",
       "    <tr>\n",
       "      <th>5</th>\n",
       "      <td>小王</td>\n",
       "      <td>数学</td>\n",
       "      <td>0.0</td>\n",
       "    </tr>\n",
       "    <tr>\n",
       "      <th>6</th>\n",
       "      <td>小王</td>\n",
       "      <td>英语</td>\n",
       "      <td>90.0</td>\n",
       "    </tr>\n",
       "    <tr>\n",
       "      <th>8</th>\n",
       "      <td>小刚</td>\n",
       "      <td>语文</td>\n",
       "      <td>85.0</td>\n",
       "    </tr>\n",
       "    <tr>\n",
       "      <th>9</th>\n",
       "      <td>小刚</td>\n",
       "      <td>数学</td>\n",
       "      <td>80.0</td>\n",
       "    </tr>\n",
       "    <tr>\n",
       "      <th>10</th>\n",
       "      <td>小刚</td>\n",
       "      <td>英语</td>\n",
       "      <td>90.0</td>\n",
       "    </tr>\n",
       "  </tbody>\n",
       "</table>\n",
       "</div>"
      ],
      "text/plain": [
       "    姓名  科目    分数\n",
       "0   小明  语文  85.0\n",
       "1   小明  数学  80.0\n",
       "2   小明  英语  90.0\n",
       "4   小王  语文  85.0\n",
       "5   小王  数学   0.0\n",
       "6   小王  英语  90.0\n",
       "8   小刚  语文  85.0\n",
       "9   小刚  数学  80.0\n",
       "10  小刚  英语  90.0"
      ]
     },
     "execution_count": 60,
     "metadata": {},
     "output_type": "execute_result"
    }
   ],
   "source": [
    "tmp_data"
   ]
  },
  {
   "cell_type": "code",
   "execution_count": 61,
   "metadata": {
    "ExecuteTime": {
     "end_time": "2020-08-23T03:33:20.832459Z",
     "start_time": "2020-08-23T03:33:19.933154Z"
    }
   },
   "outputs": [],
   "source": [
    "tmp_data.to_excel('./student_excel_clean.xlsx', index=False)"
   ]
  },
  {
   "cell_type": "code",
   "execution_count": 62,
   "metadata": {
    "ExecuteTime": {
     "end_time": "2020-08-23T03:33:20.837476Z",
     "start_time": "2020-08-23T03:33:20.834458Z"
    }
   },
   "outputs": [],
   "source": [
    "# free memory\n",
    "del tmp_data"
   ]
  },
  {
   "cell_type": "markdown",
   "metadata": {},
   "source": [
    "### 12.2 天气数据清洗"
   ]
  },
  {
   "cell_type": "code",
   "execution_count": 63,
   "metadata": {
    "ExecuteTime": {
     "end_time": "2020-08-23T03:33:20.853984Z",
     "start_time": "2020-08-23T03:33:20.839471Z"
    }
   },
   "outputs": [],
   "source": [
    "df['max_temperature'].fillna(method='ffill', inplace=True)\n",
    "df['max_temperature'].fillna(method='bfill', inplace=True)\n",
    "df['max_temperature'].fillna(df['max_temperature'].interpolate(), inplace=True)"
   ]
  },
  {
   "cell_type": "code",
   "execution_count": 64,
   "metadata": {
    "ExecuteTime": {
     "end_time": "2020-08-23T03:33:20.865376Z",
     "start_time": "2020-08-23T03:33:20.856826Z"
    }
   },
   "outputs": [
    {
     "data": {
      "text/plain": [
       "date\n",
       "2017-01-01    False\n",
       "2017-01-02    False\n",
       "2017-01-03    False\n",
       "2017-01-04    False\n",
       "2017-01-05    False\n",
       "              ...  \n",
       "2019-12-27    False\n",
       "2019-12-28    False\n",
       "2019-12-29    False\n",
       "2019-12-30    False\n",
       "2019-12-31    False\n",
       "Name: max_temperature, Length: 1095, dtype: bool"
      ]
     },
     "execution_count": 64,
     "metadata": {},
     "output_type": "execute_result"
    }
   ],
   "source": [
    "df['max_temperature'].isnull()"
   ]
  },
  {
   "cell_type": "code",
   "execution_count": 65,
   "metadata": {
    "ExecuteTime": {
     "end_time": "2020-08-23T03:33:20.880365Z",
     "start_time": "2020-08-23T03:33:20.867194Z"
    }
   },
   "outputs": [
    {
     "data": {
      "text/html": [
       "<div>\n",
       "<style scoped>\n",
       "    .dataframe tbody tr th:only-of-type {\n",
       "        vertical-align: middle;\n",
       "    }\n",
       "\n",
       "    .dataframe tbody tr th {\n",
       "        vertical-align: top;\n",
       "    }\n",
       "\n",
       "    .dataframe thead th {\n",
       "        text-align: right;\n",
       "    }\n",
       "</style>\n",
       "<table border=\"1\" class=\"dataframe\">\n",
       "  <thead>\n",
       "    <tr style=\"text-align: right;\">\n",
       "      <th></th>\n",
       "      <th>week</th>\n",
       "      <th>max_temperature</th>\n",
       "      <th>min_temperature</th>\n",
       "      <th>day_status</th>\n",
       "      <th>wind</th>\n",
       "      <th>aqi</th>\n",
       "      <th>aqi_status</th>\n",
       "      <th>dif</th>\n",
       "      <th>temp_type</th>\n",
       "      <th>temp_type2</th>\n",
       "      <th>wencha_type</th>\n",
       "    </tr>\n",
       "    <tr>\n",
       "      <th>date</th>\n",
       "      <th></th>\n",
       "      <th></th>\n",
       "      <th></th>\n",
       "      <th></th>\n",
       "      <th></th>\n",
       "      <th></th>\n",
       "      <th></th>\n",
       "      <th></th>\n",
       "      <th></th>\n",
       "      <th></th>\n",
       "      <th></th>\n",
       "    </tr>\n",
       "  </thead>\n",
       "  <tbody>\n",
       "  </tbody>\n",
       "</table>\n",
       "</div>"
      ],
      "text/plain": [
       "Empty DataFrame\n",
       "Columns: [week, max_temperature, min_temperature, day_status, wind, aqi, aqi_status, dif, temp_type, temp_type2, wencha_type]\n",
       "Index: []"
      ]
     },
     "execution_count": 65,
     "metadata": {},
     "output_type": "execute_result"
    }
   ],
   "source": [
    "df[df['max_temperature'].isnull()]"
   ]
  },
  {
   "cell_type": "markdown",
   "metadata": {},
   "source": [
    "## 13、排序"
   ]
  },
  {
   "cell_type": "markdown",
   "metadata": {},
   "source": [
    "## Pandas数据排序\n",
    "\n",
    "Series的排序：\n",
    "***Series.sort_values(ascending=True, inplace=False)\\***\n",
    "参数说明：\n",
    "\n",
    "- ascending：默认为True升序排序，为False降序排序\n",
    "- inplace：是否修改原始Series\n",
    "\n",
    "DataFrame的排序：\n",
    "***DataFrame.sort_values(by, ascending=True, inplace=False)\\***\n",
    "参数说明：\n",
    "\n",
    "- by：字符串或者List<字符串>，单列排序或者多列排序\n",
    "\n",
    "- ascending：bool或者List\n",
    "\n",
    "- inplace：是否修改原始DataFramePandas数据排序\n",
    "\n",
    "  Series的排序：\n",
    "  ***Series.sort_values(ascending=True, inplace=False)\\***\n",
    "  参数说明：\n",
    "\n",
    "  - ascending：默认为True升序排序，为False降序排序\n",
    "  - inplace：是否修改原始Series\n",
    "\n",
    "  DataFrame的排序：\n",
    "  ***DataFrame.sort_values(by, ascending=True, inplace=False)\\***\n",
    "  参数说明：\n",
    "\n",
    "  - by：字符串或者List<字符串>，单列排序或者多列排序\n",
    "  - ascending：bool或者List\n",
    "  - inplace：是否修改原始DataFrame"
   ]
  },
  {
   "cell_type": "markdown",
   "metadata": {},
   "source": [
    "### Series排序"
   ]
  },
  {
   "cell_type": "code",
   "execution_count": 66,
   "metadata": {
    "ExecuteTime": {
     "end_time": "2020-08-23T03:33:20.910072Z",
     "start_time": "2020-08-23T03:33:20.882800Z"
    }
   },
   "outputs": [
    {
     "data": {
      "text/plain": [
       "date\n",
       "2018-08-19     20\n",
       "2019-09-12     20\n",
       "2019-10-05     21\n",
       "2017-10-04     26\n",
       "2019-08-02     26\n",
       "             ... \n",
       "2017-01-17    370\n",
       "2017-01-01    372\n",
       "2017-02-05    379\n",
       "2018-01-18    404\n",
       "2018-11-28    422\n",
       "Name: aqi, Length: 1095, dtype: int64"
      ]
     },
     "execution_count": 66,
     "metadata": {},
     "output_type": "execute_result"
    }
   ],
   "source": [
    "df['aqi'].sort_values()"
   ]
  },
  {
   "cell_type": "code",
   "execution_count": 67,
   "metadata": {
    "ExecuteTime": {
     "end_time": "2020-08-23T03:33:20.924203Z",
     "start_time": "2020-08-23T03:33:20.912030Z"
    }
   },
   "outputs": [
    {
     "data": {
      "text/plain": [
       "date\n",
       "2018-11-28    422\n",
       "2018-01-18    404\n",
       "2017-02-05    379\n",
       "2017-01-01    372\n",
       "2017-01-17    370\n",
       "             ... \n",
       "2019-08-02     26\n",
       "2017-10-04     26\n",
       "2019-10-05     21\n",
       "2019-09-12     20\n",
       "2018-08-19     20\n",
       "Name: aqi, Length: 1095, dtype: int64"
      ]
     },
     "execution_count": 67,
     "metadata": {},
     "output_type": "execute_result"
    }
   ],
   "source": [
    "df['aqi'].sort_values(ascending=False)\n"
   ]
  },
  {
   "cell_type": "markdown",
   "metadata": {},
   "source": [
    "### DataFrame 排序"
   ]
  },
  {
   "cell_type": "code",
   "execution_count": 68,
   "metadata": {
    "ExecuteTime": {
     "end_time": "2020-08-23T03:33:20.952322Z",
     "start_time": "2020-08-23T03:33:20.933516Z"
    }
   },
   "outputs": [
    {
     "data": {
      "text/html": [
       "<div>\n",
       "<style scoped>\n",
       "    .dataframe tbody tr th:only-of-type {\n",
       "        vertical-align: middle;\n",
       "    }\n",
       "\n",
       "    .dataframe tbody tr th {\n",
       "        vertical-align: top;\n",
       "    }\n",
       "\n",
       "    .dataframe thead th {\n",
       "        text-align: right;\n",
       "    }\n",
       "</style>\n",
       "<table border=\"1\" class=\"dataframe\">\n",
       "  <thead>\n",
       "    <tr style=\"text-align: right;\">\n",
       "      <th></th>\n",
       "      <th>week</th>\n",
       "      <th>max_temperature</th>\n",
       "      <th>min_temperature</th>\n",
       "      <th>day_status</th>\n",
       "      <th>wind</th>\n",
       "      <th>aqi</th>\n",
       "      <th>aqi_status</th>\n",
       "      <th>dif</th>\n",
       "      <th>temp_type</th>\n",
       "      <th>temp_type2</th>\n",
       "      <th>wencha_type</th>\n",
       "    </tr>\n",
       "    <tr>\n",
       "      <th>date</th>\n",
       "      <th></th>\n",
       "      <th></th>\n",
       "      <th></th>\n",
       "      <th></th>\n",
       "      <th></th>\n",
       "      <th></th>\n",
       "      <th></th>\n",
       "      <th></th>\n",
       "      <th></th>\n",
       "      <th></th>\n",
       "      <th></th>\n",
       "    </tr>\n",
       "  </thead>\n",
       "  <tbody>\n",
       "    <tr>\n",
       "      <th>2018-08-19</th>\n",
       "      <td>周日</td>\n",
       "      <td>26.0</td>\n",
       "      <td>23.0</td>\n",
       "      <td>小雨</td>\n",
       "      <td>北风4-5级</td>\n",
       "      <td>20</td>\n",
       "      <td>优</td>\n",
       "      <td>3.0</td>\n",
       "      <td>常温</td>\n",
       "      <td>常温</td>\n",
       "      <td>温差小</td>\n",
       "    </tr>\n",
       "    <tr>\n",
       "      <th>2019-09-12</th>\n",
       "      <td>周四</td>\n",
       "      <td>22.0</td>\n",
       "      <td>19.0</td>\n",
       "      <td>小雨~阴</td>\n",
       "      <td>东北风2级</td>\n",
       "      <td>20</td>\n",
       "      <td>优</td>\n",
       "      <td>3.0</td>\n",
       "      <td>常温</td>\n",
       "      <td>常温</td>\n",
       "      <td>温差小</td>\n",
       "    </tr>\n",
       "    <tr>\n",
       "      <th>2019-10-05</th>\n",
       "      <td>周六</td>\n",
       "      <td>16.0</td>\n",
       "      <td>11.0</td>\n",
       "      <td>小雨</td>\n",
       "      <td>东北风3级</td>\n",
       "      <td>21</td>\n",
       "      <td>优</td>\n",
       "      <td>5.0</td>\n",
       "      <td>常温</td>\n",
       "      <td>常温</td>\n",
       "      <td>温差小</td>\n",
       "    </tr>\n",
       "    <tr>\n",
       "      <th>2017-10-04</th>\n",
       "      <td>周三</td>\n",
       "      <td>13.0</td>\n",
       "      <td>11.0</td>\n",
       "      <td>小雨~阴</td>\n",
       "      <td>无持续风向微风</td>\n",
       "      <td>26</td>\n",
       "      <td>优</td>\n",
       "      <td>2.0</td>\n",
       "      <td>常温</td>\n",
       "      <td>常温</td>\n",
       "      <td>温差小</td>\n",
       "    </tr>\n",
       "    <tr>\n",
       "      <th>2019-08-02</th>\n",
       "      <td>周五</td>\n",
       "      <td>30.0</td>\n",
       "      <td>24.0</td>\n",
       "      <td>小雨</td>\n",
       "      <td>东北风2级</td>\n",
       "      <td>26</td>\n",
       "      <td>优</td>\n",
       "      <td>6.0</td>\n",
       "      <td>常温</td>\n",
       "      <td>常温</td>\n",
       "      <td>温差小</td>\n",
       "    </tr>\n",
       "    <tr>\n",
       "      <th>...</th>\n",
       "      <td>...</td>\n",
       "      <td>...</td>\n",
       "      <td>...</td>\n",
       "      <td>...</td>\n",
       "      <td>...</td>\n",
       "      <td>...</td>\n",
       "      <td>...</td>\n",
       "      <td>...</td>\n",
       "      <td>...</td>\n",
       "      <td>...</td>\n",
       "      <td>...</td>\n",
       "    </tr>\n",
       "    <tr>\n",
       "      <th>2017-01-17</th>\n",
       "      <td>周二</td>\n",
       "      <td>8.0</td>\n",
       "      <td>-2.0</td>\n",
       "      <td>多云~阴</td>\n",
       "      <td>无持续风向微风</td>\n",
       "      <td>370</td>\n",
       "      <td>严重</td>\n",
       "      <td>10.0</td>\n",
       "      <td>常温</td>\n",
       "      <td>常温</td>\n",
       "      <td>温差小</td>\n",
       "    </tr>\n",
       "    <tr>\n",
       "      <th>2017-01-01</th>\n",
       "      <td>周日</td>\n",
       "      <td>9.0</td>\n",
       "      <td>NaN</td>\n",
       "      <td>多云</td>\n",
       "      <td>无持续风向微风</td>\n",
       "      <td>372</td>\n",
       "      <td>严重</td>\n",
       "      <td>NaN</td>\n",
       "      <td>常温</td>\n",
       "      <td>常温</td>\n",
       "      <td></td>\n",
       "    </tr>\n",
       "    <tr>\n",
       "      <th>2017-02-05</th>\n",
       "      <td>周日</td>\n",
       "      <td>5.0</td>\n",
       "      <td>NaN</td>\n",
       "      <td>晴~多云</td>\n",
       "      <td>无持续风向微风</td>\n",
       "      <td>379</td>\n",
       "      <td>严重</td>\n",
       "      <td>NaN</td>\n",
       "      <td>常温</td>\n",
       "      <td>常温</td>\n",
       "      <td></td>\n",
       "    </tr>\n",
       "    <tr>\n",
       "      <th>2018-01-18</th>\n",
       "      <td>周四</td>\n",
       "      <td>9.0</td>\n",
       "      <td>-1.0</td>\n",
       "      <td>多云</td>\n",
       "      <td>北风1-2级</td>\n",
       "      <td>404</td>\n",
       "      <td>严重</td>\n",
       "      <td>10.0</td>\n",
       "      <td>常温</td>\n",
       "      <td>常温</td>\n",
       "      <td>温差小</td>\n",
       "    </tr>\n",
       "    <tr>\n",
       "      <th>2018-11-28</th>\n",
       "      <td>周三</td>\n",
       "      <td>16.0</td>\n",
       "      <td>4.0</td>\n",
       "      <td>晴</td>\n",
       "      <td>西南风1级</td>\n",
       "      <td>422</td>\n",
       "      <td>严重</td>\n",
       "      <td>12.0</td>\n",
       "      <td>常温</td>\n",
       "      <td>常温</td>\n",
       "      <td>温差大</td>\n",
       "    </tr>\n",
       "  </tbody>\n",
       "</table>\n",
       "<p>1095 rows × 11 columns</p>\n",
       "</div>"
      ],
      "text/plain": [
       "           week  max_temperature  min_temperature day_status     wind  aqi  \\\n",
       "date                                                                         \n",
       "2018-08-19   周日             26.0             23.0         小雨   北风4-5级   20   \n",
       "2019-09-12   周四             22.0             19.0       小雨~阴    东北风2级   20   \n",
       "2019-10-05   周六             16.0             11.0         小雨    东北风3级   21   \n",
       "2017-10-04   周三             13.0             11.0       小雨~阴  无持续风向微风   26   \n",
       "2019-08-02   周五             30.0             24.0         小雨    东北风2级   26   \n",
       "...         ...              ...              ...        ...      ...  ...   \n",
       "2017-01-17   周二              8.0             -2.0       多云~阴  无持续风向微风  370   \n",
       "2017-01-01   周日              9.0              NaN         多云  无持续风向微风  372   \n",
       "2017-02-05   周日              5.0              NaN       晴~多云  无持续风向微风  379   \n",
       "2018-01-18   周四              9.0             -1.0         多云   北风1-2级  404   \n",
       "2018-11-28   周三             16.0              4.0          晴    西南风1级  422   \n",
       "\n",
       "           aqi_status   dif temp_type temp_type2 wencha_type  \n",
       "date                                                          \n",
       "2018-08-19          优   3.0        常温         常温         温差小  \n",
       "2019-09-12          优   3.0        常温         常温         温差小  \n",
       "2019-10-05          优   5.0        常温         常温         温差小  \n",
       "2017-10-04          优   2.0        常温         常温         温差小  \n",
       "2019-08-02          优   6.0        常温         常温         温差小  \n",
       "...               ...   ...       ...        ...         ...  \n",
       "2017-01-17         严重  10.0        常温         常温         温差小  \n",
       "2017-01-01         严重   NaN        常温         常温              \n",
       "2017-02-05         严重   NaN        常温         常温              \n",
       "2018-01-18         严重  10.0        常温         常温         温差小  \n",
       "2018-11-28         严重  12.0        常温         常温         温差大  \n",
       "\n",
       "[1095 rows x 11 columns]"
      ]
     },
     "execution_count": 68,
     "metadata": {},
     "output_type": "execute_result"
    }
   ],
   "source": [
    "# 单列排序\n",
    "df.sort_values(by='aqi')"
   ]
  },
  {
   "cell_type": "code",
   "execution_count": 69,
   "metadata": {
    "ExecuteTime": {
     "end_time": "2020-08-23T03:33:20.976273Z",
     "start_time": "2020-08-23T03:33:20.957269Z"
    }
   },
   "outputs": [
    {
     "data": {
      "text/html": [
       "<div>\n",
       "<style scoped>\n",
       "    .dataframe tbody tr th:only-of-type {\n",
       "        vertical-align: middle;\n",
       "    }\n",
       "\n",
       "    .dataframe tbody tr th {\n",
       "        vertical-align: top;\n",
       "    }\n",
       "\n",
       "    .dataframe thead th {\n",
       "        text-align: right;\n",
       "    }\n",
       "</style>\n",
       "<table border=\"1\" class=\"dataframe\">\n",
       "  <thead>\n",
       "    <tr style=\"text-align: right;\">\n",
       "      <th></th>\n",
       "      <th>week</th>\n",
       "      <th>max_temperature</th>\n",
       "      <th>min_temperature</th>\n",
       "      <th>day_status</th>\n",
       "      <th>wind</th>\n",
       "      <th>aqi</th>\n",
       "      <th>aqi_status</th>\n",
       "      <th>dif</th>\n",
       "      <th>temp_type</th>\n",
       "      <th>temp_type2</th>\n",
       "      <th>wencha_type</th>\n",
       "    </tr>\n",
       "    <tr>\n",
       "      <th>date</th>\n",
       "      <th></th>\n",
       "      <th></th>\n",
       "      <th></th>\n",
       "      <th></th>\n",
       "      <th></th>\n",
       "      <th></th>\n",
       "      <th></th>\n",
       "      <th></th>\n",
       "      <th></th>\n",
       "      <th></th>\n",
       "      <th></th>\n",
       "    </tr>\n",
       "  </thead>\n",
       "  <tbody>\n",
       "    <tr>\n",
       "      <th>2018-11-28</th>\n",
       "      <td>周三</td>\n",
       "      <td>16.0</td>\n",
       "      <td>4.0</td>\n",
       "      <td>晴</td>\n",
       "      <td>西南风1级</td>\n",
       "      <td>422</td>\n",
       "      <td>严重</td>\n",
       "      <td>12.0</td>\n",
       "      <td>常温</td>\n",
       "      <td>常温</td>\n",
       "      <td>温差大</td>\n",
       "    </tr>\n",
       "    <tr>\n",
       "      <th>2018-01-18</th>\n",
       "      <td>周四</td>\n",
       "      <td>9.0</td>\n",
       "      <td>-1.0</td>\n",
       "      <td>多云</td>\n",
       "      <td>北风1-2级</td>\n",
       "      <td>404</td>\n",
       "      <td>严重</td>\n",
       "      <td>10.0</td>\n",
       "      <td>常温</td>\n",
       "      <td>常温</td>\n",
       "      <td>温差小</td>\n",
       "    </tr>\n",
       "    <tr>\n",
       "      <th>2017-02-05</th>\n",
       "      <td>周日</td>\n",
       "      <td>5.0</td>\n",
       "      <td>NaN</td>\n",
       "      <td>晴~多云</td>\n",
       "      <td>无持续风向微风</td>\n",
       "      <td>379</td>\n",
       "      <td>严重</td>\n",
       "      <td>NaN</td>\n",
       "      <td>常温</td>\n",
       "      <td>常温</td>\n",
       "      <td></td>\n",
       "    </tr>\n",
       "    <tr>\n",
       "      <th>2017-01-01</th>\n",
       "      <td>周日</td>\n",
       "      <td>9.0</td>\n",
       "      <td>NaN</td>\n",
       "      <td>多云</td>\n",
       "      <td>无持续风向微风</td>\n",
       "      <td>372</td>\n",
       "      <td>严重</td>\n",
       "      <td>NaN</td>\n",
       "      <td>常温</td>\n",
       "      <td>常温</td>\n",
       "      <td></td>\n",
       "    </tr>\n",
       "    <tr>\n",
       "      <th>2017-01-17</th>\n",
       "      <td>周二</td>\n",
       "      <td>8.0</td>\n",
       "      <td>-2.0</td>\n",
       "      <td>多云~阴</td>\n",
       "      <td>无持续风向微风</td>\n",
       "      <td>370</td>\n",
       "      <td>严重</td>\n",
       "      <td>10.0</td>\n",
       "      <td>常温</td>\n",
       "      <td>常温</td>\n",
       "      <td>温差小</td>\n",
       "    </tr>\n",
       "    <tr>\n",
       "      <th>...</th>\n",
       "      <td>...</td>\n",
       "      <td>...</td>\n",
       "      <td>...</td>\n",
       "      <td>...</td>\n",
       "      <td>...</td>\n",
       "      <td>...</td>\n",
       "      <td>...</td>\n",
       "      <td>...</td>\n",
       "      <td>...</td>\n",
       "      <td>...</td>\n",
       "      <td>...</td>\n",
       "    </tr>\n",
       "    <tr>\n",
       "      <th>2019-09-15</th>\n",
       "      <td>周日</td>\n",
       "      <td>19.0</td>\n",
       "      <td>17.0</td>\n",
       "      <td>中雨~小雨</td>\n",
       "      <td>西北风2级</td>\n",
       "      <td>26</td>\n",
       "      <td>优</td>\n",
       "      <td>2.0</td>\n",
       "      <td>常温</td>\n",
       "      <td>常温</td>\n",
       "      <td>温差小</td>\n",
       "    </tr>\n",
       "    <tr>\n",
       "      <th>2017-10-04</th>\n",
       "      <td>周三</td>\n",
       "      <td>13.0</td>\n",
       "      <td>11.0</td>\n",
       "      <td>小雨~阴</td>\n",
       "      <td>无持续风向微风</td>\n",
       "      <td>26</td>\n",
       "      <td>优</td>\n",
       "      <td>2.0</td>\n",
       "      <td>常温</td>\n",
       "      <td>常温</td>\n",
       "      <td>温差小</td>\n",
       "    </tr>\n",
       "    <tr>\n",
       "      <th>2019-10-05</th>\n",
       "      <td>周六</td>\n",
       "      <td>16.0</td>\n",
       "      <td>11.0</td>\n",
       "      <td>小雨</td>\n",
       "      <td>东北风3级</td>\n",
       "      <td>21</td>\n",
       "      <td>优</td>\n",
       "      <td>5.0</td>\n",
       "      <td>常温</td>\n",
       "      <td>常温</td>\n",
       "      <td>温差小</td>\n",
       "    </tr>\n",
       "    <tr>\n",
       "      <th>2018-08-19</th>\n",
       "      <td>周日</td>\n",
       "      <td>26.0</td>\n",
       "      <td>23.0</td>\n",
       "      <td>小雨</td>\n",
       "      <td>北风4-5级</td>\n",
       "      <td>20</td>\n",
       "      <td>优</td>\n",
       "      <td>3.0</td>\n",
       "      <td>常温</td>\n",
       "      <td>常温</td>\n",
       "      <td>温差小</td>\n",
       "    </tr>\n",
       "    <tr>\n",
       "      <th>2019-09-12</th>\n",
       "      <td>周四</td>\n",
       "      <td>22.0</td>\n",
       "      <td>19.0</td>\n",
       "      <td>小雨~阴</td>\n",
       "      <td>东北风2级</td>\n",
       "      <td>20</td>\n",
       "      <td>优</td>\n",
       "      <td>3.0</td>\n",
       "      <td>常温</td>\n",
       "      <td>常温</td>\n",
       "      <td>温差小</td>\n",
       "    </tr>\n",
       "  </tbody>\n",
       "</table>\n",
       "<p>1095 rows × 11 columns</p>\n",
       "</div>"
      ],
      "text/plain": [
       "           week  max_temperature  min_temperature day_status     wind  aqi  \\\n",
       "date                                                                         \n",
       "2018-11-28   周三             16.0              4.0          晴    西南风1级  422   \n",
       "2018-01-18   周四              9.0             -1.0         多云   北风1-2级  404   \n",
       "2017-02-05   周日              5.0              NaN       晴~多云  无持续风向微风  379   \n",
       "2017-01-01   周日              9.0              NaN         多云  无持续风向微风  372   \n",
       "2017-01-17   周二              8.0             -2.0       多云~阴  无持续风向微风  370   \n",
       "...         ...              ...              ...        ...      ...  ...   \n",
       "2019-09-15   周日             19.0             17.0      中雨~小雨    西北风2级   26   \n",
       "2017-10-04   周三             13.0             11.0       小雨~阴  无持续风向微风   26   \n",
       "2019-10-05   周六             16.0             11.0         小雨    东北风3级   21   \n",
       "2018-08-19   周日             26.0             23.0         小雨   北风4-5级   20   \n",
       "2019-09-12   周四             22.0             19.0       小雨~阴    东北风2级   20   \n",
       "\n",
       "           aqi_status   dif temp_type temp_type2 wencha_type  \n",
       "date                                                          \n",
       "2018-11-28         严重  12.0        常温         常温         温差大  \n",
       "2018-01-18         严重  10.0        常温         常温         温差小  \n",
       "2017-02-05         严重   NaN        常温         常温              \n",
       "2017-01-01         严重   NaN        常温         常温              \n",
       "2017-01-17         严重  10.0        常温         常温         温差小  \n",
       "...               ...   ...       ...        ...         ...  \n",
       "2019-09-15          优   2.0        常温         常温         温差小  \n",
       "2017-10-04          优   2.0        常温         常温         温差小  \n",
       "2019-10-05          优   5.0        常温         常温         温差小  \n",
       "2018-08-19          优   3.0        常温         常温         温差小  \n",
       "2019-09-12          优   3.0        常温         常温         温差小  \n",
       "\n",
       "[1095 rows x 11 columns]"
      ]
     },
     "execution_count": 69,
     "metadata": {},
     "output_type": "execute_result"
    }
   ],
   "source": [
    "# 单列排序\n",
    "df.sort_values(by='aqi', ascending=False)"
   ]
  },
  {
   "cell_type": "markdown",
   "metadata": {},
   "source": [
    "### 多列排序"
   ]
  },
  {
   "cell_type": "code",
   "execution_count": 70,
   "metadata": {
    "ExecuteTime": {
     "end_time": "2020-08-23T03:33:21.024117Z",
     "start_time": "2020-08-23T03:33:20.977243Z"
    }
   },
   "outputs": [
    {
     "data": {
      "text/html": [
       "<div>\n",
       "<style scoped>\n",
       "    .dataframe tbody tr th:only-of-type {\n",
       "        vertical-align: middle;\n",
       "    }\n",
       "\n",
       "    .dataframe tbody tr th {\n",
       "        vertical-align: top;\n",
       "    }\n",
       "\n",
       "    .dataframe thead th {\n",
       "        text-align: right;\n",
       "    }\n",
       "</style>\n",
       "<table border=\"1\" class=\"dataframe\">\n",
       "  <thead>\n",
       "    <tr style=\"text-align: right;\">\n",
       "      <th></th>\n",
       "      <th>week</th>\n",
       "      <th>max_temperature</th>\n",
       "      <th>min_temperature</th>\n",
       "      <th>day_status</th>\n",
       "      <th>wind</th>\n",
       "      <th>aqi</th>\n",
       "      <th>aqi_status</th>\n",
       "      <th>dif</th>\n",
       "      <th>temp_type</th>\n",
       "      <th>temp_type2</th>\n",
       "      <th>wencha_type</th>\n",
       "    </tr>\n",
       "    <tr>\n",
       "      <th>date</th>\n",
       "      <th></th>\n",
       "      <th></th>\n",
       "      <th></th>\n",
       "      <th></th>\n",
       "      <th></th>\n",
       "      <th></th>\n",
       "      <th></th>\n",
       "      <th></th>\n",
       "      <th></th>\n",
       "      <th></th>\n",
       "      <th></th>\n",
       "    </tr>\n",
       "  </thead>\n",
       "  <tbody>\n",
       "    <tr>\n",
       "      <th>2019-09-12</th>\n",
       "      <td>周四</td>\n",
       "      <td>22.0</td>\n",
       "      <td>19.0</td>\n",
       "      <td>小雨~阴</td>\n",
       "      <td>东北风2级</td>\n",
       "      <td>20</td>\n",
       "      <td>优</td>\n",
       "      <td>3.0</td>\n",
       "      <td>常温</td>\n",
       "      <td>常温</td>\n",
       "      <td>温差小</td>\n",
       "    </tr>\n",
       "    <tr>\n",
       "      <th>2018-08-19</th>\n",
       "      <td>周日</td>\n",
       "      <td>26.0</td>\n",
       "      <td>23.0</td>\n",
       "      <td>小雨</td>\n",
       "      <td>北风4-5级</td>\n",
       "      <td>20</td>\n",
       "      <td>优</td>\n",
       "      <td>3.0</td>\n",
       "      <td>常温</td>\n",
       "      <td>常温</td>\n",
       "      <td>温差小</td>\n",
       "    </tr>\n",
       "    <tr>\n",
       "      <th>2019-10-05</th>\n",
       "      <td>周六</td>\n",
       "      <td>16.0</td>\n",
       "      <td>11.0</td>\n",
       "      <td>小雨</td>\n",
       "      <td>东北风3级</td>\n",
       "      <td>21</td>\n",
       "      <td>优</td>\n",
       "      <td>5.0</td>\n",
       "      <td>常温</td>\n",
       "      <td>常温</td>\n",
       "      <td>温差小</td>\n",
       "    </tr>\n",
       "    <tr>\n",
       "      <th>2017-10-04</th>\n",
       "      <td>周三</td>\n",
       "      <td>13.0</td>\n",
       "      <td>11.0</td>\n",
       "      <td>小雨~阴</td>\n",
       "      <td>无持续风向微风</td>\n",
       "      <td>26</td>\n",
       "      <td>优</td>\n",
       "      <td>2.0</td>\n",
       "      <td>常温</td>\n",
       "      <td>常温</td>\n",
       "      <td>温差小</td>\n",
       "    </tr>\n",
       "    <tr>\n",
       "      <th>2019-09-15</th>\n",
       "      <td>周日</td>\n",
       "      <td>19.0</td>\n",
       "      <td>17.0</td>\n",
       "      <td>中雨~小雨</td>\n",
       "      <td>西北风2级</td>\n",
       "      <td>26</td>\n",
       "      <td>优</td>\n",
       "      <td>2.0</td>\n",
       "      <td>常温</td>\n",
       "      <td>常温</td>\n",
       "      <td>温差小</td>\n",
       "    </tr>\n",
       "    <tr>\n",
       "      <th>...</th>\n",
       "      <td>...</td>\n",
       "      <td>...</td>\n",
       "      <td>...</td>\n",
       "      <td>...</td>\n",
       "      <td>...</td>\n",
       "      <td>...</td>\n",
       "      <td>...</td>\n",
       "      <td>...</td>\n",
       "      <td>...</td>\n",
       "      <td>...</td>\n",
       "      <td>...</td>\n",
       "    </tr>\n",
       "    <tr>\n",
       "      <th>2017-01-17</th>\n",
       "      <td>周二</td>\n",
       "      <td>8.0</td>\n",
       "      <td>-2.0</td>\n",
       "      <td>多云~阴</td>\n",
       "      <td>无持续风向微风</td>\n",
       "      <td>370</td>\n",
       "      <td>严重</td>\n",
       "      <td>10.0</td>\n",
       "      <td>常温</td>\n",
       "      <td>常温</td>\n",
       "      <td>温差小</td>\n",
       "    </tr>\n",
       "    <tr>\n",
       "      <th>2017-01-01</th>\n",
       "      <td>周日</td>\n",
       "      <td>9.0</td>\n",
       "      <td>NaN</td>\n",
       "      <td>多云</td>\n",
       "      <td>无持续风向微风</td>\n",
       "      <td>372</td>\n",
       "      <td>严重</td>\n",
       "      <td>NaN</td>\n",
       "      <td>常温</td>\n",
       "      <td>常温</td>\n",
       "      <td></td>\n",
       "    </tr>\n",
       "    <tr>\n",
       "      <th>2017-02-05</th>\n",
       "      <td>周日</td>\n",
       "      <td>5.0</td>\n",
       "      <td>NaN</td>\n",
       "      <td>晴~多云</td>\n",
       "      <td>无持续风向微风</td>\n",
       "      <td>379</td>\n",
       "      <td>严重</td>\n",
       "      <td>NaN</td>\n",
       "      <td>常温</td>\n",
       "      <td>常温</td>\n",
       "      <td></td>\n",
       "    </tr>\n",
       "    <tr>\n",
       "      <th>2018-01-18</th>\n",
       "      <td>周四</td>\n",
       "      <td>9.0</td>\n",
       "      <td>-1.0</td>\n",
       "      <td>多云</td>\n",
       "      <td>北风1-2级</td>\n",
       "      <td>404</td>\n",
       "      <td>严重</td>\n",
       "      <td>10.0</td>\n",
       "      <td>常温</td>\n",
       "      <td>常温</td>\n",
       "      <td>温差小</td>\n",
       "    </tr>\n",
       "    <tr>\n",
       "      <th>2018-11-28</th>\n",
       "      <td>周三</td>\n",
       "      <td>16.0</td>\n",
       "      <td>4.0</td>\n",
       "      <td>晴</td>\n",
       "      <td>西南风1级</td>\n",
       "      <td>422</td>\n",
       "      <td>严重</td>\n",
       "      <td>12.0</td>\n",
       "      <td>常温</td>\n",
       "      <td>常温</td>\n",
       "      <td>温差大</td>\n",
       "    </tr>\n",
       "  </tbody>\n",
       "</table>\n",
       "<p>1095 rows × 11 columns</p>\n",
       "</div>"
      ],
      "text/plain": [
       "           week  max_temperature  min_temperature day_status     wind  aqi  \\\n",
       "date                                                                         \n",
       "2019-09-12   周四             22.0             19.0       小雨~阴    东北风2级   20   \n",
       "2018-08-19   周日             26.0             23.0         小雨   北风4-5级   20   \n",
       "2019-10-05   周六             16.0             11.0         小雨    东北风3级   21   \n",
       "2017-10-04   周三             13.0             11.0       小雨~阴  无持续风向微风   26   \n",
       "2019-09-15   周日             19.0             17.0      中雨~小雨    西北风2级   26   \n",
       "...         ...              ...              ...        ...      ...  ...   \n",
       "2017-01-17   周二              8.0             -2.0       多云~阴  无持续风向微风  370   \n",
       "2017-01-01   周日              9.0              NaN         多云  无持续风向微风  372   \n",
       "2017-02-05   周日              5.0              NaN       晴~多云  无持续风向微风  379   \n",
       "2018-01-18   周四              9.0             -1.0         多云   北风1-2级  404   \n",
       "2018-11-28   周三             16.0              4.0          晴    西南风1级  422   \n",
       "\n",
       "           aqi_status   dif temp_type temp_type2 wencha_type  \n",
       "date                                                          \n",
       "2019-09-12          优   3.0        常温         常温         温差小  \n",
       "2018-08-19          优   3.0        常温         常温         温差小  \n",
       "2019-10-05          优   5.0        常温         常温         温差小  \n",
       "2017-10-04          优   2.0        常温         常温         温差小  \n",
       "2019-09-15          优   2.0        常温         常温         温差小  \n",
       "...               ...   ...       ...        ...         ...  \n",
       "2017-01-17         严重  10.0        常温         常温         温差小  \n",
       "2017-01-01         严重   NaN        常温         常温              \n",
       "2017-02-05         严重   NaN        常温         常温              \n",
       "2018-01-18         严重  10.0        常温         常温         温差小  \n",
       "2018-11-28         严重  12.0        常温         常温         温差大  \n",
       "\n",
       "[1095 rows x 11 columns]"
      ]
     },
     "execution_count": 70,
     "metadata": {},
     "output_type": "execute_result"
    }
   ],
   "source": [
    "# 按空气质量等级、最高温度排序，默认升序\n",
    "df.sort_values(by=['aqi', 'max_temperature'])"
   ]
  },
  {
   "cell_type": "code",
   "execution_count": 71,
   "metadata": {
    "ExecuteTime": {
     "end_time": "2020-08-23T03:33:21.045660Z",
     "start_time": "2020-08-23T03:33:21.025947Z"
    }
   },
   "outputs": [
    {
     "data": {
      "text/html": [
       "<div>\n",
       "<style scoped>\n",
       "    .dataframe tbody tr th:only-of-type {\n",
       "        vertical-align: middle;\n",
       "    }\n",
       "\n",
       "    .dataframe tbody tr th {\n",
       "        vertical-align: top;\n",
       "    }\n",
       "\n",
       "    .dataframe thead th {\n",
       "        text-align: right;\n",
       "    }\n",
       "</style>\n",
       "<table border=\"1\" class=\"dataframe\">\n",
       "  <thead>\n",
       "    <tr style=\"text-align: right;\">\n",
       "      <th></th>\n",
       "      <th>week</th>\n",
       "      <th>max_temperature</th>\n",
       "      <th>min_temperature</th>\n",
       "      <th>day_status</th>\n",
       "      <th>wind</th>\n",
       "      <th>aqi</th>\n",
       "      <th>aqi_status</th>\n",
       "      <th>dif</th>\n",
       "      <th>temp_type</th>\n",
       "      <th>temp_type2</th>\n",
       "      <th>wencha_type</th>\n",
       "    </tr>\n",
       "    <tr>\n",
       "      <th>date</th>\n",
       "      <th></th>\n",
       "      <th></th>\n",
       "      <th></th>\n",
       "      <th></th>\n",
       "      <th></th>\n",
       "      <th></th>\n",
       "      <th></th>\n",
       "      <th></th>\n",
       "      <th></th>\n",
       "      <th></th>\n",
       "      <th></th>\n",
       "    </tr>\n",
       "  </thead>\n",
       "  <tbody>\n",
       "    <tr>\n",
       "      <th>2018-11-28</th>\n",
       "      <td>周三</td>\n",
       "      <td>16.0</td>\n",
       "      <td>4.0</td>\n",
       "      <td>晴</td>\n",
       "      <td>西南风1级</td>\n",
       "      <td>422</td>\n",
       "      <td>严重</td>\n",
       "      <td>12.0</td>\n",
       "      <td>常温</td>\n",
       "      <td>常温</td>\n",
       "      <td>温差大</td>\n",
       "    </tr>\n",
       "    <tr>\n",
       "      <th>2018-01-18</th>\n",
       "      <td>周四</td>\n",
       "      <td>9.0</td>\n",
       "      <td>-1.0</td>\n",
       "      <td>多云</td>\n",
       "      <td>北风1-2级</td>\n",
       "      <td>404</td>\n",
       "      <td>严重</td>\n",
       "      <td>10.0</td>\n",
       "      <td>常温</td>\n",
       "      <td>常温</td>\n",
       "      <td>温差小</td>\n",
       "    </tr>\n",
       "    <tr>\n",
       "      <th>2017-02-05</th>\n",
       "      <td>周日</td>\n",
       "      <td>5.0</td>\n",
       "      <td>NaN</td>\n",
       "      <td>晴~多云</td>\n",
       "      <td>无持续风向微风</td>\n",
       "      <td>379</td>\n",
       "      <td>严重</td>\n",
       "      <td>NaN</td>\n",
       "      <td>常温</td>\n",
       "      <td>常温</td>\n",
       "      <td></td>\n",
       "    </tr>\n",
       "    <tr>\n",
       "      <th>2017-01-01</th>\n",
       "      <td>周日</td>\n",
       "      <td>9.0</td>\n",
       "      <td>NaN</td>\n",
       "      <td>多云</td>\n",
       "      <td>无持续风向微风</td>\n",
       "      <td>372</td>\n",
       "      <td>严重</td>\n",
       "      <td>NaN</td>\n",
       "      <td>常温</td>\n",
       "      <td>常温</td>\n",
       "      <td></td>\n",
       "    </tr>\n",
       "    <tr>\n",
       "      <th>2017-01-17</th>\n",
       "      <td>周二</td>\n",
       "      <td>8.0</td>\n",
       "      <td>-2.0</td>\n",
       "      <td>多云~阴</td>\n",
       "      <td>无持续风向微风</td>\n",
       "      <td>370</td>\n",
       "      <td>严重</td>\n",
       "      <td>10.0</td>\n",
       "      <td>常温</td>\n",
       "      <td>常温</td>\n",
       "      <td>温差小</td>\n",
       "    </tr>\n",
       "    <tr>\n",
       "      <th>...</th>\n",
       "      <td>...</td>\n",
       "      <td>...</td>\n",
       "      <td>...</td>\n",
       "      <td>...</td>\n",
       "      <td>...</td>\n",
       "      <td>...</td>\n",
       "      <td>...</td>\n",
       "      <td>...</td>\n",
       "      <td>...</td>\n",
       "      <td>...</td>\n",
       "      <td>...</td>\n",
       "    </tr>\n",
       "    <tr>\n",
       "      <th>2019-09-15</th>\n",
       "      <td>周日</td>\n",
       "      <td>19.0</td>\n",
       "      <td>17.0</td>\n",
       "      <td>中雨~小雨</td>\n",
       "      <td>西北风2级</td>\n",
       "      <td>26</td>\n",
       "      <td>优</td>\n",
       "      <td>2.0</td>\n",
       "      <td>常温</td>\n",
       "      <td>常温</td>\n",
       "      <td>温差小</td>\n",
       "    </tr>\n",
       "    <tr>\n",
       "      <th>2017-10-04</th>\n",
       "      <td>周三</td>\n",
       "      <td>13.0</td>\n",
       "      <td>11.0</td>\n",
       "      <td>小雨~阴</td>\n",
       "      <td>无持续风向微风</td>\n",
       "      <td>26</td>\n",
       "      <td>优</td>\n",
       "      <td>2.0</td>\n",
       "      <td>常温</td>\n",
       "      <td>常温</td>\n",
       "      <td>温差小</td>\n",
       "    </tr>\n",
       "    <tr>\n",
       "      <th>2019-10-05</th>\n",
       "      <td>周六</td>\n",
       "      <td>16.0</td>\n",
       "      <td>11.0</td>\n",
       "      <td>小雨</td>\n",
       "      <td>东北风3级</td>\n",
       "      <td>21</td>\n",
       "      <td>优</td>\n",
       "      <td>5.0</td>\n",
       "      <td>常温</td>\n",
       "      <td>常温</td>\n",
       "      <td>温差小</td>\n",
       "    </tr>\n",
       "    <tr>\n",
       "      <th>2018-08-19</th>\n",
       "      <td>周日</td>\n",
       "      <td>26.0</td>\n",
       "      <td>23.0</td>\n",
       "      <td>小雨</td>\n",
       "      <td>北风4-5级</td>\n",
       "      <td>20</td>\n",
       "      <td>优</td>\n",
       "      <td>3.0</td>\n",
       "      <td>常温</td>\n",
       "      <td>常温</td>\n",
       "      <td>温差小</td>\n",
       "    </tr>\n",
       "    <tr>\n",
       "      <th>2019-09-12</th>\n",
       "      <td>周四</td>\n",
       "      <td>22.0</td>\n",
       "      <td>19.0</td>\n",
       "      <td>小雨~阴</td>\n",
       "      <td>东北风2级</td>\n",
       "      <td>20</td>\n",
       "      <td>优</td>\n",
       "      <td>3.0</td>\n",
       "      <td>常温</td>\n",
       "      <td>常温</td>\n",
       "      <td>温差小</td>\n",
       "    </tr>\n",
       "  </tbody>\n",
       "</table>\n",
       "<p>1095 rows × 11 columns</p>\n",
       "</div>"
      ],
      "text/plain": [
       "           week  max_temperature  min_temperature day_status     wind  aqi  \\\n",
       "date                                                                         \n",
       "2018-11-28   周三             16.0              4.0          晴    西南风1级  422   \n",
       "2018-01-18   周四              9.0             -1.0         多云   北风1-2级  404   \n",
       "2017-02-05   周日              5.0              NaN       晴~多云  无持续风向微风  379   \n",
       "2017-01-01   周日              9.0              NaN         多云  无持续风向微风  372   \n",
       "2017-01-17   周二              8.0             -2.0       多云~阴  无持续风向微风  370   \n",
       "...         ...              ...              ...        ...      ...  ...   \n",
       "2019-09-15   周日             19.0             17.0      中雨~小雨    西北风2级   26   \n",
       "2017-10-04   周三             13.0             11.0       小雨~阴  无持续风向微风   26   \n",
       "2019-10-05   周六             16.0             11.0         小雨    东北风3级   21   \n",
       "2018-08-19   周日             26.0             23.0         小雨   北风4-5级   20   \n",
       "2019-09-12   周四             22.0             19.0       小雨~阴    东北风2级   20   \n",
       "\n",
       "           aqi_status   dif temp_type temp_type2 wencha_type  \n",
       "date                                                          \n",
       "2018-11-28         严重  12.0        常温         常温         温差大  \n",
       "2018-01-18         严重  10.0        常温         常温         温差小  \n",
       "2017-02-05         严重   NaN        常温         常温              \n",
       "2017-01-01         严重   NaN        常温         常温              \n",
       "2017-01-17         严重  10.0        常温         常温         温差小  \n",
       "...               ...   ...       ...        ...         ...  \n",
       "2019-09-15          优   2.0        常温         常温         温差小  \n",
       "2017-10-04          优   2.0        常温         常温         温差小  \n",
       "2019-10-05          优   5.0        常温         常温         温差小  \n",
       "2018-08-19          优   3.0        常温         常温         温差小  \n",
       "2019-09-12          优   3.0        常温         常温         温差小  \n",
       "\n",
       "[1095 rows x 11 columns]"
      ]
     },
     "execution_count": 71,
     "metadata": {},
     "output_type": "execute_result"
    }
   ],
   "source": [
    "# 两个字段都是降序\n",
    "df.sort_values(by=['aqi', 'max_temperature'], ascending=False)"
   ]
  },
  {
   "cell_type": "code",
   "execution_count": 72,
   "metadata": {
    "ExecuteTime": {
     "end_time": "2020-08-23T03:33:21.071089Z",
     "start_time": "2020-08-23T03:33:21.047226Z"
    }
   },
   "outputs": [
    {
     "data": {
      "text/html": [
       "<div>\n",
       "<style scoped>\n",
       "    .dataframe tbody tr th:only-of-type {\n",
       "        vertical-align: middle;\n",
       "    }\n",
       "\n",
       "    .dataframe tbody tr th {\n",
       "        vertical-align: top;\n",
       "    }\n",
       "\n",
       "    .dataframe thead th {\n",
       "        text-align: right;\n",
       "    }\n",
       "</style>\n",
       "<table border=\"1\" class=\"dataframe\">\n",
       "  <thead>\n",
       "    <tr style=\"text-align: right;\">\n",
       "      <th></th>\n",
       "      <th>week</th>\n",
       "      <th>max_temperature</th>\n",
       "      <th>min_temperature</th>\n",
       "      <th>day_status</th>\n",
       "      <th>wind</th>\n",
       "      <th>aqi</th>\n",
       "      <th>aqi_status</th>\n",
       "      <th>dif</th>\n",
       "      <th>temp_type</th>\n",
       "      <th>temp_type2</th>\n",
       "      <th>wencha_type</th>\n",
       "    </tr>\n",
       "    <tr>\n",
       "      <th>date</th>\n",
       "      <th></th>\n",
       "      <th></th>\n",
       "      <th></th>\n",
       "      <th></th>\n",
       "      <th></th>\n",
       "      <th></th>\n",
       "      <th></th>\n",
       "      <th></th>\n",
       "      <th></th>\n",
       "      <th></th>\n",
       "      <th></th>\n",
       "    </tr>\n",
       "  </thead>\n",
       "  <tbody>\n",
       "    <tr>\n",
       "      <th>2018-08-19</th>\n",
       "      <td>周日</td>\n",
       "      <td>26.0</td>\n",
       "      <td>23.0</td>\n",
       "      <td>小雨</td>\n",
       "      <td>北风4-5级</td>\n",
       "      <td>20</td>\n",
       "      <td>优</td>\n",
       "      <td>3.0</td>\n",
       "      <td>常温</td>\n",
       "      <td>常温</td>\n",
       "      <td>温差小</td>\n",
       "    </tr>\n",
       "    <tr>\n",
       "      <th>2019-09-12</th>\n",
       "      <td>周四</td>\n",
       "      <td>22.0</td>\n",
       "      <td>19.0</td>\n",
       "      <td>小雨~阴</td>\n",
       "      <td>东北风2级</td>\n",
       "      <td>20</td>\n",
       "      <td>优</td>\n",
       "      <td>3.0</td>\n",
       "      <td>常温</td>\n",
       "      <td>常温</td>\n",
       "      <td>温差小</td>\n",
       "    </tr>\n",
       "    <tr>\n",
       "      <th>2019-10-05</th>\n",
       "      <td>周六</td>\n",
       "      <td>16.0</td>\n",
       "      <td>11.0</td>\n",
       "      <td>小雨</td>\n",
       "      <td>东北风3级</td>\n",
       "      <td>21</td>\n",
       "      <td>优</td>\n",
       "      <td>5.0</td>\n",
       "      <td>常温</td>\n",
       "      <td>常温</td>\n",
       "      <td>温差小</td>\n",
       "    </tr>\n",
       "    <tr>\n",
       "      <th>2019-08-02</th>\n",
       "      <td>周五</td>\n",
       "      <td>30.0</td>\n",
       "      <td>24.0</td>\n",
       "      <td>小雨</td>\n",
       "      <td>东北风2级</td>\n",
       "      <td>26</td>\n",
       "      <td>优</td>\n",
       "      <td>6.0</td>\n",
       "      <td>常温</td>\n",
       "      <td>常温</td>\n",
       "      <td>温差小</td>\n",
       "    </tr>\n",
       "    <tr>\n",
       "      <th>2019-09-15</th>\n",
       "      <td>周日</td>\n",
       "      <td>19.0</td>\n",
       "      <td>17.0</td>\n",
       "      <td>中雨~小雨</td>\n",
       "      <td>西北风2级</td>\n",
       "      <td>26</td>\n",
       "      <td>优</td>\n",
       "      <td>2.0</td>\n",
       "      <td>常温</td>\n",
       "      <td>常温</td>\n",
       "      <td>温差小</td>\n",
       "    </tr>\n",
       "    <tr>\n",
       "      <th>...</th>\n",
       "      <td>...</td>\n",
       "      <td>...</td>\n",
       "      <td>...</td>\n",
       "      <td>...</td>\n",
       "      <td>...</td>\n",
       "      <td>...</td>\n",
       "      <td>...</td>\n",
       "      <td>...</td>\n",
       "      <td>...</td>\n",
       "      <td>...</td>\n",
       "      <td>...</td>\n",
       "    </tr>\n",
       "    <tr>\n",
       "      <th>2017-01-17</th>\n",
       "      <td>周二</td>\n",
       "      <td>8.0</td>\n",
       "      <td>-2.0</td>\n",
       "      <td>多云~阴</td>\n",
       "      <td>无持续风向微风</td>\n",
       "      <td>370</td>\n",
       "      <td>严重</td>\n",
       "      <td>10.0</td>\n",
       "      <td>常温</td>\n",
       "      <td>常温</td>\n",
       "      <td>温差小</td>\n",
       "    </tr>\n",
       "    <tr>\n",
       "      <th>2017-01-01</th>\n",
       "      <td>周日</td>\n",
       "      <td>9.0</td>\n",
       "      <td>NaN</td>\n",
       "      <td>多云</td>\n",
       "      <td>无持续风向微风</td>\n",
       "      <td>372</td>\n",
       "      <td>严重</td>\n",
       "      <td>NaN</td>\n",
       "      <td>常温</td>\n",
       "      <td>常温</td>\n",
       "      <td></td>\n",
       "    </tr>\n",
       "    <tr>\n",
       "      <th>2017-02-05</th>\n",
       "      <td>周日</td>\n",
       "      <td>5.0</td>\n",
       "      <td>NaN</td>\n",
       "      <td>晴~多云</td>\n",
       "      <td>无持续风向微风</td>\n",
       "      <td>379</td>\n",
       "      <td>严重</td>\n",
       "      <td>NaN</td>\n",
       "      <td>常温</td>\n",
       "      <td>常温</td>\n",
       "      <td></td>\n",
       "    </tr>\n",
       "    <tr>\n",
       "      <th>2018-01-18</th>\n",
       "      <td>周四</td>\n",
       "      <td>9.0</td>\n",
       "      <td>-1.0</td>\n",
       "      <td>多云</td>\n",
       "      <td>北风1-2级</td>\n",
       "      <td>404</td>\n",
       "      <td>严重</td>\n",
       "      <td>10.0</td>\n",
       "      <td>常温</td>\n",
       "      <td>常温</td>\n",
       "      <td>温差小</td>\n",
       "    </tr>\n",
       "    <tr>\n",
       "      <th>2018-11-28</th>\n",
       "      <td>周三</td>\n",
       "      <td>16.0</td>\n",
       "      <td>4.0</td>\n",
       "      <td>晴</td>\n",
       "      <td>西南风1级</td>\n",
       "      <td>422</td>\n",
       "      <td>严重</td>\n",
       "      <td>12.0</td>\n",
       "      <td>常温</td>\n",
       "      <td>常温</td>\n",
       "      <td>温差大</td>\n",
       "    </tr>\n",
       "  </tbody>\n",
       "</table>\n",
       "<p>1095 rows × 11 columns</p>\n",
       "</div>"
      ],
      "text/plain": [
       "           week  max_temperature  min_temperature day_status     wind  aqi  \\\n",
       "date                                                                         \n",
       "2018-08-19   周日             26.0             23.0         小雨   北风4-5级   20   \n",
       "2019-09-12   周四             22.0             19.0       小雨~阴    东北风2级   20   \n",
       "2019-10-05   周六             16.0             11.0         小雨    东北风3级   21   \n",
       "2019-08-02   周五             30.0             24.0         小雨    东北风2级   26   \n",
       "2019-09-15   周日             19.0             17.0      中雨~小雨    西北风2级   26   \n",
       "...         ...              ...              ...        ...      ...  ...   \n",
       "2017-01-17   周二              8.0             -2.0       多云~阴  无持续风向微风  370   \n",
       "2017-01-01   周日              9.0              NaN         多云  无持续风向微风  372   \n",
       "2017-02-05   周日              5.0              NaN       晴~多云  无持续风向微风  379   \n",
       "2018-01-18   周四              9.0             -1.0         多云   北风1-2级  404   \n",
       "2018-11-28   周三             16.0              4.0          晴    西南风1级  422   \n",
       "\n",
       "           aqi_status   dif temp_type temp_type2 wencha_type  \n",
       "date                                                          \n",
       "2018-08-19          优   3.0        常温         常温         温差小  \n",
       "2019-09-12          优   3.0        常温         常温         温差小  \n",
       "2019-10-05          优   5.0        常温         常温         温差小  \n",
       "2019-08-02          优   6.0        常温         常温         温差小  \n",
       "2019-09-15          优   2.0        常温         常温         温差小  \n",
       "...               ...   ...       ...        ...         ...  \n",
       "2017-01-17         严重  10.0        常温         常温         温差小  \n",
       "2017-01-01         严重   NaN        常温         常温              \n",
       "2017-02-05         严重   NaN        常温         常温              \n",
       "2018-01-18         严重  10.0        常温         常温         温差小  \n",
       "2018-11-28         严重  12.0        常温         常温         温差大  \n",
       "\n",
       "[1095 rows x 11 columns]"
      ]
     },
     "execution_count": 72,
     "metadata": {},
     "output_type": "execute_result"
    }
   ],
   "source": [
    "# 分别指定升序和降序\n",
    "df.sort_values(by=['aqi', 'max_temperature'], ascending=[True, False])"
   ]
  },
  {
   "cell_type": "markdown",
   "metadata": {},
   "source": [
    "## 14、字符处理\n",
    "## Pandas字符串处理\n",
    "\n",
    "前面我们已经使用了字符串的处理函数：\n",
    "df[\"bWendu\"].str.replace(\"℃\", \"\").astype('int32')\n",
    "\n",
    "***Pandas的字符串处理：\\***\n",
    "\n",
    "1. 使用方法：先获取Series的str属性，然后在属性上调用函数；\n",
    "2. 只能在字符串列上使用，不能数字列上使用；\n",
    "3. Dataframe上没有str属性和处理方法\n",
    "4. Series.str并不是Python原生字符串，而是自己的一套方法，不过大部分和原生str很相似；\n",
    "\n",
    "***Series.str字符串方法列表参考文档:\\***\n",
    "https://pandas.pydata.org/pandas-docs/stable/reference/series.html#string-handling\n",
    "\n",
    "***本节演示内容：\\***\n",
    "\n",
    "1. 获取Series的str属性，然后使用各种字符串处理函数\n",
    "2. 使用str的startswith、contains等bool类Series可以做条件查询\n",
    "3. 需要多次str处理的链式操作\n",
    "4. 使用正则表达式的处理"
   ]
  },
  {
   "cell_type": "code",
   "execution_count": 73,
   "metadata": {
    "ExecuteTime": {
     "end_time": "2020-08-23T03:33:21.079510Z",
     "start_time": "2020-08-23T03:33:21.072786Z"
    }
   },
   "outputs": [
    {
     "data": {
      "text/plain": [
       "date\n",
       "2017-01-01    False\n",
       "2017-01-02    False\n",
       "2017-01-03    False\n",
       "2017-01-04    False\n",
       "2017-01-05    False\n",
       "              ...  \n",
       "2019-12-27    False\n",
       "2019-12-28    False\n",
       "2019-12-29    False\n",
       "2019-12-30    False\n",
       "2019-12-31    False\n",
       "Name: week, Length: 1095, dtype: bool"
      ]
     },
     "execution_count": 73,
     "metadata": {},
     "output_type": "execute_result"
    }
   ],
   "source": [
    "# 判断是不是数字\n",
    "df[\"week\"].str.isnumeric()"
   ]
  },
  {
   "cell_type": "code",
   "execution_count": 74,
   "metadata": {
    "ExecuteTime": {
     "end_time": "2020-08-23T03:33:21.091201Z",
     "start_time": "2020-08-23T03:33:21.080732Z"
    }
   },
   "outputs": [
    {
     "data": {
      "text/plain": [
       "date\n",
       "2017-01-01    2\n",
       "2017-01-02    2\n",
       "2017-01-03    2\n",
       "2017-01-04    2\n",
       "2017-01-05    2\n",
       "             ..\n",
       "2019-12-27    2\n",
       "2019-12-28    2\n",
       "2019-12-29    2\n",
       "2019-12-30    2\n",
       "2019-12-31    2\n",
       "Name: week, Length: 1095, dtype: int64"
      ]
     },
     "execution_count": 74,
     "metadata": {},
     "output_type": "execute_result"
    }
   ],
   "source": [
    "# 长度\n",
    "df[\"week\"].str.len()"
   ]
  },
  {
   "cell_type": "code",
   "execution_count": 75,
   "metadata": {
    "ExecuteTime": {
     "end_time": "2020-08-23T03:33:21.104173Z",
     "start_time": "2020-08-23T03:33:21.093194Z"
    }
   },
   "outputs": [],
   "source": [
    "condition = df.index.str.startswith('2019-12')"
   ]
  },
  {
   "cell_type": "code",
   "execution_count": 76,
   "metadata": {
    "ExecuteTime": {
     "end_time": "2020-08-23T03:33:21.136630Z",
     "start_time": "2020-08-23T03:33:21.105259Z"
    }
   },
   "outputs": [
    {
     "data": {
      "text/html": [
       "<div>\n",
       "<style scoped>\n",
       "    .dataframe tbody tr th:only-of-type {\n",
       "        vertical-align: middle;\n",
       "    }\n",
       "\n",
       "    .dataframe tbody tr th {\n",
       "        vertical-align: top;\n",
       "    }\n",
       "\n",
       "    .dataframe thead th {\n",
       "        text-align: right;\n",
       "    }\n",
       "</style>\n",
       "<table border=\"1\" class=\"dataframe\">\n",
       "  <thead>\n",
       "    <tr style=\"text-align: right;\">\n",
       "      <th></th>\n",
       "      <th>week</th>\n",
       "      <th>max_temperature</th>\n",
       "      <th>min_temperature</th>\n",
       "      <th>day_status</th>\n",
       "      <th>wind</th>\n",
       "      <th>aqi</th>\n",
       "      <th>aqi_status</th>\n",
       "      <th>dif</th>\n",
       "      <th>temp_type</th>\n",
       "      <th>temp_type2</th>\n",
       "      <th>wencha_type</th>\n",
       "    </tr>\n",
       "    <tr>\n",
       "      <th>date</th>\n",
       "      <th></th>\n",
       "      <th></th>\n",
       "      <th></th>\n",
       "      <th></th>\n",
       "      <th></th>\n",
       "      <th></th>\n",
       "      <th></th>\n",
       "      <th></th>\n",
       "      <th></th>\n",
       "      <th></th>\n",
       "      <th></th>\n",
       "    </tr>\n",
       "  </thead>\n",
       "  <tbody>\n",
       "    <tr>\n",
       "      <th>2019-12-01</th>\n",
       "      <td>周日</td>\n",
       "      <td>9.0</td>\n",
       "      <td>NaN</td>\n",
       "      <td>多云~晴</td>\n",
       "      <td>西北风3级</td>\n",
       "      <td>116</td>\n",
       "      <td>轻度</td>\n",
       "      <td>NaN</td>\n",
       "      <td>常温</td>\n",
       "      <td>常温</td>\n",
       "      <td></td>\n",
       "    </tr>\n",
       "    <tr>\n",
       "      <th>2019-12-02</th>\n",
       "      <td>周一</td>\n",
       "      <td>8.0</td>\n",
       "      <td>1.0</td>\n",
       "      <td>晴</td>\n",
       "      <td>西北风3级</td>\n",
       "      <td>51</td>\n",
       "      <td>良</td>\n",
       "      <td>7.0</td>\n",
       "      <td>常温</td>\n",
       "      <td>常温</td>\n",
       "      <td>温差小</td>\n",
       "    </tr>\n",
       "    <tr>\n",
       "      <th>2019-12-03</th>\n",
       "      <td>周二</td>\n",
       "      <td>13.0</td>\n",
       "      <td>3.0</td>\n",
       "      <td>晴</td>\n",
       "      <td>西北风3级</td>\n",
       "      <td>51</td>\n",
       "      <td>良</td>\n",
       "      <td>10.0</td>\n",
       "      <td>常温</td>\n",
       "      <td>常温</td>\n",
       "      <td>温差小</td>\n",
       "    </tr>\n",
       "    <tr>\n",
       "      <th>2019-12-04</th>\n",
       "      <td>周三</td>\n",
       "      <td>13.0</td>\n",
       "      <td>2.0</td>\n",
       "      <td>晴</td>\n",
       "      <td>西北风3级</td>\n",
       "      <td>55</td>\n",
       "      <td>良</td>\n",
       "      <td>11.0</td>\n",
       "      <td>常温</td>\n",
       "      <td>常温</td>\n",
       "      <td>温差大</td>\n",
       "    </tr>\n",
       "    <tr>\n",
       "      <th>2019-12-05</th>\n",
       "      <td>周四</td>\n",
       "      <td>9.0</td>\n",
       "      <td>-3.0</td>\n",
       "      <td>多云~晴</td>\n",
       "      <td>东北风3级</td>\n",
       "      <td>92</td>\n",
       "      <td>良</td>\n",
       "      <td>12.0</td>\n",
       "      <td>常温</td>\n",
       "      <td>常温</td>\n",
       "      <td>温差大</td>\n",
       "    </tr>\n",
       "    <tr>\n",
       "      <th>2019-12-06</th>\n",
       "      <td>周五</td>\n",
       "      <td>8.0</td>\n",
       "      <td>-2.0</td>\n",
       "      <td>晴</td>\n",
       "      <td>东南风2级</td>\n",
       "      <td>112</td>\n",
       "      <td>轻度</td>\n",
       "      <td>10.0</td>\n",
       "      <td>常温</td>\n",
       "      <td>常温</td>\n",
       "      <td>温差小</td>\n",
       "    </tr>\n",
       "    <tr>\n",
       "      <th>2019-12-07</th>\n",
       "      <td>周六</td>\n",
       "      <td>8.0</td>\n",
       "      <td>NaN</td>\n",
       "      <td>晴~多云</td>\n",
       "      <td>东南风1级</td>\n",
       "      <td>210</td>\n",
       "      <td>重度</td>\n",
       "      <td>NaN</td>\n",
       "      <td>常温</td>\n",
       "      <td>常温</td>\n",
       "      <td></td>\n",
       "    </tr>\n",
       "    <tr>\n",
       "      <th>2019-12-08</th>\n",
       "      <td>周日</td>\n",
       "      <td>14.0</td>\n",
       "      <td>-1.0</td>\n",
       "      <td>晴</td>\n",
       "      <td>西南风3级</td>\n",
       "      <td>196</td>\n",
       "      <td>中度</td>\n",
       "      <td>15.0</td>\n",
       "      <td>常温</td>\n",
       "      <td>常温</td>\n",
       "      <td>温差大</td>\n",
       "    </tr>\n",
       "    <tr>\n",
       "      <th>2019-12-09</th>\n",
       "      <td>周一</td>\n",
       "      <td>16.0</td>\n",
       "      <td>2.0</td>\n",
       "      <td>晴</td>\n",
       "      <td>西风3级</td>\n",
       "      <td>74</td>\n",
       "      <td>良</td>\n",
       "      <td>14.0</td>\n",
       "      <td>常温</td>\n",
       "      <td>常温</td>\n",
       "      <td>温差大</td>\n",
       "    </tr>\n",
       "    <tr>\n",
       "      <th>2019-12-10</th>\n",
       "      <td>周二</td>\n",
       "      <td>16.0</td>\n",
       "      <td>2.0</td>\n",
       "      <td>晴</td>\n",
       "      <td>西北风3级</td>\n",
       "      <td>80</td>\n",
       "      <td>良</td>\n",
       "      <td>14.0</td>\n",
       "      <td>常温</td>\n",
       "      <td>常温</td>\n",
       "      <td>温差大</td>\n",
       "    </tr>\n",
       "    <tr>\n",
       "      <th>2019-12-11</th>\n",
       "      <td>周三</td>\n",
       "      <td>13.0</td>\n",
       "      <td>-2.0</td>\n",
       "      <td>晴~多云</td>\n",
       "      <td>西北风2级</td>\n",
       "      <td>121</td>\n",
       "      <td>轻度</td>\n",
       "      <td>15.0</td>\n",
       "      <td>常温</td>\n",
       "      <td>常温</td>\n",
       "      <td>温差大</td>\n",
       "    </tr>\n",
       "    <tr>\n",
       "      <th>2019-12-12</th>\n",
       "      <td>周四</td>\n",
       "      <td>8.0</td>\n",
       "      <td>3.0</td>\n",
       "      <td>多云~阴</td>\n",
       "      <td>东北风2级</td>\n",
       "      <td>108</td>\n",
       "      <td>轻度</td>\n",
       "      <td>5.0</td>\n",
       "      <td>常温</td>\n",
       "      <td>常温</td>\n",
       "      <td>温差小</td>\n",
       "    </tr>\n",
       "    <tr>\n",
       "      <th>2019-12-13</th>\n",
       "      <td>周五</td>\n",
       "      <td>16.0</td>\n",
       "      <td>2.0</td>\n",
       "      <td>多云</td>\n",
       "      <td>西北风3级</td>\n",
       "      <td>146</td>\n",
       "      <td>轻度</td>\n",
       "      <td>14.0</td>\n",
       "      <td>常温</td>\n",
       "      <td>常温</td>\n",
       "      <td>温差大</td>\n",
       "    </tr>\n",
       "    <tr>\n",
       "      <th>2019-12-14</th>\n",
       "      <td>周六</td>\n",
       "      <td>5.0</td>\n",
       "      <td>3.0</td>\n",
       "      <td>多云~阴</td>\n",
       "      <td>东北风3级</td>\n",
       "      <td>77</td>\n",
       "      <td>良</td>\n",
       "      <td>2.0</td>\n",
       "      <td>常温</td>\n",
       "      <td>常温</td>\n",
       "      <td>温差小</td>\n",
       "    </tr>\n",
       "    <tr>\n",
       "      <th>2019-12-15</th>\n",
       "      <td>周日</td>\n",
       "      <td>4.0</td>\n",
       "      <td>2.0</td>\n",
       "      <td>小雨</td>\n",
       "      <td>东北风2级</td>\n",
       "      <td>76</td>\n",
       "      <td>良</td>\n",
       "      <td>2.0</td>\n",
       "      <td>常温</td>\n",
       "      <td>常温</td>\n",
       "      <td>温差小</td>\n",
       "    </tr>\n",
       "    <tr>\n",
       "      <th>2019-12-16</th>\n",
       "      <td>周一</td>\n",
       "      <td>11.0</td>\n",
       "      <td>4.0</td>\n",
       "      <td>阴~小雨</td>\n",
       "      <td>西北风3级</td>\n",
       "      <td>65</td>\n",
       "      <td>良</td>\n",
       "      <td>7.0</td>\n",
       "      <td>常温</td>\n",
       "      <td>常温</td>\n",
       "      <td>温差小</td>\n",
       "    </tr>\n",
       "    <tr>\n",
       "      <th>2019-12-17</th>\n",
       "      <td>周二</td>\n",
       "      <td>10.0</td>\n",
       "      <td>1.0</td>\n",
       "      <td>多云~阴</td>\n",
       "      <td>东北风2级</td>\n",
       "      <td>90</td>\n",
       "      <td>良</td>\n",
       "      <td>9.0</td>\n",
       "      <td>常温</td>\n",
       "      <td>常温</td>\n",
       "      <td>温差小</td>\n",
       "    </tr>\n",
       "    <tr>\n",
       "      <th>2019-12-18</th>\n",
       "      <td>周三</td>\n",
       "      <td>6.0</td>\n",
       "      <td>-2.0</td>\n",
       "      <td>阴~多云</td>\n",
       "      <td>东南风2级</td>\n",
       "      <td>50</td>\n",
       "      <td>优</td>\n",
       "      <td>8.0</td>\n",
       "      <td>常温</td>\n",
       "      <td>常温</td>\n",
       "      <td>温差小</td>\n",
       "    </tr>\n",
       "    <tr>\n",
       "      <th>2019-12-19</th>\n",
       "      <td>周四</td>\n",
       "      <td>10.0</td>\n",
       "      <td>-4.0</td>\n",
       "      <td>多云~晴</td>\n",
       "      <td>西南风1级</td>\n",
       "      <td>100</td>\n",
       "      <td>良</td>\n",
       "      <td>14.0</td>\n",
       "      <td>常温</td>\n",
       "      <td>常温</td>\n",
       "      <td>温差大</td>\n",
       "    </tr>\n",
       "    <tr>\n",
       "      <th>2019-12-20</th>\n",
       "      <td>周五</td>\n",
       "      <td>8.0</td>\n",
       "      <td>-2.0</td>\n",
       "      <td>晴~多云</td>\n",
       "      <td>东南风2级</td>\n",
       "      <td>164</td>\n",
       "      <td>中度</td>\n",
       "      <td>10.0</td>\n",
       "      <td>常温</td>\n",
       "      <td>常温</td>\n",
       "      <td>温差小</td>\n",
       "    </tr>\n",
       "    <tr>\n",
       "      <th>2019-12-21</th>\n",
       "      <td>周六</td>\n",
       "      <td>10.0</td>\n",
       "      <td>-1.0</td>\n",
       "      <td>多云~晴</td>\n",
       "      <td>东南风2级</td>\n",
       "      <td>197</td>\n",
       "      <td>中度</td>\n",
       "      <td>11.0</td>\n",
       "      <td>常温</td>\n",
       "      <td>常温</td>\n",
       "      <td>温差大</td>\n",
       "    </tr>\n",
       "    <tr>\n",
       "      <th>2019-12-22</th>\n",
       "      <td>周日</td>\n",
       "      <td>12.0</td>\n",
       "      <td>-1.0</td>\n",
       "      <td>晴~多云</td>\n",
       "      <td>东南风2级</td>\n",
       "      <td>250</td>\n",
       "      <td>重度</td>\n",
       "      <td>13.0</td>\n",
       "      <td>常温</td>\n",
       "      <td>常温</td>\n",
       "      <td>温差大</td>\n",
       "    </tr>\n",
       "    <tr>\n",
       "      <th>2019-12-23</th>\n",
       "      <td>周一</td>\n",
       "      <td>12.0</td>\n",
       "      <td>NaN</td>\n",
       "      <td>多云~阴</td>\n",
       "      <td>东北风3级</td>\n",
       "      <td>262</td>\n",
       "      <td>重度</td>\n",
       "      <td>NaN</td>\n",
       "      <td>常温</td>\n",
       "      <td>常温</td>\n",
       "      <td></td>\n",
       "    </tr>\n",
       "    <tr>\n",
       "      <th>2019-12-24</th>\n",
       "      <td>周二</td>\n",
       "      <td>6.0</td>\n",
       "      <td>2.0</td>\n",
       "      <td>阴</td>\n",
       "      <td>东南风2级</td>\n",
       "      <td>247</td>\n",
       "      <td>重度</td>\n",
       "      <td>4.0</td>\n",
       "      <td>常温</td>\n",
       "      <td>常温</td>\n",
       "      <td>温差小</td>\n",
       "    </tr>\n",
       "    <tr>\n",
       "      <th>2019-12-25</th>\n",
       "      <td>周三</td>\n",
       "      <td>6.0</td>\n",
       "      <td>NaN</td>\n",
       "      <td>小雨~多云</td>\n",
       "      <td>东北风2级</td>\n",
       "      <td>281</td>\n",
       "      <td>重度</td>\n",
       "      <td>NaN</td>\n",
       "      <td>常温</td>\n",
       "      <td>常温</td>\n",
       "      <td></td>\n",
       "    </tr>\n",
       "    <tr>\n",
       "      <th>2019-12-26</th>\n",
       "      <td>周四</td>\n",
       "      <td>7.0</td>\n",
       "      <td>-2.0</td>\n",
       "      <td>多云~晴</td>\n",
       "      <td>西北风3级</td>\n",
       "      <td>121</td>\n",
       "      <td>轻度</td>\n",
       "      <td>9.0</td>\n",
       "      <td>常温</td>\n",
       "      <td>常温</td>\n",
       "      <td>温差小</td>\n",
       "    </tr>\n",
       "    <tr>\n",
       "      <th>2019-12-27</th>\n",
       "      <td>周五</td>\n",
       "      <td>14.0</td>\n",
       "      <td>-2.0</td>\n",
       "      <td>晴~多云</td>\n",
       "      <td>西南风2级</td>\n",
       "      <td>55</td>\n",
       "      <td>良</td>\n",
       "      <td>16.0</td>\n",
       "      <td>常温</td>\n",
       "      <td>常温</td>\n",
       "      <td>温差大</td>\n",
       "    </tr>\n",
       "    <tr>\n",
       "      <th>2019-12-28</th>\n",
       "      <td>周六</td>\n",
       "      <td>14.0</td>\n",
       "      <td>NaN</td>\n",
       "      <td>阴~多云</td>\n",
       "      <td>西南风2级</td>\n",
       "      <td>80</td>\n",
       "      <td>良</td>\n",
       "      <td>NaN</td>\n",
       "      <td>常温</td>\n",
       "      <td>常温</td>\n",
       "      <td></td>\n",
       "    </tr>\n",
       "    <tr>\n",
       "      <th>2019-12-29</th>\n",
       "      <td>周日</td>\n",
       "      <td>14.0</td>\n",
       "      <td>NaN</td>\n",
       "      <td>多云~晴</td>\n",
       "      <td>西南风2级</td>\n",
       "      <td>116</td>\n",
       "      <td>轻度</td>\n",
       "      <td>NaN</td>\n",
       "      <td>常温</td>\n",
       "      <td>常温</td>\n",
       "      <td></td>\n",
       "    </tr>\n",
       "    <tr>\n",
       "      <th>2019-12-30</th>\n",
       "      <td>周一</td>\n",
       "      <td>5.0</td>\n",
       "      <td>-7.0</td>\n",
       "      <td>晴</td>\n",
       "      <td>东北风3级</td>\n",
       "      <td>131</td>\n",
       "      <td>轻度</td>\n",
       "      <td>12.0</td>\n",
       "      <td>常温</td>\n",
       "      <td>常温</td>\n",
       "      <td>温差大</td>\n",
       "    </tr>\n",
       "    <tr>\n",
       "      <th>2019-12-31</th>\n",
       "      <td>周二</td>\n",
       "      <td>1.0</td>\n",
       "      <td>-4.0</td>\n",
       "      <td>多云</td>\n",
       "      <td>东南风2级</td>\n",
       "      <td>48</td>\n",
       "      <td>优</td>\n",
       "      <td>5.0</td>\n",
       "      <td>常温</td>\n",
       "      <td>常温</td>\n",
       "      <td>温差小</td>\n",
       "    </tr>\n",
       "  </tbody>\n",
       "</table>\n",
       "</div>"
      ],
      "text/plain": [
       "           week  max_temperature  min_temperature day_status   wind  aqi  \\\n",
       "date                                                                       \n",
       "2019-12-01   周日              9.0              NaN       多云~晴  西北风3级  116   \n",
       "2019-12-02   周一              8.0              1.0          晴  西北风3级   51   \n",
       "2019-12-03   周二             13.0              3.0          晴  西北风3级   51   \n",
       "2019-12-04   周三             13.0              2.0          晴  西北风3级   55   \n",
       "2019-12-05   周四              9.0             -3.0       多云~晴  东北风3级   92   \n",
       "2019-12-06   周五              8.0             -2.0          晴  东南风2级  112   \n",
       "2019-12-07   周六              8.0              NaN       晴~多云  东南风1级  210   \n",
       "2019-12-08   周日             14.0             -1.0          晴  西南风3级  196   \n",
       "2019-12-09   周一             16.0              2.0          晴   西风3级   74   \n",
       "2019-12-10   周二             16.0              2.0          晴  西北风3级   80   \n",
       "2019-12-11   周三             13.0             -2.0       晴~多云  西北风2级  121   \n",
       "2019-12-12   周四              8.0              3.0       多云~阴  东北风2级  108   \n",
       "2019-12-13   周五             16.0              2.0         多云  西北风3级  146   \n",
       "2019-12-14   周六              5.0              3.0       多云~阴  东北风3级   77   \n",
       "2019-12-15   周日              4.0              2.0         小雨  东北风2级   76   \n",
       "2019-12-16   周一             11.0              4.0       阴~小雨  西北风3级   65   \n",
       "2019-12-17   周二             10.0              1.0       多云~阴  东北风2级   90   \n",
       "2019-12-18   周三              6.0             -2.0       阴~多云  东南风2级   50   \n",
       "2019-12-19   周四             10.0             -4.0       多云~晴  西南风1级  100   \n",
       "2019-12-20   周五              8.0             -2.0       晴~多云  东南风2级  164   \n",
       "2019-12-21   周六             10.0             -1.0       多云~晴  东南风2级  197   \n",
       "2019-12-22   周日             12.0             -1.0       晴~多云  东南风2级  250   \n",
       "2019-12-23   周一             12.0              NaN       多云~阴  东北风3级  262   \n",
       "2019-12-24   周二              6.0              2.0          阴  东南风2级  247   \n",
       "2019-12-25   周三              6.0              NaN      小雨~多云  东北风2级  281   \n",
       "2019-12-26   周四              7.0             -2.0       多云~晴  西北风3级  121   \n",
       "2019-12-27   周五             14.0             -2.0       晴~多云  西南风2级   55   \n",
       "2019-12-28   周六             14.0              NaN       阴~多云  西南风2级   80   \n",
       "2019-12-29   周日             14.0              NaN       多云~晴  西南风2级  116   \n",
       "2019-12-30   周一              5.0             -7.0          晴  东北风3级  131   \n",
       "2019-12-31   周二              1.0             -4.0         多云  东南风2级   48   \n",
       "\n",
       "           aqi_status   dif temp_type temp_type2 wencha_type  \n",
       "date                                                          \n",
       "2019-12-01         轻度   NaN        常温         常温              \n",
       "2019-12-02          良   7.0        常温         常温         温差小  \n",
       "2019-12-03          良  10.0        常温         常温         温差小  \n",
       "2019-12-04          良  11.0        常温         常温         温差大  \n",
       "2019-12-05          良  12.0        常温         常温         温差大  \n",
       "2019-12-06         轻度  10.0        常温         常温         温差小  \n",
       "2019-12-07         重度   NaN        常温         常温              \n",
       "2019-12-08         中度  15.0        常温         常温         温差大  \n",
       "2019-12-09          良  14.0        常温         常温         温差大  \n",
       "2019-12-10          良  14.0        常温         常温         温差大  \n",
       "2019-12-11         轻度  15.0        常温         常温         温差大  \n",
       "2019-12-12         轻度   5.0        常温         常温         温差小  \n",
       "2019-12-13         轻度  14.0        常温         常温         温差大  \n",
       "2019-12-14          良   2.0        常温         常温         温差小  \n",
       "2019-12-15          良   2.0        常温         常温         温差小  \n",
       "2019-12-16          良   7.0        常温         常温         温差小  \n",
       "2019-12-17          良   9.0        常温         常温         温差小  \n",
       "2019-12-18          优   8.0        常温         常温         温差小  \n",
       "2019-12-19          良  14.0        常温         常温         温差大  \n",
       "2019-12-20         中度  10.0        常温         常温         温差小  \n",
       "2019-12-21         中度  11.0        常温         常温         温差大  \n",
       "2019-12-22         重度  13.0        常温         常温         温差大  \n",
       "2019-12-23         重度   NaN        常温         常温              \n",
       "2019-12-24         重度   4.0        常温         常温         温差小  \n",
       "2019-12-25         重度   NaN        常温         常温              \n",
       "2019-12-26         轻度   9.0        常温         常温         温差小  \n",
       "2019-12-27          良  16.0        常温         常温         温差大  \n",
       "2019-12-28          良   NaN        常温         常温              \n",
       "2019-12-29         轻度   NaN        常温         常温              \n",
       "2019-12-30         轻度  12.0        常温         常温         温差大  \n",
       "2019-12-31          优   5.0        常温         常温         温差小  "
      ]
     },
     "execution_count": 76,
     "metadata": {},
     "output_type": "execute_result"
    }
   ],
   "source": [
    "df[condition]"
   ]
  },
  {
   "cell_type": "code",
   "execution_count": 77,
   "metadata": {
    "ExecuteTime": {
     "end_time": "2020-08-23T03:33:21.150097Z",
     "start_time": "2020-08-23T03:33:21.138041Z"
    }
   },
   "outputs": [],
   "source": [
    "df.index.str.replace('-', '').str[0:6]\n",
    "df['date'] = df.index\n"
   ]
  },
  {
   "cell_type": "code",
   "execution_count": 78,
   "metadata": {
    "ExecuteTime": {
     "end_time": "2020-08-23T03:33:21.165112Z",
     "start_time": "2020-08-23T03:33:21.152064Z"
    }
   },
   "outputs": [
    {
     "data": {
      "text/plain": [
       "date\n",
       "2017-01-01    2017-01-01\n",
       "2017-01-02    2017-01-02\n",
       "2017-01-03    2017-01-03\n",
       "2017-01-04    2017-01-04\n",
       "2017-01-05    2017-01-05\n",
       "                 ...    \n",
       "2019-12-27    2019-12-27\n",
       "2019-12-28    2019-12-28\n",
       "2019-12-29    2019-12-29\n",
       "2019-12-30    2019-12-30\n",
       "2019-12-31    2019-12-31\n",
       "Name: date, Length: 1095, dtype: object"
      ]
     },
     "execution_count": 78,
     "metadata": {},
     "output_type": "execute_result"
    }
   ],
   "source": [
    "df['date']\n"
   ]
  },
  {
   "cell_type": "code",
   "execution_count": 79,
   "metadata": {
    "ExecuteTime": {
     "end_time": "2020-08-23T03:33:21.189082Z",
     "start_time": "2020-08-23T03:33:21.166250Z"
    }
   },
   "outputs": [],
   "source": [
    "# 正则\n",
    "# 添加新列\n",
    "def get_nianyueri(df):\n",
    "    year,month,day = df['date'].split(\"-\")\n",
    "    return f\"{year}年{month}月{day}日\"\n",
    "df[\"中文日期\"] = df.apply(get_nianyueri, axis=1)"
   ]
  },
  {
   "cell_type": "code",
   "execution_count": 80,
   "metadata": {
    "ExecuteTime": {
     "end_time": "2020-08-23T03:33:21.208192Z",
     "start_time": "2020-08-23T03:33:21.190438Z"
    }
   },
   "outputs": [
    {
     "data": {
      "text/plain": [
       "date\n",
       "2017-01-01    2017年01月01日\n",
       "2017-01-02    2017年01月02日\n",
       "2017-01-03    2017年01月03日\n",
       "2017-01-04    2017年01月04日\n",
       "2017-01-05    2017年01月05日\n",
       "                 ...     \n",
       "2019-12-27    2019年12月27日\n",
       "2019-12-28    2019年12月28日\n",
       "2019-12-29    2019年12月29日\n",
       "2019-12-30    2019年12月30日\n",
       "2019-12-31    2019年12月31日\n",
       "Name: 中文日期, Length: 1095, dtype: object"
      ]
     },
     "execution_count": 80,
     "metadata": {},
     "output_type": "execute_result"
    }
   ],
   "source": [
    "df['中文日期']"
   ]
  },
  {
   "cell_type": "code",
   "execution_count": 81,
   "metadata": {
    "ExecuteTime": {
     "end_time": "2020-08-23T03:33:21.226186Z",
     "start_time": "2020-08-23T03:33:21.210173Z"
    }
   },
   "outputs": [
    {
     "data": {
      "text/plain": [
       "date\n",
       "2017-01-01    20170101\n",
       "2017-01-02    20170102\n",
       "2017-01-03    20170103\n",
       "2017-01-04    20170104\n",
       "2017-01-05    20170105\n",
       "                ...   \n",
       "2019-12-27    20191227\n",
       "2019-12-28    20191228\n",
       "2019-12-29    20191229\n",
       "2019-12-30    20191230\n",
       "2019-12-31    20191231\n",
       "Name: 中文日期, Length: 1095, dtype: object"
      ]
     },
     "execution_count": 81,
     "metadata": {},
     "output_type": "execute_result"
    }
   ],
   "source": [
    "# 问题：怎样将“2018年12月31日”中的年、月、日三个中文字符去除？\n",
    "# 方法1：链式replace\n",
    "df[\"中文日期\"].str.replace(\"年\", \"\").str.replace(\"月\",\"\").str.replace(\"日\", \"\")"
   ]
  },
  {
   "cell_type": "code",
   "execution_count": 82,
   "metadata": {
    "ExecuteTime": {
     "end_time": "2020-08-23T03:33:21.243154Z",
     "start_time": "2020-08-23T03:33:21.228104Z"
    }
   },
   "outputs": [
    {
     "data": {
      "text/plain": [
       "date\n",
       "2017-01-01    20170101\n",
       "2017-01-02    20170102\n",
       "2017-01-03    20170103\n",
       "2017-01-04    20170104\n",
       "2017-01-05    20170105\n",
       "                ...   \n",
       "2019-12-27    20191227\n",
       "2019-12-28    20191228\n",
       "2019-12-29    20191229\n",
       "2019-12-30    20191230\n",
       "2019-12-31    20191231\n",
       "Name: 中文日期, Length: 1095, dtype: object"
      ]
     },
     "execution_count": 82,
     "metadata": {},
     "output_type": "execute_result"
    }
   ],
   "source": [
    "# 方法2：正则表达式替换\n",
    "df[\"中文日期\"].str.replace(\"[年月日]\", \"\")"
   ]
  },
  {
   "cell_type": "code",
   "execution_count": 83,
   "metadata": {
    "ExecuteTime": {
     "end_time": "2020-08-23T03:33:33.427920Z",
     "start_time": "2020-08-23T03:33:21.245122Z"
    }
   },
   "outputs": [
    {
     "name": "stdout",
     "output_type": "stream",
     "text": [
      "1.49 ms ± 65.6 µs per loop (mean ± std. dev. of 7 runs, 1000 loops each)\n"
     ]
    }
   ],
   "source": [
    "%timeit df[\"中文日期\"].str.replace(\"[年月日]\", \"\")"
   ]
  },
  {
   "cell_type": "markdown",
   "metadata": {},
   "source": [
    "## 15、index"
   ]
  },
  {
   "cell_type": "markdown",
   "metadata": {},
   "source": [
    "##  Pandas的索引index的用途\n",
    "把数据存储于普通的column列也能用于数据查询，那使用index有什么好处？\n",
    "\n",
    "index的用途总结：\n",
    "\n",
    "1. 更方便的数据查询；\n",
    "2. 使用index可以获得性能提升；\n",
    "3. 自动的数据对齐功能；\n",
    "4. 更多更强大的数据结构支持；"
   ]
  },
  {
   "cell_type": "code",
   "execution_count": 84,
   "metadata": {
    "ExecuteTime": {
     "end_time": "2020-08-23T03:33:33.490352Z",
     "start_time": "2020-08-23T03:33:33.428906Z"
    }
   },
   "outputs": [],
   "source": [
    "tmp_data = pd.read_csv('./ratings.csv')"
   ]
  },
  {
   "cell_type": "code",
   "execution_count": 85,
   "metadata": {
    "ExecuteTime": {
     "end_time": "2020-08-23T03:33:33.500293Z",
     "start_time": "2020-08-23T03:33:33.492278Z"
    }
   },
   "outputs": [
    {
     "data": {
      "text/html": [
       "<div>\n",
       "<style scoped>\n",
       "    .dataframe tbody tr th:only-of-type {\n",
       "        vertical-align: middle;\n",
       "    }\n",
       "\n",
       "    .dataframe tbody tr th {\n",
       "        vertical-align: top;\n",
       "    }\n",
       "\n",
       "    .dataframe thead th {\n",
       "        text-align: right;\n",
       "    }\n",
       "</style>\n",
       "<table border=\"1\" class=\"dataframe\">\n",
       "  <thead>\n",
       "    <tr style=\"text-align: right;\">\n",
       "      <th></th>\n",
       "      <th>userId</th>\n",
       "      <th>movieId</th>\n",
       "      <th>rating</th>\n",
       "      <th>timestamp</th>\n",
       "    </tr>\n",
       "  </thead>\n",
       "  <tbody>\n",
       "    <tr>\n",
       "      <th>0</th>\n",
       "      <td>1</td>\n",
       "      <td>1</td>\n",
       "      <td>4.0</td>\n",
       "      <td>964982703</td>\n",
       "    </tr>\n",
       "    <tr>\n",
       "      <th>1</th>\n",
       "      <td>1</td>\n",
       "      <td>3</td>\n",
       "      <td>4.0</td>\n",
       "      <td>964981247</td>\n",
       "    </tr>\n",
       "    <tr>\n",
       "      <th>2</th>\n",
       "      <td>1</td>\n",
       "      <td>6</td>\n",
       "      <td>4.0</td>\n",
       "      <td>964982224</td>\n",
       "    </tr>\n",
       "    <tr>\n",
       "      <th>3</th>\n",
       "      <td>1</td>\n",
       "      <td>47</td>\n",
       "      <td>5.0</td>\n",
       "      <td>964983815</td>\n",
       "    </tr>\n",
       "    <tr>\n",
       "      <th>4</th>\n",
       "      <td>1</td>\n",
       "      <td>50</td>\n",
       "      <td>5.0</td>\n",
       "      <td>964982931</td>\n",
       "    </tr>\n",
       "  </tbody>\n",
       "</table>\n",
       "</div>"
      ],
      "text/plain": [
       "   userId  movieId  rating  timestamp\n",
       "0       1        1     4.0  964982703\n",
       "1       1        3     4.0  964981247\n",
       "2       1        6     4.0  964982224\n",
       "3       1       47     5.0  964983815\n",
       "4       1       50     5.0  964982931"
      ]
     },
     "execution_count": 85,
     "metadata": {},
     "output_type": "execute_result"
    }
   ],
   "source": [
    "tmp_data.head()"
   ]
  },
  {
   "cell_type": "code",
   "execution_count": 86,
   "metadata": {
    "ExecuteTime": {
     "end_time": "2020-08-23T03:33:33.514431Z",
     "start_time": "2020-08-23T03:33:33.502452Z"
    }
   },
   "outputs": [
    {
     "data": {
      "text/plain": [
       "userId       100836\n",
       "movieId      100836\n",
       "rating       100836\n",
       "timestamp    100836\n",
       "dtype: int64"
      ]
     },
     "execution_count": 86,
     "metadata": {},
     "output_type": "execute_result"
    }
   ],
   "source": [
    "tmp_data.count()"
   ]
  },
  {
   "cell_type": "code",
   "execution_count": 87,
   "metadata": {
    "ExecuteTime": {
     "end_time": "2020-08-23T03:33:33.524302Z",
     "start_time": "2020-08-23T03:33:33.515758Z"
    }
   },
   "outputs": [],
   "source": [
    "# index查询数据\n",
    "# drop==False，让索引列还保持在column\n",
    "tmp_data.set_index(\"userId\", inplace=True, drop=False)"
   ]
  },
  {
   "cell_type": "code",
   "execution_count": 88,
   "metadata": {
    "ExecuteTime": {
     "end_time": "2020-08-23T03:33:33.540351Z",
     "start_time": "2020-08-23T03:33:33.526205Z"
    }
   },
   "outputs": [
    {
     "data": {
      "text/html": [
       "<div>\n",
       "<style scoped>\n",
       "    .dataframe tbody tr th:only-of-type {\n",
       "        vertical-align: middle;\n",
       "    }\n",
       "\n",
       "    .dataframe tbody tr th {\n",
       "        vertical-align: top;\n",
       "    }\n",
       "\n",
       "    .dataframe thead th {\n",
       "        text-align: right;\n",
       "    }\n",
       "</style>\n",
       "<table border=\"1\" class=\"dataframe\">\n",
       "  <thead>\n",
       "    <tr style=\"text-align: right;\">\n",
       "      <th></th>\n",
       "      <th>userId</th>\n",
       "      <th>movieId</th>\n",
       "      <th>rating</th>\n",
       "      <th>timestamp</th>\n",
       "    </tr>\n",
       "    <tr>\n",
       "      <th>userId</th>\n",
       "      <th></th>\n",
       "      <th></th>\n",
       "      <th></th>\n",
       "      <th></th>\n",
       "    </tr>\n",
       "  </thead>\n",
       "  <tbody>\n",
       "    <tr>\n",
       "      <th>1</th>\n",
       "      <td>1</td>\n",
       "      <td>1</td>\n",
       "      <td>4.0</td>\n",
       "      <td>964982703</td>\n",
       "    </tr>\n",
       "    <tr>\n",
       "      <th>1</th>\n",
       "      <td>1</td>\n",
       "      <td>3</td>\n",
       "      <td>4.0</td>\n",
       "      <td>964981247</td>\n",
       "    </tr>\n",
       "    <tr>\n",
       "      <th>1</th>\n",
       "      <td>1</td>\n",
       "      <td>6</td>\n",
       "      <td>4.0</td>\n",
       "      <td>964982224</td>\n",
       "    </tr>\n",
       "    <tr>\n",
       "      <th>1</th>\n",
       "      <td>1</td>\n",
       "      <td>47</td>\n",
       "      <td>5.0</td>\n",
       "      <td>964983815</td>\n",
       "    </tr>\n",
       "    <tr>\n",
       "      <th>1</th>\n",
       "      <td>1</td>\n",
       "      <td>50</td>\n",
       "      <td>5.0</td>\n",
       "      <td>964982931</td>\n",
       "    </tr>\n",
       "  </tbody>\n",
       "</table>\n",
       "</div>"
      ],
      "text/plain": [
       "        userId  movieId  rating  timestamp\n",
       "userId                                    \n",
       "1            1        1     4.0  964982703\n",
       "1            1        3     4.0  964981247\n",
       "1            1        6     4.0  964982224\n",
       "1            1       47     5.0  964983815\n",
       "1            1       50     5.0  964982931"
      ]
     },
     "execution_count": 88,
     "metadata": {},
     "output_type": "execute_result"
    }
   ],
   "source": [
    "tmp_data.head()\n"
   ]
  },
  {
   "cell_type": "code",
   "execution_count": 89,
   "metadata": {
    "ExecuteTime": {
     "end_time": "2020-08-23T03:33:33.553288Z",
     "start_time": "2020-08-23T03:33:33.541677Z"
    }
   },
   "outputs": [
    {
     "data": {
      "text/plain": [
       "Int64Index([  1,   1,   1,   1,   1,   1,   1,   1,   1,   1,\n",
       "            ...\n",
       "            610, 610, 610, 610, 610, 610, 610, 610, 610, 610],\n",
       "           dtype='int64', name='userId', length=100836)"
      ]
     },
     "execution_count": 89,
     "metadata": {},
     "output_type": "execute_result"
    }
   ],
   "source": [
    "tmp_data.index\n"
   ]
  },
  {
   "cell_type": "code",
   "execution_count": 90,
   "metadata": {
    "ExecuteTime": {
     "end_time": "2020-08-23T03:33:33.569254Z",
     "start_time": "2020-08-23T03:33:33.554505Z"
    }
   },
   "outputs": [
    {
     "data": {
      "text/html": [
       "<div>\n",
       "<style scoped>\n",
       "    .dataframe tbody tr th:only-of-type {\n",
       "        vertical-align: middle;\n",
       "    }\n",
       "\n",
       "    .dataframe tbody tr th {\n",
       "        vertical-align: top;\n",
       "    }\n",
       "\n",
       "    .dataframe thead th {\n",
       "        text-align: right;\n",
       "    }\n",
       "</style>\n",
       "<table border=\"1\" class=\"dataframe\">\n",
       "  <thead>\n",
       "    <tr style=\"text-align: right;\">\n",
       "      <th></th>\n",
       "      <th>userId</th>\n",
       "      <th>movieId</th>\n",
       "      <th>rating</th>\n",
       "      <th>timestamp</th>\n",
       "    </tr>\n",
       "    <tr>\n",
       "      <th>userId</th>\n",
       "      <th></th>\n",
       "      <th></th>\n",
       "      <th></th>\n",
       "      <th></th>\n",
       "    </tr>\n",
       "  </thead>\n",
       "  <tbody>\n",
       "    <tr>\n",
       "      <th>500</th>\n",
       "      <td>500</td>\n",
       "      <td>1</td>\n",
       "      <td>4.0</td>\n",
       "      <td>1005527755</td>\n",
       "    </tr>\n",
       "    <tr>\n",
       "      <th>500</th>\n",
       "      <td>500</td>\n",
       "      <td>11</td>\n",
       "      <td>1.0</td>\n",
       "      <td>1005528017</td>\n",
       "    </tr>\n",
       "    <tr>\n",
       "      <th>500</th>\n",
       "      <td>500</td>\n",
       "      <td>39</td>\n",
       "      <td>1.0</td>\n",
       "      <td>1005527926</td>\n",
       "    </tr>\n",
       "    <tr>\n",
       "      <th>500</th>\n",
       "      <td>500</td>\n",
       "      <td>101</td>\n",
       "      <td>1.0</td>\n",
       "      <td>1005527980</td>\n",
       "    </tr>\n",
       "    <tr>\n",
       "      <th>500</th>\n",
       "      <td>500</td>\n",
       "      <td>104</td>\n",
       "      <td>4.0</td>\n",
       "      <td>1005528065</td>\n",
       "    </tr>\n",
       "  </tbody>\n",
       "</table>\n",
       "</div>"
      ],
      "text/plain": [
       "        userId  movieId  rating   timestamp\n",
       "userId                                     \n",
       "500        500        1     4.0  1005527755\n",
       "500        500       11     1.0  1005528017\n",
       "500        500       39     1.0  1005527926\n",
       "500        500      101     1.0  1005527980\n",
       "500        500      104     4.0  1005528065"
      ]
     },
     "execution_count": 90,
     "metadata": {},
     "output_type": "execute_result"
    }
   ],
   "source": [
    "# 使用index的查询方法\n",
    "tmp_data.loc[500].head(5)"
   ]
  },
  {
   "cell_type": "code",
   "execution_count": 91,
   "metadata": {
    "ExecuteTime": {
     "end_time": "2020-08-23T03:33:33.580196Z",
     "start_time": "2020-08-23T03:33:33.570230Z"
    }
   },
   "outputs": [
    {
     "data": {
      "text/html": [
       "<div>\n",
       "<style scoped>\n",
       "    .dataframe tbody tr th:only-of-type {\n",
       "        vertical-align: middle;\n",
       "    }\n",
       "\n",
       "    .dataframe tbody tr th {\n",
       "        vertical-align: top;\n",
       "    }\n",
       "\n",
       "    .dataframe thead th {\n",
       "        text-align: right;\n",
       "    }\n",
       "</style>\n",
       "<table border=\"1\" class=\"dataframe\">\n",
       "  <thead>\n",
       "    <tr style=\"text-align: right;\">\n",
       "      <th></th>\n",
       "      <th>userId</th>\n",
       "      <th>movieId</th>\n",
       "      <th>rating</th>\n",
       "      <th>timestamp</th>\n",
       "    </tr>\n",
       "    <tr>\n",
       "      <th>userId</th>\n",
       "      <th></th>\n",
       "      <th></th>\n",
       "      <th></th>\n",
       "      <th></th>\n",
       "    </tr>\n",
       "  </thead>\n",
       "  <tbody>\n",
       "    <tr>\n",
       "      <th>500</th>\n",
       "      <td>500</td>\n",
       "      <td>1</td>\n",
       "      <td>4.0</td>\n",
       "      <td>1005527755</td>\n",
       "    </tr>\n",
       "    <tr>\n",
       "      <th>500</th>\n",
       "      <td>500</td>\n",
       "      <td>11</td>\n",
       "      <td>1.0</td>\n",
       "      <td>1005528017</td>\n",
       "    </tr>\n",
       "    <tr>\n",
       "      <th>500</th>\n",
       "      <td>500</td>\n",
       "      <td>39</td>\n",
       "      <td>1.0</td>\n",
       "      <td>1005527926</td>\n",
       "    </tr>\n",
       "    <tr>\n",
       "      <th>500</th>\n",
       "      <td>500</td>\n",
       "      <td>101</td>\n",
       "      <td>1.0</td>\n",
       "      <td>1005527980</td>\n",
       "    </tr>\n",
       "    <tr>\n",
       "      <th>500</th>\n",
       "      <td>500</td>\n",
       "      <td>104</td>\n",
       "      <td>4.0</td>\n",
       "      <td>1005528065</td>\n",
       "    </tr>\n",
       "  </tbody>\n",
       "</table>\n",
       "</div>"
      ],
      "text/plain": [
       "        userId  movieId  rating   timestamp\n",
       "userId                                     \n",
       "500        500        1     4.0  1005527755\n",
       "500        500       11     1.0  1005528017\n",
       "500        500       39     1.0  1005527926\n",
       "500        500      101     1.0  1005527980\n",
       "500        500      104     4.0  1005528065"
      ]
     },
     "execution_count": 91,
     "metadata": {},
     "output_type": "execute_result"
    }
   ],
   "source": [
    "# 使用column的condition查询方法\n",
    "tmp_data.loc[tmp_data[\"userId\"] == 500].head()\n"
   ]
  },
  {
   "cell_type": "markdown",
   "metadata": {},
   "source": [
    "### 使用index会提升查询性能\n",
    "\n",
    "- 如果index是唯一的，Pandas会使用哈希表优化，查询性能为O(1);\n",
    "- 如果index不是唯一的，但是有序，Pandas会使用二分查找算法，查询性能为O(logN);\n",
    "- 如果index是完全随机的，那么每次查询都要扫描全表，查询性能为O(N);"
   ]
  },
  {
   "cell_type": "code",
   "execution_count": 92,
   "metadata": {
    "ExecuteTime": {
     "end_time": "2020-08-23T03:33:38.786375Z",
     "start_time": "2020-08-23T03:33:33.582189Z"
    }
   },
   "outputs": [],
   "source": [
    "# 将数据随机打散\n",
    "from sklearn.utils import shuffle\n",
    "df_shuffle = shuffle(tmp_data)"
   ]
  },
  {
   "cell_type": "code",
   "execution_count": 93,
   "metadata": {
    "ExecuteTime": {
     "end_time": "2020-08-23T03:33:38.796750Z",
     "start_time": "2020-08-23T03:33:38.789167Z"
    }
   },
   "outputs": [
    {
     "data": {
      "text/html": [
       "<div>\n",
       "<style scoped>\n",
       "    .dataframe tbody tr th:only-of-type {\n",
       "        vertical-align: middle;\n",
       "    }\n",
       "\n",
       "    .dataframe tbody tr th {\n",
       "        vertical-align: top;\n",
       "    }\n",
       "\n",
       "    .dataframe thead th {\n",
       "        text-align: right;\n",
       "    }\n",
       "</style>\n",
       "<table border=\"1\" class=\"dataframe\">\n",
       "  <thead>\n",
       "    <tr style=\"text-align: right;\">\n",
       "      <th></th>\n",
       "      <th>userId</th>\n",
       "      <th>movieId</th>\n",
       "      <th>rating</th>\n",
       "      <th>timestamp</th>\n",
       "    </tr>\n",
       "    <tr>\n",
       "      <th>userId</th>\n",
       "      <th></th>\n",
       "      <th></th>\n",
       "      <th></th>\n",
       "      <th></th>\n",
       "    </tr>\n",
       "  </thead>\n",
       "  <tbody>\n",
       "    <tr>\n",
       "      <th>600</th>\n",
       "      <td>600</td>\n",
       "      <td>1034</td>\n",
       "      <td>2.5</td>\n",
       "      <td>1237760659</td>\n",
       "    </tr>\n",
       "    <tr>\n",
       "      <th>167</th>\n",
       "      <td>167</td>\n",
       "      <td>1278</td>\n",
       "      <td>4.0</td>\n",
       "      <td>1154718813</td>\n",
       "    </tr>\n",
       "    <tr>\n",
       "      <th>560</th>\n",
       "      <td>560</td>\n",
       "      <td>37733</td>\n",
       "      <td>4.5</td>\n",
       "      <td>1469650578</td>\n",
       "    </tr>\n",
       "    <tr>\n",
       "      <th>448</th>\n",
       "      <td>448</td>\n",
       "      <td>118814</td>\n",
       "      <td>2.0</td>\n",
       "      <td>1441045203</td>\n",
       "    </tr>\n",
       "    <tr>\n",
       "      <th>608</th>\n",
       "      <td>608</td>\n",
       "      <td>7325</td>\n",
       "      <td>4.0</td>\n",
       "      <td>1117506234</td>\n",
       "    </tr>\n",
       "  </tbody>\n",
       "</table>\n",
       "</div>"
      ],
      "text/plain": [
       "        userId  movieId  rating   timestamp\n",
       "userId                                     \n",
       "600        600     1034     2.5  1237760659\n",
       "167        167     1278     4.0  1154718813\n",
       "560        560    37733     4.5  1469650578\n",
       "448        448   118814     2.0  1441045203\n",
       "608        608     7325     4.0  1117506234"
      ]
     },
     "execution_count": 93,
     "metadata": {},
     "output_type": "execute_result"
    }
   ],
   "source": [
    "df_shuffle.head()"
   ]
  },
  {
   "cell_type": "code",
   "execution_count": 94,
   "metadata": {
    "ExecuteTime": {
     "end_time": "2020-08-23T03:33:38.813746Z",
     "start_time": "2020-08-23T03:33:38.797898Z"
    }
   },
   "outputs": [
    {
     "data": {
      "text/plain": [
       "False"
      ]
     },
     "execution_count": 94,
     "metadata": {},
     "output_type": "execute_result"
    }
   ],
   "source": [
    "# 索引是否是递增的\n",
    "df_shuffle.index.is_monotonic_increasing"
   ]
  },
  {
   "cell_type": "code",
   "execution_count": 95,
   "metadata": {
    "ExecuteTime": {
     "end_time": "2020-08-23T03:33:38.826699Z",
     "start_time": "2020-08-23T03:33:38.814806Z"
    }
   },
   "outputs": [
    {
     "data": {
      "text/plain": [
       "False"
      ]
     },
     "execution_count": 95,
     "metadata": {},
     "output_type": "execute_result"
    }
   ],
   "source": [
    "df_shuffle.index.is_unique"
   ]
  },
  {
   "cell_type": "code",
   "execution_count": 96,
   "metadata": {
    "ExecuteTime": {
     "end_time": "2020-08-23T03:33:41.305375Z",
     "start_time": "2020-08-23T03:33:38.827912Z"
    }
   },
   "outputs": [
    {
     "name": "stdout",
     "output_type": "stream",
     "text": [
      "298 µs ± 11.9 µs per loop (mean ± std. dev. of 7 runs, 1000 loops each)\n"
     ]
    }
   ],
   "source": [
    "# 计时，查询id==500数据性能\n",
    "%timeit df_shuffle.loc[500]"
   ]
  },
  {
   "cell_type": "markdown",
   "metadata": {},
   "source": [
    "### 将index排序后的查询"
   ]
  },
  {
   "cell_type": "code",
   "execution_count": 97,
   "metadata": {
    "ExecuteTime": {
     "end_time": "2020-08-23T03:33:41.321295Z",
     "start_time": "2020-08-23T03:33:41.306736Z"
    }
   },
   "outputs": [],
   "source": [
    "df_sorted = df_shuffle.sort_index()"
   ]
  },
  {
   "cell_type": "code",
   "execution_count": 98,
   "metadata": {
    "ExecuteTime": {
     "end_time": "2020-08-23T03:33:41.331586Z",
     "start_time": "2020-08-23T03:33:41.322422Z"
    }
   },
   "outputs": [
    {
     "data": {
      "text/html": [
       "<div>\n",
       "<style scoped>\n",
       "    .dataframe tbody tr th:only-of-type {\n",
       "        vertical-align: middle;\n",
       "    }\n",
       "\n",
       "    .dataframe tbody tr th {\n",
       "        vertical-align: top;\n",
       "    }\n",
       "\n",
       "    .dataframe thead th {\n",
       "        text-align: right;\n",
       "    }\n",
       "</style>\n",
       "<table border=\"1\" class=\"dataframe\">\n",
       "  <thead>\n",
       "    <tr style=\"text-align: right;\">\n",
       "      <th></th>\n",
       "      <th>userId</th>\n",
       "      <th>movieId</th>\n",
       "      <th>rating</th>\n",
       "      <th>timestamp</th>\n",
       "    </tr>\n",
       "    <tr>\n",
       "      <th>userId</th>\n",
       "      <th></th>\n",
       "      <th></th>\n",
       "      <th></th>\n",
       "      <th></th>\n",
       "    </tr>\n",
       "  </thead>\n",
       "  <tbody>\n",
       "    <tr>\n",
       "      <th>1</th>\n",
       "      <td>1</td>\n",
       "      <td>2193</td>\n",
       "      <td>4.0</td>\n",
       "      <td>964981710</td>\n",
       "    </tr>\n",
       "    <tr>\n",
       "      <th>1</th>\n",
       "      <td>1</td>\n",
       "      <td>1396</td>\n",
       "      <td>3.0</td>\n",
       "      <td>964983017</td>\n",
       "    </tr>\n",
       "    <tr>\n",
       "      <th>1</th>\n",
       "      <td>1</td>\n",
       "      <td>2174</td>\n",
       "      <td>4.0</td>\n",
       "      <td>964981680</td>\n",
       "    </tr>\n",
       "    <tr>\n",
       "      <th>1</th>\n",
       "      <td>1</td>\n",
       "      <td>1270</td>\n",
       "      <td>5.0</td>\n",
       "      <td>964983705</td>\n",
       "    </tr>\n",
       "    <tr>\n",
       "      <th>1</th>\n",
       "      <td>1</td>\n",
       "      <td>3273</td>\n",
       "      <td>5.0</td>\n",
       "      <td>964983536</td>\n",
       "    </tr>\n",
       "  </tbody>\n",
       "</table>\n",
       "</div>"
      ],
      "text/plain": [
       "        userId  movieId  rating  timestamp\n",
       "userId                                    \n",
       "1            1     2193     4.0  964981710\n",
       "1            1     1396     3.0  964983017\n",
       "1            1     2174     4.0  964981680\n",
       "1            1     1270     5.0  964983705\n",
       "1            1     3273     5.0  964983536"
      ]
     },
     "execution_count": 98,
     "metadata": {},
     "output_type": "execute_result"
    }
   ],
   "source": [
    "df_sorted.head()"
   ]
  },
  {
   "cell_type": "code",
   "execution_count": 99,
   "metadata": {
    "ExecuteTime": {
     "end_time": "2020-08-23T03:33:41.344744Z",
     "start_time": "2020-08-23T03:33:41.333581Z"
    }
   },
   "outputs": [
    {
     "data": {
      "text/plain": [
       "True"
      ]
     },
     "execution_count": 99,
     "metadata": {},
     "output_type": "execute_result"
    }
   ],
   "source": [
    "# 索引是否是递增的\n",
    "df_sorted.index.is_monotonic_increasing"
   ]
  },
  {
   "cell_type": "code",
   "execution_count": 100,
   "metadata": {
    "ExecuteTime": {
     "end_time": "2020-08-23T03:33:41.357222Z",
     "start_time": "2020-08-23T03:33:41.346005Z"
    }
   },
   "outputs": [
    {
     "data": {
      "text/plain": [
       "False"
      ]
     },
     "execution_count": 100,
     "metadata": {},
     "output_type": "execute_result"
    }
   ],
   "source": [
    "df_sorted.index.is_unique"
   ]
  },
  {
   "cell_type": "code",
   "execution_count": 101,
   "metadata": {
    "ExecuteTime": {
     "end_time": "2020-08-23T03:33:45.608648Z",
     "start_time": "2020-08-23T03:33:41.359190Z"
    }
   },
   "outputs": [
    {
     "name": "stdout",
     "output_type": "stream",
     "text": [
      "52.5 µs ± 5.09 µs per loop (mean ± std. dev. of 7 runs, 10000 loops each)\n"
     ]
    }
   ],
   "source": [
    "%timeit df_sorted.loc[500]"
   ]
  },
  {
   "cell_type": "markdown",
   "metadata": {},
   "source": [
    "### 使用index能自动对齐数据\n",
    "包括series和dataframe"
   ]
  },
  {
   "cell_type": "code",
   "execution_count": 102,
   "metadata": {
    "ExecuteTime": {
     "end_time": "2020-08-23T03:33:45.614715Z",
     "start_time": "2020-08-23T03:33:45.611794Z"
    }
   },
   "outputs": [],
   "source": [
    "s1 = pd.Series([1,2,3], index=list(\"abc\"))"
   ]
  },
  {
   "cell_type": "code",
   "execution_count": 103,
   "metadata": {
    "ExecuteTime": {
     "end_time": "2020-08-23T03:33:45.633285Z",
     "start_time": "2020-08-23T03:33:45.616724Z"
    }
   },
   "outputs": [
    {
     "data": {
      "text/plain": [
       "a    1\n",
       "b    2\n",
       "c    3\n",
       "dtype: int64"
      ]
     },
     "execution_count": 103,
     "metadata": {},
     "output_type": "execute_result"
    }
   ],
   "source": [
    "s1"
   ]
  },
  {
   "cell_type": "code",
   "execution_count": 104,
   "metadata": {
    "ExecuteTime": {
     "end_time": "2020-08-23T03:33:45.645253Z",
     "start_time": "2020-08-23T03:33:45.634725Z"
    }
   },
   "outputs": [],
   "source": [
    "s2 = pd.Series([2,3,4], index=list(\"bcd\"))"
   ]
  },
  {
   "cell_type": "code",
   "execution_count": 105,
   "metadata": {
    "ExecuteTime": {
     "end_time": "2020-08-23T03:33:45.659228Z",
     "start_time": "2020-08-23T03:33:45.646250Z"
    }
   },
   "outputs": [
    {
     "data": {
      "text/plain": [
       "b    2\n",
       "c    3\n",
       "d    4\n",
       "dtype: int64"
      ]
     },
     "execution_count": 105,
     "metadata": {},
     "output_type": "execute_result"
    }
   ],
   "source": [
    "s2"
   ]
  },
  {
   "cell_type": "code",
   "execution_count": 106,
   "metadata": {
    "ExecuteTime": {
     "end_time": "2020-08-23T03:33:45.721366Z",
     "start_time": "2020-08-23T03:33:45.660479Z"
    }
   },
   "outputs": [
    {
     "data": {
      "text/plain": [
       "a    NaN\n",
       "b    4.0\n",
       "c    6.0\n",
       "d    NaN\n",
       "dtype: float64"
      ]
     },
     "execution_count": 106,
     "metadata": {},
     "output_type": "execute_result"
    }
   ],
   "source": [
    "s1+s2"
   ]
  },
  {
   "cell_type": "code",
   "execution_count": 107,
   "metadata": {
    "ExecuteTime": {
     "end_time": "2020-08-23T03:33:45.727872Z",
     "start_time": "2020-08-23T03:33:45.722341Z"
    }
   },
   "outputs": [],
   "source": [
    "# del\n",
    "del s1\n",
    "del s2\n",
    "del df_sorted\n",
    "del df_shuffle\n",
    "del tmp_data"
   ]
  },
  {
   "cell_type": "markdown",
   "metadata": {},
   "source": [
    "## 16、Pandas怎样实现groupby分组统计\n",
    "\n",
    "类似SQL：\n",
    "select city,max(temperature) from city_weather group by city;\n",
    "\n",
    "groupby：先对数据分组，然后在每个分组上应用聚合函数、转换函数\n",
    "\n",
    "本次演示：\n",
    "\n",
    "\n",
    "一、分组使用聚合函数做数据统计\n",
    "\n",
    "二、遍历groupby的结果理解执行流程\n",
    "\n",
    "\n",
    "三、实例分组探索天气数据"
   ]
  },
  {
   "cell_type": "code",
   "execution_count": 108,
   "metadata": {
    "ExecuteTime": {
     "end_time": "2020-08-23T03:33:46.030556Z",
     "start_time": "2020-08-23T03:33:45.730466Z"
    }
   },
   "outputs": [],
   "source": [
    "# 加上这一句，能在jupyter notebook展示matplot图表\n",
    "# %matplotlib inline\n",
    "%matplotlib widget"
   ]
  },
  {
   "cell_type": "code",
   "execution_count": 109,
   "metadata": {
    "ExecuteTime": {
     "end_time": "2020-08-23T03:33:46.054194Z",
     "start_time": "2020-08-23T03:33:46.032549Z"
    }
   },
   "outputs": [
    {
     "data": {
      "text/html": [
       "<div>\n",
       "<style scoped>\n",
       "    .dataframe tbody tr th:only-of-type {\n",
       "        vertical-align: middle;\n",
       "    }\n",
       "\n",
       "    .dataframe tbody tr th {\n",
       "        vertical-align: top;\n",
       "    }\n",
       "\n",
       "    .dataframe thead th {\n",
       "        text-align: right;\n",
       "    }\n",
       "</style>\n",
       "<table border=\"1\" class=\"dataframe\">\n",
       "  <thead>\n",
       "    <tr style=\"text-align: right;\">\n",
       "      <th></th>\n",
       "      <th>A</th>\n",
       "      <th>B</th>\n",
       "      <th>C</th>\n",
       "      <th>D</th>\n",
       "    </tr>\n",
       "  </thead>\n",
       "  <tbody>\n",
       "    <tr>\n",
       "      <th>0</th>\n",
       "      <td>foo</td>\n",
       "      <td>one</td>\n",
       "      <td>-1.097629</td>\n",
       "      <td>-0.855014</td>\n",
       "    </tr>\n",
       "    <tr>\n",
       "      <th>1</th>\n",
       "      <td>bar</td>\n",
       "      <td>one</td>\n",
       "      <td>0.610262</td>\n",
       "      <td>0.004293</td>\n",
       "    </tr>\n",
       "    <tr>\n",
       "      <th>2</th>\n",
       "      <td>foo</td>\n",
       "      <td>two</td>\n",
       "      <td>-0.116379</td>\n",
       "      <td>1.009069</td>\n",
       "    </tr>\n",
       "    <tr>\n",
       "      <th>3</th>\n",
       "      <td>bar</td>\n",
       "      <td>three</td>\n",
       "      <td>0.338883</td>\n",
       "      <td>-0.851371</td>\n",
       "    </tr>\n",
       "    <tr>\n",
       "      <th>4</th>\n",
       "      <td>foo</td>\n",
       "      <td>two</td>\n",
       "      <td>-2.534381</td>\n",
       "      <td>1.065644</td>\n",
       "    </tr>\n",
       "    <tr>\n",
       "      <th>5</th>\n",
       "      <td>bar</td>\n",
       "      <td>two</td>\n",
       "      <td>-0.396466</td>\n",
       "      <td>1.061021</td>\n",
       "    </tr>\n",
       "    <tr>\n",
       "      <th>6</th>\n",
       "      <td>foo</td>\n",
       "      <td>one</td>\n",
       "      <td>-0.750336</td>\n",
       "      <td>0.946112</td>\n",
       "    </tr>\n",
       "    <tr>\n",
       "      <th>7</th>\n",
       "      <td>foo</td>\n",
       "      <td>three</td>\n",
       "      <td>-0.430926</td>\n",
       "      <td>1.694233</td>\n",
       "    </tr>\n",
       "  </tbody>\n",
       "</table>\n",
       "</div>"
      ],
      "text/plain": [
       "     A      B         C         D\n",
       "0  foo    one -1.097629 -0.855014\n",
       "1  bar    one  0.610262  0.004293\n",
       "2  foo    two -0.116379  1.009069\n",
       "3  bar  three  0.338883 -0.851371\n",
       "4  foo    two -2.534381  1.065644\n",
       "5  bar    two -0.396466  1.061021\n",
       "6  foo    one -0.750336  0.946112\n",
       "7  foo  three -0.430926  1.694233"
      ]
     },
     "execution_count": 109,
     "metadata": {},
     "output_type": "execute_result"
    }
   ],
   "source": [
    "test_df = pd.DataFrame({'A': ['foo', 'bar', 'foo', 'bar', 'foo', 'bar', 'foo', 'foo'],\n",
    "                   'B': ['one', 'one', 'two', 'three', 'two', 'two', 'one', 'three'],\n",
    "                   'C': np.random.randn(8),\n",
    "                   'D': np.random.randn(8)})\n",
    "test_df"
   ]
  },
  {
   "cell_type": "markdown",
   "metadata": {},
   "source": [
    "###  一、分组使用聚合函数做数据统计"
   ]
  },
  {
   "cell_type": "code",
   "execution_count": 110,
   "metadata": {
    "ExecuteTime": {
     "end_time": "2020-08-23T03:33:46.095108Z",
     "start_time": "2020-08-23T03:33:46.056194Z"
    }
   },
   "outputs": [
    {
     "data": {
      "text/html": [
       "<div>\n",
       "<style scoped>\n",
       "    .dataframe tbody tr th:only-of-type {\n",
       "        vertical-align: middle;\n",
       "    }\n",
       "\n",
       "    .dataframe tbody tr th {\n",
       "        vertical-align: top;\n",
       "    }\n",
       "\n",
       "    .dataframe thead th {\n",
       "        text-align: right;\n",
       "    }\n",
       "</style>\n",
       "<table border=\"1\" class=\"dataframe\">\n",
       "  <thead>\n",
       "    <tr style=\"text-align: right;\">\n",
       "      <th></th>\n",
       "      <th>C</th>\n",
       "      <th>D</th>\n",
       "    </tr>\n",
       "    <tr>\n",
       "      <th>A</th>\n",
       "      <th></th>\n",
       "      <th></th>\n",
       "    </tr>\n",
       "  </thead>\n",
       "  <tbody>\n",
       "    <tr>\n",
       "      <th>bar</th>\n",
       "      <td>0.552679</td>\n",
       "      <td>0.213943</td>\n",
       "    </tr>\n",
       "    <tr>\n",
       "      <th>foo</th>\n",
       "      <td>-4.929652</td>\n",
       "      <td>3.860044</td>\n",
       "    </tr>\n",
       "  </tbody>\n",
       "</table>\n",
       "</div>"
      ],
      "text/plain": [
       "            C         D\n",
       "A                      \n",
       "bar  0.552679  0.213943\n",
       "foo -4.929652  3.860044"
      ]
     },
     "execution_count": 110,
     "metadata": {},
     "output_type": "execute_result"
    }
   ],
   "source": [
    "# 1、单个列groupby，查询所有数据列的统计\n",
    "test_df.groupby('A').sum()\n"
   ]
  },
  {
   "cell_type": "markdown",
   "metadata": {},
   "source": [
    "我们看到：\n",
    "\n",
    "1. groupby中的'A'变成了数据的索引列\n",
    "2. 因为要统计sum，但B列不是数字，所以被自动忽略掉"
   ]
  },
  {
   "cell_type": "code",
   "execution_count": 111,
   "metadata": {
    "ExecuteTime": {
     "end_time": "2020-08-23T03:33:46.115652Z",
     "start_time": "2020-08-23T03:33:46.096288Z"
    }
   },
   "outputs": [
    {
     "data": {
      "text/html": [
       "<div>\n",
       "<style scoped>\n",
       "    .dataframe tbody tr th:only-of-type {\n",
       "        vertical-align: middle;\n",
       "    }\n",
       "\n",
       "    .dataframe tbody tr th {\n",
       "        vertical-align: top;\n",
       "    }\n",
       "\n",
       "    .dataframe thead th {\n",
       "        text-align: right;\n",
       "    }\n",
       "</style>\n",
       "<table border=\"1\" class=\"dataframe\">\n",
       "  <thead>\n",
       "    <tr style=\"text-align: right;\">\n",
       "      <th></th>\n",
       "      <th></th>\n",
       "      <th>C</th>\n",
       "      <th>D</th>\n",
       "    </tr>\n",
       "    <tr>\n",
       "      <th>A</th>\n",
       "      <th>B</th>\n",
       "      <th></th>\n",
       "      <th></th>\n",
       "    </tr>\n",
       "  </thead>\n",
       "  <tbody>\n",
       "    <tr>\n",
       "      <th rowspan=\"3\" valign=\"top\">bar</th>\n",
       "      <th>one</th>\n",
       "      <td>0.610262</td>\n",
       "      <td>0.004293</td>\n",
       "    </tr>\n",
       "    <tr>\n",
       "      <th>three</th>\n",
       "      <td>0.338883</td>\n",
       "      <td>-0.851371</td>\n",
       "    </tr>\n",
       "    <tr>\n",
       "      <th>two</th>\n",
       "      <td>-0.396466</td>\n",
       "      <td>1.061021</td>\n",
       "    </tr>\n",
       "    <tr>\n",
       "      <th rowspan=\"3\" valign=\"top\">foo</th>\n",
       "      <th>one</th>\n",
       "      <td>-0.923983</td>\n",
       "      <td>0.045549</td>\n",
       "    </tr>\n",
       "    <tr>\n",
       "      <th>three</th>\n",
       "      <td>-0.430926</td>\n",
       "      <td>1.694233</td>\n",
       "    </tr>\n",
       "    <tr>\n",
       "      <th>two</th>\n",
       "      <td>-1.325380</td>\n",
       "      <td>1.037356</td>\n",
       "    </tr>\n",
       "  </tbody>\n",
       "</table>\n",
       "</div>"
      ],
      "text/plain": [
       "                  C         D\n",
       "A   B                        \n",
       "bar one    0.610262  0.004293\n",
       "    three  0.338883 -0.851371\n",
       "    two   -0.396466  1.061021\n",
       "foo one   -0.923983  0.045549\n",
       "    three -0.430926  1.694233\n",
       "    two   -1.325380  1.037356"
      ]
     },
     "execution_count": 111,
     "metadata": {},
     "output_type": "execute_result"
    }
   ],
   "source": [
    "# 2、多个列groupby，查询所有数据列的统计\n",
    "test_df.groupby(['A','B']).mean()\n"
   ]
  },
  {
   "cell_type": "markdown",
   "metadata": {},
   "source": [
    "我们看到：('A','B')成对变成了二级索引"
   ]
  },
  {
   "cell_type": "code",
   "execution_count": 112,
   "metadata": {
    "ExecuteTime": {
     "end_time": "2020-08-23T03:33:46.133518Z",
     "start_time": "2020-08-23T03:33:46.116641Z"
    }
   },
   "outputs": [
    {
     "data": {
      "text/html": [
       "<div>\n",
       "<style scoped>\n",
       "    .dataframe tbody tr th:only-of-type {\n",
       "        vertical-align: middle;\n",
       "    }\n",
       "\n",
       "    .dataframe tbody tr th {\n",
       "        vertical-align: top;\n",
       "    }\n",
       "\n",
       "    .dataframe thead th {\n",
       "        text-align: right;\n",
       "    }\n",
       "</style>\n",
       "<table border=\"1\" class=\"dataframe\">\n",
       "  <thead>\n",
       "    <tr style=\"text-align: right;\">\n",
       "      <th></th>\n",
       "      <th>A</th>\n",
       "      <th>B</th>\n",
       "      <th>C</th>\n",
       "      <th>D</th>\n",
       "    </tr>\n",
       "  </thead>\n",
       "  <tbody>\n",
       "    <tr>\n",
       "      <th>0</th>\n",
       "      <td>bar</td>\n",
       "      <td>one</td>\n",
       "      <td>0.610262</td>\n",
       "      <td>0.004293</td>\n",
       "    </tr>\n",
       "    <tr>\n",
       "      <th>1</th>\n",
       "      <td>bar</td>\n",
       "      <td>three</td>\n",
       "      <td>0.338883</td>\n",
       "      <td>-0.851371</td>\n",
       "    </tr>\n",
       "    <tr>\n",
       "      <th>2</th>\n",
       "      <td>bar</td>\n",
       "      <td>two</td>\n",
       "      <td>-0.396466</td>\n",
       "      <td>1.061021</td>\n",
       "    </tr>\n",
       "    <tr>\n",
       "      <th>3</th>\n",
       "      <td>foo</td>\n",
       "      <td>one</td>\n",
       "      <td>-0.923983</td>\n",
       "      <td>0.045549</td>\n",
       "    </tr>\n",
       "    <tr>\n",
       "      <th>4</th>\n",
       "      <td>foo</td>\n",
       "      <td>three</td>\n",
       "      <td>-0.430926</td>\n",
       "      <td>1.694233</td>\n",
       "    </tr>\n",
       "    <tr>\n",
       "      <th>5</th>\n",
       "      <td>foo</td>\n",
       "      <td>two</td>\n",
       "      <td>-1.325380</td>\n",
       "      <td>1.037356</td>\n",
       "    </tr>\n",
       "  </tbody>\n",
       "</table>\n",
       "</div>"
      ],
      "text/plain": [
       "     A      B         C         D\n",
       "0  bar    one  0.610262  0.004293\n",
       "1  bar  three  0.338883 -0.851371\n",
       "2  bar    two -0.396466  1.061021\n",
       "3  foo    one -0.923983  0.045549\n",
       "4  foo  three -0.430926  1.694233\n",
       "5  foo    two -1.325380  1.037356"
      ]
     },
     "execution_count": 112,
     "metadata": {},
     "output_type": "execute_result"
    }
   ],
   "source": [
    "test_df.groupby(['A','B'], as_index=False).mean()"
   ]
  },
  {
   "cell_type": "code",
   "execution_count": 113,
   "metadata": {
    "ExecuteTime": {
     "end_time": "2020-08-23T03:33:46.169446Z",
     "start_time": "2020-08-23T03:33:46.134686Z"
    }
   },
   "outputs": [
    {
     "data": {
      "text/html": [
       "<div>\n",
       "<style scoped>\n",
       "    .dataframe tbody tr th:only-of-type {\n",
       "        vertical-align: middle;\n",
       "    }\n",
       "\n",
       "    .dataframe tbody tr th {\n",
       "        vertical-align: top;\n",
       "    }\n",
       "\n",
       "    .dataframe thead tr th {\n",
       "        text-align: left;\n",
       "    }\n",
       "\n",
       "    .dataframe thead tr:last-of-type th {\n",
       "        text-align: right;\n",
       "    }\n",
       "</style>\n",
       "<table border=\"1\" class=\"dataframe\">\n",
       "  <thead>\n",
       "    <tr>\n",
       "      <th></th>\n",
       "      <th colspan=\"3\" halign=\"left\">C</th>\n",
       "      <th colspan=\"3\" halign=\"left\">D</th>\n",
       "    </tr>\n",
       "    <tr>\n",
       "      <th></th>\n",
       "      <th>sum</th>\n",
       "      <th>mean</th>\n",
       "      <th>std</th>\n",
       "      <th>sum</th>\n",
       "      <th>mean</th>\n",
       "      <th>std</th>\n",
       "    </tr>\n",
       "    <tr>\n",
       "      <th>A</th>\n",
       "      <th></th>\n",
       "      <th></th>\n",
       "      <th></th>\n",
       "      <th></th>\n",
       "      <th></th>\n",
       "      <th></th>\n",
       "    </tr>\n",
       "  </thead>\n",
       "  <tbody>\n",
       "    <tr>\n",
       "      <th>bar</th>\n",
       "      <td>0.552679</td>\n",
       "      <td>0.184226</td>\n",
       "      <td>0.520879</td>\n",
       "      <td>0.213943</td>\n",
       "      <td>0.071314</td>\n",
       "      <td>0.957956</td>\n",
       "    </tr>\n",
       "    <tr>\n",
       "      <th>foo</th>\n",
       "      <td>-4.929652</td>\n",
       "      <td>-0.985930</td>\n",
       "      <td>0.939392</td>\n",
       "      <td>3.860044</td>\n",
       "      <td>0.772009</td>\n",
       "      <td>0.957918</td>\n",
       "    </tr>\n",
       "  </tbody>\n",
       "</table>\n",
       "</div>"
      ],
      "text/plain": [
       "            C                             D                    \n",
       "          sum      mean       std       sum      mean       std\n",
       "A                                                              \n",
       "bar  0.552679  0.184226  0.520879  0.213943  0.071314  0.957956\n",
       "foo -4.929652 -0.985930  0.939392  3.860044  0.772009  0.957918"
      ]
     },
     "execution_count": 113,
     "metadata": {},
     "output_type": "execute_result"
    }
   ],
   "source": [
    "# 3、同时查看多种数据统计\n",
    "test_df.groupby('A').agg([np.sum, np.mean, np.std])"
   ]
  },
  {
   "cell_type": "code",
   "execution_count": 114,
   "metadata": {
    "ExecuteTime": {
     "end_time": "2020-08-23T03:33:46.185158Z",
     "start_time": "2020-08-23T03:33:46.170779Z"
    }
   },
   "outputs": [
    {
     "data": {
      "text/html": [
       "<div>\n",
       "<style scoped>\n",
       "    .dataframe tbody tr th:only-of-type {\n",
       "        vertical-align: middle;\n",
       "    }\n",
       "\n",
       "    .dataframe tbody tr th {\n",
       "        vertical-align: top;\n",
       "    }\n",
       "\n",
       "    .dataframe thead th {\n",
       "        text-align: right;\n",
       "    }\n",
       "</style>\n",
       "<table border=\"1\" class=\"dataframe\">\n",
       "  <thead>\n",
       "    <tr style=\"text-align: right;\">\n",
       "      <th></th>\n",
       "      <th>sum</th>\n",
       "      <th>mean</th>\n",
       "      <th>std</th>\n",
       "    </tr>\n",
       "    <tr>\n",
       "      <th>A</th>\n",
       "      <th></th>\n",
       "      <th></th>\n",
       "      <th></th>\n",
       "    </tr>\n",
       "  </thead>\n",
       "  <tbody>\n",
       "    <tr>\n",
       "      <th>bar</th>\n",
       "      <td>0.552679</td>\n",
       "      <td>0.184226</td>\n",
       "      <td>0.520879</td>\n",
       "    </tr>\n",
       "    <tr>\n",
       "      <th>foo</th>\n",
       "      <td>-4.929652</td>\n",
       "      <td>-0.985930</td>\n",
       "      <td>0.939392</td>\n",
       "    </tr>\n",
       "  </tbody>\n",
       "</table>\n",
       "</div>"
      ],
      "text/plain": [
       "          sum      mean       std\n",
       "A                                \n",
       "bar  0.552679  0.184226  0.520879\n",
       "foo -4.929652 -0.985930  0.939392"
      ]
     },
     "execution_count": 114,
     "metadata": {},
     "output_type": "execute_result"
    }
   ],
   "source": [
    "# 4、查看单列的结果数据统计\n",
    "\n",
    "# 方法1：预过滤，性能更好\n",
    "test_df.groupby('A')['C'].agg([np.sum, np.mean, np.std])\n"
   ]
  },
  {
   "cell_type": "code",
   "execution_count": 115,
   "metadata": {
    "ExecuteTime": {
     "end_time": "2020-08-23T03:33:46.209099Z",
     "start_time": "2020-08-23T03:33:46.186156Z"
    }
   },
   "outputs": [
    {
     "data": {
      "text/html": [
       "<div>\n",
       "<style scoped>\n",
       "    .dataframe tbody tr th:only-of-type {\n",
       "        vertical-align: middle;\n",
       "    }\n",
       "\n",
       "    .dataframe tbody tr th {\n",
       "        vertical-align: top;\n",
       "    }\n",
       "\n",
       "    .dataframe thead th {\n",
       "        text-align: right;\n",
       "    }\n",
       "</style>\n",
       "<table border=\"1\" class=\"dataframe\">\n",
       "  <thead>\n",
       "    <tr style=\"text-align: right;\">\n",
       "      <th></th>\n",
       "      <th>sum</th>\n",
       "      <th>mean</th>\n",
       "      <th>std</th>\n",
       "    </tr>\n",
       "    <tr>\n",
       "      <th>A</th>\n",
       "      <th></th>\n",
       "      <th></th>\n",
       "      <th></th>\n",
       "    </tr>\n",
       "  </thead>\n",
       "  <tbody>\n",
       "    <tr>\n",
       "      <th>bar</th>\n",
       "      <td>0.552679</td>\n",
       "      <td>0.184226</td>\n",
       "      <td>0.520879</td>\n",
       "    </tr>\n",
       "    <tr>\n",
       "      <th>foo</th>\n",
       "      <td>-4.929652</td>\n",
       "      <td>-0.985930</td>\n",
       "      <td>0.939392</td>\n",
       "    </tr>\n",
       "  </tbody>\n",
       "</table>\n",
       "</div>"
      ],
      "text/plain": [
       "          sum      mean       std\n",
       "A                                \n",
       "bar  0.552679  0.184226  0.520879\n",
       "foo -4.929652 -0.985930  0.939392"
      ]
     },
     "execution_count": 115,
     "metadata": {},
     "output_type": "execute_result"
    }
   ],
   "source": [
    "# 方法2\n",
    "test_df.groupby('A').agg([np.sum, np.mean, np.std])['C']"
   ]
  },
  {
   "cell_type": "code",
   "execution_count": 116,
   "metadata": {
    "ExecuteTime": {
     "end_time": "2020-08-23T03:33:46.225938Z",
     "start_time": "2020-08-23T03:33:46.211564Z"
    }
   },
   "outputs": [
    {
     "data": {
      "text/html": [
       "<div>\n",
       "<style scoped>\n",
       "    .dataframe tbody tr th:only-of-type {\n",
       "        vertical-align: middle;\n",
       "    }\n",
       "\n",
       "    .dataframe tbody tr th {\n",
       "        vertical-align: top;\n",
       "    }\n",
       "\n",
       "    .dataframe thead th {\n",
       "        text-align: right;\n",
       "    }\n",
       "</style>\n",
       "<table border=\"1\" class=\"dataframe\">\n",
       "  <thead>\n",
       "    <tr style=\"text-align: right;\">\n",
       "      <th></th>\n",
       "      <th>C</th>\n",
       "      <th>D</th>\n",
       "    </tr>\n",
       "    <tr>\n",
       "      <th>A</th>\n",
       "      <th></th>\n",
       "      <th></th>\n",
       "    </tr>\n",
       "  </thead>\n",
       "  <tbody>\n",
       "    <tr>\n",
       "      <th>bar</th>\n",
       "      <td>0.552679</td>\n",
       "      <td>0.071314</td>\n",
       "    </tr>\n",
       "    <tr>\n",
       "      <th>foo</th>\n",
       "      <td>-4.929652</td>\n",
       "      <td>0.772009</td>\n",
       "    </tr>\n",
       "  </tbody>\n",
       "</table>\n",
       "</div>"
      ],
      "text/plain": [
       "            C         D\n",
       "A                      \n",
       "bar  0.552679  0.071314\n",
       "foo -4.929652  0.772009"
      ]
     },
     "execution_count": 116,
     "metadata": {},
     "output_type": "execute_result"
    }
   ],
   "source": [
    "# 5、不同列使用不同的聚合函数\n",
    "test_df.groupby('A').agg({\"C\":np.sum, \"D\":np.mean})"
   ]
  },
  {
   "cell_type": "markdown",
   "metadata": {},
   "source": [
    "### 二、遍历groupby的结果理解执行流程\n",
    "for循环可以直接遍历每个group"
   ]
  },
  {
   "cell_type": "code",
   "execution_count": 117,
   "metadata": {
    "ExecuteTime": {
     "end_time": "2020-08-23T03:33:46.238425Z",
     "start_time": "2020-08-23T03:33:46.228921Z"
    }
   },
   "outputs": [
    {
     "data": {
      "text/plain": [
       "<pandas.core.groupby.generic.DataFrameGroupBy object at 0x000002B17ED73940>"
      ]
     },
     "execution_count": 117,
     "metadata": {},
     "output_type": "execute_result"
    }
   ],
   "source": [
    "g = test_df.groupby('A')\n",
    "g"
   ]
  },
  {
   "cell_type": "code",
   "execution_count": 118,
   "metadata": {
    "ExecuteTime": {
     "end_time": "2020-08-23T03:33:46.268311Z",
     "start_time": "2020-08-23T03:33:46.239876Z"
    }
   },
   "outputs": [
    {
     "name": "stdout",
     "output_type": "stream",
     "text": [
      "bar\n",
      "     A      B         C         D\n",
      "1  bar    one  0.610262  0.004293\n",
      "3  bar  three  0.338883 -0.851371\n",
      "5  bar    two -0.396466  1.061021\n",
      "----------------------------------------\n",
      "foo\n",
      "     A      B         C         D\n",
      "0  foo    one -1.097629 -0.855014\n",
      "2  foo    two -0.116379  1.009069\n",
      "4  foo    two -2.534381  1.065644\n",
      "6  foo    one -0.750336  0.946112\n",
      "7  foo  three -0.430926  1.694233\n",
      "----------------------------------------\n"
     ]
    }
   ],
   "source": [
    "for name, group in g:\n",
    "    print(name)\n",
    "    print(group)\n",
    "    print('-' * 40)"
   ]
  },
  {
   "cell_type": "code",
   "execution_count": 119,
   "metadata": {
    "ExecuteTime": {
     "end_time": "2020-08-23T03:33:46.289136Z",
     "start_time": "2020-08-23T03:33:46.270223Z"
    }
   },
   "outputs": [
    {
     "data": {
      "text/html": [
       "<div>\n",
       "<style scoped>\n",
       "    .dataframe tbody tr th:only-of-type {\n",
       "        vertical-align: middle;\n",
       "    }\n",
       "\n",
       "    .dataframe tbody tr th {\n",
       "        vertical-align: top;\n",
       "    }\n",
       "\n",
       "    .dataframe thead th {\n",
       "        text-align: right;\n",
       "    }\n",
       "</style>\n",
       "<table border=\"1\" class=\"dataframe\">\n",
       "  <thead>\n",
       "    <tr style=\"text-align: right;\">\n",
       "      <th></th>\n",
       "      <th>A</th>\n",
       "      <th>B</th>\n",
       "      <th>C</th>\n",
       "      <th>D</th>\n",
       "    </tr>\n",
       "  </thead>\n",
       "  <tbody>\n",
       "    <tr>\n",
       "      <th>1</th>\n",
       "      <td>bar</td>\n",
       "      <td>one</td>\n",
       "      <td>0.610262</td>\n",
       "      <td>0.004293</td>\n",
       "    </tr>\n",
       "    <tr>\n",
       "      <th>3</th>\n",
       "      <td>bar</td>\n",
       "      <td>three</td>\n",
       "      <td>0.338883</td>\n",
       "      <td>-0.851371</td>\n",
       "    </tr>\n",
       "    <tr>\n",
       "      <th>5</th>\n",
       "      <td>bar</td>\n",
       "      <td>two</td>\n",
       "      <td>-0.396466</td>\n",
       "      <td>1.061021</td>\n",
       "    </tr>\n",
       "  </tbody>\n",
       "</table>\n",
       "</div>"
      ],
      "text/plain": [
       "     A      B         C         D\n",
       "1  bar    one  0.610262  0.004293\n",
       "3  bar  three  0.338883 -0.851371\n",
       "5  bar    two -0.396466  1.061021"
      ]
     },
     "execution_count": 119,
     "metadata": {},
     "output_type": "execute_result"
    }
   ],
   "source": [
    "# 可以获取单个分组的数据\n",
    "g.get_group('bar')"
   ]
  },
  {
   "cell_type": "code",
   "execution_count": 120,
   "metadata": {
    "ExecuteTime": {
     "end_time": "2020-08-23T03:33:46.301327Z",
     "start_time": "2020-08-23T03:33:46.291348Z"
    }
   },
   "outputs": [],
   "source": [
    "# 遍历多个列聚合的分组\n",
    "g = test_df.groupby(['A', 'B'])"
   ]
  },
  {
   "cell_type": "code",
   "execution_count": 121,
   "metadata": {
    "ExecuteTime": {
     "end_time": "2020-08-23T03:33:46.330354Z",
     "start_time": "2020-08-23T03:33:46.304316Z"
    }
   },
   "outputs": [
    {
     "name": "stdout",
     "output_type": "stream",
     "text": [
      "('bar', 'one')\n",
      "     A    B         C         D\n",
      "1  bar  one  0.610262  0.004293\n",
      "----------------------------------------\n",
      "('bar', 'three')\n",
      "     A      B         C         D\n",
      "3  bar  three  0.338883 -0.851371\n",
      "----------------------------------------\n",
      "('bar', 'two')\n",
      "     A    B         C         D\n",
      "5  bar  two -0.396466  1.061021\n",
      "----------------------------------------\n",
      "('foo', 'one')\n",
      "     A    B         C         D\n",
      "0  foo  one -1.097629 -0.855014\n",
      "6  foo  one -0.750336  0.946112\n",
      "----------------------------------------\n",
      "('foo', 'three')\n",
      "     A      B         C         D\n",
      "7  foo  three -0.430926  1.694233\n",
      "----------------------------------------\n",
      "('foo', 'two')\n",
      "     A    B         C         D\n",
      "2  foo  two -0.116379  1.009069\n",
      "4  foo  two -2.534381  1.065644\n",
      "----------------------------------------\n"
     ]
    }
   ],
   "source": [
    "for name, group in g:\n",
    "    print(name)\n",
    "    print(group)\n",
    "    print('-' * 40)"
   ]
  },
  {
   "cell_type": "code",
   "execution_count": 122,
   "metadata": {
    "ExecuteTime": {
     "end_time": "2020-08-23T03:33:46.339851Z",
     "start_time": "2020-08-23T03:33:46.332117Z"
    }
   },
   "outputs": [
    {
     "data": {
      "text/html": [
       "<div>\n",
       "<style scoped>\n",
       "    .dataframe tbody tr th:only-of-type {\n",
       "        vertical-align: middle;\n",
       "    }\n",
       "\n",
       "    .dataframe tbody tr th {\n",
       "        vertical-align: top;\n",
       "    }\n",
       "\n",
       "    .dataframe thead th {\n",
       "        text-align: right;\n",
       "    }\n",
       "</style>\n",
       "<table border=\"1\" class=\"dataframe\">\n",
       "  <thead>\n",
       "    <tr style=\"text-align: right;\">\n",
       "      <th></th>\n",
       "      <th>A</th>\n",
       "      <th>B</th>\n",
       "      <th>C</th>\n",
       "      <th>D</th>\n",
       "    </tr>\n",
       "  </thead>\n",
       "  <tbody>\n",
       "    <tr>\n",
       "      <th>0</th>\n",
       "      <td>foo</td>\n",
       "      <td>one</td>\n",
       "      <td>-1.097629</td>\n",
       "      <td>-0.855014</td>\n",
       "    </tr>\n",
       "    <tr>\n",
       "      <th>6</th>\n",
       "      <td>foo</td>\n",
       "      <td>one</td>\n",
       "      <td>-0.750336</td>\n",
       "      <td>0.946112</td>\n",
       "    </tr>\n",
       "  </tbody>\n",
       "</table>\n",
       "</div>"
      ],
      "text/plain": [
       "     A    B         C         D\n",
       "0  foo  one -1.097629 -0.855014\n",
       "6  foo  one -0.750336  0.946112"
      ]
     },
     "execution_count": 122,
     "metadata": {},
     "output_type": "execute_result"
    }
   ],
   "source": [
    "# 可以看到，name是一个2个元素的tuple，代表不同的列\n",
    "g.get_group(('foo', 'one'))"
   ]
  },
  {
   "cell_type": "code",
   "execution_count": 123,
   "metadata": {
    "ExecuteTime": {
     "end_time": "2020-08-23T03:33:46.352235Z",
     "start_time": "2020-08-23T03:33:46.342930Z"
    }
   },
   "outputs": [
    {
     "data": {
      "text/plain": [
       "<pandas.core.groupby.generic.SeriesGroupBy object at 0x000002B17ED73A58>"
      ]
     },
     "execution_count": 123,
     "metadata": {},
     "output_type": "execute_result"
    }
   ],
   "source": [
    "# 可以直接查询group后的某几列，生成Series或者子DataFrame\n",
    "g['C']"
   ]
  },
  {
   "cell_type": "code",
   "execution_count": 124,
   "metadata": {
    "ExecuteTime": {
     "end_time": "2020-08-23T03:33:46.367229Z",
     "start_time": "2020-08-23T03:33:46.353637Z"
    }
   },
   "outputs": [
    {
     "name": "stdout",
     "output_type": "stream",
     "text": [
      "('bar', 'one')\n",
      "1    0.610262\n",
      "Name: C, dtype: float64\n",
      "<class 'pandas.core.series.Series'>\n",
      "----------------------------------------\n",
      "('bar', 'three')\n",
      "3    0.338883\n",
      "Name: C, dtype: float64\n",
      "<class 'pandas.core.series.Series'>\n",
      "----------------------------------------\n",
      "('bar', 'two')\n",
      "5   -0.396466\n",
      "Name: C, dtype: float64\n",
      "<class 'pandas.core.series.Series'>\n",
      "----------------------------------------\n",
      "('foo', 'one')\n",
      "0   -1.097629\n",
      "6   -0.750336\n",
      "Name: C, dtype: float64\n",
      "<class 'pandas.core.series.Series'>\n",
      "----------------------------------------\n",
      "('foo', 'three')\n",
      "7   -0.430926\n",
      "Name: C, dtype: float64\n",
      "<class 'pandas.core.series.Series'>\n",
      "----------------------------------------\n",
      "('foo', 'two')\n",
      "2   -0.116379\n",
      "4   -2.534381\n",
      "Name: C, dtype: float64\n",
      "<class 'pandas.core.series.Series'>\n",
      "----------------------------------------\n"
     ]
    }
   ],
   "source": [
    "for name, group in g['C']:\n",
    "    print(name)\n",
    "    print(group)\n",
    "    print(type(group))\n",
    "    print('-' * 40)\n",
    "del g\n",
    "del test_df"
   ]
  },
  {
   "cell_type": "markdown",
   "metadata": {},
   "source": [
    "### 三、实例分组探索天气数据"
   ]
  },
  {
   "cell_type": "code",
   "execution_count": 125,
   "metadata": {
    "ExecuteTime": {
     "end_time": "2020-08-23T03:33:46.384267Z",
     "start_time": "2020-08-23T03:33:46.368957Z"
    }
   },
   "outputs": [
    {
     "data": {
      "text/html": [
       "<div>\n",
       "<style scoped>\n",
       "    .dataframe tbody tr th:only-of-type {\n",
       "        vertical-align: middle;\n",
       "    }\n",
       "\n",
       "    .dataframe tbody tr th {\n",
       "        vertical-align: top;\n",
       "    }\n",
       "\n",
       "    .dataframe thead th {\n",
       "        text-align: right;\n",
       "    }\n",
       "</style>\n",
       "<table border=\"1\" class=\"dataframe\">\n",
       "  <thead>\n",
       "    <tr style=\"text-align: right;\">\n",
       "      <th></th>\n",
       "      <th>week</th>\n",
       "      <th>max_temperature</th>\n",
       "      <th>min_temperature</th>\n",
       "      <th>day_status</th>\n",
       "      <th>wind</th>\n",
       "      <th>aqi</th>\n",
       "      <th>aqi_status</th>\n",
       "      <th>dif</th>\n",
       "      <th>temp_type</th>\n",
       "      <th>temp_type2</th>\n",
       "      <th>wencha_type</th>\n",
       "      <th>date</th>\n",
       "      <th>中文日期</th>\n",
       "    </tr>\n",
       "    <tr>\n",
       "      <th>date</th>\n",
       "      <th></th>\n",
       "      <th></th>\n",
       "      <th></th>\n",
       "      <th></th>\n",
       "      <th></th>\n",
       "      <th></th>\n",
       "      <th></th>\n",
       "      <th></th>\n",
       "      <th></th>\n",
       "      <th></th>\n",
       "      <th></th>\n",
       "      <th></th>\n",
       "      <th></th>\n",
       "    </tr>\n",
       "  </thead>\n",
       "  <tbody>\n",
       "    <tr>\n",
       "      <th>2017-01-01</th>\n",
       "      <td>周日</td>\n",
       "      <td>9.0</td>\n",
       "      <td>NaN</td>\n",
       "      <td>多云</td>\n",
       "      <td>无持续风向微风</td>\n",
       "      <td>372</td>\n",
       "      <td>严重</td>\n",
       "      <td>NaN</td>\n",
       "      <td>常温</td>\n",
       "      <td>常温</td>\n",
       "      <td></td>\n",
       "      <td>2017-01-01</td>\n",
       "      <td>2017年01月01日</td>\n",
       "    </tr>\n",
       "    <tr>\n",
       "      <th>2017-01-02</th>\n",
       "      <td>周一</td>\n",
       "      <td>9.0</td>\n",
       "      <td>NaN</td>\n",
       "      <td>霾</td>\n",
       "      <td>无持续风向微风</td>\n",
       "      <td>361</td>\n",
       "      <td>严重</td>\n",
       "      <td>NaN</td>\n",
       "      <td>常温</td>\n",
       "      <td>常温</td>\n",
       "      <td></td>\n",
       "      <td>2017-01-02</td>\n",
       "      <td>2017年01月02日</td>\n",
       "    </tr>\n",
       "    <tr>\n",
       "      <th>2017-01-03</th>\n",
       "      <td>周二</td>\n",
       "      <td>9.0</td>\n",
       "      <td>NaN</td>\n",
       "      <td>霾~雾</td>\n",
       "      <td>无持续风向微风</td>\n",
       "      <td>280</td>\n",
       "      <td>重度</td>\n",
       "      <td>NaN</td>\n",
       "      <td>常温</td>\n",
       "      <td>常温</td>\n",
       "      <td></td>\n",
       "      <td>2017-01-03</td>\n",
       "      <td>2017年01月03日</td>\n",
       "    </tr>\n",
       "    <tr>\n",
       "      <th>2017-01-04</th>\n",
       "      <td>周三</td>\n",
       "      <td>9.0</td>\n",
       "      <td>2.0</td>\n",
       "      <td>小雨</td>\n",
       "      <td>无持续风向微风</td>\n",
       "      <td>193</td>\n",
       "      <td>中度</td>\n",
       "      <td>7.0</td>\n",
       "      <td>常温</td>\n",
       "      <td>常温</td>\n",
       "      <td>温差小</td>\n",
       "      <td>2017-01-04</td>\n",
       "      <td>2017年01月04日</td>\n",
       "    </tr>\n",
       "    <tr>\n",
       "      <th>2017-01-05</th>\n",
       "      <td>周四</td>\n",
       "      <td>5.0</td>\n",
       "      <td>1.0</td>\n",
       "      <td>小雨</td>\n",
       "      <td>无持续风向微风</td>\n",
       "      <td>216</td>\n",
       "      <td>重度</td>\n",
       "      <td>4.0</td>\n",
       "      <td>常温</td>\n",
       "      <td>常温</td>\n",
       "      <td>温差小</td>\n",
       "      <td>2017-01-05</td>\n",
       "      <td>2017年01月05日</td>\n",
       "    </tr>\n",
       "  </tbody>\n",
       "</table>\n",
       "</div>"
      ],
      "text/plain": [
       "           week  max_temperature  min_temperature day_status     wind  aqi  \\\n",
       "date                                                                         \n",
       "2017-01-01   周日              9.0              NaN         多云  无持续风向微风  372   \n",
       "2017-01-02   周一              9.0              NaN          霾  无持续风向微风  361   \n",
       "2017-01-03   周二              9.0              NaN        霾~雾  无持续风向微风  280   \n",
       "2017-01-04   周三              9.0              2.0         小雨  无持续风向微风  193   \n",
       "2017-01-05   周四              5.0              1.0         小雨  无持续风向微风  216   \n",
       "\n",
       "           aqi_status  dif temp_type temp_type2 wencha_type        date  \\\n",
       "date                                                                      \n",
       "2017-01-01         严重  NaN        常温         常温              2017-01-01   \n",
       "2017-01-02         严重  NaN        常温         常温              2017-01-02   \n",
       "2017-01-03         重度  NaN        常温         常温              2017-01-03   \n",
       "2017-01-04         中度  7.0        常温         常温         温差小  2017-01-04   \n",
       "2017-01-05         重度  4.0        常温         常温         温差小  2017-01-05   \n",
       "\n",
       "                   中文日期  \n",
       "date                     \n",
       "2017-01-01  2017年01月01日  \n",
       "2017-01-02  2017年01月02日  \n",
       "2017-01-03  2017年01月03日  \n",
       "2017-01-04  2017年01月04日  \n",
       "2017-01-05  2017年01月05日  "
      ]
     },
     "execution_count": 125,
     "metadata": {},
     "output_type": "execute_result"
    }
   ],
   "source": [
    "df.head()"
   ]
  },
  {
   "cell_type": "code",
   "execution_count": 126,
   "metadata": {
    "ExecuteTime": {
     "end_time": "2020-08-23T03:33:46.400158Z",
     "start_time": "2020-08-23T03:33:46.386005Z"
    }
   },
   "outputs": [],
   "source": [
    "df['month'] = df.index.str[:7]"
   ]
  },
  {
   "cell_type": "code",
   "execution_count": 127,
   "metadata": {
    "ExecuteTime": {
     "end_time": "2020-08-23T03:33:46.422421Z",
     "start_time": "2020-08-23T03:33:46.401747Z"
    }
   },
   "outputs": [
    {
     "data": {
      "text/html": [
       "<div>\n",
       "<style scoped>\n",
       "    .dataframe tbody tr th:only-of-type {\n",
       "        vertical-align: middle;\n",
       "    }\n",
       "\n",
       "    .dataframe tbody tr th {\n",
       "        vertical-align: top;\n",
       "    }\n",
       "\n",
       "    .dataframe thead th {\n",
       "        text-align: right;\n",
       "    }\n",
       "</style>\n",
       "<table border=\"1\" class=\"dataframe\">\n",
       "  <thead>\n",
       "    <tr style=\"text-align: right;\">\n",
       "      <th></th>\n",
       "      <th>week</th>\n",
       "      <th>max_temperature</th>\n",
       "      <th>min_temperature</th>\n",
       "      <th>day_status</th>\n",
       "      <th>wind</th>\n",
       "      <th>aqi</th>\n",
       "      <th>aqi_status</th>\n",
       "      <th>dif</th>\n",
       "      <th>temp_type</th>\n",
       "      <th>temp_type2</th>\n",
       "      <th>wencha_type</th>\n",
       "      <th>date</th>\n",
       "      <th>中文日期</th>\n",
       "      <th>month</th>\n",
       "    </tr>\n",
       "    <tr>\n",
       "      <th>date</th>\n",
       "      <th></th>\n",
       "      <th></th>\n",
       "      <th></th>\n",
       "      <th></th>\n",
       "      <th></th>\n",
       "      <th></th>\n",
       "      <th></th>\n",
       "      <th></th>\n",
       "      <th></th>\n",
       "      <th></th>\n",
       "      <th></th>\n",
       "      <th></th>\n",
       "      <th></th>\n",
       "      <th></th>\n",
       "    </tr>\n",
       "  </thead>\n",
       "  <tbody>\n",
       "    <tr>\n",
       "      <th>2017-01-01</th>\n",
       "      <td>周日</td>\n",
       "      <td>9.0</td>\n",
       "      <td>NaN</td>\n",
       "      <td>多云</td>\n",
       "      <td>无持续风向微风</td>\n",
       "      <td>372</td>\n",
       "      <td>严重</td>\n",
       "      <td>NaN</td>\n",
       "      <td>常温</td>\n",
       "      <td>常温</td>\n",
       "      <td></td>\n",
       "      <td>2017-01-01</td>\n",
       "      <td>2017年01月01日</td>\n",
       "      <td>2017-01</td>\n",
       "    </tr>\n",
       "    <tr>\n",
       "      <th>2017-01-02</th>\n",
       "      <td>周一</td>\n",
       "      <td>9.0</td>\n",
       "      <td>NaN</td>\n",
       "      <td>霾</td>\n",
       "      <td>无持续风向微风</td>\n",
       "      <td>361</td>\n",
       "      <td>严重</td>\n",
       "      <td>NaN</td>\n",
       "      <td>常温</td>\n",
       "      <td>常温</td>\n",
       "      <td></td>\n",
       "      <td>2017-01-02</td>\n",
       "      <td>2017年01月02日</td>\n",
       "      <td>2017-01</td>\n",
       "    </tr>\n",
       "    <tr>\n",
       "      <th>2017-01-03</th>\n",
       "      <td>周二</td>\n",
       "      <td>9.0</td>\n",
       "      <td>NaN</td>\n",
       "      <td>霾~雾</td>\n",
       "      <td>无持续风向微风</td>\n",
       "      <td>280</td>\n",
       "      <td>重度</td>\n",
       "      <td>NaN</td>\n",
       "      <td>常温</td>\n",
       "      <td>常温</td>\n",
       "      <td></td>\n",
       "      <td>2017-01-03</td>\n",
       "      <td>2017年01月03日</td>\n",
       "      <td>2017-01</td>\n",
       "    </tr>\n",
       "    <tr>\n",
       "      <th>2017-01-04</th>\n",
       "      <td>周三</td>\n",
       "      <td>9.0</td>\n",
       "      <td>2.0</td>\n",
       "      <td>小雨</td>\n",
       "      <td>无持续风向微风</td>\n",
       "      <td>193</td>\n",
       "      <td>中度</td>\n",
       "      <td>7.0</td>\n",
       "      <td>常温</td>\n",
       "      <td>常温</td>\n",
       "      <td>温差小</td>\n",
       "      <td>2017-01-04</td>\n",
       "      <td>2017年01月04日</td>\n",
       "      <td>2017-01</td>\n",
       "    </tr>\n",
       "    <tr>\n",
       "      <th>2017-01-05</th>\n",
       "      <td>周四</td>\n",
       "      <td>5.0</td>\n",
       "      <td>1.0</td>\n",
       "      <td>小雨</td>\n",
       "      <td>无持续风向微风</td>\n",
       "      <td>216</td>\n",
       "      <td>重度</td>\n",
       "      <td>4.0</td>\n",
       "      <td>常温</td>\n",
       "      <td>常温</td>\n",
       "      <td>温差小</td>\n",
       "      <td>2017-01-05</td>\n",
       "      <td>2017年01月05日</td>\n",
       "      <td>2017-01</td>\n",
       "    </tr>\n",
       "  </tbody>\n",
       "</table>\n",
       "</div>"
      ],
      "text/plain": [
       "           week  max_temperature  min_temperature day_status     wind  aqi  \\\n",
       "date                                                                         \n",
       "2017-01-01   周日              9.0              NaN         多云  无持续风向微风  372   \n",
       "2017-01-02   周一              9.0              NaN          霾  无持续风向微风  361   \n",
       "2017-01-03   周二              9.0              NaN        霾~雾  无持续风向微风  280   \n",
       "2017-01-04   周三              9.0              2.0         小雨  无持续风向微风  193   \n",
       "2017-01-05   周四              5.0              1.0         小雨  无持续风向微风  216   \n",
       "\n",
       "           aqi_status  dif temp_type temp_type2 wencha_type        date  \\\n",
       "date                                                                      \n",
       "2017-01-01         严重  NaN        常温         常温              2017-01-01   \n",
       "2017-01-02         严重  NaN        常温         常温              2017-01-02   \n",
       "2017-01-03         重度  NaN        常温         常温              2017-01-03   \n",
       "2017-01-04         中度  7.0        常温         常温         温差小  2017-01-04   \n",
       "2017-01-05         重度  4.0        常温         常温         温差小  2017-01-05   \n",
       "\n",
       "                   中文日期    month  \n",
       "date                              \n",
       "2017-01-01  2017年01月01日  2017-01  \n",
       "2017-01-02  2017年01月02日  2017-01  \n",
       "2017-01-03  2017年01月03日  2017-01  \n",
       "2017-01-04  2017年01月04日  2017-01  \n",
       "2017-01-05  2017年01月05日  2017-01  "
      ]
     },
     "execution_count": 127,
     "metadata": {},
     "output_type": "execute_result"
    }
   ],
   "source": [
    "df.head()"
   ]
  },
  {
   "cell_type": "code",
   "execution_count": 128,
   "metadata": {
    "ExecuteTime": {
     "end_time": "2020-08-23T03:33:46.433425Z",
     "start_time": "2020-08-23T03:33:46.424083Z"
    },
    "scrolled": true
   },
   "outputs": [],
   "source": [
    "# 查看每个月的最高温度\n",
    "data = df.groupby('month')['max_temperature'].max()\n"
   ]
  },
  {
   "cell_type": "code",
   "execution_count": 129,
   "metadata": {
    "ExecuteTime": {
     "end_time": "2020-08-23T03:33:46.446423Z",
     "start_time": "2020-08-23T03:33:46.435399Z"
    }
   },
   "outputs": [
    {
     "data": {
      "text/plain": [
       "month\n",
       "2017-01    14.0\n",
       "2017-02    21.0\n",
       "2017-03    21.0\n",
       "2017-04    34.0\n",
       "2017-05    39.0\n",
       "2017-06    38.0\n",
       "2017-07    38.0\n",
       "2017-08    37.0\n",
       "2017-09    33.0\n",
       "2017-10    25.0\n",
       "2017-11    24.0\n",
       "2017-12    14.0\n",
       "Name: max_temperature, dtype: float64"
      ]
     },
     "execution_count": 129,
     "metadata": {},
     "output_type": "execute_result"
    }
   ],
   "source": [
    "data.head(12)"
   ]
  },
  {
   "cell_type": "code",
   "execution_count": 130,
   "metadata": {
    "ExecuteTime": {
     "end_time": "2020-08-23T03:33:46.457416Z",
     "start_time": "2020-08-23T03:33:46.448127Z"
    }
   },
   "outputs": [
    {
     "data": {
      "text/plain": [
       "pandas.core.series.Series"
      ]
     },
     "execution_count": 130,
     "metadata": {},
     "output_type": "execute_result"
    }
   ],
   "source": [
    "type(data)"
   ]
  },
  {
   "cell_type": "code",
   "execution_count": 131,
   "metadata": {
    "ExecuteTime": {
     "end_time": "2020-08-23T03:33:46.519109Z",
     "start_time": "2020-08-23T03:33:46.459086Z"
    }
   },
   "outputs": [
    {
     "data": {
      "application/vnd.jupyter.widget-view+json": {
       "model_id": "17c08c11773040c084a80f51c19c6df1",
       "version_major": 2,
       "version_minor": 0
      },
      "text/plain": [
       "Canvas(toolbar=Toolbar(toolitems=[('Home', 'Reset original view', 'home', 'home'), ('Back', 'Back to previous …"
      ]
     },
     "metadata": {},
     "output_type": "display_data"
    },
    {
     "name": "stderr",
     "output_type": "stream",
     "text": [
      "d:\\python\\lib\\site-packages\\pandas\\plotting\\_matplotlib\\core.py:1235: UserWarning: FixedFormatter should only be used together with FixedLocator\n",
      "  ax.set_xticklabels(xticklabels)\n"
     ]
    },
    {
     "data": {
      "text/plain": [
       "<AxesSubplot:xlabel='month'>"
      ]
     },
     "execution_count": 131,
     "metadata": {},
     "output_type": "execute_result"
    }
   ],
   "source": [
    "\n",
    "data[0:12].plot()"
   ]
  },
  {
   "cell_type": "code",
   "execution_count": 132,
   "metadata": {
    "ExecuteTime": {
     "end_time": "2020-08-23T03:33:46.534154Z",
     "start_time": "2020-08-23T03:33:46.520567Z"
    }
   },
   "outputs": [
    {
     "data": {
      "text/html": [
       "<div>\n",
       "<style scoped>\n",
       "    .dataframe tbody tr th:only-of-type {\n",
       "        vertical-align: middle;\n",
       "    }\n",
       "\n",
       "    .dataframe tbody tr th {\n",
       "        vertical-align: top;\n",
       "    }\n",
       "\n",
       "    .dataframe thead th {\n",
       "        text-align: right;\n",
       "    }\n",
       "</style>\n",
       "<table border=\"1\" class=\"dataframe\">\n",
       "  <thead>\n",
       "    <tr style=\"text-align: right;\">\n",
       "      <th></th>\n",
       "      <th>week</th>\n",
       "      <th>max_temperature</th>\n",
       "      <th>min_temperature</th>\n",
       "      <th>day_status</th>\n",
       "      <th>wind</th>\n",
       "      <th>aqi</th>\n",
       "      <th>aqi_status</th>\n",
       "      <th>dif</th>\n",
       "      <th>temp_type</th>\n",
       "      <th>temp_type2</th>\n",
       "      <th>wencha_type</th>\n",
       "      <th>date</th>\n",
       "      <th>中文日期</th>\n",
       "      <th>month</th>\n",
       "    </tr>\n",
       "    <tr>\n",
       "      <th>date</th>\n",
       "      <th></th>\n",
       "      <th></th>\n",
       "      <th></th>\n",
       "      <th></th>\n",
       "      <th></th>\n",
       "      <th></th>\n",
       "      <th></th>\n",
       "      <th></th>\n",
       "      <th></th>\n",
       "      <th></th>\n",
       "      <th></th>\n",
       "      <th></th>\n",
       "      <th></th>\n",
       "      <th></th>\n",
       "    </tr>\n",
       "  </thead>\n",
       "  <tbody>\n",
       "    <tr>\n",
       "      <th>2017-01-01</th>\n",
       "      <td>周日</td>\n",
       "      <td>9.0</td>\n",
       "      <td>NaN</td>\n",
       "      <td>多云</td>\n",
       "      <td>无持续风向微风</td>\n",
       "      <td>372</td>\n",
       "      <td>严重</td>\n",
       "      <td>NaN</td>\n",
       "      <td>常温</td>\n",
       "      <td>常温</td>\n",
       "      <td></td>\n",
       "      <td>2017-01-01</td>\n",
       "      <td>2017年01月01日</td>\n",
       "      <td>2017-01</td>\n",
       "    </tr>\n",
       "    <tr>\n",
       "      <th>2017-01-02</th>\n",
       "      <td>周一</td>\n",
       "      <td>9.0</td>\n",
       "      <td>NaN</td>\n",
       "      <td>霾</td>\n",
       "      <td>无持续风向微风</td>\n",
       "      <td>361</td>\n",
       "      <td>严重</td>\n",
       "      <td>NaN</td>\n",
       "      <td>常温</td>\n",
       "      <td>常温</td>\n",
       "      <td></td>\n",
       "      <td>2017-01-02</td>\n",
       "      <td>2017年01月02日</td>\n",
       "      <td>2017-01</td>\n",
       "    </tr>\n",
       "    <tr>\n",
       "      <th>2017-01-03</th>\n",
       "      <td>周二</td>\n",
       "      <td>9.0</td>\n",
       "      <td>NaN</td>\n",
       "      <td>霾~雾</td>\n",
       "      <td>无持续风向微风</td>\n",
       "      <td>280</td>\n",
       "      <td>重度</td>\n",
       "      <td>NaN</td>\n",
       "      <td>常温</td>\n",
       "      <td>常温</td>\n",
       "      <td></td>\n",
       "      <td>2017-01-03</td>\n",
       "      <td>2017年01月03日</td>\n",
       "      <td>2017-01</td>\n",
       "    </tr>\n",
       "    <tr>\n",
       "      <th>2017-01-04</th>\n",
       "      <td>周三</td>\n",
       "      <td>9.0</td>\n",
       "      <td>2.0</td>\n",
       "      <td>小雨</td>\n",
       "      <td>无持续风向微风</td>\n",
       "      <td>193</td>\n",
       "      <td>中度</td>\n",
       "      <td>7.0</td>\n",
       "      <td>常温</td>\n",
       "      <td>常温</td>\n",
       "      <td>温差小</td>\n",
       "      <td>2017-01-04</td>\n",
       "      <td>2017年01月04日</td>\n",
       "      <td>2017-01</td>\n",
       "    </tr>\n",
       "    <tr>\n",
       "      <th>2017-01-05</th>\n",
       "      <td>周四</td>\n",
       "      <td>5.0</td>\n",
       "      <td>1.0</td>\n",
       "      <td>小雨</td>\n",
       "      <td>无持续风向微风</td>\n",
       "      <td>216</td>\n",
       "      <td>重度</td>\n",
       "      <td>4.0</td>\n",
       "      <td>常温</td>\n",
       "      <td>常温</td>\n",
       "      <td>温差小</td>\n",
       "      <td>2017-01-05</td>\n",
       "      <td>2017年01月05日</td>\n",
       "      <td>2017-01</td>\n",
       "    </tr>\n",
       "  </tbody>\n",
       "</table>\n",
       "</div>"
      ],
      "text/plain": [
       "           week  max_temperature  min_temperature day_status     wind  aqi  \\\n",
       "date                                                                         \n",
       "2017-01-01   周日              9.0              NaN         多云  无持续风向微风  372   \n",
       "2017-01-02   周一              9.0              NaN          霾  无持续风向微风  361   \n",
       "2017-01-03   周二              9.0              NaN        霾~雾  无持续风向微风  280   \n",
       "2017-01-04   周三              9.0              2.0         小雨  无持续风向微风  193   \n",
       "2017-01-05   周四              5.0              1.0         小雨  无持续风向微风  216   \n",
       "\n",
       "           aqi_status  dif temp_type temp_type2 wencha_type        date  \\\n",
       "date                                                                      \n",
       "2017-01-01         严重  NaN        常温         常温              2017-01-01   \n",
       "2017-01-02         严重  NaN        常温         常温              2017-01-02   \n",
       "2017-01-03         重度  NaN        常温         常温              2017-01-03   \n",
       "2017-01-04         中度  7.0        常温         常温         温差小  2017-01-04   \n",
       "2017-01-05         重度  4.0        常温         常温         温差小  2017-01-05   \n",
       "\n",
       "                   中文日期    month  \n",
       "date                              \n",
       "2017-01-01  2017年01月01日  2017-01  \n",
       "2017-01-02  2017年01月02日  2017-01  \n",
       "2017-01-03  2017年01月03日  2017-01  \n",
       "2017-01-04  2017年01月04日  2017-01  \n",
       "2017-01-05  2017年01月05日  2017-01  "
      ]
     },
     "execution_count": 132,
     "metadata": {},
     "output_type": "execute_result"
    }
   ],
   "source": [
    "# 查看每个月的最高温度、最低温度、平均空气质量指数\n",
    "df.head()"
   ]
  },
  {
   "cell_type": "code",
   "execution_count": 133,
   "metadata": {
    "ExecuteTime": {
     "end_time": "2020-08-23T03:33:46.561318Z",
     "start_time": "2020-08-23T03:33:46.535840Z"
    },
    "scrolled": true
   },
   "outputs": [
    {
     "data": {
      "text/html": [
       "<div>\n",
       "<style scoped>\n",
       "    .dataframe tbody tr th:only-of-type {\n",
       "        vertical-align: middle;\n",
       "    }\n",
       "\n",
       "    .dataframe tbody tr th {\n",
       "        vertical-align: top;\n",
       "    }\n",
       "\n",
       "    .dataframe thead th {\n",
       "        text-align: right;\n",
       "    }\n",
       "</style>\n",
       "<table border=\"1\" class=\"dataframe\">\n",
       "  <thead>\n",
       "    <tr style=\"text-align: right;\">\n",
       "      <th></th>\n",
       "      <th>max_temperature</th>\n",
       "      <th>min_temperature</th>\n",
       "      <th>aqi</th>\n",
       "    </tr>\n",
       "    <tr>\n",
       "      <th>month</th>\n",
       "      <th></th>\n",
       "      <th></th>\n",
       "      <th></th>\n",
       "    </tr>\n",
       "  </thead>\n",
       "  <tbody>\n",
       "    <tr>\n",
       "      <th>2017-01</th>\n",
       "      <td>14.0</td>\n",
       "      <td>-5.0</td>\n",
       "      <td>201.612903</td>\n",
       "    </tr>\n",
       "    <tr>\n",
       "      <th>2017-02</th>\n",
       "      <td>21.0</td>\n",
       "      <td>-6.0</td>\n",
       "      <td>150.321429</td>\n",
       "    </tr>\n",
       "    <tr>\n",
       "      <th>2017-03</th>\n",
       "      <td>21.0</td>\n",
       "      <td>-1.0</td>\n",
       "      <td>118.064516</td>\n",
       "    </tr>\n",
       "    <tr>\n",
       "      <th>2017-04</th>\n",
       "      <td>34.0</td>\n",
       "      <td>7.0</td>\n",
       "      <td>103.033333</td>\n",
       "    </tr>\n",
       "    <tr>\n",
       "      <th>2017-05</th>\n",
       "      <td>39.0</td>\n",
       "      <td>13.0</td>\n",
       "      <td>118.258065</td>\n",
       "    </tr>\n",
       "    <tr>\n",
       "      <th>2017-06</th>\n",
       "      <td>38.0</td>\n",
       "      <td>13.0</td>\n",
       "      <td>91.900000</td>\n",
       "    </tr>\n",
       "    <tr>\n",
       "      <th>2017-07</th>\n",
       "      <td>38.0</td>\n",
       "      <td>21.0</td>\n",
       "      <td>73.419355</td>\n",
       "    </tr>\n",
       "    <tr>\n",
       "      <th>2017-08</th>\n",
       "      <td>37.0</td>\n",
       "      <td>16.0</td>\n",
       "      <td>72.129032</td>\n",
       "    </tr>\n",
       "    <tr>\n",
       "      <th>2017-09</th>\n",
       "      <td>33.0</td>\n",
       "      <td>15.0</td>\n",
       "      <td>79.566667</td>\n",
       "    </tr>\n",
       "    <tr>\n",
       "      <th>2017-10</th>\n",
       "      <td>25.0</td>\n",
       "      <td>5.0</td>\n",
       "      <td>77.645161</td>\n",
       "    </tr>\n",
       "    <tr>\n",
       "      <th>2017-11</th>\n",
       "      <td>24.0</td>\n",
       "      <td>-1.0</td>\n",
       "      <td>109.533333</td>\n",
       "    </tr>\n",
       "    <tr>\n",
       "      <th>2017-12</th>\n",
       "      <td>14.0</td>\n",
       "      <td>-4.0</td>\n",
       "      <td>132.064516</td>\n",
       "    </tr>\n",
       "    <tr>\n",
       "      <th>2018-01</th>\n",
       "      <td>11.0</td>\n",
       "      <td>-10.0</td>\n",
       "      <td>152.645161</td>\n",
       "    </tr>\n",
       "    <tr>\n",
       "      <th>2018-02</th>\n",
       "      <td>21.0</td>\n",
       "      <td>-6.0</td>\n",
       "      <td>125.928571</td>\n",
       "    </tr>\n",
       "    <tr>\n",
       "      <th>2018-03</th>\n",
       "      <td>31.0</td>\n",
       "      <td>1.0</td>\n",
       "      <td>128.709677</td>\n",
       "    </tr>\n",
       "    <tr>\n",
       "      <th>2018-04</th>\n",
       "      <td>32.0</td>\n",
       "      <td>3.0</td>\n",
       "      <td>122.166667</td>\n",
       "    </tr>\n",
       "    <tr>\n",
       "      <th>2018-05</th>\n",
       "      <td>35.0</td>\n",
       "      <td>13.0</td>\n",
       "      <td>90.064516</td>\n",
       "    </tr>\n",
       "    <tr>\n",
       "      <th>2018-06</th>\n",
       "      <td>37.0</td>\n",
       "      <td>16.0</td>\n",
       "      <td>80.400000</td>\n",
       "    </tr>\n",
       "    <tr>\n",
       "      <th>2018-07</th>\n",
       "      <td>39.0</td>\n",
       "      <td>21.0</td>\n",
       "      <td>61.000000</td>\n",
       "    </tr>\n",
       "    <tr>\n",
       "      <th>2018-08</th>\n",
       "      <td>36.0</td>\n",
       "      <td>21.0</td>\n",
       "      <td>64.290323</td>\n",
       "    </tr>\n",
       "    <tr>\n",
       "      <th>2018-09</th>\n",
       "      <td>35.0</td>\n",
       "      <td>12.0</td>\n",
       "      <td>59.633333</td>\n",
       "    </tr>\n",
       "    <tr>\n",
       "      <th>2018-10</th>\n",
       "      <td>28.0</td>\n",
       "      <td>8.0</td>\n",
       "      <td>87.161290</td>\n",
       "    </tr>\n",
       "    <tr>\n",
       "      <th>2018-11</th>\n",
       "      <td>22.0</td>\n",
       "      <td>1.0</td>\n",
       "      <td>140.000000</td>\n",
       "    </tr>\n",
       "    <tr>\n",
       "      <th>2018-12</th>\n",
       "      <td>16.0</td>\n",
       "      <td>-7.0</td>\n",
       "      <td>158.548387</td>\n",
       "    </tr>\n",
       "    <tr>\n",
       "      <th>2019-01</th>\n",
       "      <td>13.0</td>\n",
       "      <td>-6.0</td>\n",
       "      <td>163.032258</td>\n",
       "    </tr>\n",
       "    <tr>\n",
       "      <th>2019-02</th>\n",
       "      <td>14.0</td>\n",
       "      <td>-5.0</td>\n",
       "      <td>159.035714</td>\n",
       "    </tr>\n",
       "    <tr>\n",
       "      <th>2019-03</th>\n",
       "      <td>27.0</td>\n",
       "      <td>1.0</td>\n",
       "      <td>93.612903</td>\n",
       "    </tr>\n",
       "    <tr>\n",
       "      <th>2019-04</th>\n",
       "      <td>31.0</td>\n",
       "      <td>4.0</td>\n",
       "      <td>92.600000</td>\n",
       "    </tr>\n",
       "    <tr>\n",
       "      <th>2019-05</th>\n",
       "      <td>38.0</td>\n",
       "      <td>13.0</td>\n",
       "      <td>86.903226</td>\n",
       "    </tr>\n",
       "    <tr>\n",
       "      <th>2019-06</th>\n",
       "      <td>39.0</td>\n",
       "      <td>19.0</td>\n",
       "      <td>72.966667</td>\n",
       "    </tr>\n",
       "    <tr>\n",
       "      <th>2019-07</th>\n",
       "      <td>38.0</td>\n",
       "      <td>21.0</td>\n",
       "      <td>68.451613</td>\n",
       "    </tr>\n",
       "    <tr>\n",
       "      <th>2019-08</th>\n",
       "      <td>34.0</td>\n",
       "      <td>20.0</td>\n",
       "      <td>57.870968</td>\n",
       "    </tr>\n",
       "    <tr>\n",
       "      <th>2019-09</th>\n",
       "      <td>36.0</td>\n",
       "      <td>16.0</td>\n",
       "      <td>65.600000</td>\n",
       "    </tr>\n",
       "    <tr>\n",
       "      <th>2019-10</th>\n",
       "      <td>32.0</td>\n",
       "      <td>7.0</td>\n",
       "      <td>71.225806</td>\n",
       "    </tr>\n",
       "    <tr>\n",
       "      <th>2019-11</th>\n",
       "      <td>22.0</td>\n",
       "      <td>-1.0</td>\n",
       "      <td>110.666667</td>\n",
       "    </tr>\n",
       "    <tr>\n",
       "      <th>2019-12</th>\n",
       "      <td>16.0</td>\n",
       "      <td>-7.0</td>\n",
       "      <td>123.290323</td>\n",
       "    </tr>\n",
       "  </tbody>\n",
       "</table>\n",
       "</div>"
      ],
      "text/plain": [
       "         max_temperature  min_temperature         aqi\n",
       "month                                                \n",
       "2017-01             14.0             -5.0  201.612903\n",
       "2017-02             21.0             -6.0  150.321429\n",
       "2017-03             21.0             -1.0  118.064516\n",
       "2017-04             34.0              7.0  103.033333\n",
       "2017-05             39.0             13.0  118.258065\n",
       "2017-06             38.0             13.0   91.900000\n",
       "2017-07             38.0             21.0   73.419355\n",
       "2017-08             37.0             16.0   72.129032\n",
       "2017-09             33.0             15.0   79.566667\n",
       "2017-10             25.0              5.0   77.645161\n",
       "2017-11             24.0             -1.0  109.533333\n",
       "2017-12             14.0             -4.0  132.064516\n",
       "2018-01             11.0            -10.0  152.645161\n",
       "2018-02             21.0             -6.0  125.928571\n",
       "2018-03             31.0              1.0  128.709677\n",
       "2018-04             32.0              3.0  122.166667\n",
       "2018-05             35.0             13.0   90.064516\n",
       "2018-06             37.0             16.0   80.400000\n",
       "2018-07             39.0             21.0   61.000000\n",
       "2018-08             36.0             21.0   64.290323\n",
       "2018-09             35.0             12.0   59.633333\n",
       "2018-10             28.0              8.0   87.161290\n",
       "2018-11             22.0              1.0  140.000000\n",
       "2018-12             16.0             -7.0  158.548387\n",
       "2019-01             13.0             -6.0  163.032258\n",
       "2019-02             14.0             -5.0  159.035714\n",
       "2019-03             27.0              1.0   93.612903\n",
       "2019-04             31.0              4.0   92.600000\n",
       "2019-05             38.0             13.0   86.903226\n",
       "2019-06             39.0             19.0   72.966667\n",
       "2019-07             38.0             21.0   68.451613\n",
       "2019-08             34.0             20.0   57.870968\n",
       "2019-09             36.0             16.0   65.600000\n",
       "2019-10             32.0              7.0   71.225806\n",
       "2019-11             22.0             -1.0  110.666667\n",
       "2019-12             16.0             -7.0  123.290323"
      ]
     },
     "execution_count": 133,
     "metadata": {},
     "output_type": "execute_result"
    }
   ],
   "source": [
    "group_data = df.groupby('month').agg({\"max_temperature\":np.max, \"min_temperature\":np.min, \"aqi\":np.mean})\n",
    "group_data"
   ]
  },
  {
   "cell_type": "code",
   "execution_count": 134,
   "metadata": {
    "ExecuteTime": {
     "end_time": "2020-08-23T03:33:46.612933Z",
     "start_time": "2020-08-23T03:33:46.562459Z"
    }
   },
   "outputs": [
    {
     "data": {
      "application/vnd.jupyter.widget-view+json": {
       "model_id": "729716b2092d4f13a053b8ddd600a22b",
       "version_major": 2,
       "version_minor": 0
      },
      "text/plain": [
       "Canvas(toolbar=Toolbar(toolitems=[('Home', 'Reset original view', 'home', 'home'), ('Back', 'Back to previous …"
      ]
     },
     "metadata": {},
     "output_type": "display_data"
    },
    {
     "name": "stderr",
     "output_type": "stream",
     "text": [
      "d:\\python\\lib\\site-packages\\pandas\\plotting\\_matplotlib\\core.py:1235: UserWarning: FixedFormatter should only be used together with FixedLocator\n",
      "  ax.set_xticklabels(xticklabels)\n"
     ]
    },
    {
     "data": {
      "text/plain": [
       "<AxesSubplot:xlabel='month'>"
      ]
     },
     "execution_count": 134,
     "metadata": {},
     "output_type": "execute_result"
    }
   ],
   "source": [
    "group_data.plot()"
   ]
  },
  {
   "cell_type": "markdown",
   "metadata": {},
   "source": [
    "### 进阶"
   ]
  },
  {
   "cell_type": "code",
   "execution_count": 135,
   "metadata": {
    "ExecuteTime": {
     "end_time": "2020-08-23T03:33:46.621352Z",
     "start_time": "2020-08-23T03:33:46.614429Z"
    }
   },
   "outputs": [],
   "source": [
    "df['month'] = df.index.str[5:7]\n"
   ]
  },
  {
   "cell_type": "code",
   "execution_count": 136,
   "metadata": {
    "ExecuteTime": {
     "end_time": "2020-08-23T03:33:46.644596Z",
     "start_time": "2020-08-23T03:33:46.622350Z"
    }
   },
   "outputs": [
    {
     "data": {
      "text/html": [
       "<div>\n",
       "<style scoped>\n",
       "    .dataframe tbody tr th:only-of-type {\n",
       "        vertical-align: middle;\n",
       "    }\n",
       "\n",
       "    .dataframe tbody tr th {\n",
       "        vertical-align: top;\n",
       "    }\n",
       "\n",
       "    .dataframe thead th {\n",
       "        text-align: right;\n",
       "    }\n",
       "</style>\n",
       "<table border=\"1\" class=\"dataframe\">\n",
       "  <thead>\n",
       "    <tr style=\"text-align: right;\">\n",
       "      <th></th>\n",
       "      <th>week</th>\n",
       "      <th>max_temperature</th>\n",
       "      <th>min_temperature</th>\n",
       "      <th>day_status</th>\n",
       "      <th>wind</th>\n",
       "      <th>aqi</th>\n",
       "      <th>aqi_status</th>\n",
       "      <th>dif</th>\n",
       "      <th>temp_type</th>\n",
       "      <th>temp_type2</th>\n",
       "      <th>wencha_type</th>\n",
       "      <th>date</th>\n",
       "      <th>中文日期</th>\n",
       "      <th>month</th>\n",
       "    </tr>\n",
       "    <tr>\n",
       "      <th>date</th>\n",
       "      <th></th>\n",
       "      <th></th>\n",
       "      <th></th>\n",
       "      <th></th>\n",
       "      <th></th>\n",
       "      <th></th>\n",
       "      <th></th>\n",
       "      <th></th>\n",
       "      <th></th>\n",
       "      <th></th>\n",
       "      <th></th>\n",
       "      <th></th>\n",
       "      <th></th>\n",
       "      <th></th>\n",
       "    </tr>\n",
       "  </thead>\n",
       "  <tbody>\n",
       "    <tr>\n",
       "      <th>2017-01-01</th>\n",
       "      <td>周日</td>\n",
       "      <td>9.0</td>\n",
       "      <td>NaN</td>\n",
       "      <td>多云</td>\n",
       "      <td>无持续风向微风</td>\n",
       "      <td>372</td>\n",
       "      <td>严重</td>\n",
       "      <td>NaN</td>\n",
       "      <td>常温</td>\n",
       "      <td>常温</td>\n",
       "      <td></td>\n",
       "      <td>2017-01-01</td>\n",
       "      <td>2017年01月01日</td>\n",
       "      <td>01</td>\n",
       "    </tr>\n",
       "    <tr>\n",
       "      <th>2017-01-02</th>\n",
       "      <td>周一</td>\n",
       "      <td>9.0</td>\n",
       "      <td>NaN</td>\n",
       "      <td>霾</td>\n",
       "      <td>无持续风向微风</td>\n",
       "      <td>361</td>\n",
       "      <td>严重</td>\n",
       "      <td>NaN</td>\n",
       "      <td>常温</td>\n",
       "      <td>常温</td>\n",
       "      <td></td>\n",
       "      <td>2017-01-02</td>\n",
       "      <td>2017年01月02日</td>\n",
       "      <td>01</td>\n",
       "    </tr>\n",
       "    <tr>\n",
       "      <th>2017-01-03</th>\n",
       "      <td>周二</td>\n",
       "      <td>9.0</td>\n",
       "      <td>NaN</td>\n",
       "      <td>霾~雾</td>\n",
       "      <td>无持续风向微风</td>\n",
       "      <td>280</td>\n",
       "      <td>重度</td>\n",
       "      <td>NaN</td>\n",
       "      <td>常温</td>\n",
       "      <td>常温</td>\n",
       "      <td></td>\n",
       "      <td>2017-01-03</td>\n",
       "      <td>2017年01月03日</td>\n",
       "      <td>01</td>\n",
       "    </tr>\n",
       "    <tr>\n",
       "      <th>2017-01-04</th>\n",
       "      <td>周三</td>\n",
       "      <td>9.0</td>\n",
       "      <td>2.0</td>\n",
       "      <td>小雨</td>\n",
       "      <td>无持续风向微风</td>\n",
       "      <td>193</td>\n",
       "      <td>中度</td>\n",
       "      <td>7.0</td>\n",
       "      <td>常温</td>\n",
       "      <td>常温</td>\n",
       "      <td>温差小</td>\n",
       "      <td>2017-01-04</td>\n",
       "      <td>2017年01月04日</td>\n",
       "      <td>01</td>\n",
       "    </tr>\n",
       "    <tr>\n",
       "      <th>2017-01-05</th>\n",
       "      <td>周四</td>\n",
       "      <td>5.0</td>\n",
       "      <td>1.0</td>\n",
       "      <td>小雨</td>\n",
       "      <td>无持续风向微风</td>\n",
       "      <td>216</td>\n",
       "      <td>重度</td>\n",
       "      <td>4.0</td>\n",
       "      <td>常温</td>\n",
       "      <td>常温</td>\n",
       "      <td>温差小</td>\n",
       "      <td>2017-01-05</td>\n",
       "      <td>2017年01月05日</td>\n",
       "      <td>01</td>\n",
       "    </tr>\n",
       "  </tbody>\n",
       "</table>\n",
       "</div>"
      ],
      "text/plain": [
       "           week  max_temperature  min_temperature day_status     wind  aqi  \\\n",
       "date                                                                         \n",
       "2017-01-01   周日              9.0              NaN         多云  无持续风向微风  372   \n",
       "2017-01-02   周一              9.0              NaN          霾  无持续风向微风  361   \n",
       "2017-01-03   周二              9.0              NaN        霾~雾  无持续风向微风  280   \n",
       "2017-01-04   周三              9.0              2.0         小雨  无持续风向微风  193   \n",
       "2017-01-05   周四              5.0              1.0         小雨  无持续风向微风  216   \n",
       "\n",
       "           aqi_status  dif temp_type temp_type2 wencha_type        date  \\\n",
       "date                                                                      \n",
       "2017-01-01         严重  NaN        常温         常温              2017-01-01   \n",
       "2017-01-02         严重  NaN        常温         常温              2017-01-02   \n",
       "2017-01-03         重度  NaN        常温         常温              2017-01-03   \n",
       "2017-01-04         中度  7.0        常温         常温         温差小  2017-01-04   \n",
       "2017-01-05         重度  4.0        常温         常温         温差小  2017-01-05   \n",
       "\n",
       "                   中文日期 month  \n",
       "date                           \n",
       "2017-01-01  2017年01月01日    01  \n",
       "2017-01-02  2017年01月02日    01  \n",
       "2017-01-03  2017年01月03日    01  \n",
       "2017-01-04  2017年01月04日    01  \n",
       "2017-01-05  2017年01月05日    01  "
      ]
     },
     "execution_count": 136,
     "metadata": {},
     "output_type": "execute_result"
    }
   ],
   "source": [
    "df.head()"
   ]
  },
  {
   "cell_type": "code",
   "execution_count": 137,
   "metadata": {
    "ExecuteTime": {
     "end_time": "2020-08-23T03:33:46.661375Z",
     "start_time": "2020-08-23T03:33:46.645684Z"
    }
   },
   "outputs": [
    {
     "data": {
      "text/html": [
       "<div>\n",
       "<style scoped>\n",
       "    .dataframe tbody tr th:only-of-type {\n",
       "        vertical-align: middle;\n",
       "    }\n",
       "\n",
       "    .dataframe tbody tr th {\n",
       "        vertical-align: top;\n",
       "    }\n",
       "\n",
       "    .dataframe thead th {\n",
       "        text-align: right;\n",
       "    }\n",
       "</style>\n",
       "<table border=\"1\" class=\"dataframe\">\n",
       "  <thead>\n",
       "    <tr style=\"text-align: right;\">\n",
       "      <th></th>\n",
       "      <th>max_temperature</th>\n",
       "      <th>min_temperature</th>\n",
       "    </tr>\n",
       "    <tr>\n",
       "      <th>month</th>\n",
       "      <th></th>\n",
       "      <th></th>\n",
       "    </tr>\n",
       "  </thead>\n",
       "  <tbody>\n",
       "    <tr>\n",
       "      <th>01</th>\n",
       "      <td>14.0</td>\n",
       "      <td>2.0</td>\n",
       "    </tr>\n",
       "    <tr>\n",
       "      <th>02</th>\n",
       "      <td>21.0</td>\n",
       "      <td>6.0</td>\n",
       "    </tr>\n",
       "    <tr>\n",
       "      <th>03</th>\n",
       "      <td>31.0</td>\n",
       "      <td>15.0</td>\n",
       "    </tr>\n",
       "    <tr>\n",
       "      <th>04</th>\n",
       "      <td>34.0</td>\n",
       "      <td>19.0</td>\n",
       "    </tr>\n",
       "    <tr>\n",
       "      <th>05</th>\n",
       "      <td>39.0</td>\n",
       "      <td>25.0</td>\n",
       "    </tr>\n",
       "    <tr>\n",
       "      <th>06</th>\n",
       "      <td>39.0</td>\n",
       "      <td>26.0</td>\n",
       "    </tr>\n",
       "    <tr>\n",
       "      <th>07</th>\n",
       "      <td>39.0</td>\n",
       "      <td>29.0</td>\n",
       "    </tr>\n",
       "    <tr>\n",
       "      <th>08</th>\n",
       "      <td>37.0</td>\n",
       "      <td>27.0</td>\n",
       "    </tr>\n",
       "    <tr>\n",
       "      <th>09</th>\n",
       "      <td>36.0</td>\n",
       "      <td>25.0</td>\n",
       "    </tr>\n",
       "    <tr>\n",
       "      <th>10</th>\n",
       "      <td>32.0</td>\n",
       "      <td>21.0</td>\n",
       "    </tr>\n",
       "    <tr>\n",
       "      <th>11</th>\n",
       "      <td>24.0</td>\n",
       "      <td>12.0</td>\n",
       "    </tr>\n",
       "    <tr>\n",
       "      <th>12</th>\n",
       "      <td>16.0</td>\n",
       "      <td>7.0</td>\n",
       "    </tr>\n",
       "  </tbody>\n",
       "</table>\n",
       "</div>"
      ],
      "text/plain": [
       "       max_temperature  min_temperature\n",
       "month                                  \n",
       "01                14.0              2.0\n",
       "02                21.0              6.0\n",
       "03                31.0             15.0\n",
       "04                34.0             19.0\n",
       "05                39.0             25.0\n",
       "06                39.0             26.0\n",
       "07                39.0             29.0\n",
       "08                37.0             27.0\n",
       "09                36.0             25.0\n",
       "10                32.0             21.0\n",
       "11                24.0             12.0\n",
       "12                16.0              7.0"
      ]
     },
     "execution_count": 137,
     "metadata": {},
     "output_type": "execute_result"
    }
   ],
   "source": [
    "data = df.groupby('month')[['max_temperature', 'min_temperature']].max()\n",
    "data"
   ]
  },
  {
   "cell_type": "code",
   "execution_count": 138,
   "metadata": {
    "ExecuteTime": {
     "end_time": "2020-08-23T03:33:46.727237Z",
     "start_time": "2020-08-23T03:33:46.663446Z"
    }
   },
   "outputs": [
    {
     "data": {
      "application/vnd.jupyter.widget-view+json": {
       "model_id": "e1a014981df742bfae2125e833c34904",
       "version_major": 2,
       "version_minor": 0
      },
      "text/plain": [
       "Canvas(toolbar=Toolbar(toolitems=[('Home', 'Reset original view', 'home', 'home'), ('Back', 'Back to previous …"
      ]
     },
     "metadata": {},
     "output_type": "display_data"
    },
    {
     "data": {
      "text/plain": [
       "<AxesSubplot:xlabel='month'>"
      ]
     },
     "execution_count": 138,
     "metadata": {},
     "output_type": "execute_result"
    }
   ],
   "source": [
    "data.plot(xlabel='month', xticks=[i for i in range(1,13)])"
   ]
  },
  {
   "cell_type": "code",
   "execution_count": 139,
   "metadata": {
    "ExecuteTime": {
     "end_time": "2020-08-23T03:33:46.742735Z",
     "start_time": "2020-08-23T03:33:46.729399Z"
    }
   },
   "outputs": [
    {
     "data": {
      "text/html": [
       "<div>\n",
       "<style scoped>\n",
       "    .dataframe tbody tr th:only-of-type {\n",
       "        vertical-align: middle;\n",
       "    }\n",
       "\n",
       "    .dataframe tbody tr th {\n",
       "        vertical-align: top;\n",
       "    }\n",
       "\n",
       "    .dataframe thead th {\n",
       "        text-align: right;\n",
       "    }\n",
       "</style>\n",
       "<table border=\"1\" class=\"dataframe\">\n",
       "  <thead>\n",
       "    <tr style=\"text-align: right;\">\n",
       "      <th></th>\n",
       "      <th>max_temperature</th>\n",
       "      <th>min_temperature</th>\n",
       "      <th>aqi</th>\n",
       "    </tr>\n",
       "    <tr>\n",
       "      <th>month</th>\n",
       "      <th></th>\n",
       "      <th></th>\n",
       "      <th></th>\n",
       "    </tr>\n",
       "  </thead>\n",
       "  <tbody>\n",
       "    <tr>\n",
       "      <th>01</th>\n",
       "      <td>14.0</td>\n",
       "      <td>-10.0</td>\n",
       "      <td>172.430108</td>\n",
       "    </tr>\n",
       "    <tr>\n",
       "      <th>02</th>\n",
       "      <td>21.0</td>\n",
       "      <td>-6.0</td>\n",
       "      <td>145.095238</td>\n",
       "    </tr>\n",
       "    <tr>\n",
       "      <th>03</th>\n",
       "      <td>31.0</td>\n",
       "      <td>-1.0</td>\n",
       "      <td>113.462366</td>\n",
       "    </tr>\n",
       "    <tr>\n",
       "      <th>04</th>\n",
       "      <td>34.0</td>\n",
       "      <td>3.0</td>\n",
       "      <td>105.933333</td>\n",
       "    </tr>\n",
       "    <tr>\n",
       "      <th>05</th>\n",
       "      <td>39.0</td>\n",
       "      <td>13.0</td>\n",
       "      <td>98.408602</td>\n",
       "    </tr>\n",
       "    <tr>\n",
       "      <th>06</th>\n",
       "      <td>39.0</td>\n",
       "      <td>13.0</td>\n",
       "      <td>81.755556</td>\n",
       "    </tr>\n",
       "    <tr>\n",
       "      <th>07</th>\n",
       "      <td>39.0</td>\n",
       "      <td>21.0</td>\n",
       "      <td>67.623656</td>\n",
       "    </tr>\n",
       "    <tr>\n",
       "      <th>08</th>\n",
       "      <td>37.0</td>\n",
       "      <td>16.0</td>\n",
       "      <td>64.763441</td>\n",
       "    </tr>\n",
       "    <tr>\n",
       "      <th>09</th>\n",
       "      <td>36.0</td>\n",
       "      <td>12.0</td>\n",
       "      <td>68.266667</td>\n",
       "    </tr>\n",
       "    <tr>\n",
       "      <th>10</th>\n",
       "      <td>32.0</td>\n",
       "      <td>5.0</td>\n",
       "      <td>78.677419</td>\n",
       "    </tr>\n",
       "    <tr>\n",
       "      <th>11</th>\n",
       "      <td>24.0</td>\n",
       "      <td>-1.0</td>\n",
       "      <td>120.066667</td>\n",
       "    </tr>\n",
       "    <tr>\n",
       "      <th>12</th>\n",
       "      <td>16.0</td>\n",
       "      <td>-7.0</td>\n",
       "      <td>137.967742</td>\n",
       "    </tr>\n",
       "  </tbody>\n",
       "</table>\n",
       "</div>"
      ],
      "text/plain": [
       "       max_temperature  min_temperature         aqi\n",
       "month                                              \n",
       "01                14.0            -10.0  172.430108\n",
       "02                21.0             -6.0  145.095238\n",
       "03                31.0             -1.0  113.462366\n",
       "04                34.0              3.0  105.933333\n",
       "05                39.0             13.0   98.408602\n",
       "06                39.0             13.0   81.755556\n",
       "07                39.0             21.0   67.623656\n",
       "08                37.0             16.0   64.763441\n",
       "09                36.0             12.0   68.266667\n",
       "10                32.0              5.0   78.677419\n",
       "11                24.0             -1.0  120.066667\n",
       "12                16.0             -7.0  137.967742"
      ]
     },
     "execution_count": 139,
     "metadata": {},
     "output_type": "execute_result"
    }
   ],
   "source": [
    "group_data = df.groupby('month').agg({\"max_temperature\":np.max, \"min_temperature\":np.min, \"aqi\":np.mean})\n",
    "group_data"
   ]
  },
  {
   "cell_type": "code",
   "execution_count": 140,
   "metadata": {
    "ExecuteTime": {
     "end_time": "2020-08-23T03:33:46.796417Z",
     "start_time": "2020-08-23T03:33:46.744445Z"
    }
   },
   "outputs": [
    {
     "data": {
      "application/vnd.jupyter.widget-view+json": {
       "model_id": "14a0fd1819cd425889661dd90844e0f6",
       "version_major": 2,
       "version_minor": 0
      },
      "text/plain": [
       "Canvas(toolbar=Toolbar(toolitems=[('Home', 'Reset original view', 'home', 'home'), ('Back', 'Back to previous …"
      ]
     },
     "metadata": {},
     "output_type": "display_data"
    },
    {
     "name": "stderr",
     "output_type": "stream",
     "text": [
      "d:\\python\\lib\\site-packages\\pandas\\plotting\\_matplotlib\\core.py:1235: UserWarning: FixedFormatter should only be used together with FixedLocator\n",
      "  ax.set_xticklabels(xticklabels)\n"
     ]
    },
    {
     "data": {
      "text/plain": [
       "<AxesSubplot:xlabel='month'>"
      ]
     },
     "execution_count": 140,
     "metadata": {},
     "output_type": "execute_result"
    }
   ],
   "source": [
    "group_data.plot()"
   ]
  },
  {
   "cell_type": "code",
   "execution_count": 141,
   "metadata": {
    "ExecuteTime": {
     "end_time": "2020-08-23T03:33:46.803169Z",
     "start_time": "2020-08-23T03:33:46.798411Z"
    }
   },
   "outputs": [],
   "source": [
    "del data\n",
    "del df"
   ]
  }
 ],
 "metadata": {
  "kernelspec": {
   "display_name": "Python 3",
   "language": "python",
   "name": "python3"
  },
  "language_info": {
   "codemirror_mode": {
    "name": "ipython",
    "version": 3
   },
   "file_extension": ".py",
   "mimetype": "text/x-python",
   "name": "python",
   "nbconvert_exporter": "python",
   "pygments_lexer": "ipython3",
   "version": "3.7.2"
  },
  "toc": {
   "base_numbering": 1,
   "nav_menu": {},
   "number_sections": false,
   "sideBar": true,
   "skip_h1_title": false,
   "title_cell": "Table of Contents",
   "title_sidebar": "Contents",
   "toc_cell": false,
   "toc_position": {
    "height": "541.6px",
    "left": "79px",
    "top": "139.8px",
    "width": "212px"
   },
   "toc_section_display": true,
   "toc_window_display": true
  },
  "varInspector": {
   "cols": {
    "lenName": 16,
    "lenType": 16,
    "lenVar": 40
   },
   "kernels_config": {
    "python": {
     "delete_cmd_postfix": "",
     "delete_cmd_prefix": "del ",
     "library": "var_list.py",
     "varRefreshCmd": "print(var_dic_list())"
    },
    "r": {
     "delete_cmd_postfix": ") ",
     "delete_cmd_prefix": "rm(",
     "library": "var_list.r",
     "varRefreshCmd": "cat(var_dic_list()) "
    }
   },
   "position": {
    "height": "292.4px",
    "left": "977.2px",
    "right": "20px",
    "top": "126px",
    "width": "471px"
   },
   "types_to_exclude": [
    "module",
    "function",
    "builtin_function_or_method",
    "instance",
    "_Feature"
   ],
   "window_display": false
  }
 },
 "nbformat": 4,
 "nbformat_minor": 4
}
