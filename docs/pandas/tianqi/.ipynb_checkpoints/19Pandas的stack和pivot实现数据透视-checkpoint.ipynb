{
 "cells": [
  {
   "cell_type": "markdown",
   "metadata": {},
   "source": [
    "# Pandas的stack和pivot实现数据透视\n",
    "\n",
    "\n",
    "经过统计得到多维度指标数据\n",
    "使用unstack实现数据二维透视\n",
    "使用pivot简化透视\n",
    "stack、unstack、pivot的语法"
   ]
  },
  {
   "cell_type": "markdown",
   "metadata": {},
   "source": [
    "## 经过统计得到多维度指标数据\n"
   ]
  },
  {
   "cell_type": "code",
   "execution_count": 197,
   "metadata": {
    "ExecuteTime": {
     "end_time": "2020-08-25T02:25:00.462678Z",
     "start_time": "2020-08-25T02:25:00.454664Z"
    },
    "scrolled": true
   },
   "outputs": [
    {
     "data": {
      "text/plain": [
       "date  date\n",
       "2017  1       14.0\n",
       "      2       21.0\n",
       "      3       21.0\n",
       "      4       34.0\n",
       "      5       39.0\n",
       "      6       38.0\n",
       "      7       38.0\n",
       "      8       37.0\n",
       "      9       33.0\n",
       "      10      25.0\n",
       "      11      24.0\n",
       "      12      14.0\n",
       "2018  1       11.0\n",
       "      2       21.0\n",
       "      3       31.0\n",
       "      4       32.0\n",
       "      5       35.0\n",
       "      6       37.0\n",
       "      7       39.0\n",
       "      8       36.0\n",
       "      9       35.0\n",
       "      10      28.0\n",
       "      11      22.0\n",
       "      12      16.0\n",
       "2019  1       13.0\n",
       "      2       14.0\n",
       "      3       27.0\n",
       "      4       31.0\n",
       "      5       38.0\n",
       "      6       39.0\n",
       "      7       38.0\n",
       "      8       34.0\n",
       "      9       36.0\n",
       "      10      32.0\n",
       "      11      22.0\n",
       "      12      16.0\n",
       "Name: max_temperature, dtype: float64"
      ]
     },
     "execution_count": 197,
     "metadata": {},
     "output_type": "execute_result"
    }
   ],
   "source": [
    "import numpy as np\n",
    "group_data = df.groupby([df.index.year, df.index.month])[\n",
    "    'max_temperature'].max()\n",
    "group_data"
   ]
  },
  {
   "cell_type": "markdown",
   "metadata": {},
   "source": [
    "## 使用unstack实现数据二维透视"
   ]
  },
  {
   "cell_type": "code",
   "execution_count": 198,
   "metadata": {
    "ExecuteTime": {
     "end_time": "2020-08-25T02:25:00.600283Z",
     "start_time": "2020-08-25T02:25:00.463945Z"
    }
   },
   "outputs": [
    {
     "data": {
      "text/plain": [
       "<AxesSubplot:xlabel='date'>"
      ]
     },
     "execution_count": 198,
     "metadata": {},
     "output_type": "execute_result"
    },
    {
     "data": {
      "image/png": "[encoded data removed]",
      "text/plain": [
       "<Figure size 432x288 with 1 Axes>"
      ]
     },
     "metadata": {
      "needs_background": "light"
     },
     "output_type": "display_data"
    }
   ],
   "source": [
    "group_data.unstack(level=0).plot()"
   ]
  },
  {
   "cell_type": "code",
   "execution_count": 199,
   "metadata": {
    "ExecuteTime": {
     "end_time": "2020-08-25T02:25:00.605261Z",
     "start_time": "2020-08-25T02:25:00.601272Z"
    }
   },
   "outputs": [],
   "source": [
    "# unstack和stack是互逆操作"
   ]
  },
  {
   "cell_type": "markdown",
   "metadata": {},
   "source": [
    "## 使用pivot简化透视"
   ]
  },
  {
   "cell_type": "code",
   "execution_count": 200,
   "metadata": {
    "ExecuteTime": {
     "end_time": "2020-08-25T02:25:00.618306Z",
     "start_time": "2020-08-25T02:25:00.607399Z"
    }
   },
   "outputs": [
    {
     "data": {
      "text/plain": [
       "date  date\n",
       "2017  1       14.0\n",
       "      2       21.0\n",
       "      3       21.0\n",
       "      4       34.0\n",
       "      5       39.0\n",
       "Name: max_temperature, dtype: float64"
      ]
     },
     "execution_count": 200,
     "metadata": {},
     "output_type": "execute_result"
    }
   ],
   "source": [
    "group_data.head()\n",
    "# pivot(\"pdate\", \"Rating\", \"pv\") x y value"
   ]
  },
  {
   "cell_type": "markdown",
   "metadata": {},
   "source": [
    "## stack、unstack、pivot的语法\n",
    "\n",
    "#### stack：DataFrame.stack(level=-1, dropna=True)，将column变成index，类似把横放的书籍变成竖放\n",
    "\n",
    "level=-1代表多层索引的最内层，可以通过==0、1、2指定多层索引的对应层\n",
    "\n",
    "![img](https://nbviewer.jupyter.org/github/peiss/ant-learn-pandas/blob/master/other_files/reshaping_stack.png)\n",
    "\n",
    "#### unstack：DataFrame.unstack(level=-1, fill_value=None)，将index变成column，类似把竖放的书籍变成横放\n",
    "\n",
    "![img](https://nbviewer.jupyter.org/github/peiss/ant-learn-pandas/blob/master/other_files/reshaping_unstack.png)\n",
    "\n",
    "#### pivot：DataFrame.pivot(index=None, columns=None, values=None)，指定index、columns、values实现二维透视\n",
    "\n",
    "![img](https://nbviewer.jupyter.org/github/peiss/ant-learn-pandas/blob/master/other_files/reshaping_pivot.png)"
   ]
  },
  {
   "cell_type": "code",
   "execution_count": 201,
   "metadata": {
    "ExecuteTime": {
     "end_time": "2020-08-25T02:25:00.640243Z",
     "start_time": "2020-08-25T02:25:00.620223Z"
    }
   },
   "outputs": [
    {
     "data": {
      "text/html": [
       "<div>\n",
       "<style scoped>\n",
       "    .dataframe tbody tr th:only-of-type {\n",
       "        vertical-align: middle;\n",
       "    }\n",
       "\n",
       "    .dataframe tbody tr th {\n",
       "        vertical-align: top;\n",
       "    }\n",
       "\n",
       "    .dataframe thead tr th {\n",
       "        text-align: left;\n",
       "    }\n",
       "\n",
       "    .dataframe thead tr:last-of-type th {\n",
       "        text-align: right;\n",
       "    }\n",
       "</style>\n",
       "<table border=\"1\" class=\"dataframe\">\n",
       "  <thead>\n",
       "    <tr>\n",
       "      <th></th>\n",
       "      <th colspan=\"3\" halign=\"left\">aqi</th>\n",
       "    </tr>\n",
       "    <tr>\n",
       "      <th></th>\n",
       "      <th>amin</th>\n",
       "      <th>amax</th>\n",
       "      <th>mean</th>\n",
       "    </tr>\n",
       "    <tr>\n",
       "      <th>date</th>\n",
       "      <th></th>\n",
       "      <th></th>\n",
       "      <th></th>\n",
       "    </tr>\n",
       "  </thead>\n",
       "  <tbody>\n",
       "    <tr>\n",
       "      <th>1</th>\n",
       "      <td>50</td>\n",
       "      <td>404</td>\n",
       "      <td>172.430108</td>\n",
       "    </tr>\n",
       "    <tr>\n",
       "      <th>2</th>\n",
       "      <td>52</td>\n",
       "      <td>379</td>\n",
       "      <td>145.095238</td>\n",
       "    </tr>\n",
       "    <tr>\n",
       "      <th>3</th>\n",
       "      <td>48</td>\n",
       "      <td>262</td>\n",
       "      <td>113.462366</td>\n",
       "    </tr>\n",
       "    <tr>\n",
       "      <th>4</th>\n",
       "      <td>44</td>\n",
       "      <td>262</td>\n",
       "      <td>105.933333</td>\n",
       "    </tr>\n",
       "    <tr>\n",
       "      <th>5</th>\n",
       "      <td>43</td>\n",
       "      <td>323</td>\n",
       "      <td>98.408602</td>\n",
       "    </tr>\n",
       "    <tr>\n",
       "      <th>6</th>\n",
       "      <td>35</td>\n",
       "      <td>136</td>\n",
       "      <td>81.755556</td>\n",
       "    </tr>\n",
       "    <tr>\n",
       "      <th>7</th>\n",
       "      <td>40</td>\n",
       "      <td>117</td>\n",
       "      <td>67.623656</td>\n",
       "    </tr>\n",
       "    <tr>\n",
       "      <th>8</th>\n",
       "      <td>20</td>\n",
       "      <td>112</td>\n",
       "      <td>64.763441</td>\n",
       "    </tr>\n",
       "    <tr>\n",
       "      <th>9</th>\n",
       "      <td>20</td>\n",
       "      <td>119</td>\n",
       "      <td>68.266667</td>\n",
       "    </tr>\n",
       "    <tr>\n",
       "      <th>10</th>\n",
       "      <td>21</td>\n",
       "      <td>205</td>\n",
       "      <td>78.677419</td>\n",
       "    </tr>\n",
       "    <tr>\n",
       "      <th>11</th>\n",
       "      <td>44</td>\n",
       "      <td>422</td>\n",
       "      <td>120.066667</td>\n",
       "    </tr>\n",
       "    <tr>\n",
       "      <th>12</th>\n",
       "      <td>43</td>\n",
       "      <td>330</td>\n",
       "      <td>137.967742</td>\n",
       "    </tr>\n",
       "  </tbody>\n",
       "</table>\n",
       "</div>"
      ],
      "text/plain": [
       "      aqi                 \n",
       "     amin amax        mean\n",
       "date                      \n",
       "1      50  404  172.430108\n",
       "2      52  379  145.095238\n",
       "3      48  262  113.462366\n",
       "4      44  262  105.933333\n",
       "5      43  323   98.408602\n",
       "6      35  136   81.755556\n",
       "7      40  117   67.623656\n",
       "8      20  112   64.763441\n",
       "9      20  119   68.266667\n",
       "10     21  205   78.677419\n",
       "11     44  422  120.066667\n",
       "12     43  330  137.967742"
      ]
     },
     "execution_count": 201,
     "metadata": {},
     "output_type": "execute_result"
    }
   ],
   "source": [
    "aqi = df.groupby(df.index.month)[['aqi']].agg([np.min, np.max, np.mean])\n",
    "aqi"
   ]
  },
  {
   "cell_type": "code",
   "execution_count": 202,
   "metadata": {
    "ExecuteTime": {
     "end_time": "2020-08-25T02:25:00.877580Z",
     "start_time": "2020-08-25T02:25:00.642136Z"
    }
   },
   "outputs": [
    {
     "data": {
      "text/plain": [
       "<AxesSubplot:title={'center':'aqi-max-min-mean'}, xlabel='months', ylabel='aqi-value'>"
      ]
     },
     "execution_count": 202,
     "metadata": {},
     "output_type": "execute_result"
    },
    {
     "data": {
      "image/png": "[encoded data removed]",
      "text/plain": [
       "<Figure size 432x288 with 1 Axes>"
      ]
     },
     "metadata": {
      "needs_background": "light"
     },
     "output_type": "display_data"
    }
   ],
   "source": [
    "aqi.plot(\n",
    "    xlabel='months',\n",
    "    ylabel='aqi-value',\n",
    "    title='aqi-max-min-mean',\n",
    "    xticks=[i for i in range(1, 13)]\n",
    ")"
   ]
  }
 ],
 "metadata": {
  "kernelspec": {
   "display_name": "Python 3",
   "language": "python",
   "name": "python3"
  },
  "language_info": {
   "codemirror_mode": {
    "name": "ipython",
    "version": 3
   },
   "file_extension": ".py",
   "mimetype": "text/x-python",
   "name": "python",
   "nbconvert_exporter": "python",
   "pygments_lexer": "ipython3",
   "version": "3.7.2"
  },
  "toc": {
   "base_numbering": 1,
   "nav_menu": {},
   "number_sections": true,
   "sideBar": true,
   "skip_h1_title": false,
   "title_cell": "Table of Contents",
   "title_sidebar": "Contents",
   "toc_cell": false,
   "toc_position": {},
   "toc_section_display": true,
   "toc_window_display": false
  },
  "varInspector": {
   "cols": {
    "lenName": 16,
    "lenType": 16,
    "lenVar": 40
   },
   "kernels_config": {
    "python": {
     "delete_cmd_postfix": "",
     "delete_cmd_prefix": "del ",
     "library": "var_list.py",
     "varRefreshCmd": "print(var_dic_list())"
    },
    "r": {
     "delete_cmd_postfix": ") ",
     "delete_cmd_prefix": "rm(",
     "library": "var_list.r",
     "varRefreshCmd": "cat(var_dic_list()) "
    }
   },
   "types_to_exclude": [
    "module",
    "function",
    "builtin_function_or_method",
    "instance",
    "_Feature"
   ],
   "window_display": false
  }
 },
 "nbformat": 4,
 "nbformat_minor": 2
}
