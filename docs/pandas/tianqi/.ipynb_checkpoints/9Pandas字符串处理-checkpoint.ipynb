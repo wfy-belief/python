{
 "cells": [
  {
   "cell_type": "markdown",
   "metadata": {},
   "source": [
    "## Pandas字符串处理\n",
    "\n",
    "前面我们已经使用了字符串的处理函数：  \n",
    "\n",
    "***Pandas的字符串处理：***  \n",
    "1. 使用方法：先获取Series的str属性，然后在属性上调用函数；\n",
    "2. 只能在字符串列上使用，不能数字列上使用；\n",
    "3. Dataframe上没有str属性和处理方法\n",
    "4. Series.str并不是Python原生字符串，而是自己的一套方法，不过大部分和原生str很相似；\n",
    "\n",
    "***Series.str字符串方法列表参考文档:***  \n",
    "https://pandas.pydata.org/pandas-docs/stable/reference/series.html#string-handling\n",
    "  \n",
    "  \n",
    "***本节演示内容：***  \n",
    "1. 获取Series的str属性，然后使用各种字符串处理函数\n",
    "2. 使用str的startswith、contains等bool类Series可以做条件查询\n",
    "3. 需要多次str处理的链式操作\n",
    "4. 使用正则表达式的处理"
   ]
  },
  {
   "cell_type": "markdown",
   "metadata": {},
   "source": [
    "### 0、读取北京2018年天气数据"
   ]
  },
  {
   "cell_type": "code",
   "execution_count": 1,
   "metadata": {
    "ExecuteTime": {
     "end_time": "2020-08-25T01:15:20.345854Z",
     "start_time": "2020-08-25T01:15:20.093226Z"
    }
   },
   "outputs": [],
   "source": [
    "import pandas as pd\n",
    "import numpy as np"
   ]
  },
  {
   "cell_type": "code",
   "execution_count": 2,
   "metadata": {
    "ExecuteTime": {
     "end_time": "2020-08-25T01:15:20.450313Z",
     "start_time": "2020-08-25T01:15:20.347601Z"
    }
   },
   "outputs": [],
   "source": [
    "fpath = \"./result.xlsx\"\n",
    "df = pd.read_excel(fpath)"
   ]
  },
  {
   "cell_type": "code",
   "execution_count": 3,
   "metadata": {
    "ExecuteTime": {
     "end_time": "2020-08-25T01:15:20.467805Z",
     "start_time": "2020-08-25T01:15:20.452486Z"
    }
   },
   "outputs": [
    {
     "data": {
      "text/html": [
       "<div>\n",
       "<style scoped>\n",
       "    .dataframe tbody tr th:only-of-type {\n",
       "        vertical-align: middle;\n",
       "    }\n",
       "\n",
       "    .dataframe tbody tr th {\n",
       "        vertical-align: top;\n",
       "    }\n",
       "\n",
       "    .dataframe thead th {\n",
       "        text-align: right;\n",
       "    }\n",
       "</style>\n",
       "<table border=\"1\" class=\"dataframe\">\n",
       "  <thead>\n",
       "    <tr style=\"text-align: right;\">\n",
       "      <th></th>\n",
       "      <th>date</th>\n",
       "      <th>week</th>\n",
       "      <th>max_temperature</th>\n",
       "      <th>min_temperature</th>\n",
       "      <th>day_status</th>\n",
       "      <th>wind</th>\n",
       "      <th>aqi</th>\n",
       "      <th>aqi_status</th>\n",
       "    </tr>\n",
       "  </thead>\n",
       "  <tbody>\n",
       "    <tr>\n",
       "      <th>0</th>\n",
       "      <td>2017-01-01</td>\n",
       "      <td>周日</td>\n",
       "      <td>-</td>\n",
       "      <td>-</td>\n",
       "      <td>多云</td>\n",
       "      <td>无持续风向微风</td>\n",
       "      <td>372</td>\n",
       "      <td>严重</td>\n",
       "    </tr>\n",
       "    <tr>\n",
       "      <th>1</th>\n",
       "      <td>2017-01-02</td>\n",
       "      <td>周一</td>\n",
       "      <td>-</td>\n",
       "      <td>-</td>\n",
       "      <td>霾</td>\n",
       "      <td>无持续风向微风</td>\n",
       "      <td>361</td>\n",
       "      <td>严重</td>\n",
       "    </tr>\n",
       "    <tr>\n",
       "      <th>2</th>\n",
       "      <td>2017-01-03</td>\n",
       "      <td>周二</td>\n",
       "      <td>-</td>\n",
       "      <td>-</td>\n",
       "      <td>霾~雾</td>\n",
       "      <td>无持续风向微风</td>\n",
       "      <td>280</td>\n",
       "      <td>重度</td>\n",
       "    </tr>\n",
       "    <tr>\n",
       "      <th>3</th>\n",
       "      <td>2017-01-04</td>\n",
       "      <td>周三</td>\n",
       "      <td>9°</td>\n",
       "      <td>2°</td>\n",
       "      <td>小雨</td>\n",
       "      <td>无持续风向微风</td>\n",
       "      <td>193</td>\n",
       "      <td>中度</td>\n",
       "    </tr>\n",
       "    <tr>\n",
       "      <th>4</th>\n",
       "      <td>2017-01-05</td>\n",
       "      <td>周四</td>\n",
       "      <td>5°</td>\n",
       "      <td>1°</td>\n",
       "      <td>小雨</td>\n",
       "      <td>无持续风向微风</td>\n",
       "      <td>216</td>\n",
       "      <td>重度</td>\n",
       "    </tr>\n",
       "  </tbody>\n",
       "</table>\n",
       "</div>"
      ],
      "text/plain": [
       "         date week max_temperature min_temperature day_status     wind  aqi  \\\n",
       "0  2017-01-01   周日               -               -         多云  无持续风向微风  372   \n",
       "1  2017-01-02   周一               -               -          霾  无持续风向微风  361   \n",
       "2  2017-01-03   周二               -               -        霾~雾  无持续风向微风  280   \n",
       "3  2017-01-04   周三              9°              2°         小雨  无持续风向微风  193   \n",
       "4  2017-01-05   周四              5°              1°         小雨  无持续风向微风  216   \n",
       "\n",
       "  aqi_status  \n",
       "0         严重  \n",
       "1         严重  \n",
       "2         重度  \n",
       "3         中度  \n",
       "4         重度  "
      ]
     },
     "execution_count": 3,
     "metadata": {},
     "output_type": "execute_result"
    }
   ],
   "source": [
    "df.head()"
   ]
  },
  {
   "cell_type": "code",
   "execution_count": 4,
   "metadata": {
    "ExecuteTime": {
     "end_time": "2020-08-25T01:15:20.477276Z",
     "start_time": "2020-08-25T01:15:20.469262Z"
    }
   },
   "outputs": [
    {
     "data": {
      "text/plain": [
       "date               object\n",
       "week               object\n",
       "max_temperature    object\n",
       "min_temperature    object\n",
       "day_status         object\n",
       "wind               object\n",
       "aqi                 int64\n",
       "aqi_status         object\n",
       "dtype: object"
      ]
     },
     "execution_count": 4,
     "metadata": {},
     "output_type": "execute_result"
    }
   ],
   "source": [
    "df.dtypes"
   ]
  },
  {
   "cell_type": "markdown",
   "metadata": {},
   "source": [
    "### 1、获取Series的str属性，使用各种字符串处理函数"
   ]
  },
  {
   "cell_type": "code",
   "execution_count": 5,
   "metadata": {
    "ExecuteTime": {
     "end_time": "2020-08-25T01:15:20.489247Z",
     "start_time": "2020-08-25T01:15:20.479176Z"
    }
   },
   "outputs": [
    {
     "data": {
      "text/plain": [
       "<pandas.core.strings.StringMethods at 0x15878539128>"
      ]
     },
     "execution_count": 5,
     "metadata": {},
     "output_type": "execute_result"
    }
   ],
   "source": [
    "df[\"max_temperature\"].str"
   ]
  },
  {
   "cell_type": "code",
   "execution_count": 6,
   "metadata": {
    "ExecuteTime": {
     "end_time": "2020-08-25T01:15:20.505166Z",
     "start_time": "2020-08-25T01:15:20.490437Z"
    }
   },
   "outputs": [
    {
     "data": {
      "text/plain": [
       "0        -\n",
       "1        -\n",
       "2        -\n",
       "3        9\n",
       "4        5\n",
       "        ..\n",
       "1090    14\n",
       "1091     -\n",
       "1092     -\n",
       "1093     5\n",
       "1094     1\n",
       "Name: max_temperature, Length: 1095, dtype: object"
      ]
     },
     "execution_count": 6,
     "metadata": {},
     "output_type": "execute_result"
    }
   ],
   "source": [
    "# 字符串替换函数\n",
    "df[\"max_temperature\"].str.replace(\"°\", \"\")"
   ]
  },
  {
   "cell_type": "code",
   "execution_count": 7,
   "metadata": {
    "ExecuteTime": {
     "end_time": "2020-08-25T01:15:20.518272Z",
     "start_time": "2020-08-25T01:15:20.508159Z"
    }
   },
   "outputs": [
    {
     "data": {
      "text/plain": [
       "0       False\n",
       "1       False\n",
       "2       False\n",
       "3       False\n",
       "4       False\n",
       "        ...  \n",
       "1090    False\n",
       "1091    False\n",
       "1092    False\n",
       "1093    False\n",
       "1094    False\n",
       "Name: max_temperature, Length: 1095, dtype: bool"
      ]
     },
     "execution_count": 7,
     "metadata": {},
     "output_type": "execute_result"
    }
   ],
   "source": [
    "# 判断是不是数字\n",
    "df[\"max_temperature\"].str.isnumeric()"
   ]
  },
  {
   "cell_type": "markdown",
   "metadata": {},
   "source": [
    "### 2、使用str的startswith、contains等得到bool的Series可以做条件查询"
   ]
  },
  {
   "cell_type": "code",
   "execution_count": 8,
   "metadata": {
    "ExecuteTime": {
     "end_time": "2020-08-25T01:15:20.529552Z",
     "start_time": "2020-08-25T01:15:20.521124Z"
    }
   },
   "outputs": [],
   "source": [
    "condition = df[\"date\"].str.startswith(\"2018-03\")"
   ]
  },
  {
   "cell_type": "code",
   "execution_count": 9,
   "metadata": {
    "ExecuteTime": {
     "end_time": "2020-08-25T01:15:20.546739Z",
     "start_time": "2020-08-25T01:15:20.530887Z"
    }
   },
   "outputs": [
    {
     "data": {
      "text/plain": [
       "0       False\n",
       "1       False\n",
       "2       False\n",
       "3       False\n",
       "4       False\n",
       "        ...  \n",
       "1090    False\n",
       "1091    False\n",
       "1092    False\n",
       "1093    False\n",
       "1094    False\n",
       "Name: date, Length: 1095, dtype: bool"
      ]
     },
     "execution_count": 9,
     "metadata": {},
     "output_type": "execute_result"
    }
   ],
   "source": [
    "condition"
   ]
  },
  {
   "cell_type": "code",
   "execution_count": 10,
   "metadata": {
    "ExecuteTime": {
     "end_time": "2020-08-25T01:15:20.565762Z",
     "start_time": "2020-08-25T01:15:20.548670Z"
    }
   },
   "outputs": [
    {
     "data": {
      "text/html": [
       "<div>\n",
       "<style scoped>\n",
       "    .dataframe tbody tr th:only-of-type {\n",
       "        vertical-align: middle;\n",
       "    }\n",
       "\n",
       "    .dataframe tbody tr th {\n",
       "        vertical-align: top;\n",
       "    }\n",
       "\n",
       "    .dataframe thead th {\n",
       "        text-align: right;\n",
       "    }\n",
       "</style>\n",
       "<table border=\"1\" class=\"dataframe\">\n",
       "  <thead>\n",
       "    <tr style=\"text-align: right;\">\n",
       "      <th></th>\n",
       "      <th>date</th>\n",
       "      <th>week</th>\n",
       "      <th>max_temperature</th>\n",
       "      <th>min_temperature</th>\n",
       "      <th>day_status</th>\n",
       "      <th>wind</th>\n",
       "      <th>aqi</th>\n",
       "      <th>aqi_status</th>\n",
       "    </tr>\n",
       "  </thead>\n",
       "  <tbody>\n",
       "    <tr>\n",
       "      <th>424</th>\n",
       "      <td>2018-03-01</td>\n",
       "      <td>周四</td>\n",
       "      <td>11°</td>\n",
       "      <td>2°</td>\n",
       "      <td>阴~多云</td>\n",
       "      <td>东北风3-4级</td>\n",
       "      <td>146</td>\n",
       "      <td>轻度</td>\n",
       "    </tr>\n",
       "    <tr>\n",
       "      <th>425</th>\n",
       "      <td>2018-03-02</td>\n",
       "      <td>周五</td>\n",
       "      <td>15°</td>\n",
       "      <td>3°</td>\n",
       "      <td>多云</td>\n",
       "      <td>南风1-2级</td>\n",
       "      <td>102</td>\n",
       "      <td>轻度</td>\n",
       "    </tr>\n",
       "    <tr>\n",
       "      <th>426</th>\n",
       "      <td>2018-03-03</td>\n",
       "      <td>周六</td>\n",
       "      <td>20°</td>\n",
       "      <td>10°</td>\n",
       "      <td>阴~小雨</td>\n",
       "      <td>南风1-2级</td>\n",
       "      <td>128</td>\n",
       "      <td>轻度</td>\n",
       "    </tr>\n",
       "    <tr>\n",
       "      <th>427</th>\n",
       "      <td>2018-03-04</td>\n",
       "      <td>周日</td>\n",
       "      <td>10°</td>\n",
       "      <td>1°</td>\n",
       "      <td>小雨</td>\n",
       "      <td>东北风4-5级</td>\n",
       "      <td>131</td>\n",
       "      <td>轻度</td>\n",
       "    </tr>\n",
       "    <tr>\n",
       "      <th>428</th>\n",
       "      <td>2018-03-05</td>\n",
       "      <td>周一</td>\n",
       "      <td>11°</td>\n",
       "      <td>1°</td>\n",
       "      <td>多云</td>\n",
       "      <td>东北风1-2级</td>\n",
       "      <td>72</td>\n",
       "      <td>良</td>\n",
       "    </tr>\n",
       "  </tbody>\n",
       "</table>\n",
       "</div>"
      ],
      "text/plain": [
       "           date week max_temperature min_temperature day_status     wind  aqi  \\\n",
       "424  2018-03-01   周四             11°              2°       阴~多云  东北风3-4级  146   \n",
       "425  2018-03-02   周五             15°              3°         多云   南风1-2级  102   \n",
       "426  2018-03-03   周六             20°             10°       阴~小雨   南风1-2级  128   \n",
       "427  2018-03-04   周日             10°              1°         小雨  东北风4-5级  131   \n",
       "428  2018-03-05   周一             11°              1°         多云  东北风1-2级   72   \n",
       "\n",
       "    aqi_status  \n",
       "424         轻度  \n",
       "425         轻度  \n",
       "426         轻度  \n",
       "427         轻度  \n",
       "428          良  "
      ]
     },
     "execution_count": 10,
     "metadata": {},
     "output_type": "execute_result"
    }
   ],
   "source": [
    "df[condition].head()"
   ]
  },
  {
   "cell_type": "markdown",
   "metadata": {},
   "source": [
    "### 3、需要多次str处理的链式操作"
   ]
  },
  {
   "cell_type": "markdown",
   "metadata": {},
   "source": [
    "怎样提取201803这样的数字月份？  \n",
    "1、先将日期2018-03-31替换成20180331的形式  \n",
    "2、提取月份字符串201803  "
   ]
  },
  {
   "cell_type": "code",
   "execution_count": 11,
   "metadata": {
    "ExecuteTime": {
     "end_time": "2020-08-25T01:15:20.579678Z",
     "start_time": "2020-08-25T01:15:20.569144Z"
    }
   },
   "outputs": [
    {
     "data": {
      "text/plain": [
       "0       20170101\n",
       "1       20170102\n",
       "2       20170103\n",
       "3       20170104\n",
       "4       20170105\n",
       "          ...   \n",
       "1090    20191227\n",
       "1091    20191228\n",
       "1092    20191229\n",
       "1093    20191230\n",
       "1094    20191231\n",
       "Name: date, Length: 1095, dtype: object"
      ]
     },
     "execution_count": 11,
     "metadata": {},
     "output_type": "execute_result"
    }
   ],
   "source": [
    "df[\"date\"].str.replace(\"-\", \"\")"
   ]
  },
  {
   "cell_type": "code",
   "execution_count": 12,
   "metadata": {
    "ExecuteTime": {
     "end_time": "2020-08-25T01:15:20.592652Z",
     "start_time": "2020-08-25T01:15:20.581645Z"
    }
   },
   "outputs": [
    {
     "data": {
      "text/plain": [
       "0       201701\n",
       "1       201701\n",
       "2       201701\n",
       "3       201701\n",
       "4       201701\n",
       "         ...  \n",
       "1090    201912\n",
       "1091    201912\n",
       "1092    201912\n",
       "1093    201912\n",
       "1094    201912\n",
       "Name: date, Length: 1095, dtype: object"
      ]
     },
     "execution_count": 12,
     "metadata": {},
     "output_type": "execute_result"
    }
   ],
   "source": [
    "# 每次调用函数，都返回一个新Series\n",
    "df[\"date\"].str.replace(\"-\", \"\").str.slice(0, 6)"
   ]
  },
  {
   "cell_type": "code",
   "execution_count": 13,
   "metadata": {
    "ExecuteTime": {
     "end_time": "2020-08-25T01:15:20.607575Z",
     "start_time": "2020-08-25T01:15:20.593824Z"
    }
   },
   "outputs": [
    {
     "data": {
      "text/plain": [
       "0       201701\n",
       "1       201701\n",
       "2       201701\n",
       "3       201701\n",
       "4       201701\n",
       "         ...  \n",
       "1090    201912\n",
       "1091    201912\n",
       "1092    201912\n",
       "1093    201912\n",
       "1094    201912\n",
       "Name: date, Length: 1095, dtype: object"
      ]
     },
     "execution_count": 13,
     "metadata": {},
     "output_type": "execute_result"
    }
   ],
   "source": [
    "df[\"date\"].str.replace(\"-\", \"\").str.slice(0, 6)"
   ]
  },
  {
   "cell_type": "code",
   "execution_count": 14,
   "metadata": {
    "ExecuteTime": {
     "end_time": "2020-08-25T01:15:20.621539Z",
     "start_time": "2020-08-25T01:15:20.608663Z"
    }
   },
   "outputs": [
    {
     "data": {
      "text/plain": [
       "0       201701\n",
       "1       201701\n",
       "2       201701\n",
       "3       201701\n",
       "4       201701\n",
       "         ...  \n",
       "1090    201912\n",
       "1091    201912\n",
       "1092    201912\n",
       "1093    201912\n",
       "1094    201912\n",
       "Name: date, Length: 1095, dtype: object"
      ]
     },
     "execution_count": 14,
     "metadata": {},
     "output_type": "execute_result"
    }
   ],
   "source": [
    "# slice就是切片语法，可以直接用\n",
    "df[\"date\"].str.replace(\"-\", \"\").str[0:6]"
   ]
  },
  {
   "cell_type": "markdown",
   "metadata": {},
   "source": [
    "### 4. 使用正则表达式的处理\n",
    "\n",
    "\n"
   ]
  },
  {
   "cell_type": "code",
   "execution_count": 15,
   "metadata": {
    "ExecuteTime": {
     "end_time": "2020-08-25T01:15:20.643520Z",
     "start_time": "2020-08-25T01:15:20.625528Z"
    }
   },
   "outputs": [],
   "source": [
    "# 添加新列\n",
    "def get_nianyueri(x):\n",
    "    year, month, day = x[\"date\"].split(\"-\")\n",
    "    return f\"{year}年{month}月{day}日\"\n",
    "\n",
    "\n",
    "df[\"中文日期\"] = df.apply(get_nianyueri, axis=1)"
   ]
  },
  {
   "cell_type": "code",
   "execution_count": 16,
   "metadata": {
    "ExecuteTime": {
     "end_time": "2020-08-25T01:15:20.650465Z",
     "start_time": "2020-08-25T01:15:20.645475Z"
    }
   },
   "outputs": [
    {
     "data": {
      "text/plain": [
       "0       2017年01月01日\n",
       "1       2017年01月02日\n",
       "2       2017年01月03日\n",
       "3       2017年01月04日\n",
       "4       2017年01月05日\n",
       "           ...     \n",
       "1090    2019年12月27日\n",
       "1091    2019年12月28日\n",
       "1092    2019年12月29日\n",
       "1093    2019年12月30日\n",
       "1094    2019年12月31日\n",
       "Name: 中文日期, Length: 1095, dtype: object"
      ]
     },
     "execution_count": 16,
     "metadata": {},
     "output_type": "execute_result"
    }
   ],
   "source": [
    "df[\"中文日期\"]"
   ]
  },
  {
   "cell_type": "markdown",
   "metadata": {},
   "source": [
    "问题：怎样将“2018年12月31日”中的年、月、日三个中文字符去除？"
   ]
  },
  {
   "cell_type": "code",
   "execution_count": 17,
   "metadata": {
    "ExecuteTime": {
     "end_time": "2020-08-25T01:15:20.666826Z",
     "start_time": "2020-08-25T01:15:20.653456Z"
    }
   },
   "outputs": [
    {
     "data": {
      "text/plain": [
       "0       20170101\n",
       "1       20170102\n",
       "2       20170103\n",
       "3       20170104\n",
       "4       20170105\n",
       "          ...   \n",
       "1090    20191227\n",
       "1091    20191228\n",
       "1092    20191229\n",
       "1093    20191230\n",
       "1094    20191231\n",
       "Name: 中文日期, Length: 1095, dtype: object"
      ]
     },
     "execution_count": 17,
     "metadata": {},
     "output_type": "execute_result"
    }
   ],
   "source": [
    "# 方法1：链式replace\n",
    "df[\"中文日期\"].str.replace(\"年\", \"\").str.replace(\"月\", \"\").str.replace(\"日\", \"\")"
   ]
  },
  {
   "cell_type": "markdown",
   "metadata": {},
   "source": [
    "***Series.str默认就开启了正则表达式模式***"
   ]
  },
  {
   "cell_type": "code",
   "execution_count": 18,
   "metadata": {
    "ExecuteTime": {
     "end_time": "2020-08-25T01:15:20.685407Z",
     "start_time": "2020-08-25T01:15:20.670857Z"
    }
   },
   "outputs": [
    {
     "data": {
      "text/plain": [
       "0       20170101\n",
       "1       20170102\n",
       "2       20170103\n",
       "3       20170104\n",
       "4       20170105\n",
       "          ...   \n",
       "1090    20191227\n",
       "1091    20191228\n",
       "1092    20191229\n",
       "1093    20191230\n",
       "1094    20191231\n",
       "Name: 中文日期, Length: 1095, dtype: object"
      ]
     },
     "execution_count": 18,
     "metadata": {},
     "output_type": "execute_result"
    }
   ],
   "source": [
    "# 方法2：正则表达式替换\n",
    "df[\"中文日期\"].str.replace(\"[年月日]\", \"\")"
   ]
  }
 ],
 "metadata": {
  "kernelspec": {
   "display_name": "Python 3",
   "language": "python",
   "name": "python3"
  },
  "language_info": {
   "codemirror_mode": {
    "name": "ipython",
    "version": 3
   },
   "file_extension": ".py",
   "mimetype": "text/x-python",
   "name": "python",
   "nbconvert_exporter": "python",
   "pygments_lexer": "ipython3",
   "version": "3.7.2"
  },
  "toc": {
   "base_numbering": 1,
   "nav_menu": {},
   "number_sections": true,
   "sideBar": true,
   "skip_h1_title": false,
   "title_cell": "Table of Contents",
   "title_sidebar": "Contents",
   "toc_cell": false,
   "toc_position": {},
   "toc_section_display": true,
   "toc_window_display": false
  },
  "varInspector": {
   "cols": {
    "lenName": 16,
    "lenType": 16,
    "lenVar": 40
   },
   "kernels_config": {
    "python": {
     "delete_cmd_postfix": "",
     "delete_cmd_prefix": "del ",
     "library": "var_list.py",
     "varRefreshCmd": "print(var_dic_list())"
    },
    "r": {
     "delete_cmd_postfix": ") ",
     "delete_cmd_prefix": "rm(",
     "library": "var_list.r",
     "varRefreshCmd": "cat(var_dic_list()) "
    }
   },
   "types_to_exclude": [
    "module",
    "function",
    "builtin_function_or_method",
    "instance",
    "_Feature"
   ],
   "window_display": false
  }
 },
 "nbformat": 4,
 "nbformat_minor": 2
}
