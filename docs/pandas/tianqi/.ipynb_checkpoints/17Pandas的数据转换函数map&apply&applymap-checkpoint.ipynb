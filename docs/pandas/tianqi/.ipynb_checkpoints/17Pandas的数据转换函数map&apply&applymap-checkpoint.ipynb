{
 "cells": [
  {
   "cell_type": "markdown",
   "metadata": {},
   "source": [
    "# Pandas的数据转换函数map、apply、applymap\n",
    "\n",
    "数据转换函数对比：map、apply、applymap：\n",
    "\n",
    "1. map：只用于Series，实现每个值->值的映射；\n",
    "2. apply：用于Series实现每个值的处理，用于Dataframe实现某个轴的Series的处理；\n",
    "3. applymap：只能用于DataFrame，用于处理该DataFrame的每个元素；"
   ]
  },
  {
   "cell_type": "markdown",
   "metadata": {},
   "source": [
    "## 用于Series值的转换¶\n",
    "实例：将股票代码英文转换成中文名字\n",
    "\n",
    "Series.map(dict) or Series.map(function)均可"
   ]
  },
  {
   "cell_type": "code",
   "execution_count": 119,
   "metadata": {
    "ExecuteTime": {
     "end_time": "2020-08-24T03:46:54.475905Z",
     "start_time": "2020-08-24T03:46:54.457888Z"
    }
   },
   "outputs": [
    {
     "data": {
      "text/html": [
       "<div>\n",
       "<style scoped>\n",
       "    .dataframe tbody tr th:only-of-type {\n",
       "        vertical-align: middle;\n",
       "    }\n",
       "\n",
       "    .dataframe tbody tr th {\n",
       "        vertical-align: top;\n",
       "    }\n",
       "\n",
       "    .dataframe thead th {\n",
       "        text-align: right;\n",
       "    }\n",
       "</style>\n",
       "<table border=\"1\" class=\"dataframe\">\n",
       "  <thead>\n",
       "    <tr style=\"text-align: right;\">\n",
       "      <th></th>\n",
       "      <th>date</th>\n",
       "      <th>week</th>\n",
       "      <th>max_temperature</th>\n",
       "      <th>min_temperature</th>\n",
       "      <th>day_status</th>\n",
       "      <th>wind</th>\n",
       "      <th>aqi</th>\n",
       "      <th>aqi_status</th>\n",
       "    </tr>\n",
       "    <tr>\n",
       "      <th>date</th>\n",
       "      <th></th>\n",
       "      <th></th>\n",
       "      <th></th>\n",
       "      <th></th>\n",
       "      <th></th>\n",
       "      <th></th>\n",
       "      <th></th>\n",
       "      <th></th>\n",
       "    </tr>\n",
       "  </thead>\n",
       "  <tbody>\n",
       "    <tr>\n",
       "      <th>2017-01-01</th>\n",
       "      <td>2017-01-01</td>\n",
       "      <td>周日</td>\n",
       "      <td>9.0</td>\n",
       "      <td>2.0</td>\n",
       "      <td>多云</td>\n",
       "      <td>无持续风向微风</td>\n",
       "      <td>372</td>\n",
       "      <td>严重</td>\n",
       "    </tr>\n",
       "    <tr>\n",
       "      <th>2017-01-02</th>\n",
       "      <td>2017-01-02</td>\n",
       "      <td>周一</td>\n",
       "      <td>9.0</td>\n",
       "      <td>2.0</td>\n",
       "      <td>霾</td>\n",
       "      <td>无持续风向微风</td>\n",
       "      <td>361</td>\n",
       "      <td>严重</td>\n",
       "    </tr>\n",
       "    <tr>\n",
       "      <th>2017-01-03</th>\n",
       "      <td>2017-01-03</td>\n",
       "      <td>周二</td>\n",
       "      <td>9.0</td>\n",
       "      <td>2.0</td>\n",
       "      <td>霾~雾</td>\n",
       "      <td>无持续风向微风</td>\n",
       "      <td>280</td>\n",
       "      <td>重度</td>\n",
       "    </tr>\n",
       "    <tr>\n",
       "      <th>2017-01-04</th>\n",
       "      <td>2017-01-04</td>\n",
       "      <td>周三</td>\n",
       "      <td>9.0</td>\n",
       "      <td>2.0</td>\n",
       "      <td>小雨</td>\n",
       "      <td>无持续风向微风</td>\n",
       "      <td>193</td>\n",
       "      <td>中度</td>\n",
       "    </tr>\n",
       "    <tr>\n",
       "      <th>2017-01-05</th>\n",
       "      <td>2017-01-05</td>\n",
       "      <td>周四</td>\n",
       "      <td>5.0</td>\n",
       "      <td>1.0</td>\n",
       "      <td>小雨</td>\n",
       "      <td>无持续风向微风</td>\n",
       "      <td>216</td>\n",
       "      <td>重度</td>\n",
       "    </tr>\n",
       "  </tbody>\n",
       "</table>\n",
       "</div>"
      ],
      "text/plain": [
       "                  date week  max_temperature  min_temperature day_status  \\\n",
       "date                                                                       \n",
       "2017-01-01  2017-01-01   周日              9.0              2.0         多云   \n",
       "2017-01-02  2017-01-02   周一              9.0              2.0          霾   \n",
       "2017-01-03  2017-01-03   周二              9.0              2.0        霾~雾   \n",
       "2017-01-04  2017-01-04   周三              9.0              2.0         小雨   \n",
       "2017-01-05  2017-01-05   周四              5.0              1.0         小雨   \n",
       "\n",
       "               wind  aqi aqi_status  \n",
       "date                                 \n",
       "2017-01-01  无持续风向微风  372         严重  \n",
       "2017-01-02  无持续风向微风  361         严重  \n",
       "2017-01-03  无持续风向微风  280         重度  \n",
       "2017-01-04  无持续风向微风  193         中度  \n",
       "2017-01-05  无持续风向微风  216         重度  "
      ]
     },
     "execution_count": 119,
     "metadata": {},
     "output_type": "execute_result"
    }
   ],
   "source": [
    "df.head()"
   ]
  },
  {
   "cell_type": "code",
   "execution_count": 120,
   "metadata": {
    "ExecuteTime": {
     "end_time": "2020-08-24T03:46:54.525737Z",
     "start_time": "2020-08-24T03:46:54.518716Z"
    }
   },
   "outputs": [
    {
     "data": {
      "text/plain": [
       "Int64Index([1, 2, 3, 4, 5, 6, 7, 8, 9, 10, 11, 12], dtype='int64', name='date')"
      ]
     },
     "execution_count": 120,
     "metadata": {},
     "output_type": "execute_result"
    }
   ],
   "source": [
    "df.index.month.unique()"
   ]
  },
  {
   "cell_type": "code",
   "execution_count": 121,
   "metadata": {
    "ExecuteTime": {
     "end_time": "2020-08-24T03:46:54.536703Z",
     "start_time": "2020-08-24T03:46:54.529687Z"
    }
   },
   "outputs": [],
   "source": [
    "month_change = {\n",
    "    1: '一月',\n",
    "    2: '二月',\n",
    "    3: '三月',\n",
    "    4: '四月',\n",
    "    5: '五月',\n",
    "    6: '六月',\n",
    "    7: '七月',\n",
    "    8: '八月',\n",
    "    9: '九月',\n",
    "    10: '十月',\n",
    "    11: '十一月',\n",
    "    12: '十二月'\n",
    "}"
   ]
  },
  {
   "cell_type": "code",
   "execution_count": 122,
   "metadata": {
    "ExecuteTime": {
     "end_time": "2020-08-24T03:46:54.549633Z",
     "start_time": "2020-08-24T03:46:54.538663Z"
    }
   },
   "outputs": [
    {
     "data": {
      "text/plain": [
       "'一月'"
      ]
     },
     "execution_count": 122,
     "metadata": {},
     "output_type": "execute_result"
    }
   ],
   "source": [
    "month_change[1]"
   ]
  },
  {
   "cell_type": "markdown",
   "metadata": {},
   "source": [
    "### 方法1：Series.map(dict)"
   ]
  },
  {
   "cell_type": "code",
   "execution_count": 123,
   "metadata": {
    "ExecuteTime": {
     "end_time": "2020-08-24T03:46:54.562634Z",
     "start_time": "2020-08-24T03:46:54.551662Z"
    }
   },
   "outputs": [],
   "source": [
    "df['中文月份1'] = df.index.month.map(month_change)"
   ]
  },
  {
   "cell_type": "code",
   "execution_count": 124,
   "metadata": {
    "ExecuteTime": {
     "end_time": "2020-08-24T03:46:54.583180Z",
     "start_time": "2020-08-24T03:46:54.564604Z"
    }
   },
   "outputs": [
    {
     "data": {
      "text/html": [
       "<div>\n",
       "<style scoped>\n",
       "    .dataframe tbody tr th:only-of-type {\n",
       "        vertical-align: middle;\n",
       "    }\n",
       "\n",
       "    .dataframe tbody tr th {\n",
       "        vertical-align: top;\n",
       "    }\n",
       "\n",
       "    .dataframe thead th {\n",
       "        text-align: right;\n",
       "    }\n",
       "</style>\n",
       "<table border=\"1\" class=\"dataframe\">\n",
       "  <thead>\n",
       "    <tr style=\"text-align: right;\">\n",
       "      <th></th>\n",
       "      <th>date</th>\n",
       "      <th>week</th>\n",
       "      <th>max_temperature</th>\n",
       "      <th>min_temperature</th>\n",
       "      <th>day_status</th>\n",
       "      <th>wind</th>\n",
       "      <th>aqi</th>\n",
       "      <th>aqi_status</th>\n",
       "      <th>中文月份1</th>\n",
       "    </tr>\n",
       "    <tr>\n",
       "      <th>date</th>\n",
       "      <th></th>\n",
       "      <th></th>\n",
       "      <th></th>\n",
       "      <th></th>\n",
       "      <th></th>\n",
       "      <th></th>\n",
       "      <th></th>\n",
       "      <th></th>\n",
       "      <th></th>\n",
       "    </tr>\n",
       "  </thead>\n",
       "  <tbody>\n",
       "    <tr>\n",
       "      <th>2017-01-01</th>\n",
       "      <td>2017-01-01</td>\n",
       "      <td>周日</td>\n",
       "      <td>9.0</td>\n",
       "      <td>2.0</td>\n",
       "      <td>多云</td>\n",
       "      <td>无持续风向微风</td>\n",
       "      <td>372</td>\n",
       "      <td>严重</td>\n",
       "      <td>一月</td>\n",
       "    </tr>\n",
       "    <tr>\n",
       "      <th>2017-01-02</th>\n",
       "      <td>2017-01-02</td>\n",
       "      <td>周一</td>\n",
       "      <td>9.0</td>\n",
       "      <td>2.0</td>\n",
       "      <td>霾</td>\n",
       "      <td>无持续风向微风</td>\n",
       "      <td>361</td>\n",
       "      <td>严重</td>\n",
       "      <td>一月</td>\n",
       "    </tr>\n",
       "    <tr>\n",
       "      <th>2017-01-03</th>\n",
       "      <td>2017-01-03</td>\n",
       "      <td>周二</td>\n",
       "      <td>9.0</td>\n",
       "      <td>2.0</td>\n",
       "      <td>霾~雾</td>\n",
       "      <td>无持续风向微风</td>\n",
       "      <td>280</td>\n",
       "      <td>重度</td>\n",
       "      <td>一月</td>\n",
       "    </tr>\n",
       "    <tr>\n",
       "      <th>2017-01-04</th>\n",
       "      <td>2017-01-04</td>\n",
       "      <td>周三</td>\n",
       "      <td>9.0</td>\n",
       "      <td>2.0</td>\n",
       "      <td>小雨</td>\n",
       "      <td>无持续风向微风</td>\n",
       "      <td>193</td>\n",
       "      <td>中度</td>\n",
       "      <td>一月</td>\n",
       "    </tr>\n",
       "    <tr>\n",
       "      <th>2017-01-05</th>\n",
       "      <td>2017-01-05</td>\n",
       "      <td>周四</td>\n",
       "      <td>5.0</td>\n",
       "      <td>1.0</td>\n",
       "      <td>小雨</td>\n",
       "      <td>无持续风向微风</td>\n",
       "      <td>216</td>\n",
       "      <td>重度</td>\n",
       "      <td>一月</td>\n",
       "    </tr>\n",
       "  </tbody>\n",
       "</table>\n",
       "</div>"
      ],
      "text/plain": [
       "                  date week  max_temperature  min_temperature day_status  \\\n",
       "date                                                                       \n",
       "2017-01-01  2017-01-01   周日              9.0              2.0         多云   \n",
       "2017-01-02  2017-01-02   周一              9.0              2.0          霾   \n",
       "2017-01-03  2017-01-03   周二              9.0              2.0        霾~雾   \n",
       "2017-01-04  2017-01-04   周三              9.0              2.0         小雨   \n",
       "2017-01-05  2017-01-05   周四              5.0              1.0         小雨   \n",
       "\n",
       "               wind  aqi aqi_status 中文月份1  \n",
       "date                                       \n",
       "2017-01-01  无持续风向微风  372         严重    一月  \n",
       "2017-01-02  无持续风向微风  361         严重    一月  \n",
       "2017-01-03  无持续风向微风  280         重度    一月  \n",
       "2017-01-04  无持续风向微风  193         中度    一月  \n",
       "2017-01-05  无持续风向微风  216         重度    一月  "
      ]
     },
     "execution_count": 124,
     "metadata": {},
     "output_type": "execute_result"
    }
   ],
   "source": [
    "df.head()"
   ]
  },
  {
   "cell_type": "markdown",
   "metadata": {
    "ExecuteTime": {
     "end_time": "2020-08-23T08:57:06.024490Z",
     "start_time": "2020-08-23T08:57:06.020163Z"
    }
   },
   "source": [
    "### 方法2：Series.map(function)\n",
    "function的参数是Series的每个元素的值"
   ]
  },
  {
   "cell_type": "code",
   "execution_count": 125,
   "metadata": {
    "ExecuteTime": {
     "end_time": "2020-08-24T03:46:54.599109Z",
     "start_time": "2020-08-24T03:46:54.584148Z"
    }
   },
   "outputs": [],
   "source": [
    "df['中文月份2'] = df.index.month.map(lambda x: month_change[x])"
   ]
  },
  {
   "cell_type": "code",
   "execution_count": 126,
   "metadata": {
    "ExecuteTime": {
     "end_time": "2020-08-24T03:46:54.621077Z",
     "start_time": "2020-08-24T03:46:54.601103Z"
    }
   },
   "outputs": [
    {
     "data": {
      "text/html": [
       "<div>\n",
       "<style scoped>\n",
       "    .dataframe tbody tr th:only-of-type {\n",
       "        vertical-align: middle;\n",
       "    }\n",
       "\n",
       "    .dataframe tbody tr th {\n",
       "        vertical-align: top;\n",
       "    }\n",
       "\n",
       "    .dataframe thead th {\n",
       "        text-align: right;\n",
       "    }\n",
       "</style>\n",
       "<table border=\"1\" class=\"dataframe\">\n",
       "  <thead>\n",
       "    <tr style=\"text-align: right;\">\n",
       "      <th></th>\n",
       "      <th>date</th>\n",
       "      <th>week</th>\n",
       "      <th>max_temperature</th>\n",
       "      <th>min_temperature</th>\n",
       "      <th>day_status</th>\n",
       "      <th>wind</th>\n",
       "      <th>aqi</th>\n",
       "      <th>aqi_status</th>\n",
       "      <th>中文月份1</th>\n",
       "      <th>中文月份2</th>\n",
       "    </tr>\n",
       "    <tr>\n",
       "      <th>date</th>\n",
       "      <th></th>\n",
       "      <th></th>\n",
       "      <th></th>\n",
       "      <th></th>\n",
       "      <th></th>\n",
       "      <th></th>\n",
       "      <th></th>\n",
       "      <th></th>\n",
       "      <th></th>\n",
       "      <th></th>\n",
       "    </tr>\n",
       "  </thead>\n",
       "  <tbody>\n",
       "    <tr>\n",
       "      <th>2017-01-01</th>\n",
       "      <td>2017-01-01</td>\n",
       "      <td>周日</td>\n",
       "      <td>9.0</td>\n",
       "      <td>2.0</td>\n",
       "      <td>多云</td>\n",
       "      <td>无持续风向微风</td>\n",
       "      <td>372</td>\n",
       "      <td>严重</td>\n",
       "      <td>一月</td>\n",
       "      <td>一月</td>\n",
       "    </tr>\n",
       "    <tr>\n",
       "      <th>2017-01-02</th>\n",
       "      <td>2017-01-02</td>\n",
       "      <td>周一</td>\n",
       "      <td>9.0</td>\n",
       "      <td>2.0</td>\n",
       "      <td>霾</td>\n",
       "      <td>无持续风向微风</td>\n",
       "      <td>361</td>\n",
       "      <td>严重</td>\n",
       "      <td>一月</td>\n",
       "      <td>一月</td>\n",
       "    </tr>\n",
       "    <tr>\n",
       "      <th>2017-01-03</th>\n",
       "      <td>2017-01-03</td>\n",
       "      <td>周二</td>\n",
       "      <td>9.0</td>\n",
       "      <td>2.0</td>\n",
       "      <td>霾~雾</td>\n",
       "      <td>无持续风向微风</td>\n",
       "      <td>280</td>\n",
       "      <td>重度</td>\n",
       "      <td>一月</td>\n",
       "      <td>一月</td>\n",
       "    </tr>\n",
       "    <tr>\n",
       "      <th>2017-01-04</th>\n",
       "      <td>2017-01-04</td>\n",
       "      <td>周三</td>\n",
       "      <td>9.0</td>\n",
       "      <td>2.0</td>\n",
       "      <td>小雨</td>\n",
       "      <td>无持续风向微风</td>\n",
       "      <td>193</td>\n",
       "      <td>中度</td>\n",
       "      <td>一月</td>\n",
       "      <td>一月</td>\n",
       "    </tr>\n",
       "    <tr>\n",
       "      <th>2017-01-05</th>\n",
       "      <td>2017-01-05</td>\n",
       "      <td>周四</td>\n",
       "      <td>5.0</td>\n",
       "      <td>1.0</td>\n",
       "      <td>小雨</td>\n",
       "      <td>无持续风向微风</td>\n",
       "      <td>216</td>\n",
       "      <td>重度</td>\n",
       "      <td>一月</td>\n",
       "      <td>一月</td>\n",
       "    </tr>\n",
       "  </tbody>\n",
       "</table>\n",
       "</div>"
      ],
      "text/plain": [
       "                  date week  max_temperature  min_temperature day_status  \\\n",
       "date                                                                       \n",
       "2017-01-01  2017-01-01   周日              9.0              2.0         多云   \n",
       "2017-01-02  2017-01-02   周一              9.0              2.0          霾   \n",
       "2017-01-03  2017-01-03   周二              9.0              2.0        霾~雾   \n",
       "2017-01-04  2017-01-04   周三              9.0              2.0         小雨   \n",
       "2017-01-05  2017-01-05   周四              5.0              1.0         小雨   \n",
       "\n",
       "               wind  aqi aqi_status 中文月份1 中文月份2  \n",
       "date                                             \n",
       "2017-01-01  无持续风向微风  372         严重    一月    一月  \n",
       "2017-01-02  无持续风向微风  361         严重    一月    一月  \n",
       "2017-01-03  无持续风向微风  280         重度    一月    一月  \n",
       "2017-01-04  无持续风向微风  193         中度    一月    一月  \n",
       "2017-01-05  无持续风向微风  216         重度    一月    一月  "
      ]
     },
     "execution_count": 126,
     "metadata": {},
     "output_type": "execute_result"
    }
   ],
   "source": [
    "df.head()"
   ]
  },
  {
   "cell_type": "markdown",
   "metadata": {},
   "source": [
    "## apply用于Series和DataFrame的转换\n",
    "- Series.apply(function), 函数的参数是每个值\n",
    "- DataFrame.apply(function), 函数的参数是Series"
   ]
  },
  {
   "cell_type": "markdown",
   "metadata": {},
   "source": [
    "### Series.apply(function)\n",
    "function的参数是Series的每个值"
   ]
  },
  {
   "cell_type": "code",
   "execution_count": 127,
   "metadata": {
    "ExecuteTime": {
     "end_time": "2020-08-24T03:46:54.633018Z",
     "start_time": "2020-08-24T03:46:54.623045Z"
    }
   },
   "outputs": [
    {
     "data": {
      "text/plain": [
       "pandas.core.series.Series"
      ]
     },
     "execution_count": 127,
     "metadata": {},
     "output_type": "execute_result"
    }
   ],
   "source": [
    "type(pd.Series(df.index.month))"
   ]
  },
  {
   "cell_type": "code",
   "execution_count": 128,
   "metadata": {
    "ExecuteTime": {
     "end_time": "2020-08-24T03:46:54.648992Z",
     "start_time": "2020-08-24T03:46:54.634015Z"
    }
   },
   "outputs": [
    {
     "data": {
      "text/plain": [
       "date\n",
       "2017-01-01     一月\n",
       "2017-01-02     一月\n",
       "2017-01-03     一月\n",
       "2017-01-04     一月\n",
       "2017-01-05     一月\n",
       "             ... \n",
       "2019-12-27    十二月\n",
       "2019-12-28    十二月\n",
       "2019-12-29    十二月\n",
       "2019-12-30    十二月\n",
       "2019-12-31    十二月\n",
       "Name: date, Length: 1095, dtype: object"
      ]
     },
     "execution_count": 128,
     "metadata": {},
     "output_type": "execute_result"
    }
   ],
   "source": [
    "pd.Series(df.index.month, index=df.index).apply(lambda x: month_change[x])"
   ]
  },
  {
   "cell_type": "code",
   "execution_count": 129,
   "metadata": {
    "ExecuteTime": {
     "end_time": "2020-08-24T03:46:54.673912Z",
     "start_time": "2020-08-24T03:46:54.649971Z"
    }
   },
   "outputs": [
    {
     "data": {
      "text/html": [
       "<div>\n",
       "<style scoped>\n",
       "    .dataframe tbody tr th:only-of-type {\n",
       "        vertical-align: middle;\n",
       "    }\n",
       "\n",
       "    .dataframe tbody tr th {\n",
       "        vertical-align: top;\n",
       "    }\n",
       "\n",
       "    .dataframe thead th {\n",
       "        text-align: right;\n",
       "    }\n",
       "</style>\n",
       "<table border=\"1\" class=\"dataframe\">\n",
       "  <thead>\n",
       "    <tr style=\"text-align: right;\">\n",
       "      <th></th>\n",
       "      <th>date</th>\n",
       "      <th>week</th>\n",
       "      <th>max_temperature</th>\n",
       "      <th>min_temperature</th>\n",
       "      <th>day_status</th>\n",
       "      <th>wind</th>\n",
       "      <th>aqi</th>\n",
       "      <th>aqi_status</th>\n",
       "      <th>中文月份1</th>\n",
       "      <th>中文月份2</th>\n",
       "      <th>中文月份3</th>\n",
       "    </tr>\n",
       "    <tr>\n",
       "      <th>date</th>\n",
       "      <th></th>\n",
       "      <th></th>\n",
       "      <th></th>\n",
       "      <th></th>\n",
       "      <th></th>\n",
       "      <th></th>\n",
       "      <th></th>\n",
       "      <th></th>\n",
       "      <th></th>\n",
       "      <th></th>\n",
       "      <th></th>\n",
       "    </tr>\n",
       "  </thead>\n",
       "  <tbody>\n",
       "    <tr>\n",
       "      <th>2017-01-01</th>\n",
       "      <td>2017-01-01</td>\n",
       "      <td>周日</td>\n",
       "      <td>9.0</td>\n",
       "      <td>2.0</td>\n",
       "      <td>多云</td>\n",
       "      <td>无持续风向微风</td>\n",
       "      <td>372</td>\n",
       "      <td>严重</td>\n",
       "      <td>一月</td>\n",
       "      <td>一月</td>\n",
       "      <td>一月</td>\n",
       "    </tr>\n",
       "    <tr>\n",
       "      <th>2017-01-02</th>\n",
       "      <td>2017-01-02</td>\n",
       "      <td>周一</td>\n",
       "      <td>9.0</td>\n",
       "      <td>2.0</td>\n",
       "      <td>霾</td>\n",
       "      <td>无持续风向微风</td>\n",
       "      <td>361</td>\n",
       "      <td>严重</td>\n",
       "      <td>一月</td>\n",
       "      <td>一月</td>\n",
       "      <td>一月</td>\n",
       "    </tr>\n",
       "    <tr>\n",
       "      <th>2017-01-03</th>\n",
       "      <td>2017-01-03</td>\n",
       "      <td>周二</td>\n",
       "      <td>9.0</td>\n",
       "      <td>2.0</td>\n",
       "      <td>霾~雾</td>\n",
       "      <td>无持续风向微风</td>\n",
       "      <td>280</td>\n",
       "      <td>重度</td>\n",
       "      <td>一月</td>\n",
       "      <td>一月</td>\n",
       "      <td>一月</td>\n",
       "    </tr>\n",
       "    <tr>\n",
       "      <th>2017-01-04</th>\n",
       "      <td>2017-01-04</td>\n",
       "      <td>周三</td>\n",
       "      <td>9.0</td>\n",
       "      <td>2.0</td>\n",
       "      <td>小雨</td>\n",
       "      <td>无持续风向微风</td>\n",
       "      <td>193</td>\n",
       "      <td>中度</td>\n",
       "      <td>一月</td>\n",
       "      <td>一月</td>\n",
       "      <td>一月</td>\n",
       "    </tr>\n",
       "    <tr>\n",
       "      <th>2017-01-05</th>\n",
       "      <td>2017-01-05</td>\n",
       "      <td>周四</td>\n",
       "      <td>5.0</td>\n",
       "      <td>1.0</td>\n",
       "      <td>小雨</td>\n",
       "      <td>无持续风向微风</td>\n",
       "      <td>216</td>\n",
       "      <td>重度</td>\n",
       "      <td>一月</td>\n",
       "      <td>一月</td>\n",
       "      <td>一月</td>\n",
       "    </tr>\n",
       "  </tbody>\n",
       "</table>\n",
       "</div>"
      ],
      "text/plain": [
       "                  date week  max_temperature  min_temperature day_status  \\\n",
       "date                                                                       \n",
       "2017-01-01  2017-01-01   周日              9.0              2.0         多云   \n",
       "2017-01-02  2017-01-02   周一              9.0              2.0          霾   \n",
       "2017-01-03  2017-01-03   周二              9.0              2.0        霾~雾   \n",
       "2017-01-04  2017-01-04   周三              9.0              2.0         小雨   \n",
       "2017-01-05  2017-01-05   周四              5.0              1.0         小雨   \n",
       "\n",
       "               wind  aqi aqi_status 中文月份1 中文月份2 中文月份3  \n",
       "date                                                   \n",
       "2017-01-01  无持续风向微风  372         严重    一月    一月    一月  \n",
       "2017-01-02  无持续风向微风  361         严重    一月    一月    一月  \n",
       "2017-01-03  无持续风向微风  280         重度    一月    一月    一月  \n",
       "2017-01-04  无持续风向微风  193         中度    一月    一月    一月  \n",
       "2017-01-05  无持续风向微风  216         重度    一月    一月    一月  "
      ]
     },
     "execution_count": 129,
     "metadata": {},
     "output_type": "execute_result"
    }
   ],
   "source": [
    "df['中文月份3'] = pd.Series(df.index.month, index=df.index).apply(\n",
    "    lambda x: month_change[x])\n",
    "df.head()"
   ]
  },
  {
   "cell_type": "markdown",
   "metadata": {},
   "source": [
    "### DataFrame.apply(function)\n",
    "function的参数是对应轴的Series"
   ]
  },
  {
   "cell_type": "code",
   "execution_count": 130,
   "metadata": {
    "ExecuteTime": {
     "end_time": "2020-08-24T03:46:54.707856Z",
     "start_time": "2020-08-24T03:46:54.675905Z"
    }
   },
   "outputs": [
    {
     "data": {
      "text/html": [
       "<div>\n",
       "<style scoped>\n",
       "    .dataframe tbody tr th:only-of-type {\n",
       "        vertical-align: middle;\n",
       "    }\n",
       "\n",
       "    .dataframe tbody tr th {\n",
       "        vertical-align: top;\n",
       "    }\n",
       "\n",
       "    .dataframe thead th {\n",
       "        text-align: right;\n",
       "    }\n",
       "</style>\n",
       "<table border=\"1\" class=\"dataframe\">\n",
       "  <thead>\n",
       "    <tr style=\"text-align: right;\">\n",
       "      <th></th>\n",
       "      <th>date</th>\n",
       "      <th>week</th>\n",
       "      <th>max_temperature</th>\n",
       "      <th>min_temperature</th>\n",
       "      <th>day_status</th>\n",
       "      <th>wind</th>\n",
       "      <th>aqi</th>\n",
       "      <th>aqi_status</th>\n",
       "      <th>中文月份1</th>\n",
       "      <th>中文月份2</th>\n",
       "      <th>中文月份3</th>\n",
       "      <th>中文月份4</th>\n",
       "    </tr>\n",
       "    <tr>\n",
       "      <th>date</th>\n",
       "      <th></th>\n",
       "      <th></th>\n",
       "      <th></th>\n",
       "      <th></th>\n",
       "      <th></th>\n",
       "      <th></th>\n",
       "      <th></th>\n",
       "      <th></th>\n",
       "      <th></th>\n",
       "      <th></th>\n",
       "      <th></th>\n",
       "      <th></th>\n",
       "    </tr>\n",
       "  </thead>\n",
       "  <tbody>\n",
       "    <tr>\n",
       "      <th>2017-01-01</th>\n",
       "      <td>2017-01-01</td>\n",
       "      <td>周日</td>\n",
       "      <td>9.0</td>\n",
       "      <td>2.0</td>\n",
       "      <td>多云</td>\n",
       "      <td>无持续风向微风</td>\n",
       "      <td>372</td>\n",
       "      <td>严重</td>\n",
       "      <td>一月</td>\n",
       "      <td>一月</td>\n",
       "      <td>一月</td>\n",
       "      <td>一月</td>\n",
       "    </tr>\n",
       "    <tr>\n",
       "      <th>2017-01-02</th>\n",
       "      <td>2017-01-02</td>\n",
       "      <td>周一</td>\n",
       "      <td>9.0</td>\n",
       "      <td>2.0</td>\n",
       "      <td>霾</td>\n",
       "      <td>无持续风向微风</td>\n",
       "      <td>361</td>\n",
       "      <td>严重</td>\n",
       "      <td>一月</td>\n",
       "      <td>一月</td>\n",
       "      <td>一月</td>\n",
       "      <td>一月</td>\n",
       "    </tr>\n",
       "    <tr>\n",
       "      <th>2017-01-03</th>\n",
       "      <td>2017-01-03</td>\n",
       "      <td>周二</td>\n",
       "      <td>9.0</td>\n",
       "      <td>2.0</td>\n",
       "      <td>霾~雾</td>\n",
       "      <td>无持续风向微风</td>\n",
       "      <td>280</td>\n",
       "      <td>重度</td>\n",
       "      <td>一月</td>\n",
       "      <td>一月</td>\n",
       "      <td>一月</td>\n",
       "      <td>一月</td>\n",
       "    </tr>\n",
       "    <tr>\n",
       "      <th>2017-01-04</th>\n",
       "      <td>2017-01-04</td>\n",
       "      <td>周三</td>\n",
       "      <td>9.0</td>\n",
       "      <td>2.0</td>\n",
       "      <td>小雨</td>\n",
       "      <td>无持续风向微风</td>\n",
       "      <td>193</td>\n",
       "      <td>中度</td>\n",
       "      <td>一月</td>\n",
       "      <td>一月</td>\n",
       "      <td>一月</td>\n",
       "      <td>一月</td>\n",
       "    </tr>\n",
       "    <tr>\n",
       "      <th>2017-01-05</th>\n",
       "      <td>2017-01-05</td>\n",
       "      <td>周四</td>\n",
       "      <td>5.0</td>\n",
       "      <td>1.0</td>\n",
       "      <td>小雨</td>\n",
       "      <td>无持续风向微风</td>\n",
       "      <td>216</td>\n",
       "      <td>重度</td>\n",
       "      <td>一月</td>\n",
       "      <td>一月</td>\n",
       "      <td>一月</td>\n",
       "      <td>一月</td>\n",
       "    </tr>\n",
       "  </tbody>\n",
       "</table>\n",
       "</div>"
      ],
      "text/plain": [
       "                  date week  max_temperature  min_temperature day_status  \\\n",
       "date                                                                       \n",
       "2017-01-01  2017-01-01   周日              9.0              2.0         多云   \n",
       "2017-01-02  2017-01-02   周一              9.0              2.0          霾   \n",
       "2017-01-03  2017-01-03   周二              9.0              2.0        霾~雾   \n",
       "2017-01-04  2017-01-04   周三              9.0              2.0         小雨   \n",
       "2017-01-05  2017-01-05   周四              5.0              1.0         小雨   \n",
       "\n",
       "               wind  aqi aqi_status 中文月份1 中文月份2 中文月份3 中文月份4  \n",
       "date                                                         \n",
       "2017-01-01  无持续风向微风  372         严重    一月    一月    一月    一月  \n",
       "2017-01-02  无持续风向微风  361         严重    一月    一月    一月    一月  \n",
       "2017-01-03  无持续风向微风  280         重度    一月    一月    一月    一月  \n",
       "2017-01-04  无持续风向微风  193         中度    一月    一月    一月    一月  \n",
       "2017-01-05  无持续风向微风  216         重度    一月    一月    一月    一月  "
      ]
     },
     "execution_count": 130,
     "metadata": {},
     "output_type": "execute_result"
    }
   ],
   "source": [
    "df['中文月份4'] = df.apply(\n",
    "    lambda x: month_change[int(x['date'][5:7])],\n",
    "    axis=1\n",
    ")\n",
    "df.head()"
   ]
  },
  {
   "cell_type": "markdown",
   "metadata": {},
   "source": [
    "## applymap用于DataFrame所有值的转换"
   ]
  },
  {
   "cell_type": "markdown",
   "metadata": {},
   "source": [
    "# Pandas的数据转换函数map、apply、applymap\n",
    "\n",
    "数据转换函数对比：map、apply、applymap：\n",
    "\n",
    "1. map：只用于Series，实现每个值->值的映射；\n",
    "2. apply：用于Series实现每个值的处理，用于Dataframe实现某个轴的Series的处理；\n",
    "3. applymap：只能用于DataFrame，用于处理该DataFrame的每个元素；"
   ]
  },
  {
   "cell_type": "markdown",
   "metadata": {},
   "source": [
    "## 用于Series值的转换¶\n",
    "实例：将股票代码英文转换成中文名字\n",
    "\n",
    "Series.map(dict) or Series.map(function)均可"
   ]
  },
  {
   "cell_type": "code",
   "execution_count": 119,
   "metadata": {
    "ExecuteTime": {
     "end_time": "2020-08-24T03:46:54.475905Z",
     "start_time": "2020-08-24T03:46:54.457888Z"
    }
   },
   "outputs": [
    {
     "data": {
      "text/html": [
       "<div>\n",
       "<style scoped>\n",
       "    .dataframe tbody tr th:only-of-type {\n",
       "        vertical-align: middle;\n",
       "    }\n",
       "\n",
       "    .dataframe tbody tr th {\n",
       "        vertical-align: top;\n",
       "    }\n",
       "\n",
       "    .dataframe thead th {\n",
       "        text-align: right;\n",
       "    }\n",
       "</style>\n",
       "<table border=\"1\" class=\"dataframe\">\n",
       "  <thead>\n",
       "    <tr style=\"text-align: right;\">\n",
       "      <th></th>\n",
       "      <th>date</th>\n",
       "      <th>week</th>\n",
       "      <th>max_temperature</th>\n",
       "      <th>min_temperature</th>\n",
       "      <th>day_status</th>\n",
       "      <th>wind</th>\n",
       "      <th>aqi</th>\n",
       "      <th>aqi_status</th>\n",
       "    </tr>\n",
       "    <tr>\n",
       "      <th>date</th>\n",
       "      <th></th>\n",
       "      <th></th>\n",
       "      <th></th>\n",
       "      <th></th>\n",
       "      <th></th>\n",
       "      <th></th>\n",
       "      <th></th>\n",
       "      <th></th>\n",
       "    </tr>\n",
       "  </thead>\n",
       "  <tbody>\n",
       "    <tr>\n",
       "      <th>2017-01-01</th>\n",
       "      <td>2017-01-01</td>\n",
       "      <td>周日</td>\n",
       "      <td>9.0</td>\n",
       "      <td>2.0</td>\n",
       "      <td>多云</td>\n",
       "      <td>无持续风向微风</td>\n",
       "      <td>372</td>\n",
       "      <td>严重</td>\n",
       "    </tr>\n",
       "    <tr>\n",
       "      <th>2017-01-02</th>\n",
       "      <td>2017-01-02</td>\n",
       "      <td>周一</td>\n",
       "      <td>9.0</td>\n",
       "      <td>2.0</td>\n",
       "      <td>霾</td>\n",
       "      <td>无持续风向微风</td>\n",
       "      <td>361</td>\n",
       "      <td>严重</td>\n",
       "    </tr>\n",
       "    <tr>\n",
       "      <th>2017-01-03</th>\n",
       "      <td>2017-01-03</td>\n",
       "      <td>周二</td>\n",
       "      <td>9.0</td>\n",
       "      <td>2.0</td>\n",
       "      <td>霾~雾</td>\n",
       "      <td>无持续风向微风</td>\n",
       "      <td>280</td>\n",
       "      <td>重度</td>\n",
       "    </tr>\n",
       "    <tr>\n",
       "      <th>2017-01-04</th>\n",
       "      <td>2017-01-04</td>\n",
       "      <td>周三</td>\n",
       "      <td>9.0</td>\n",
       "      <td>2.0</td>\n",
       "      <td>小雨</td>\n",
       "      <td>无持续风向微风</td>\n",
       "      <td>193</td>\n",
       "      <td>中度</td>\n",
       "    </tr>\n",
       "    <tr>\n",
       "      <th>2017-01-05</th>\n",
       "      <td>2017-01-05</td>\n",
       "      <td>周四</td>\n",
       "      <td>5.0</td>\n",
       "      <td>1.0</td>\n",
       "      <td>小雨</td>\n",
       "      <td>无持续风向微风</td>\n",
       "      <td>216</td>\n",
       "      <td>重度</td>\n",
       "    </tr>\n",
       "  </tbody>\n",
       "</table>\n",
       "</div>"
      ],
      "text/plain": [
       "                  date week  max_temperature  min_temperature day_status  \\\n",
       "date                                                                       \n",
       "2017-01-01  2017-01-01   周日              9.0              2.0         多云   \n",
       "2017-01-02  2017-01-02   周一              9.0              2.0          霾   \n",
       "2017-01-03  2017-01-03   周二              9.0              2.0        霾~雾   \n",
       "2017-01-04  2017-01-04   周三              9.0              2.0         小雨   \n",
       "2017-01-05  2017-01-05   周四              5.0              1.0         小雨   \n",
       "\n",
       "               wind  aqi aqi_status  \n",
       "date                                 \n",
       "2017-01-01  无持续风向微风  372         严重  \n",
       "2017-01-02  无持续风向微风  361         严重  \n",
       "2017-01-03  无持续风向微风  280         重度  \n",
       "2017-01-04  无持续风向微风  193         中度  \n",
       "2017-01-05  无持续风向微风  216         重度  "
      ]
     },
     "execution_count": 119,
     "metadata": {},
     "output_type": "execute_result"
    }
   ],
   "source": [
    "df.head()"
   ]
  },
  {
   "cell_type": "code",
   "execution_count": 120,
   "metadata": {
    "ExecuteTime": {
     "end_time": "2020-08-24T03:46:54.525737Z",
     "start_time": "2020-08-24T03:46:54.518716Z"
    }
   },
   "outputs": [
    {
     "data": {
      "text/plain": [
       "Int64Index([1, 2, 3, 4, 5, 6, 7, 8, 9, 10, 11, 12], dtype='int64', name='date')"
      ]
     },
     "execution_count": 120,
     "metadata": {},
     "output_type": "execute_result"
    }
   ],
   "source": [
    "df.index.month.unique()"
   ]
  },
  {
   "cell_type": "code",
   "execution_count": 121,
   "metadata": {
    "ExecuteTime": {
     "end_time": "2020-08-24T03:46:54.536703Z",
     "start_time": "2020-08-24T03:46:54.529687Z"
    }
   },
   "outputs": [],
   "source": [
    "month_change = {\n",
    "    1: '一月',\n",
    "    2: '二月',\n",
    "    3: '三月',\n",
    "    4: '四月',\n",
    "    5: '五月',\n",
    "    6: '六月',\n",
    "    7: '七月',\n",
    "    8: '八月',\n",
    "    9: '九月',\n",
    "    10: '十月',\n",
    "    11: '十一月',\n",
    "    12: '十二月'\n",
    "}"
   ]
  },
  {
   "cell_type": "code",
   "execution_count": 122,
   "metadata": {
    "ExecuteTime": {
     "end_time": "2020-08-24T03:46:54.549633Z",
     "start_time": "2020-08-24T03:46:54.538663Z"
    }
   },
   "outputs": [
    {
     "data": {
      "text/plain": [
       "'一月'"
      ]
     },
     "execution_count": 122,
     "metadata": {},
     "output_type": "execute_result"
    }
   ],
   "source": [
    "month_change[1]"
   ]
  },
  {
   "cell_type": "markdown",
   "metadata": {},
   "source": [
    "### 方法1：Series.map(dict)"
   ]
  },
  {
   "cell_type": "code",
   "execution_count": 123,
   "metadata": {
    "ExecuteTime": {
     "end_time": "2020-08-24T03:46:54.562634Z",
     "start_time": "2020-08-24T03:46:54.551662Z"
    }
   },
   "outputs": [],
   "source": [
    "df['中文月份1'] = df.index.month.map(month_change)"
   ]
  },
  {
   "cell_type": "code",
   "execution_count": 124,
   "metadata": {
    "ExecuteTime": {
     "end_time": "2020-08-24T03:46:54.583180Z",
     "start_time": "2020-08-24T03:46:54.564604Z"
    }
   },
   "outputs": [
    {
     "data": {
      "text/html": [
       "<div>\n",
       "<style scoped>\n",
       "    .dataframe tbody tr th:only-of-type {\n",
       "        vertical-align: middle;\n",
       "    }\n",
       "\n",
       "    .dataframe tbody tr th {\n",
       "        vertical-align: top;\n",
       "    }\n",
       "\n",
       "    .dataframe thead th {\n",
       "        text-align: right;\n",
       "    }\n",
       "</style>\n",
       "<table border=\"1\" class=\"dataframe\">\n",
       "  <thead>\n",
       "    <tr style=\"text-align: right;\">\n",
       "      <th></th>\n",
       "      <th>date</th>\n",
       "      <th>week</th>\n",
       "      <th>max_temperature</th>\n",
       "      <th>min_temperature</th>\n",
       "      <th>day_status</th>\n",
       "      <th>wind</th>\n",
       "      <th>aqi</th>\n",
       "      <th>aqi_status</th>\n",
       "      <th>中文月份1</th>\n",
       "    </tr>\n",
       "    <tr>\n",
       "      <th>date</th>\n",
       "      <th></th>\n",
       "      <th></th>\n",
       "      <th></th>\n",
       "      <th></th>\n",
       "      <th></th>\n",
       "      <th></th>\n",
       "      <th></th>\n",
       "      <th></th>\n",
       "      <th></th>\n",
       "    </tr>\n",
       "  </thead>\n",
       "  <tbody>\n",
       "    <tr>\n",
       "      <th>2017-01-01</th>\n",
       "      <td>2017-01-01</td>\n",
       "      <td>周日</td>\n",
       "      <td>9.0</td>\n",
       "      <td>2.0</td>\n",
       "      <td>多云</td>\n",
       "      <td>无持续风向微风</td>\n",
       "      <td>372</td>\n",
       "      <td>严重</td>\n",
       "      <td>一月</td>\n",
       "    </tr>\n",
       "    <tr>\n",
       "      <th>2017-01-02</th>\n",
       "      <td>2017-01-02</td>\n",
       "      <td>周一</td>\n",
       "      <td>9.0</td>\n",
       "      <td>2.0</td>\n",
       "      <td>霾</td>\n",
       "      <td>无持续风向微风</td>\n",
       "      <td>361</td>\n",
       "      <td>严重</td>\n",
       "      <td>一月</td>\n",
       "    </tr>\n",
       "    <tr>\n",
       "      <th>2017-01-03</th>\n",
       "      <td>2017-01-03</td>\n",
       "      <td>周二</td>\n",
       "      <td>9.0</td>\n",
       "      <td>2.0</td>\n",
       "      <td>霾~雾</td>\n",
       "      <td>无持续风向微风</td>\n",
       "      <td>280</td>\n",
       "      <td>重度</td>\n",
       "      <td>一月</td>\n",
       "    </tr>\n",
       "    <tr>\n",
       "      <th>2017-01-04</th>\n",
       "      <td>2017-01-04</td>\n",
       "      <td>周三</td>\n",
       "      <td>9.0</td>\n",
       "      <td>2.0</td>\n",
       "      <td>小雨</td>\n",
       "      <td>无持续风向微风</td>\n",
       "      <td>193</td>\n",
       "      <td>中度</td>\n",
       "      <td>一月</td>\n",
       "    </tr>\n",
       "    <tr>\n",
       "      <th>2017-01-05</th>\n",
       "      <td>2017-01-05</td>\n",
       "      <td>周四</td>\n",
       "      <td>5.0</td>\n",
       "      <td>1.0</td>\n",
       "      <td>小雨</td>\n",
       "      <td>无持续风向微风</td>\n",
       "      <td>216</td>\n",
       "      <td>重度</td>\n",
       "      <td>一月</td>\n",
       "    </tr>\n",
       "  </tbody>\n",
       "</table>\n",
       "</div>"
      ],
      "text/plain": [
       "                  date week  max_temperature  min_temperature day_status  \\\n",
       "date                                                                       \n",
       "2017-01-01  2017-01-01   周日              9.0              2.0         多云   \n",
       "2017-01-02  2017-01-02   周一              9.0              2.0          霾   \n",
       "2017-01-03  2017-01-03   周二              9.0              2.0        霾~雾   \n",
       "2017-01-04  2017-01-04   周三              9.0              2.0         小雨   \n",
       "2017-01-05  2017-01-05   周四              5.0              1.0         小雨   \n",
       "\n",
       "               wind  aqi aqi_status 中文月份1  \n",
       "date                                       \n",
       "2017-01-01  无持续风向微风  372         严重    一月  \n",
       "2017-01-02  无持续风向微风  361         严重    一月  \n",
       "2017-01-03  无持续风向微风  280         重度    一月  \n",
       "2017-01-04  无持续风向微风  193         中度    一月  \n",
       "2017-01-05  无持续风向微风  216         重度    一月  "
      ]
     },
     "execution_count": 124,
     "metadata": {},
     "output_type": "execute_result"
    }
   ],
   "source": [
    "df.head()"
   ]
  },
  {
   "cell_type": "markdown",
   "metadata": {
    "ExecuteTime": {
     "end_time": "2020-08-23T08:57:06.024490Z",
     "start_time": "2020-08-23T08:57:06.020163Z"
    }
   },
   "source": [
    "### 方法2：Series.map(function)\n",
    "function的参数是Series的每个元素的值"
   ]
  },
  {
   "cell_type": "code",
   "execution_count": 125,
   "metadata": {
    "ExecuteTime": {
     "end_time": "2020-08-24T03:46:54.599109Z",
     "start_time": "2020-08-24T03:46:54.584148Z"
    }
   },
   "outputs": [],
   "source": [
    "df['中文月份2'] = df.index.month.map(lambda x: month_change[x])"
   ]
  },
  {
   "cell_type": "code",
   "execution_count": 126,
   "metadata": {
    "ExecuteTime": {
     "end_time": "2020-08-24T03:46:54.621077Z",
     "start_time": "2020-08-24T03:46:54.601103Z"
    }
   },
   "outputs": [
    {
     "data": {
      "text/html": [
       "<div>\n",
       "<style scoped>\n",
       "    .dataframe tbody tr th:only-of-type {\n",
       "        vertical-align: middle;\n",
       "    }\n",
       "\n",
       "    .dataframe tbody tr th {\n",
       "        vertical-align: top;\n",
       "    }\n",
       "\n",
       "    .dataframe thead th {\n",
       "        text-align: right;\n",
       "    }\n",
       "</style>\n",
       "<table border=\"1\" class=\"dataframe\">\n",
       "  <thead>\n",
       "    <tr style=\"text-align: right;\">\n",
       "      <th></th>\n",
       "      <th>date</th>\n",
       "      <th>week</th>\n",
       "      <th>max_temperature</th>\n",
       "      <th>min_temperature</th>\n",
       "      <th>day_status</th>\n",
       "      <th>wind</th>\n",
       "      <th>aqi</th>\n",
       "      <th>aqi_status</th>\n",
       "      <th>中文月份1</th>\n",
       "      <th>中文月份2</th>\n",
       "    </tr>\n",
       "    <tr>\n",
       "      <th>date</th>\n",
       "      <th></th>\n",
       "      <th></th>\n",
       "      <th></th>\n",
       "      <th></th>\n",
       "      <th></th>\n",
       "      <th></th>\n",
       "      <th></th>\n",
       "      <th></th>\n",
       "      <th></th>\n",
       "      <th></th>\n",
       "    </tr>\n",
       "  </thead>\n",
       "  <tbody>\n",
       "    <tr>\n",
       "      <th>2017-01-01</th>\n",
       "      <td>2017-01-01</td>\n",
       "      <td>周日</td>\n",
       "      <td>9.0</td>\n",
       "      <td>2.0</td>\n",
       "      <td>多云</td>\n",
       "      <td>无持续风向微风</td>\n",
       "      <td>372</td>\n",
       "      <td>严重</td>\n",
       "      <td>一月</td>\n",
       "      <td>一月</td>\n",
       "    </tr>\n",
       "    <tr>\n",
       "      <th>2017-01-02</th>\n",
       "      <td>2017-01-02</td>\n",
       "      <td>周一</td>\n",
       "      <td>9.0</td>\n",
       "      <td>2.0</td>\n",
       "      <td>霾</td>\n",
       "      <td>无持续风向微风</td>\n",
       "      <td>361</td>\n",
       "      <td>严重</td>\n",
       "      <td>一月</td>\n",
       "      <td>一月</td>\n",
       "    </tr>\n",
       "    <tr>\n",
       "      <th>2017-01-03</th>\n",
       "      <td>2017-01-03</td>\n",
       "      <td>周二</td>\n",
       "      <td>9.0</td>\n",
       "      <td>2.0</td>\n",
       "      <td>霾~雾</td>\n",
       "      <td>无持续风向微风</td>\n",
       "      <td>280</td>\n",
       "      <td>重度</td>\n",
       "      <td>一月</td>\n",
       "      <td>一月</td>\n",
       "    </tr>\n",
       "    <tr>\n",
       "      <th>2017-01-04</th>\n",
       "      <td>2017-01-04</td>\n",
       "      <td>周三</td>\n",
       "      <td>9.0</td>\n",
       "      <td>2.0</td>\n",
       "      <td>小雨</td>\n",
       "      <td>无持续风向微风</td>\n",
       "      <td>193</td>\n",
       "      <td>中度</td>\n",
       "      <td>一月</td>\n",
       "      <td>一月</td>\n",
       "    </tr>\n",
       "    <tr>\n",
       "      <th>2017-01-05</th>\n",
       "      <td>2017-01-05</td>\n",
       "      <td>周四</td>\n",
       "      <td>5.0</td>\n",
       "      <td>1.0</td>\n",
       "      <td>小雨</td>\n",
       "      <td>无持续风向微风</td>\n",
       "      <td>216</td>\n",
       "      <td>重度</td>\n",
       "      <td>一月</td>\n",
       "      <td>一月</td>\n",
       "    </tr>\n",
       "  </tbody>\n",
       "</table>\n",
       "</div>"
      ],
      "text/plain": [
       "                  date week  max_temperature  min_temperature day_status  \\\n",
       "date                                                                       \n",
       "2017-01-01  2017-01-01   周日              9.0              2.0         多云   \n",
       "2017-01-02  2017-01-02   周一              9.0              2.0          霾   \n",
       "2017-01-03  2017-01-03   周二              9.0              2.0        霾~雾   \n",
       "2017-01-04  2017-01-04   周三              9.0              2.0         小雨   \n",
       "2017-01-05  2017-01-05   周四              5.0              1.0         小雨   \n",
       "\n",
       "               wind  aqi aqi_status 中文月份1 中文月份2  \n",
       "date                                             \n",
       "2017-01-01  无持续风向微风  372         严重    一月    一月  \n",
       "2017-01-02  无持续风向微风  361         严重    一月    一月  \n",
       "2017-01-03  无持续风向微风  280         重度    一月    一月  \n",
       "2017-01-04  无持续风向微风  193         中度    一月    一月  \n",
       "2017-01-05  无持续风向微风  216         重度    一月    一月  "
      ]
     },
     "execution_count": 126,
     "metadata": {},
     "output_type": "execute_result"
    }
   ],
   "source": [
    "df.head()"
   ]
  },
  {
   "cell_type": "markdown",
   "metadata": {},
   "source": [
    "## apply用于Series和DataFrame的转换\n",
    "- Series.apply(function), 函数的参数是每个值\n",
    "- DataFrame.apply(function), 函数的参数是Series"
   ]
  },
  {
   "cell_type": "markdown",
   "metadata": {},
   "source": [
    "### Series.apply(function)\n",
    "function的参数是Series的每个值"
   ]
  },
  {
   "cell_type": "code",
   "execution_count": 127,
   "metadata": {
    "ExecuteTime": {
     "end_time": "2020-08-24T03:46:54.633018Z",
     "start_time": "2020-08-24T03:46:54.623045Z"
    }
   },
   "outputs": [
    {
     "data": {
      "text/plain": [
       "pandas.core.series.Series"
      ]
     },
     "execution_count": 127,
     "metadata": {},
     "output_type": "execute_result"
    }
   ],
   "source": [
    "type(pd.Series(df.index.month))"
   ]
  },
  {
   "cell_type": "code",
   "execution_count": 128,
   "metadata": {
    "ExecuteTime": {
     "end_time": "2020-08-24T03:46:54.648992Z",
     "start_time": "2020-08-24T03:46:54.634015Z"
    }
   },
   "outputs": [
    {
     "data": {
      "text/plain": [
       "date\n",
       "2017-01-01     一月\n",
       "2017-01-02     一月\n",
       "2017-01-03     一月\n",
       "2017-01-04     一月\n",
       "2017-01-05     一月\n",
       "             ... \n",
       "2019-12-27    十二月\n",
       "2019-12-28    十二月\n",
       "2019-12-29    十二月\n",
       "2019-12-30    十二月\n",
       "2019-12-31    十二月\n",
       "Name: date, Length: 1095, dtype: object"
      ]
     },
     "execution_count": 128,
     "metadata": {},
     "output_type": "execute_result"
    }
   ],
   "source": [
    "pd.Series(df.index.month, index=df.index).apply(lambda x: month_change[x])"
   ]
  },
  {
   "cell_type": "code",
   "execution_count": 129,
   "metadata": {
    "ExecuteTime": {
     "end_time": "2020-08-24T03:46:54.673912Z",
     "start_time": "2020-08-24T03:46:54.649971Z"
    }
   },
   "outputs": [
    {
     "data": {
      "text/html": [
       "<div>\n",
       "<style scoped>\n",
       "    .dataframe tbody tr th:only-of-type {\n",
       "        vertical-align: middle;\n",
       "    }\n",
       "\n",
       "    .dataframe tbody tr th {\n",
       "        vertical-align: top;\n",
       "    }\n",
       "\n",
       "    .dataframe thead th {\n",
       "        text-align: right;\n",
       "    }\n",
       "</style>\n",
       "<table border=\"1\" class=\"dataframe\">\n",
       "  <thead>\n",
       "    <tr style=\"text-align: right;\">\n",
       "      <th></th>\n",
       "      <th>date</th>\n",
       "      <th>week</th>\n",
       "      <th>max_temperature</th>\n",
       "      <th>min_temperature</th>\n",
       "      <th>day_status</th>\n",
       "      <th>wind</th>\n",
       "      <th>aqi</th>\n",
       "      <th>aqi_status</th>\n",
       "      <th>中文月份1</th>\n",
       "      <th>中文月份2</th>\n",
       "      <th>中文月份3</th>\n",
       "    </tr>\n",
       "    <tr>\n",
       "      <th>date</th>\n",
       "      <th></th>\n",
       "      <th></th>\n",
       "      <th></th>\n",
       "      <th></th>\n",
       "      <th></th>\n",
       "      <th></th>\n",
       "      <th></th>\n",
       "      <th></th>\n",
       "      <th></th>\n",
       "      <th></th>\n",
       "      <th></th>\n",
       "    </tr>\n",
       "  </thead>\n",
       "  <tbody>\n",
       "    <tr>\n",
       "      <th>2017-01-01</th>\n",
       "      <td>2017-01-01</td>\n",
       "      <td>周日</td>\n",
       "      <td>9.0</td>\n",
       "      <td>2.0</td>\n",
       "      <td>多云</td>\n",
       "      <td>无持续风向微风</td>\n",
       "      <td>372</td>\n",
       "      <td>严重</td>\n",
       "      <td>一月</td>\n",
       "      <td>一月</td>\n",
       "      <td>一月</td>\n",
       "    </tr>\n",
       "    <tr>\n",
       "      <th>2017-01-02</th>\n",
       "      <td>2017-01-02</td>\n",
       "      <td>周一</td>\n",
       "      <td>9.0</td>\n",
       "      <td>2.0</td>\n",
       "      <td>霾</td>\n",
       "      <td>无持续风向微风</td>\n",
       "      <td>361</td>\n",
       "      <td>严重</td>\n",
       "      <td>一月</td>\n",
       "      <td>一月</td>\n",
       "      <td>一月</td>\n",
       "    </tr>\n",
       "    <tr>\n",
       "      <th>2017-01-03</th>\n",
       "      <td>2017-01-03</td>\n",
       "      <td>周二</td>\n",
       "      <td>9.0</td>\n",
       "      <td>2.0</td>\n",
       "      <td>霾~雾</td>\n",
       "      <td>无持续风向微风</td>\n",
       "      <td>280</td>\n",
       "      <td>重度</td>\n",
       "      <td>一月</td>\n",
       "      <td>一月</td>\n",
       "      <td>一月</td>\n",
       "    </tr>\n",
       "    <tr>\n",
       "      <th>2017-01-04</th>\n",
       "      <td>2017-01-04</td>\n",
       "      <td>周三</td>\n",
       "      <td>9.0</td>\n",
       "      <td>2.0</td>\n",
       "      <td>小雨</td>\n",
       "      <td>无持续风向微风</td>\n",
       "      <td>193</td>\n",
       "      <td>中度</td>\n",
       "      <td>一月</td>\n",
       "      <td>一月</td>\n",
       "      <td>一月</td>\n",
       "    </tr>\n",
       "    <tr>\n",
       "      <th>2017-01-05</th>\n",
       "      <td>2017-01-05</td>\n",
       "      <td>周四</td>\n",
       "      <td>5.0</td>\n",
       "      <td>1.0</td>\n",
       "      <td>小雨</td>\n",
       "      <td>无持续风向微风</td>\n",
       "      <td>216</td>\n",
       "      <td>重度</td>\n",
       "      <td>一月</td>\n",
       "      <td>一月</td>\n",
       "      <td>一月</td>\n",
       "    </tr>\n",
       "  </tbody>\n",
       "</table>\n",
       "</div>"
      ],
      "text/plain": [
       "                  date week  max_temperature  min_temperature day_status  \\\n",
       "date                                                                       \n",
       "2017-01-01  2017-01-01   周日              9.0              2.0         多云   \n",
       "2017-01-02  2017-01-02   周一              9.0              2.0          霾   \n",
       "2017-01-03  2017-01-03   周二              9.0              2.0        霾~雾   \n",
       "2017-01-04  2017-01-04   周三              9.0              2.0         小雨   \n",
       "2017-01-05  2017-01-05   周四              5.0              1.0         小雨   \n",
       "\n",
       "               wind  aqi aqi_status 中文月份1 中文月份2 中文月份3  \n",
       "date                                                   \n",
       "2017-01-01  无持续风向微风  372         严重    一月    一月    一月  \n",
       "2017-01-02  无持续风向微风  361         严重    一月    一月    一月  \n",
       "2017-01-03  无持续风向微风  280         重度    一月    一月    一月  \n",
       "2017-01-04  无持续风向微风  193         中度    一月    一月    一月  \n",
       "2017-01-05  无持续风向微风  216         重度    一月    一月    一月  "
      ]
     },
     "execution_count": 129,
     "metadata": {},
     "output_type": "execute_result"
    }
   ],
   "source": [
    "df['中文月份3'] = pd.Series(df.index.month, index=df.index).apply(\n",
    "    lambda x: month_change[x])\n",
    "df.head()"
   ]
  },
  {
   "cell_type": "markdown",
   "metadata": {},
   "source": [
    "### DataFrame.apply(function)\n",
    "function的参数是对应轴的Series"
   ]
  },
  {
   "cell_type": "code",
   "execution_count": 130,
   "metadata": {
    "ExecuteTime": {
     "end_time": "2020-08-24T03:46:54.707856Z",
     "start_time": "2020-08-24T03:46:54.675905Z"
    }
   },
   "outputs": [
    {
     "data": {
      "text/html": [
       "<div>\n",
       "<style scoped>\n",
       "    .dataframe tbody tr th:only-of-type {\n",
       "        vertical-align: middle;\n",
       "    }\n",
       "\n",
       "    .dataframe tbody tr th {\n",
       "        vertical-align: top;\n",
       "    }\n",
       "\n",
       "    .dataframe thead th {\n",
       "        text-align: right;\n",
       "    }\n",
       "</style>\n",
       "<table border=\"1\" class=\"dataframe\">\n",
       "  <thead>\n",
       "    <tr style=\"text-align: right;\">\n",
       "      <th></th>\n",
       "      <th>date</th>\n",
       "      <th>week</th>\n",
       "      <th>max_temperature</th>\n",
       "      <th>min_temperature</th>\n",
       "      <th>day_status</th>\n",
       "      <th>wind</th>\n",
       "      <th>aqi</th>\n",
       "      <th>aqi_status</th>\n",
       "      <th>中文月份1</th>\n",
       "      <th>中文月份2</th>\n",
       "      <th>中文月份3</th>\n",
       "      <th>中文月份4</th>\n",
       "    </tr>\n",
       "    <tr>\n",
       "      <th>date</th>\n",
       "      <th></th>\n",
       "      <th></th>\n",
       "      <th></th>\n",
       "      <th></th>\n",
       "      <th></th>\n",
       "      <th></th>\n",
       "      <th></th>\n",
       "      <th></th>\n",
       "      <th></th>\n",
       "      <th></th>\n",
       "      <th></th>\n",
       "      <th></th>\n",
       "    </tr>\n",
       "  </thead>\n",
       "  <tbody>\n",
       "    <tr>\n",
       "      <th>2017-01-01</th>\n",
       "      <td>2017-01-01</td>\n",
       "      <td>周日</td>\n",
       "      <td>9.0</td>\n",
       "      <td>2.0</td>\n",
       "      <td>多云</td>\n",
       "      <td>无持续风向微风</td>\n",
       "      <td>372</td>\n",
       "      <td>严重</td>\n",
       "      <td>一月</td>\n",
       "      <td>一月</td>\n",
       "      <td>一月</td>\n",
       "      <td>一月</td>\n",
       "    </tr>\n",
       "    <tr>\n",
       "      <th>2017-01-02</th>\n",
       "      <td>2017-01-02</td>\n",
       "      <td>周一</td>\n",
       "      <td>9.0</td>\n",
       "      <td>2.0</td>\n",
       "      <td>霾</td>\n",
       "      <td>无持续风向微风</td>\n",
       "      <td>361</td>\n",
       "      <td>严重</td>\n",
       "      <td>一月</td>\n",
       "      <td>一月</td>\n",
       "      <td>一月</td>\n",
       "      <td>一月</td>\n",
       "    </tr>\n",
       "    <tr>\n",
       "      <th>2017-01-03</th>\n",
       "      <td>2017-01-03</td>\n",
       "      <td>周二</td>\n",
       "      <td>9.0</td>\n",
       "      <td>2.0</td>\n",
       "      <td>霾~雾</td>\n",
       "      <td>无持续风向微风</td>\n",
       "      <td>280</td>\n",
       "      <td>重度</td>\n",
       "      <td>一月</td>\n",
       "      <td>一月</td>\n",
       "      <td>一月</td>\n",
       "      <td>一月</td>\n",
       "    </tr>\n",
       "    <tr>\n",
       "      <th>2017-01-04</th>\n",
       "      <td>2017-01-04</td>\n",
       "      <td>周三</td>\n",
       "      <td>9.0</td>\n",
       "      <td>2.0</td>\n",
       "      <td>小雨</td>\n",
       "      <td>无持续风向微风</td>\n",
       "      <td>193</td>\n",
       "      <td>中度</td>\n",
       "      <td>一月</td>\n",
       "      <td>一月</td>\n",
       "      <td>一月</td>\n",
       "      <td>一月</td>\n",
       "    </tr>\n",
       "    <tr>\n",
       "      <th>2017-01-05</th>\n",
       "      <td>2017-01-05</td>\n",
       "      <td>周四</td>\n",
       "      <td>5.0</td>\n",
       "      <td>1.0</td>\n",
       "      <td>小雨</td>\n",
       "      <td>无持续风向微风</td>\n",
       "      <td>216</td>\n",
       "      <td>重度</td>\n",
       "      <td>一月</td>\n",
       "      <td>一月</td>\n",
       "      <td>一月</td>\n",
       "      <td>一月</td>\n",
       "    </tr>\n",
       "  </tbody>\n",
       "</table>\n",
       "</div>"
      ],
      "text/plain": [
       "                  date week  max_temperature  min_temperature day_status  \\\n",
       "date                                                                       \n",
       "2017-01-01  2017-01-01   周日              9.0              2.0         多云   \n",
       "2017-01-02  2017-01-02   周一              9.0              2.0          霾   \n",
       "2017-01-03  2017-01-03   周二              9.0              2.0        霾~雾   \n",
       "2017-01-04  2017-01-04   周三              9.0              2.0         小雨   \n",
       "2017-01-05  2017-01-05   周四              5.0              1.0         小雨   \n",
       "\n",
       "               wind  aqi aqi_status 中文月份1 中文月份2 中文月份3 中文月份4  \n",
       "date                                                         \n",
       "2017-01-01  无持续风向微风  372         严重    一月    一月    一月    一月  \n",
       "2017-01-02  无持续风向微风  361         严重    一月    一月    一月    一月  \n",
       "2017-01-03  无持续风向微风  280         重度    一月    一月    一月    一月  \n",
       "2017-01-04  无持续风向微风  193         中度    一月    一月    一月    一月  \n",
       "2017-01-05  无持续风向微风  216         重度    一月    一月    一月    一月  "
      ]
     },
     "execution_count": 130,
     "metadata": {},
     "output_type": "execute_result"
    }
   ],
   "source": [
    "df['中文月份4'] = df.apply(\n",
    "    lambda x: month_change[int(x['date'][5:7])],\n",
    "    axis=1\n",
    ")\n",
    "df.head()"
   ]
  },
  {
   "cell_type": "markdown",
   "metadata": {},
   "source": [
    "## applymap用于DataFrame所有值的转换"
   ]
  },
  {
   "cell_type": "code",
   "execution_count": 131,
   "metadata": {
    "ExecuteTime": {
     "end_time": "2020-08-24T03:46:54.724772Z",
     "start_time": "2020-08-24T03:46:54.709814Z"
    }
   },
   "outputs": [
    {
     "data": {
      "text/html": [
       "<div>\n",
       "<style scoped>\n",
       "    .dataframe tbody tr th:only-of-type {\n",
       "        vertical-align: middle;\n",
       "    }\n",
       "\n",
       "    .dataframe tbody tr th {\n",
       "        vertical-align: top;\n",
       "    }\n",
       "\n",
       "    .dataframe thead th {\n",
       "        text-align: right;\n",
       "    }\n",
       "</style>\n",
       "<table border=\"1\" class=\"dataframe\">\n",
       "  <thead>\n",
       "    <tr style=\"text-align: right;\">\n",
       "      <th></th>\n",
       "      <th>0</th>\n",
       "      <th>1</th>\n",
       "      <th>2</th>\n",
       "      <th>3</th>\n",
       "      <th>4</th>\n",
       "    </tr>\n",
       "  </thead>\n",
       "  <tbody>\n",
       "    <tr>\n",
       "      <th>0</th>\n",
       "      <td>0.0</td>\n",
       "      <td>1.0</td>\n",
       "      <td>2.0</td>\n",
       "      <td>3.0</td>\n",
       "      <td>4.0</td>\n",
       "    </tr>\n",
       "    <tr>\n",
       "      <th>1</th>\n",
       "      <td>5.0</td>\n",
       "      <td>6.0</td>\n",
       "      <td>7.0</td>\n",
       "      <td>8.0</td>\n",
       "      <td>9.0</td>\n",
       "    </tr>\n",
       "    <tr>\n",
       "      <th>2</th>\n",
       "      <td>10.0</td>\n",
       "      <td>11.0</td>\n",
       "      <td>12.0</td>\n",
       "      <td>13.0</td>\n",
       "      <td>14.0</td>\n",
       "    </tr>\n",
       "    <tr>\n",
       "      <th>3</th>\n",
       "      <td>15.0</td>\n",
       "      <td>16.0</td>\n",
       "      <td>17.0</td>\n",
       "      <td>18.0</td>\n",
       "      <td>19.0</td>\n",
       "    </tr>\n",
       "  </tbody>\n",
       "</table>\n",
       "</div>"
      ],
      "text/plain": [
       "      0     1     2     3     4\n",
       "0   0.0   1.0   2.0   3.0   4.0\n",
       "1   5.0   6.0   7.0   8.0   9.0\n",
       "2  10.0  11.0  12.0  13.0  14.0\n",
       "3  15.0  16.0  17.0  18.0  19.0"
      ]
     },
     "execution_count": 131,
     "metadata": {},
     "output_type": "execute_result"
    }
   ],
   "source": [
    "tmp = pd.DataFrame(np.arange(20, dtype='float').reshape(4, 5))\n",
    "tmp"
   ]
  },
  {
   "cell_type": "code",
   "execution_count": 132,
   "metadata": {
    "ExecuteTime": {
     "end_time": "2020-08-24T03:46:54.741726Z",
     "start_time": "2020-08-24T03:46:54.726769Z"
    }
   },
   "outputs": [
    {
     "data": {
      "text/html": [
       "<div>\n",
       "<style scoped>\n",
       "    .dataframe tbody tr th:only-of-type {\n",
       "        vertical-align: middle;\n",
       "    }\n",
       "\n",
       "    .dataframe tbody tr th {\n",
       "        vertical-align: top;\n",
       "    }\n",
       "\n",
       "    .dataframe thead th {\n",
       "        text-align: right;\n",
       "    }\n",
       "</style>\n",
       "<table border=\"1\" class=\"dataframe\">\n",
       "  <thead>\n",
       "    <tr style=\"text-align: right;\">\n",
       "      <th></th>\n",
       "      <th>0</th>\n",
       "      <th>1</th>\n",
       "      <th>2</th>\n",
       "      <th>3</th>\n",
       "      <th>4</th>\n",
       "    </tr>\n",
       "  </thead>\n",
       "  <tbody>\n",
       "    <tr>\n",
       "      <th>0</th>\n",
       "      <td>0</td>\n",
       "      <td>1</td>\n",
       "      <td>2</td>\n",
       "      <td>3</td>\n",
       "      <td>4</td>\n",
       "    </tr>\n",
       "    <tr>\n",
       "      <th>1</th>\n",
       "      <td>5</td>\n",
       "      <td>6</td>\n",
       "      <td>7</td>\n",
       "      <td>8</td>\n",
       "      <td>9</td>\n",
       "    </tr>\n",
       "    <tr>\n",
       "      <th>2</th>\n",
       "      <td>10</td>\n",
       "      <td>11</td>\n",
       "      <td>12</td>\n",
       "      <td>13</td>\n",
       "      <td>14</td>\n",
       "    </tr>\n",
       "    <tr>\n",
       "      <th>3</th>\n",
       "      <td>15</td>\n",
       "      <td>16</td>\n",
       "      <td>17</td>\n",
       "      <td>18</td>\n",
       "      <td>19</td>\n",
       "    </tr>\n",
       "  </tbody>\n",
       "</table>\n",
       "</div>"
      ],
      "text/plain": [
       "    0   1   2   3   4\n",
       "0   0   1   2   3   4\n",
       "1   5   6   7   8   9\n",
       "2  10  11  12  13  14\n",
       "3  15  16  17  18  19"
      ]
     },
     "execution_count": 132,
     "metadata": {},
     "output_type": "execute_result"
    }
   ],
   "source": [
    "tmp.applymap(lambda x: int(x))"
   ]
  }
 ],
 "metadata": {
  "kernelspec": {
   "display_name": "Python 3",
   "language": "python",
   "name": "python3"
  },
  "language_info": {
   "codemirror_mode": {
    "name": "ipython",
    "version": 3
   },
   "file_extension": ".py",
   "mimetype": "text/x-python",
   "name": "python",
   "nbconvert_exporter": "python",
   "pygments_lexer": "ipython3",
   "version": "3.7.2"
  },
  "toc": {
   "base_numbering": 1,
   "nav_menu": {},
   "number_sections": true,
   "sideBar": true,
   "skip_h1_title": false,
   "title_cell": "Table of Contents",
   "title_sidebar": "Contents",
   "toc_cell": false,
   "toc_position": {},
   "toc_section_display": true,
   "toc_window_display": false
  },
  "varInspector": {
   "cols": {
    "lenName": 16,
    "lenType": 16,
    "lenVar": 40
   },
   "kernels_config": {
    "python": {
     "delete_cmd_postfix": "",
     "delete_cmd_prefix": "del ",
     "library": "var_list.py",
     "varRefreshCmd": "print(var_dic_list())"
    },
    "r": {
     "delete_cmd_postfix": ") ",
     "delete_cmd_prefix": "rm(",
     "library": "var_list.r",
     "varRefreshCmd": "cat(var_dic_list()) "
    }
   },
   "types_to_exclude": [
    "module",
    "function",
    "builtin_function_or_method",
    "instance",
    "_Feature"
   ],
   "window_display": false
  }
 },
 "nbformat": 4,
 "nbformat_minor": 2
}
