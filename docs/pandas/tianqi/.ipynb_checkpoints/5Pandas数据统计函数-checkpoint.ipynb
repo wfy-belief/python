{
 "cells": [
  {
   "cell_type": "markdown",
   "metadata": {},
   "source": [
    "## Pandas数据统计函数"
   ]
  },
  {
   "cell_type": "markdown",
   "metadata": {},
   "source": [
    "1. 汇总类统计\n",
    "2. 唯一去重和按值计数\n",
    "3. 相关系数和协方差"
   ]
  },
  {
   "cell_type": "code",
   "execution_count": 1,
   "metadata": {
    "ExecuteTime": {
     "end_time": "2020-08-25T00:33:25.416941Z",
     "start_time": "2020-08-25T00:33:25.161368Z"
    }
   },
   "outputs": [],
   "source": [
    "import pandas as pd\n",
    "import numpy as np"
   ]
  },
  {
   "cell_type": "markdown",
   "metadata": {},
   "source": [
    "### 0、读取excel数据"
   ]
  },
  {
   "cell_type": "code",
   "execution_count": 2,
   "metadata": {
    "ExecuteTime": {
     "end_time": "2020-08-25T00:33:25.522588Z",
     "start_time": "2020-08-25T00:33:25.420845Z"
    }
   },
   "outputs": [],
   "source": [
    "fpath = \"./result.xlsx\"\n",
    "df = pd.read_excel(fpath)"
   ]
  },
  {
   "cell_type": "code",
   "execution_count": 3,
   "metadata": {
    "ExecuteTime": {
     "end_time": "2020-08-25T00:33:25.537605Z",
     "start_time": "2020-08-25T00:33:25.523735Z"
    }
   },
   "outputs": [
    {
     "data": {
      "text/html": [
       "<div>\n",
       "<style scoped>\n",
       "    .dataframe tbody tr th:only-of-type {\n",
       "        vertical-align: middle;\n",
       "    }\n",
       "\n",
       "    .dataframe tbody tr th {\n",
       "        vertical-align: top;\n",
       "    }\n",
       "\n",
       "    .dataframe thead th {\n",
       "        text-align: right;\n",
       "    }\n",
       "</style>\n",
       "<table border=\"1\" class=\"dataframe\">\n",
       "  <thead>\n",
       "    <tr style=\"text-align: right;\">\n",
       "      <th></th>\n",
       "      <th>date</th>\n",
       "      <th>week</th>\n",
       "      <th>max_temperature</th>\n",
       "      <th>min_temperature</th>\n",
       "      <th>day_status</th>\n",
       "      <th>wind</th>\n",
       "      <th>aqi</th>\n",
       "      <th>aqi_status</th>\n",
       "    </tr>\n",
       "  </thead>\n",
       "  <tbody>\n",
       "    <tr>\n",
       "      <th>0</th>\n",
       "      <td>2017-01-01</td>\n",
       "      <td>周日</td>\n",
       "      <td>-</td>\n",
       "      <td>-</td>\n",
       "      <td>多云</td>\n",
       "      <td>无持续风向微风</td>\n",
       "      <td>372</td>\n",
       "      <td>严重</td>\n",
       "    </tr>\n",
       "    <tr>\n",
       "      <th>1</th>\n",
       "      <td>2017-01-02</td>\n",
       "      <td>周一</td>\n",
       "      <td>-</td>\n",
       "      <td>-</td>\n",
       "      <td>霾</td>\n",
       "      <td>无持续风向微风</td>\n",
       "      <td>361</td>\n",
       "      <td>严重</td>\n",
       "    </tr>\n",
       "    <tr>\n",
       "      <th>2</th>\n",
       "      <td>2017-01-03</td>\n",
       "      <td>周二</td>\n",
       "      <td>-</td>\n",
       "      <td>-</td>\n",
       "      <td>霾~雾</td>\n",
       "      <td>无持续风向微风</td>\n",
       "      <td>280</td>\n",
       "      <td>重度</td>\n",
       "    </tr>\n",
       "  </tbody>\n",
       "</table>\n",
       "</div>"
      ],
      "text/plain": [
       "         date week max_temperature min_temperature day_status     wind  aqi  \\\n",
       "0  2017-01-01   周日               -               -         多云  无持续风向微风  372   \n",
       "1  2017-01-02   周一               -               -          霾  无持续风向微风  361   \n",
       "2  2017-01-03   周二               -               -        霾~雾  无持续风向微风  280   \n",
       "\n",
       "  aqi_status  \n",
       "0         严重  \n",
       "1         严重  \n",
       "2         重度  "
      ]
     },
     "execution_count": 3,
     "metadata": {},
     "output_type": "execute_result"
    }
   ],
   "source": [
    "df.head(3)"
   ]
  },
  {
   "cell_type": "code",
   "execution_count": 4,
   "metadata": {
    "ExecuteTime": {
     "end_time": "2020-08-25T00:33:25.550485Z",
     "start_time": "2020-08-25T00:33:25.538517Z"
    }
   },
   "outputs": [],
   "source": [
    "# 替换掉温度的后缀°\n",
    "df['min_temperature'] = df['min_temperature'].map(\n",
    "    lambda x: int(x.replace('°', '')) if x != '-' else np.nan)\n",
    "df['max_temperature'] = df['max_temperature'].map(\n",
    "    lambda x: int(x.replace('°', '')) if x != '-' else np.nan)"
   ]
  },
  {
   "cell_type": "code",
   "execution_count": 5,
   "metadata": {
    "ExecuteTime": {
     "end_time": "2020-08-25T00:33:25.568464Z",
     "start_time": "2020-08-25T00:33:25.551641Z"
    }
   },
   "outputs": [
    {
     "data": {
      "text/html": [
       "<div>\n",
       "<style scoped>\n",
       "    .dataframe tbody tr th:only-of-type {\n",
       "        vertical-align: middle;\n",
       "    }\n",
       "\n",
       "    .dataframe tbody tr th {\n",
       "        vertical-align: top;\n",
       "    }\n",
       "\n",
       "    .dataframe thead th {\n",
       "        text-align: right;\n",
       "    }\n",
       "</style>\n",
       "<table border=\"1\" class=\"dataframe\">\n",
       "  <thead>\n",
       "    <tr style=\"text-align: right;\">\n",
       "      <th></th>\n",
       "      <th>date</th>\n",
       "      <th>week</th>\n",
       "      <th>max_temperature</th>\n",
       "      <th>min_temperature</th>\n",
       "      <th>day_status</th>\n",
       "      <th>wind</th>\n",
       "      <th>aqi</th>\n",
       "      <th>aqi_status</th>\n",
       "    </tr>\n",
       "  </thead>\n",
       "  <tbody>\n",
       "    <tr>\n",
       "      <th>0</th>\n",
       "      <td>2017-01-01</td>\n",
       "      <td>周日</td>\n",
       "      <td>NaN</td>\n",
       "      <td>NaN</td>\n",
       "      <td>多云</td>\n",
       "      <td>无持续风向微风</td>\n",
       "      <td>372</td>\n",
       "      <td>严重</td>\n",
       "    </tr>\n",
       "    <tr>\n",
       "      <th>1</th>\n",
       "      <td>2017-01-02</td>\n",
       "      <td>周一</td>\n",
       "      <td>NaN</td>\n",
       "      <td>NaN</td>\n",
       "      <td>霾</td>\n",
       "      <td>无持续风向微风</td>\n",
       "      <td>361</td>\n",
       "      <td>严重</td>\n",
       "    </tr>\n",
       "    <tr>\n",
       "      <th>2</th>\n",
       "      <td>2017-01-03</td>\n",
       "      <td>周二</td>\n",
       "      <td>NaN</td>\n",
       "      <td>NaN</td>\n",
       "      <td>霾~雾</td>\n",
       "      <td>无持续风向微风</td>\n",
       "      <td>280</td>\n",
       "      <td>重度</td>\n",
       "    </tr>\n",
       "  </tbody>\n",
       "</table>\n",
       "</div>"
      ],
      "text/plain": [
       "         date week  max_temperature  min_temperature day_status     wind  aqi  \\\n",
       "0  2017-01-01   周日              NaN              NaN         多云  无持续风向微风  372   \n",
       "1  2017-01-02   周一              NaN              NaN          霾  无持续风向微风  361   \n",
       "2  2017-01-03   周二              NaN              NaN        霾~雾  无持续风向微风  280   \n",
       "\n",
       "  aqi_status  \n",
       "0         严重  \n",
       "1         严重  \n",
       "2         重度  "
      ]
     },
     "execution_count": 5,
     "metadata": {},
     "output_type": "execute_result"
    }
   ],
   "source": [
    "df.head(3)"
   ]
  },
  {
   "cell_type": "markdown",
   "metadata": {},
   "source": [
    "### 1、汇总类统计"
   ]
  },
  {
   "cell_type": "code",
   "execution_count": 6,
   "metadata": {
    "ExecuteTime": {
     "end_time": "2020-08-25T00:33:25.589381Z",
     "start_time": "2020-08-25T00:33:25.571429Z"
    },
    "scrolled": true
   },
   "outputs": [
    {
     "data": {
      "text/html": [
       "<div>\n",
       "<style scoped>\n",
       "    .dataframe tbody tr th:only-of-type {\n",
       "        vertical-align: middle;\n",
       "    }\n",
       "\n",
       "    .dataframe tbody tr th {\n",
       "        vertical-align: top;\n",
       "    }\n",
       "\n",
       "    .dataframe thead th {\n",
       "        text-align: right;\n",
       "    }\n",
       "</style>\n",
       "<table border=\"1\" class=\"dataframe\">\n",
       "  <thead>\n",
       "    <tr style=\"text-align: right;\">\n",
       "      <th></th>\n",
       "      <th>max_temperature</th>\n",
       "      <th>min_temperature</th>\n",
       "      <th>aqi</th>\n",
       "    </tr>\n",
       "  </thead>\n",
       "  <tbody>\n",
       "    <tr>\n",
       "      <th>count</th>\n",
       "      <td>1055.000000</td>\n",
       "      <td>1055.000000</td>\n",
       "      <td>1095.000000</td>\n",
       "    </tr>\n",
       "    <tr>\n",
       "      <th>mean</th>\n",
       "      <td>21.766825</td>\n",
       "      <td>11.885308</td>\n",
       "      <td>104.319635</td>\n",
       "    </tr>\n",
       "    <tr>\n",
       "      <th>std</th>\n",
       "      <td>10.458676</td>\n",
       "      <td>10.037459</td>\n",
       "      <td>60.200473</td>\n",
       "    </tr>\n",
       "    <tr>\n",
       "      <th>min</th>\n",
       "      <td>-2.000000</td>\n",
       "      <td>-10.000000</td>\n",
       "      <td>20.000000</td>\n",
       "    </tr>\n",
       "    <tr>\n",
       "      <th>25%</th>\n",
       "      <td>13.000000</td>\n",
       "      <td>3.000000</td>\n",
       "      <td>66.500000</td>\n",
       "    </tr>\n",
       "    <tr>\n",
       "      <th>50%</th>\n",
       "      <td>23.000000</td>\n",
       "      <td>13.000000</td>\n",
       "      <td>86.000000</td>\n",
       "    </tr>\n",
       "    <tr>\n",
       "      <th>75%</th>\n",
       "      <td>31.000000</td>\n",
       "      <td>21.000000</td>\n",
       "      <td>119.500000</td>\n",
       "    </tr>\n",
       "    <tr>\n",
       "      <th>max</th>\n",
       "      <td>39.000000</td>\n",
       "      <td>29.000000</td>\n",
       "      <td>422.000000</td>\n",
       "    </tr>\n",
       "  </tbody>\n",
       "</table>\n",
       "</div>"
      ],
      "text/plain": [
       "       max_temperature  min_temperature          aqi\n",
       "count      1055.000000      1055.000000  1095.000000\n",
       "mean         21.766825        11.885308   104.319635\n",
       "std          10.458676        10.037459    60.200473\n",
       "min          -2.000000       -10.000000    20.000000\n",
       "25%          13.000000         3.000000    66.500000\n",
       "50%          23.000000        13.000000    86.000000\n",
       "75%          31.000000        21.000000   119.500000\n",
       "max          39.000000        29.000000   422.000000"
      ]
     },
     "execution_count": 6,
     "metadata": {},
     "output_type": "execute_result"
    }
   ],
   "source": [
    "# 一下子提取所有数字列统计结果\n",
    "df.describe()"
   ]
  },
  {
   "cell_type": "code",
   "execution_count": 7,
   "metadata": {
    "ExecuteTime": {
     "end_time": "2020-08-25T00:33:25.596406Z",
     "start_time": "2020-08-25T00:33:25.592381Z"
    }
   },
   "outputs": [
    {
     "data": {
      "text/plain": [
       "21.766824644549764"
      ]
     },
     "execution_count": 7,
     "metadata": {},
     "output_type": "execute_result"
    }
   ],
   "source": [
    "# 查看单个Series的数据\n",
    "df[\"max_temperature\"].mean()"
   ]
  },
  {
   "cell_type": "code",
   "execution_count": 8,
   "metadata": {
    "ExecuteTime": {
     "end_time": "2020-08-25T00:33:25.614396Z",
     "start_time": "2020-08-25T00:33:25.597998Z"
    }
   },
   "outputs": [
    {
     "data": {
      "text/plain": [
       "39.0"
      ]
     },
     "execution_count": 8,
     "metadata": {},
     "output_type": "execute_result"
    }
   ],
   "source": [
    "# 最高温\n",
    "df[\"max_temperature\"].max()"
   ]
  },
  {
   "cell_type": "code",
   "execution_count": 9,
   "metadata": {
    "ExecuteTime": {
     "end_time": "2020-08-25T00:33:25.625416Z",
     "start_time": "2020-08-25T00:33:25.616433Z"
    }
   },
   "outputs": [
    {
     "data": {
      "text/plain": [
       "-10.0"
      ]
     },
     "execution_count": 9,
     "metadata": {},
     "output_type": "execute_result"
    }
   ],
   "source": [
    "# 最低温\n",
    "df[\"min_temperature\"].min()"
   ]
  },
  {
   "cell_type": "markdown",
   "metadata": {},
   "source": [
    "### 2、唯一去重和按值计数"
   ]
  },
  {
   "cell_type": "markdown",
   "metadata": {},
   "source": [
    "#### 2.1 唯一性去重\n",
    "一般不用于数值列，而是枚举、分类列"
   ]
  },
  {
   "cell_type": "code",
   "execution_count": 10,
   "metadata": {
    "ExecuteTime": {
     "end_time": "2020-08-25T00:33:25.639300Z",
     "start_time": "2020-08-25T00:33:25.628315Z"
    }
   },
   "outputs": [
    {
     "data": {
      "text/plain": [
       "array(['多云', '霾', '霾~雾', '小雨', '阵雨~多云', '晴', '阴~多云', '多云~阴', '晴~多云',\n",
       "       '多云~晴', '小雨~雨夹雪', '阴', '雨夹雪~多云', '阴~小雪', '阴~雨夹雪', '暴雪~小雪', '小雨~多云',\n",
       "       '小雨~阴', '多云~小雨', '中雨~小雨', '阵雨', '阵雨~阴', '晴~阴', '多云~阵雨', '阴~阵雨',\n",
       "       '小雨~大雨', '大雨~小雨', '晴~雷阵雨', '雷阵雨~阴', '雷阵雨~多云', '雷阵雨~中雨', '雷阵雨',\n",
       "       '雷阵雨~阵雨', '大雨~阴', '小雨~中雨', '中雨', '阵雨~小雨', '阴~小雨', '多云~小雪', '小雪~阴',\n",
       "       '小雪~大雪', '大雪~阴', '中雪~小雪', '小雪~中雪', '小雪~多云', '小雨~阵雨', '阵雨~中雨',\n",
       "       '中雨~阵雨', '中雨~大雨', '大雨', '小雨~晴', '晴~小雨', '雨夹雪~阴', '中雨~雨夹雪', '小雪',\n",
       "       '小雨~暴雨', '中雨~多云'], dtype=object)"
      ]
     },
     "execution_count": 10,
     "metadata": {},
     "output_type": "execute_result"
    }
   ],
   "source": [
    "df[\"day_status\"].unique()"
   ]
  },
  {
   "cell_type": "code",
   "execution_count": 11,
   "metadata": {
    "ExecuteTime": {
     "end_time": "2020-08-25T00:33:25.650248Z",
     "start_time": "2020-08-25T00:33:25.641249Z"
    }
   },
   "outputs": [
    {
     "data": {
      "text/plain": [
       "array(['严重', '重度', '中度', '轻度', '良', '优'], dtype=object)"
      ]
     },
     "execution_count": 11,
     "metadata": {},
     "output_type": "execute_result"
    }
   ],
   "source": [
    "df[\"aqi_status\"].unique()"
   ]
  },
  {
   "cell_type": "code",
   "execution_count": 12,
   "metadata": {
    "ExecuteTime": {
     "end_time": "2020-08-25T00:33:25.664207Z",
     "start_time": "2020-08-25T00:33:25.651216Z"
    }
   },
   "outputs": [
    {
     "data": {
      "text/plain": [
       "array(['无持续风向微风', '西北风3-4级', '北风4-5级', '东北风3-4级', '西南风1-2级', '南风3-4级',\n",
       "       '东北风4-5级', '西北风4-5级', '东南风1-2级', '南风1-2级', '东北风1-2级', '东风1-2级',\n",
       "       '西风1-2级', '西南风3-4级', '西风3-4级', '北风3-4级', '东风3-4级', '北风1-2级',\n",
       "       '西北风1-2级', '东南风3-4级', '西风4-5级', '西北风5-6级', '南风4-5级', '东北风5-6级',\n",
       "       '西风5-6级', '西北风3级', '西南风2级', '东南风2级', '西北风2级', '西南风1级', '东北风2级',\n",
       "       '东北风1级', '西北风1级', '东北风3级', '东南风1级', '西北风4级', '西南风3级', '东北风4级',\n",
       "       '东南风3级', '西风3级', '西南风4级', '南风3级', '南风2级'], dtype=object)"
      ]
     },
     "execution_count": 12,
     "metadata": {},
     "output_type": "execute_result"
    }
   ],
   "source": [
    "df[\"wind\"].unique()"
   ]
  },
  {
   "cell_type": "markdown",
   "metadata": {},
   "source": [
    "#### 2.2 按值计数"
   ]
  },
  {
   "cell_type": "code",
   "execution_count": 13,
   "metadata": {
    "ExecuteTime": {
     "end_time": "2020-08-25T00:33:25.678191Z",
     "start_time": "2020-08-25T00:33:25.666191Z"
    }
   },
   "outputs": [
    {
     "data": {
      "text/plain": [
       "无持续风向微风    200\n",
       "东南风2级       88\n",
       "南风1-2级      87\n",
       "东北风1-2级     68\n",
       "东北风2级       67\n",
       "西南风2级       61\n",
       "东风1-2级      52\n",
       "东北风3-4级     47\n",
       "东北风3级       42\n",
       "东南风1-2级     39\n",
       "西风1-2级      34\n",
       "西南风3级       31\n",
       "西北风3级       27\n",
       "南风3-4级      24\n",
       "西北风2级       21\n",
       "西南风1-2级     19\n",
       "西风3-4级      19\n",
       "西北风1-2级     18\n",
       "西北风3-4级     16\n",
       "东南风1级       13\n",
       "东南风3级       13\n",
       "北风1-2级      13\n",
       "东北风4-5级     13\n",
       "东北风1级       12\n",
       "东北风4级        9\n",
       "北风3-4级       9\n",
       "西南风1级        8\n",
       "西北风4-5级      7\n",
       "东风3-4级       7\n",
       "西南风3-4级      4\n",
       "西北风4级        4\n",
       "东南风3-4级      4\n",
       "西风3级         3\n",
       "北风4-5级       3\n",
       "南风3级         2\n",
       "西风4-5级       2\n",
       "西北风1级        2\n",
       "南风2级         2\n",
       "西风5-6级       1\n",
       "南风4-5级       1\n",
       "西南风4级        1\n",
       "东北风5-6级      1\n",
       "西北风5-6级      1\n",
       "Name: wind, dtype: int64"
      ]
     },
     "execution_count": 13,
     "metadata": {},
     "output_type": "execute_result"
    }
   ],
   "source": [
    "df[\"wind\"].value_counts()"
   ]
  },
  {
   "cell_type": "code",
   "execution_count": 14,
   "metadata": {
    "ExecuteTime": {
     "end_time": "2020-08-25T00:33:25.692126Z",
     "start_time": "2020-08-25T00:33:25.680725Z"
    },
    "scrolled": true
   },
   "outputs": [
    {
     "data": {
      "text/plain": [
       "多云        262\n",
       "晴         218\n",
       "晴~多云      104\n",
       "多云~晴       88\n",
       "多云~阴       68\n",
       "阴~多云       56\n",
       "小雨         55\n",
       "多云~小雨      30\n",
       "阴          28\n",
       "小雨~多云      26\n",
       "阴~小雨       16\n",
       "小雨~阴       15\n",
       "阵雨         13\n",
       "阵雨~多云      11\n",
       "多云~阵雨      10\n",
       "中雨~小雨       8\n",
       "小雨~中雨       8\n",
       "小雪~多云       6\n",
       "多云~小雪       5\n",
       "小雨~大雨       5\n",
       "中雨          5\n",
       "雷阵雨         4\n",
       "阵雨~小雨       4\n",
       "晴~雷阵雨       3\n",
       "阵雨~阴        3\n",
       "阴~小雪        3\n",
       "阴~阵雨        3\n",
       "雷阵雨~中雨      3\n",
       "雨夹雪~多云      2\n",
       "雷阵雨~阴       2\n",
       "小雪~阴        2\n",
       "阴~雨夹雪       2\n",
       "小雨~阵雨       2\n",
       "晴~阴         2\n",
       "小雨~雨夹雪      1\n",
       "小雪          1\n",
       "雨夹雪~阴       1\n",
       "霾           1\n",
       "中雪~小雪       1\n",
       "中雨~雨夹雪      1\n",
       "大雨~小雨       1\n",
       "晴~小雨        1\n",
       "小雨~晴        1\n",
       "霾~雾         1\n",
       "暴雪~小雪       1\n",
       "小雨~暴雨       1\n",
       "阵雨~中雨       1\n",
       "中雨~阵雨       1\n",
       "大雨          1\n",
       "中雨~大雨       1\n",
       "雷阵雨~多云      1\n",
       "中雨~多云       1\n",
       "大雪~阴        1\n",
       "小雪~大雪       1\n",
       "大雨~阴        1\n",
       "小雪~中雪       1\n",
       "雷阵雨~阵雨      1\n",
       "Name: day_status, dtype: int64"
      ]
     },
     "execution_count": 14,
     "metadata": {},
     "output_type": "execute_result"
    }
   ],
   "source": [
    "df[\"day_status\"].value_counts()"
   ]
  },
  {
   "cell_type": "code",
   "execution_count": 15,
   "metadata": {
    "ExecuteTime": {
     "end_time": "2020-08-25T00:33:25.709060Z",
     "start_time": "2020-08-25T00:33:25.693105Z"
    }
   },
   "outputs": [
    {
     "data": {
      "text/plain": [
       "良     628\n",
       "轻度    224\n",
       "优      76\n",
       "重度     76\n",
       "中度     71\n",
       "严重     20\n",
       "Name: aqi_status, dtype: int64"
      ]
     },
     "execution_count": 15,
     "metadata": {},
     "output_type": "execute_result"
    }
   ],
   "source": [
    "df[\"aqi_status\"].value_counts()"
   ]
  },
  {
   "cell_type": "markdown",
   "metadata": {},
   "source": [
    "### 3、相关系数和协方差\n",
    "\n",
    "用途（超级厉害）：\n",
    "1. 两只股票，是不是同涨同跌？程度多大？正相关还是负相关？\n",
    "2. 产品销量的波动，跟哪些因素正相关、负相关，程度有多大？\n",
    "\n",
    "来自知乎，对于两个变量X、Y：\n",
    "1. 协方差：***衡量同向反向程度***，如果协方差为正，说明X，Y同向变化，协方差越大说明同向程度越高；如果协方差为负，说明X，Y反向运动，协方差越小说明反向程度越高。\n",
    "2. 相关系数：***衡量相似度程度***，当他们的相关系数为1时，说明两个变量变化时的正向相似度最大，当相关系数为－1时，说明两个变量变化的反向相似度最大"
   ]
  },
  {
   "cell_type": "code",
   "execution_count": 16,
   "metadata": {
    "ExecuteTime": {
     "end_time": "2020-08-25T00:33:25.724024Z",
     "start_time": "2020-08-25T00:33:25.710167Z"
    }
   },
   "outputs": [
    {
     "data": {
      "text/html": [
       "<div>\n",
       "<style scoped>\n",
       "    .dataframe tbody tr th:only-of-type {\n",
       "        vertical-align: middle;\n",
       "    }\n",
       "\n",
       "    .dataframe tbody tr th {\n",
       "        vertical-align: top;\n",
       "    }\n",
       "\n",
       "    .dataframe thead th {\n",
       "        text-align: right;\n",
       "    }\n",
       "</style>\n",
       "<table border=\"1\" class=\"dataframe\">\n",
       "  <thead>\n",
       "    <tr style=\"text-align: right;\">\n",
       "      <th></th>\n",
       "      <th>max_temperature</th>\n",
       "      <th>min_temperature</th>\n",
       "      <th>aqi</th>\n",
       "    </tr>\n",
       "  </thead>\n",
       "  <tbody>\n",
       "    <tr>\n",
       "      <th>max_temperature</th>\n",
       "      <td>109.383908</td>\n",
       "      <td>100.266400</td>\n",
       "      <td>-219.976416</td>\n",
       "    </tr>\n",
       "    <tr>\n",
       "      <th>min_temperature</th>\n",
       "      <td>100.266400</td>\n",
       "      <td>100.750590</td>\n",
       "      <td>-254.507379</td>\n",
       "    </tr>\n",
       "    <tr>\n",
       "      <th>aqi</th>\n",
       "      <td>-219.976416</td>\n",
       "      <td>-254.507379</td>\n",
       "      <td>3624.097009</td>\n",
       "    </tr>\n",
       "  </tbody>\n",
       "</table>\n",
       "</div>"
      ],
      "text/plain": [
       "                 max_temperature  min_temperature          aqi\n",
       "max_temperature       109.383908       100.266400  -219.976416\n",
       "min_temperature       100.266400       100.750590  -254.507379\n",
       "aqi                  -219.976416      -254.507379  3624.097009"
      ]
     },
     "execution_count": 16,
     "metadata": {},
     "output_type": "execute_result"
    }
   ],
   "source": [
    "# 协方差矩阵：\n",
    "df.cov()"
   ]
  },
  {
   "cell_type": "code",
   "execution_count": 17,
   "metadata": {
    "ExecuteTime": {
     "end_time": "2020-08-25T00:33:25.738981Z",
     "start_time": "2020-08-25T00:33:25.727016Z"
    }
   },
   "outputs": [
    {
     "data": {
      "text/html": [
       "<div>\n",
       "<style scoped>\n",
       "    .dataframe tbody tr th:only-of-type {\n",
       "        vertical-align: middle;\n",
       "    }\n",
       "\n",
       "    .dataframe tbody tr th {\n",
       "        vertical-align: top;\n",
       "    }\n",
       "\n",
       "    .dataframe thead th {\n",
       "        text-align: right;\n",
       "    }\n",
       "</style>\n",
       "<table border=\"1\" class=\"dataframe\">\n",
       "  <thead>\n",
       "    <tr style=\"text-align: right;\">\n",
       "      <th></th>\n",
       "      <th>max_temperature</th>\n",
       "      <th>min_temperature</th>\n",
       "      <th>aqi</th>\n",
       "    </tr>\n",
       "  </thead>\n",
       "  <tbody>\n",
       "    <tr>\n",
       "      <th>max_temperature</th>\n",
       "      <td>1.000000</td>\n",
       "      <td>0.955113</td>\n",
       "      <td>-0.367766</td>\n",
       "    </tr>\n",
       "    <tr>\n",
       "      <th>min_temperature</th>\n",
       "      <td>0.955113</td>\n",
       "      <td>1.000000</td>\n",
       "      <td>-0.443352</td>\n",
       "    </tr>\n",
       "    <tr>\n",
       "      <th>aqi</th>\n",
       "      <td>-0.367766</td>\n",
       "      <td>-0.443352</td>\n",
       "      <td>1.000000</td>\n",
       "    </tr>\n",
       "  </tbody>\n",
       "</table>\n",
       "</div>"
      ],
      "text/plain": [
       "                 max_temperature  min_temperature       aqi\n",
       "max_temperature         1.000000         0.955113 -0.367766\n",
       "min_temperature         0.955113         1.000000 -0.443352\n",
       "aqi                    -0.367766        -0.443352  1.000000"
      ]
     },
     "execution_count": 17,
     "metadata": {},
     "output_type": "execute_result"
    }
   ],
   "source": [
    "# 相关系数矩阵\n",
    "df.corr()"
   ]
  },
  {
   "cell_type": "code",
   "execution_count": 18,
   "metadata": {
    "ExecuteTime": {
     "end_time": "2020-08-25T00:33:25.750983Z",
     "start_time": "2020-08-25T00:33:25.740976Z"
    }
   },
   "outputs": [
    {
     "data": {
      "text/plain": [
       "-0.36776569069963444"
      ]
     },
     "execution_count": 18,
     "metadata": {},
     "output_type": "execute_result"
    }
   ],
   "source": [
    "# 单独查看空气质量和最高温度的相关系数\n",
    "df[\"aqi\"].corr(df[\"max_temperature\"])"
   ]
  },
  {
   "cell_type": "code",
   "execution_count": 19,
   "metadata": {
    "ExecuteTime": {
     "end_time": "2020-08-25T00:33:25.762998Z",
     "start_time": "2020-08-25T00:33:25.752030Z"
    }
   },
   "outputs": [
    {
     "data": {
      "text/plain": [
       "-0.44335170726841794"
      ]
     },
     "execution_count": 19,
     "metadata": {},
     "output_type": "execute_result"
    }
   ],
   "source": [
    "df[\"aqi\"].corr(df[\"min_temperature\"])"
   ]
  },
  {
   "cell_type": "code",
   "execution_count": 20,
   "metadata": {
    "ExecuteTime": {
     "end_time": "2020-08-25T00:33:25.778956Z",
     "start_time": "2020-08-25T00:33:25.763915Z"
    }
   },
   "outputs": [
    {
     "data": {
      "text/plain": [
       "0.1948527230549141"
      ]
     },
     "execution_count": 20,
     "metadata": {},
     "output_type": "execute_result"
    }
   ],
   "source": [
    "# 空气质量和温差的相关系数\n",
    "df[\"aqi\"].corr(df[\"max_temperature\"]-df[\"min_temperature\"])"
   ]
  },
  {
   "cell_type": "code",
   "execution_count": 21,
   "metadata": {
    "ExecuteTime": {
     "end_time": "2020-08-25T00:33:25.785885Z",
     "start_time": "2020-08-25T00:33:25.782863Z"
    }
   },
   "outputs": [],
   "source": [
    "# !! 这就是特征工程对于机器学习重要性的一个例子"
   ]
  }
 ],
 "metadata": {
  "kernelspec": {
   "display_name": "Python 3",
   "language": "python",
   "name": "python3"
  },
  "language_info": {
   "codemirror_mode": {
    "name": "ipython",
    "version": 3
   },
   "file_extension": ".py",
   "mimetype": "text/x-python",
   "name": "python",
   "nbconvert_exporter": "python",
   "pygments_lexer": "ipython3",
   "version": "3.7.2"
  },
  "toc": {
   "base_numbering": 1,
   "nav_menu": {},
   "number_sections": true,
   "sideBar": true,
   "skip_h1_title": false,
   "title_cell": "Table of Contents",
   "title_sidebar": "Contents",
   "toc_cell": false,
   "toc_position": {},
   "toc_section_display": true,
   "toc_window_display": false
  },
  "varInspector": {
   "cols": {
    "lenName": 16,
    "lenType": 16,
    "lenVar": 40
   },
   "kernels_config": {
    "python": {
     "delete_cmd_postfix": "",
     "delete_cmd_prefix": "del ",
     "library": "var_list.py",
     "varRefreshCmd": "print(var_dic_list())"
    },
    "r": {
     "delete_cmd_postfix": ") ",
     "delete_cmd_prefix": "rm(",
     "library": "var_list.r",
     "varRefreshCmd": "cat(var_dic_list()) "
    }
   },
   "types_to_exclude": [
    "module",
    "function",
    "builtin_function_or_method",
    "instance",
    "_Feature"
   ],
   "window_display": false
  }
 },
 "nbformat": 4,
 "nbformat_minor": 2
}
