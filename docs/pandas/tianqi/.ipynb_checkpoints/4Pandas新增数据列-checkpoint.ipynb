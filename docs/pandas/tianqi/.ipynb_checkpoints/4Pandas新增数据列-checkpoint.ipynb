{
 "cells": [
  {
   "cell_type": "markdown",
   "metadata": {},
   "source": [
    "## Pandas怎样新增数据列？\n",
    "在进行数据分析时，经常需要按照一定条件创建新的数据列，然后进行进一步分析。"
   ]
  },
  {
   "cell_type": "markdown",
   "metadata": {},
   "source": [
    "1. 直接赋值\n",
    "2. df.apply方法\n",
    "3. df.assign方法\n",
    "4. 按条件选择分组分别赋值"
   ]
  },
  {
   "cell_type": "code",
   "execution_count": 2,
   "metadata": {
    "ExecuteTime": {
     "end_time": "2020-08-24T11:43:53.854913Z",
     "start_time": "2020-08-24T11:43:53.646388Z"
    }
   },
   "outputs": [],
   "source": [
    "import pandas as pd"
   ]
  },
  {
   "cell_type": "markdown",
   "metadata": {},
   "source": [
    "### 0、读取excel数据到dataframe"
   ]
  },
  {
   "cell_type": "code",
   "execution_count": 3,
   "metadata": {
    "ExecuteTime": {
     "end_time": "2020-08-24T11:43:56.633432Z",
     "start_time": "2020-08-24T11:43:56.525702Z"
    }
   },
   "outputs": [],
   "source": [
    "fpath = \"./result.xlsx\"\n",
    "df = pd.read_excel(fpath)"
   ]
  },
  {
   "cell_type": "code",
   "execution_count": 4,
   "metadata": {
    "ExecuteTime": {
     "end_time": "2020-08-24T11:44:00.285517Z",
     "start_time": "2020-08-24T11:44:00.268479Z"
    }
   },
   "outputs": [
    {
     "data": {
      "text/html": [
       "<div>\n",
       "<style scoped>\n",
       "    .dataframe tbody tr th:only-of-type {\n",
       "        vertical-align: middle;\n",
       "    }\n",
       "\n",
       "    .dataframe tbody tr th {\n",
       "        vertical-align: top;\n",
       "    }\n",
       "\n",
       "    .dataframe thead th {\n",
       "        text-align: right;\n",
       "    }\n",
       "</style>\n",
       "<table border=\"1\" class=\"dataframe\">\n",
       "  <thead>\n",
       "    <tr style=\"text-align: right;\">\n",
       "      <th></th>\n",
       "      <th>date</th>\n",
       "      <th>week</th>\n",
       "      <th>max_temperature</th>\n",
       "      <th>min_temperature</th>\n",
       "      <th>day_status</th>\n",
       "      <th>wind</th>\n",
       "      <th>aqi</th>\n",
       "      <th>aqi_status</th>\n",
       "    </tr>\n",
       "  </thead>\n",
       "  <tbody>\n",
       "    <tr>\n",
       "      <th>0</th>\n",
       "      <td>2017-01-01</td>\n",
       "      <td>周日</td>\n",
       "      <td>-</td>\n",
       "      <td>-</td>\n",
       "      <td>多云</td>\n",
       "      <td>无持续风向微风</td>\n",
       "      <td>372</td>\n",
       "      <td>严重</td>\n",
       "    </tr>\n",
       "    <tr>\n",
       "      <th>1</th>\n",
       "      <td>2017-01-02</td>\n",
       "      <td>周一</td>\n",
       "      <td>-</td>\n",
       "      <td>-</td>\n",
       "      <td>霾</td>\n",
       "      <td>无持续风向微风</td>\n",
       "      <td>361</td>\n",
       "      <td>严重</td>\n",
       "    </tr>\n",
       "    <tr>\n",
       "      <th>2</th>\n",
       "      <td>2017-01-03</td>\n",
       "      <td>周二</td>\n",
       "      <td>-</td>\n",
       "      <td>-</td>\n",
       "      <td>霾~雾</td>\n",
       "      <td>无持续风向微风</td>\n",
       "      <td>280</td>\n",
       "      <td>重度</td>\n",
       "    </tr>\n",
       "    <tr>\n",
       "      <th>3</th>\n",
       "      <td>2017-01-04</td>\n",
       "      <td>周三</td>\n",
       "      <td>9°</td>\n",
       "      <td>2°</td>\n",
       "      <td>小雨</td>\n",
       "      <td>无持续风向微风</td>\n",
       "      <td>193</td>\n",
       "      <td>中度</td>\n",
       "    </tr>\n",
       "    <tr>\n",
       "      <th>4</th>\n",
       "      <td>2017-01-05</td>\n",
       "      <td>周四</td>\n",
       "      <td>5°</td>\n",
       "      <td>1°</td>\n",
       "      <td>小雨</td>\n",
       "      <td>无持续风向微风</td>\n",
       "      <td>216</td>\n",
       "      <td>重度</td>\n",
       "    </tr>\n",
       "  </tbody>\n",
       "</table>\n",
       "</div>"
      ],
      "text/plain": [
       "         date week max_temperature min_temperature day_status     wind  aqi  \\\n",
       "0  2017-01-01   周日               -               -         多云  无持续风向微风  372   \n",
       "1  2017-01-02   周一               -               -          霾  无持续风向微风  361   \n",
       "2  2017-01-03   周二               -               -        霾~雾  无持续风向微风  280   \n",
       "3  2017-01-04   周三              9°              2°         小雨  无持续风向微风  193   \n",
       "4  2017-01-05   周四              5°              1°         小雨  无持续风向微风  216   \n",
       "\n",
       "  aqi_status  \n",
       "0         严重  \n",
       "1         严重  \n",
       "2         重度  \n",
       "3         中度  \n",
       "4         重度  "
      ]
     },
     "execution_count": 4,
     "metadata": {},
     "output_type": "execute_result"
    }
   ],
   "source": [
    "df.head()"
   ]
  },
  {
   "cell_type": "markdown",
   "metadata": {},
   "source": [
    "### 1、直接赋值的方法  "
   ]
  },
  {
   "cell_type": "markdown",
   "metadata": {},
   "source": [
    "实例：清理温度列，变成数字类型"
   ]
  },
  {
   "cell_type": "code",
   "execution_count": 5,
   "metadata": {
    "ExecuteTime": {
     "end_time": "2020-08-24T11:44:37.148237Z",
     "start_time": "2020-08-24T11:44:37.139297Z"
    }
   },
   "outputs": [],
   "source": [
    "# 替换掉温度的后缀°\n",
    "df['min_temperature'] = df['min_temperature'].map(\n",
    "    lambda x: int(x.replace('°', '')) if x != '-' else np.nan)\n",
    "df['max_temperature'] = df['max_temperature'].map(\n",
    "    lambda x: int(x.replace('°', '')) if x != '-' else np.nan)"
   ]
  },
  {
   "cell_type": "code",
   "execution_count": 6,
   "metadata": {
    "ExecuteTime": {
     "end_time": "2020-08-24T11:44:39.577461Z",
     "start_time": "2020-08-24T11:44:39.567487Z"
    }
   },
   "outputs": [
    {
     "data": {
      "text/html": [
       "<div>\n",
       "<style scoped>\n",
       "    .dataframe tbody tr th:only-of-type {\n",
       "        vertical-align: middle;\n",
       "    }\n",
       "\n",
       "    .dataframe tbody tr th {\n",
       "        vertical-align: top;\n",
       "    }\n",
       "\n",
       "    .dataframe thead th {\n",
       "        text-align: right;\n",
       "    }\n",
       "</style>\n",
       "<table border=\"1\" class=\"dataframe\">\n",
       "  <thead>\n",
       "    <tr style=\"text-align: right;\">\n",
       "      <th></th>\n",
       "      <th>date</th>\n",
       "      <th>week</th>\n",
       "      <th>max_temperature</th>\n",
       "      <th>min_temperature</th>\n",
       "      <th>day_status</th>\n",
       "      <th>wind</th>\n",
       "      <th>aqi</th>\n",
       "      <th>aqi_status</th>\n",
       "    </tr>\n",
       "  </thead>\n",
       "  <tbody>\n",
       "    <tr>\n",
       "      <th>0</th>\n",
       "      <td>2017-01-01</td>\n",
       "      <td>周日</td>\n",
       "      <td>NaN</td>\n",
       "      <td>NaN</td>\n",
       "      <td>多云</td>\n",
       "      <td>无持续风向微风</td>\n",
       "      <td>372</td>\n",
       "      <td>严重</td>\n",
       "    </tr>\n",
       "    <tr>\n",
       "      <th>1</th>\n",
       "      <td>2017-01-02</td>\n",
       "      <td>周一</td>\n",
       "      <td>NaN</td>\n",
       "      <td>NaN</td>\n",
       "      <td>霾</td>\n",
       "      <td>无持续风向微风</td>\n",
       "      <td>361</td>\n",
       "      <td>严重</td>\n",
       "    </tr>\n",
       "    <tr>\n",
       "      <th>2</th>\n",
       "      <td>2017-01-03</td>\n",
       "      <td>周二</td>\n",
       "      <td>NaN</td>\n",
       "      <td>NaN</td>\n",
       "      <td>霾~雾</td>\n",
       "      <td>无持续风向微风</td>\n",
       "      <td>280</td>\n",
       "      <td>重度</td>\n",
       "    </tr>\n",
       "    <tr>\n",
       "      <th>3</th>\n",
       "      <td>2017-01-04</td>\n",
       "      <td>周三</td>\n",
       "      <td>9.0</td>\n",
       "      <td>2.0</td>\n",
       "      <td>小雨</td>\n",
       "      <td>无持续风向微风</td>\n",
       "      <td>193</td>\n",
       "      <td>中度</td>\n",
       "    </tr>\n",
       "    <tr>\n",
       "      <th>4</th>\n",
       "      <td>2017-01-05</td>\n",
       "      <td>周四</td>\n",
       "      <td>5.0</td>\n",
       "      <td>1.0</td>\n",
       "      <td>小雨</td>\n",
       "      <td>无持续风向微风</td>\n",
       "      <td>216</td>\n",
       "      <td>重度</td>\n",
       "    </tr>\n",
       "  </tbody>\n",
       "</table>\n",
       "</div>"
      ],
      "text/plain": [
       "         date week  max_temperature  min_temperature day_status     wind  aqi  \\\n",
       "0  2017-01-01   周日              NaN              NaN         多云  无持续风向微风  372   \n",
       "1  2017-01-02   周一              NaN              NaN          霾  无持续风向微风  361   \n",
       "2  2017-01-03   周二              NaN              NaN        霾~雾  无持续风向微风  280   \n",
       "3  2017-01-04   周三              9.0              2.0         小雨  无持续风向微风  193   \n",
       "4  2017-01-05   周四              5.0              1.0         小雨  无持续风向微风  216   \n",
       "\n",
       "  aqi_status  \n",
       "0         严重  \n",
       "1         严重  \n",
       "2         重度  \n",
       "3         中度  \n",
       "4         重度  "
      ]
     },
     "execution_count": 6,
     "metadata": {},
     "output_type": "execute_result"
    }
   ],
   "source": [
    "df.head()"
   ]
  },
  {
   "cell_type": "markdown",
   "metadata": {},
   "source": [
    "实例：计算温差"
   ]
  },
  {
   "cell_type": "code",
   "execution_count": 7,
   "metadata": {
    "ExecuteTime": {
     "end_time": "2020-08-24T11:48:51.649237Z",
     "start_time": "2020-08-24T11:48:51.643223Z"
    }
   },
   "outputs": [],
   "source": [
    "# 注意，df[\"max_temperature\"]其实是一个Series，后面的减法返回的是Series\n",
    "df.loc[:, \"wencha\"] = df[\"max_temperature\"] - df[\"min_temperature\"]"
   ]
  },
  {
   "cell_type": "code",
   "execution_count": 8,
   "metadata": {
    "ExecuteTime": {
     "end_time": "2020-08-24T11:48:52.488924Z",
     "start_time": "2020-08-24T11:48:52.478928Z"
    }
   },
   "outputs": [
    {
     "data": {
      "text/html": [
       "<div>\n",
       "<style scoped>\n",
       "    .dataframe tbody tr th:only-of-type {\n",
       "        vertical-align: middle;\n",
       "    }\n",
       "\n",
       "    .dataframe tbody tr th {\n",
       "        vertical-align: top;\n",
       "    }\n",
       "\n",
       "    .dataframe thead th {\n",
       "        text-align: right;\n",
       "    }\n",
       "</style>\n",
       "<table border=\"1\" class=\"dataframe\">\n",
       "  <thead>\n",
       "    <tr style=\"text-align: right;\">\n",
       "      <th></th>\n",
       "      <th>date</th>\n",
       "      <th>week</th>\n",
       "      <th>max_temperature</th>\n",
       "      <th>min_temperature</th>\n",
       "      <th>day_status</th>\n",
       "      <th>wind</th>\n",
       "      <th>aqi</th>\n",
       "      <th>aqi_status</th>\n",
       "      <th>wencha</th>\n",
       "    </tr>\n",
       "  </thead>\n",
       "  <tbody>\n",
       "    <tr>\n",
       "      <th>0</th>\n",
       "      <td>2017-01-01</td>\n",
       "      <td>周日</td>\n",
       "      <td>NaN</td>\n",
       "      <td>NaN</td>\n",
       "      <td>多云</td>\n",
       "      <td>无持续风向微风</td>\n",
       "      <td>372</td>\n",
       "      <td>严重</td>\n",
       "      <td>NaN</td>\n",
       "    </tr>\n",
       "    <tr>\n",
       "      <th>1</th>\n",
       "      <td>2017-01-02</td>\n",
       "      <td>周一</td>\n",
       "      <td>NaN</td>\n",
       "      <td>NaN</td>\n",
       "      <td>霾</td>\n",
       "      <td>无持续风向微风</td>\n",
       "      <td>361</td>\n",
       "      <td>严重</td>\n",
       "      <td>NaN</td>\n",
       "    </tr>\n",
       "    <tr>\n",
       "      <th>2</th>\n",
       "      <td>2017-01-03</td>\n",
       "      <td>周二</td>\n",
       "      <td>NaN</td>\n",
       "      <td>NaN</td>\n",
       "      <td>霾~雾</td>\n",
       "      <td>无持续风向微风</td>\n",
       "      <td>280</td>\n",
       "      <td>重度</td>\n",
       "      <td>NaN</td>\n",
       "    </tr>\n",
       "    <tr>\n",
       "      <th>3</th>\n",
       "      <td>2017-01-04</td>\n",
       "      <td>周三</td>\n",
       "      <td>9.0</td>\n",
       "      <td>2.0</td>\n",
       "      <td>小雨</td>\n",
       "      <td>无持续风向微风</td>\n",
       "      <td>193</td>\n",
       "      <td>中度</td>\n",
       "      <td>7.0</td>\n",
       "    </tr>\n",
       "    <tr>\n",
       "      <th>4</th>\n",
       "      <td>2017-01-05</td>\n",
       "      <td>周四</td>\n",
       "      <td>5.0</td>\n",
       "      <td>1.0</td>\n",
       "      <td>小雨</td>\n",
       "      <td>无持续风向微风</td>\n",
       "      <td>216</td>\n",
       "      <td>重度</td>\n",
       "      <td>4.0</td>\n",
       "    </tr>\n",
       "  </tbody>\n",
       "</table>\n",
       "</div>"
      ],
      "text/plain": [
       "         date week  max_temperature  min_temperature day_status     wind  aqi  \\\n",
       "0  2017-01-01   周日              NaN              NaN         多云  无持续风向微风  372   \n",
       "1  2017-01-02   周一              NaN              NaN          霾  无持续风向微风  361   \n",
       "2  2017-01-03   周二              NaN              NaN        霾~雾  无持续风向微风  280   \n",
       "3  2017-01-04   周三              9.0              2.0         小雨  无持续风向微风  193   \n",
       "4  2017-01-05   周四              5.0              1.0         小雨  无持续风向微风  216   \n",
       "\n",
       "  aqi_status  wencha  \n",
       "0         严重     NaN  \n",
       "1         严重     NaN  \n",
       "2         重度     NaN  \n",
       "3         中度     7.0  \n",
       "4         重度     4.0  "
      ]
     },
     "execution_count": 8,
     "metadata": {},
     "output_type": "execute_result"
    }
   ],
   "source": [
    "df.head()"
   ]
  },
  {
   "cell_type": "markdown",
   "metadata": {},
   "source": [
    "### 2、df.apply方法"
   ]
  },
  {
   "cell_type": "markdown",
   "metadata": {},
   "source": [
    "Apply a function along an axis of the DataFrame.\n",
    "\n",
    "Objects passed to the function are Series objects whose index is either the DataFrame’s index (axis=0) or the DataFrame’s columns (axis=1). \n",
    "\n",
    "实例：添加一列温度类型：  \n",
    "1. 如果最高温度大于33度就是高温\n",
    "2. 低于-10度是低温\n",
    "3. 否则是常温"
   ]
  },
  {
   "cell_type": "code",
   "execution_count": 9,
   "metadata": {
    "ExecuteTime": {
     "end_time": "2020-08-24T11:49:14.887683Z",
     "start_time": "2020-08-24T11:49:14.789582Z"
    }
   },
   "outputs": [],
   "source": [
    "def get_wendu_type(x):\n",
    "    if x[\"max_temperature\"] > 33:\n",
    "        return '高温'\n",
    "    if x[\"min_temperature\"] < -10:\n",
    "        return '低温'\n",
    "    return '常温'\n",
    "\n",
    "\n",
    "# 注意需要设置axis==1，这是series的index是columns\n",
    "df.loc[:, \"wendu_type\"] = df.apply(get_wendu_type, axis=1)"
   ]
  },
  {
   "cell_type": "code",
   "execution_count": 10,
   "metadata": {
    "ExecuteTime": {
     "end_time": "2020-08-24T11:49:17.588022Z",
     "start_time": "2020-08-24T11:49:17.582038Z"
    }
   },
   "outputs": [
    {
     "data": {
      "text/plain": [
       "常温    945\n",
       "高温    150\n",
       "Name: wendu_type, dtype: int64"
      ]
     },
     "execution_count": 10,
     "metadata": {},
     "output_type": "execute_result"
    }
   ],
   "source": [
    "# 查看温度类型的计数\n",
    "df[\"wendu_type\"].value_counts()"
   ]
  },
  {
   "cell_type": "markdown",
   "metadata": {},
   "source": [
    "### 3、df.assign方法"
   ]
  },
  {
   "cell_type": "markdown",
   "metadata": {},
   "source": [
    "Assign new columns to a DataFrame.\n",
    "\n",
    "Returns a new object with all original columns in addition to new ones. "
   ]
  },
  {
   "cell_type": "markdown",
   "metadata": {},
   "source": [
    "实例：将温度从摄氏度变成华氏度"
   ]
  },
  {
   "cell_type": "code",
   "execution_count": 11,
   "metadata": {
    "ExecuteTime": {
     "end_time": "2020-08-24T11:49:51.493349Z",
     "start_time": "2020-08-24T11:49:51.462419Z"
    }
   },
   "outputs": [
    {
     "data": {
      "text/html": [
       "<div>\n",
       "<style scoped>\n",
       "    .dataframe tbody tr th:only-of-type {\n",
       "        vertical-align: middle;\n",
       "    }\n",
       "\n",
       "    .dataframe tbody tr th {\n",
       "        vertical-align: top;\n",
       "    }\n",
       "\n",
       "    .dataframe thead th {\n",
       "        text-align: right;\n",
       "    }\n",
       "</style>\n",
       "<table border=\"1\" class=\"dataframe\">\n",
       "  <thead>\n",
       "    <tr style=\"text-align: right;\">\n",
       "      <th></th>\n",
       "      <th>date</th>\n",
       "      <th>week</th>\n",
       "      <th>max_temperature</th>\n",
       "      <th>min_temperature</th>\n",
       "      <th>day_status</th>\n",
       "      <th>wind</th>\n",
       "      <th>aqi</th>\n",
       "      <th>aqi_status</th>\n",
       "      <th>wencha</th>\n",
       "      <th>wendu_type</th>\n",
       "      <th>yWendu_huashi</th>\n",
       "      <th>bWendu_huashi</th>\n",
       "    </tr>\n",
       "  </thead>\n",
       "  <tbody>\n",
       "    <tr>\n",
       "      <th>0</th>\n",
       "      <td>2017-01-01</td>\n",
       "      <td>周日</td>\n",
       "      <td>NaN</td>\n",
       "      <td>NaN</td>\n",
       "      <td>多云</td>\n",
       "      <td>无持续风向微风</td>\n",
       "      <td>372</td>\n",
       "      <td>严重</td>\n",
       "      <td>NaN</td>\n",
       "      <td>常温</td>\n",
       "      <td>NaN</td>\n",
       "      <td>NaN</td>\n",
       "    </tr>\n",
       "    <tr>\n",
       "      <th>1</th>\n",
       "      <td>2017-01-02</td>\n",
       "      <td>周一</td>\n",
       "      <td>NaN</td>\n",
       "      <td>NaN</td>\n",
       "      <td>霾</td>\n",
       "      <td>无持续风向微风</td>\n",
       "      <td>361</td>\n",
       "      <td>严重</td>\n",
       "      <td>NaN</td>\n",
       "      <td>常温</td>\n",
       "      <td>NaN</td>\n",
       "      <td>NaN</td>\n",
       "    </tr>\n",
       "    <tr>\n",
       "      <th>2</th>\n",
       "      <td>2017-01-03</td>\n",
       "      <td>周二</td>\n",
       "      <td>NaN</td>\n",
       "      <td>NaN</td>\n",
       "      <td>霾~雾</td>\n",
       "      <td>无持续风向微风</td>\n",
       "      <td>280</td>\n",
       "      <td>重度</td>\n",
       "      <td>NaN</td>\n",
       "      <td>常温</td>\n",
       "      <td>NaN</td>\n",
       "      <td>NaN</td>\n",
       "    </tr>\n",
       "    <tr>\n",
       "      <th>3</th>\n",
       "      <td>2017-01-04</td>\n",
       "      <td>周三</td>\n",
       "      <td>9.0</td>\n",
       "      <td>2.0</td>\n",
       "      <td>小雨</td>\n",
       "      <td>无持续风向微风</td>\n",
       "      <td>193</td>\n",
       "      <td>中度</td>\n",
       "      <td>7.0</td>\n",
       "      <td>常温</td>\n",
       "      <td>48.2</td>\n",
       "      <td>35.6</td>\n",
       "    </tr>\n",
       "    <tr>\n",
       "      <th>4</th>\n",
       "      <td>2017-01-05</td>\n",
       "      <td>周四</td>\n",
       "      <td>5.0</td>\n",
       "      <td>1.0</td>\n",
       "      <td>小雨</td>\n",
       "      <td>无持续风向微风</td>\n",
       "      <td>216</td>\n",
       "      <td>重度</td>\n",
       "      <td>4.0</td>\n",
       "      <td>常温</td>\n",
       "      <td>41.0</td>\n",
       "      <td>33.8</td>\n",
       "    </tr>\n",
       "    <tr>\n",
       "      <th>...</th>\n",
       "      <td>...</td>\n",
       "      <td>...</td>\n",
       "      <td>...</td>\n",
       "      <td>...</td>\n",
       "      <td>...</td>\n",
       "      <td>...</td>\n",
       "      <td>...</td>\n",
       "      <td>...</td>\n",
       "      <td>...</td>\n",
       "      <td>...</td>\n",
       "      <td>...</td>\n",
       "      <td>...</td>\n",
       "    </tr>\n",
       "    <tr>\n",
       "      <th>1090</th>\n",
       "      <td>2019-12-27</td>\n",
       "      <td>周五</td>\n",
       "      <td>14.0</td>\n",
       "      <td>-2.0</td>\n",
       "      <td>晴~多云</td>\n",
       "      <td>西南风2级</td>\n",
       "      <td>55</td>\n",
       "      <td>良</td>\n",
       "      <td>16.0</td>\n",
       "      <td>常温</td>\n",
       "      <td>57.2</td>\n",
       "      <td>28.4</td>\n",
       "    </tr>\n",
       "    <tr>\n",
       "      <th>1091</th>\n",
       "      <td>2019-12-28</td>\n",
       "      <td>周六</td>\n",
       "      <td>NaN</td>\n",
       "      <td>NaN</td>\n",
       "      <td>阴~多云</td>\n",
       "      <td>西南风2级</td>\n",
       "      <td>80</td>\n",
       "      <td>良</td>\n",
       "      <td>NaN</td>\n",
       "      <td>常温</td>\n",
       "      <td>NaN</td>\n",
       "      <td>NaN</td>\n",
       "    </tr>\n",
       "    <tr>\n",
       "      <th>1092</th>\n",
       "      <td>2019-12-29</td>\n",
       "      <td>周日</td>\n",
       "      <td>NaN</td>\n",
       "      <td>NaN</td>\n",
       "      <td>多云~晴</td>\n",
       "      <td>西南风2级</td>\n",
       "      <td>116</td>\n",
       "      <td>轻度</td>\n",
       "      <td>NaN</td>\n",
       "      <td>常温</td>\n",
       "      <td>NaN</td>\n",
       "      <td>NaN</td>\n",
       "    </tr>\n",
       "    <tr>\n",
       "      <th>1093</th>\n",
       "      <td>2019-12-30</td>\n",
       "      <td>周一</td>\n",
       "      <td>5.0</td>\n",
       "      <td>-7.0</td>\n",
       "      <td>晴</td>\n",
       "      <td>东北风3级</td>\n",
       "      <td>131</td>\n",
       "      <td>轻度</td>\n",
       "      <td>12.0</td>\n",
       "      <td>常温</td>\n",
       "      <td>41.0</td>\n",
       "      <td>19.4</td>\n",
       "    </tr>\n",
       "    <tr>\n",
       "      <th>1094</th>\n",
       "      <td>2019-12-31</td>\n",
       "      <td>周二</td>\n",
       "      <td>1.0</td>\n",
       "      <td>-4.0</td>\n",
       "      <td>多云</td>\n",
       "      <td>东南风2级</td>\n",
       "      <td>48</td>\n",
       "      <td>优</td>\n",
       "      <td>5.0</td>\n",
       "      <td>常温</td>\n",
       "      <td>33.8</td>\n",
       "      <td>24.8</td>\n",
       "    </tr>\n",
       "  </tbody>\n",
       "</table>\n",
       "<p>1095 rows × 12 columns</p>\n",
       "</div>"
      ],
      "text/plain": [
       "            date week  max_temperature  min_temperature day_status     wind  \\\n",
       "0     2017-01-01   周日              NaN              NaN         多云  无持续风向微风   \n",
       "1     2017-01-02   周一              NaN              NaN          霾  无持续风向微风   \n",
       "2     2017-01-03   周二              NaN              NaN        霾~雾  无持续风向微风   \n",
       "3     2017-01-04   周三              9.0              2.0         小雨  无持续风向微风   \n",
       "4     2017-01-05   周四              5.0              1.0         小雨  无持续风向微风   \n",
       "...          ...  ...              ...              ...        ...      ...   \n",
       "1090  2019-12-27   周五             14.0             -2.0       晴~多云    西南风2级   \n",
       "1091  2019-12-28   周六              NaN              NaN       阴~多云    西南风2级   \n",
       "1092  2019-12-29   周日              NaN              NaN       多云~晴    西南风2级   \n",
       "1093  2019-12-30   周一              5.0             -7.0          晴    东北风3级   \n",
       "1094  2019-12-31   周二              1.0             -4.0         多云    东南风2级   \n",
       "\n",
       "      aqi aqi_status  wencha wendu_type  yWendu_huashi  bWendu_huashi  \n",
       "0     372         严重     NaN         常温            NaN            NaN  \n",
       "1     361         严重     NaN         常温            NaN            NaN  \n",
       "2     280         重度     NaN         常温            NaN            NaN  \n",
       "3     193         中度     7.0         常温           48.2           35.6  \n",
       "4     216         重度     4.0         常温           41.0           33.8  \n",
       "...   ...        ...     ...        ...            ...            ...  \n",
       "1090   55          良    16.0         常温           57.2           28.4  \n",
       "1091   80          良     NaN         常温            NaN            NaN  \n",
       "1092  116         轻度     NaN         常温            NaN            NaN  \n",
       "1093  131         轻度    12.0         常温           41.0           19.4  \n",
       "1094   48          优     5.0         常温           33.8           24.8  \n",
       "\n",
       "[1095 rows x 12 columns]"
      ]
     },
     "execution_count": 11,
     "metadata": {},
     "output_type": "execute_result"
    }
   ],
   "source": [
    "# 可以同时添加多个新的列\n",
    "df.assign(\n",
    "    yWendu_huashi=lambda x: x[\"max_temperature\"] * 9 / 5 + 32,\n",
    "    # 摄氏度转华氏度\n",
    "    bWendu_huashi=lambda x: x[\"min_temperature\"] * 9 / 5 + 32\n",
    ")"
   ]
  },
  {
   "cell_type": "markdown",
   "metadata": {},
   "source": [
    "### 4、按条件选择分组分别赋值\n",
    "按条件先选择数据，然后对这部分数据赋值新列  \n",
    "实例：高低温差大于10度，则认为温差大"
   ]
  },
  {
   "cell_type": "code",
   "execution_count": 12,
   "metadata": {
    "ExecuteTime": {
     "end_time": "2020-08-24T11:50:20.876364Z",
     "start_time": "2020-08-24T11:50:20.870379Z"
    }
   },
   "outputs": [],
   "source": [
    "# 先创建空列（这是第一种创建新列的方法）\n",
    "df['wencha_type'] = ''\n",
    "\n",
    "df.loc[df[\"max_temperature\"]-df[\"min_temperature\"] > 10, \"wencha_type\"] = \"温差大\"\n",
    "\n",
    "df.loc[df[\"max_temperature\"]-df[\"min_temperature\"] <= 10, \"wencha_type\"] = \"温差正常\""
   ]
  },
  {
   "cell_type": "code",
   "execution_count": 13,
   "metadata": {
    "ExecuteTime": {
     "end_time": "2020-08-24T11:50:22.156986Z",
     "start_time": "2020-08-24T11:50:22.150038Z"
    }
   },
   "outputs": [
    {
     "data": {
      "text/plain": [
       "温差正常    600\n",
       "温差大     455\n",
       "         40\n",
       "Name: wencha_type, dtype: int64"
      ]
     },
     "execution_count": 13,
     "metadata": {},
     "output_type": "execute_result"
    }
   ],
   "source": [
    "df[\"wencha_type\"].value_counts()"
   ]
  }
 ],
 "metadata": {
  "kernelspec": {
   "display_name": "Python 3",
   "language": "python",
   "name": "python3"
  },
  "language_info": {
   "codemirror_mode": {
    "name": "ipython",
    "version": 3
   },
   "file_extension": ".py",
   "mimetype": "text/x-python",
   "name": "python",
   "nbconvert_exporter": "python",
   "pygments_lexer": "ipython3",
   "version": "3.7.2"
  },
  "toc": {
   "base_numbering": 1,
   "nav_menu": {},
   "number_sections": false,
   "sideBar": true,
   "skip_h1_title": false,
   "title_cell": "Table of Contents",
   "title_sidebar": "Contents",
   "toc_cell": false,
   "toc_position": {},
   "toc_section_display": true,
   "toc_window_display": false
  },
  "varInspector": {
   "cols": {
    "lenName": 16,
    "lenType": 16,
    "lenVar": 40
   },
   "kernels_config": {
    "python": {
     "delete_cmd_postfix": "",
     "delete_cmd_prefix": "del ",
     "library": "var_list.py",
     "varRefreshCmd": "print(var_dic_list())"
    },
    "r": {
     "delete_cmd_postfix": ") ",
     "delete_cmd_prefix": "rm(",
     "library": "var_list.r",
     "varRefreshCmd": "cat(var_dic_list()) "
    }
   },
   "types_to_exclude": [
    "module",
    "function",
    "builtin_function_or_method",
    "instance",
    "_Feature"
   ],
   "window_display": false
  }
 },
 "nbformat": 4,
 "nbformat_minor": 2
}
