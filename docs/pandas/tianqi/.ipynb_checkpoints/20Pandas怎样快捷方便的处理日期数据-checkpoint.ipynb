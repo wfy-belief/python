{
 "cells": [
  {
   "cell_type": "markdown",
   "metadata": {},
   "source": [
    "# Pandas怎样快捷方便的处理日期数据\n",
    "\n",
    "Pandas日期处理的作用：将2018-01-01、1/1/2018等多种日期格式映射成统一的格式对象，在该对象上提供强大的功能支持\n",
    "\n",
    "几个概念：\n",
    "\n",
    "1. pd.to_datetime：pandas的一个函数，能将字符串、列表、series变成日期形式\n",
    "2. Timestamp：pandas表示日期的对象形式\n",
    "3. DatetimeIndex：pandas表示日期的对象列表形式\n",
    "\n",
    "其中：\n",
    "\n",
    "- DatetimeIndex是Timestamp的列表形式\n",
    "- pd.to_datetime对单个日期字符串处理会得到Timestamp\n",
    "- pd.to_datetime对日期字符串列表处理会得到DatetimeIndex\n",
    "\n",
    "![img](https://nbviewer.jupyter.org/github/peiss/ant-learn-pandas/blob/master/other_files/pandas-todatetime-timestamp-datetimeindex.png)\n",
    "\n",
    "### 问题：怎样统计每周、每月、每季度的最高温度？"
   ]
  },
  {
   "cell_type": "code",
   "execution_count": 1,
   "metadata": {
    "ExecuteTime": {
     "end_time": "2020-08-25T02:31:21.035927Z",
     "start_time": "2020-08-25T02:31:20.665657Z"
    }
   },
   "outputs": [],
   "source": [
    "import pandas as pd\n",
    "import numpy as np\n",
    "# 加上这一句，能在jupyter notebook展示matplot图表\n",
    "%matplotlib inline\n",
    "# %matplotlib widget"
   ]
  },
  {
   "cell_type": "code",
   "execution_count": 2,
   "metadata": {
    "ExecuteTime": {
     "end_time": "2020-08-25T02:31:21.155375Z",
     "start_time": "2020-08-25T02:31:21.038148Z"
    }
   },
   "outputs": [],
   "source": [
    "df = pd.read_excel('./result.xlsx')"
   ]
  },
  {
   "cell_type": "code",
   "execution_count": 3,
   "metadata": {
    "ExecuteTime": {
     "end_time": "2020-08-25T02:31:21.170362Z",
     "start_time": "2020-08-25T02:31:21.157697Z"
    }
   },
   "outputs": [
    {
     "data": {
      "text/html": [
       "<div>\n",
       "<style scoped>\n",
       "    .dataframe tbody tr th:only-of-type {\n",
       "        vertical-align: middle;\n",
       "    }\n",
       "\n",
       "    .dataframe tbody tr th {\n",
       "        vertical-align: top;\n",
       "    }\n",
       "\n",
       "    .dataframe thead th {\n",
       "        text-align: right;\n",
       "    }\n",
       "</style>\n",
       "<table border=\"1\" class=\"dataframe\">\n",
       "  <thead>\n",
       "    <tr style=\"text-align: right;\">\n",
       "      <th></th>\n",
       "      <th>date</th>\n",
       "      <th>week</th>\n",
       "      <th>max_temperature</th>\n",
       "      <th>min_temperature</th>\n",
       "      <th>day_status</th>\n",
       "      <th>wind</th>\n",
       "      <th>aqi</th>\n",
       "      <th>aqi_status</th>\n",
       "    </tr>\n",
       "  </thead>\n",
       "  <tbody>\n",
       "    <tr>\n",
       "      <th>0</th>\n",
       "      <td>2017-01-01</td>\n",
       "      <td>周日</td>\n",
       "      <td>-</td>\n",
       "      <td>-</td>\n",
       "      <td>多云</td>\n",
       "      <td>无持续风向微风</td>\n",
       "      <td>372</td>\n",
       "      <td>严重</td>\n",
       "    </tr>\n",
       "    <tr>\n",
       "      <th>1</th>\n",
       "      <td>2017-01-02</td>\n",
       "      <td>周一</td>\n",
       "      <td>-</td>\n",
       "      <td>-</td>\n",
       "      <td>霾</td>\n",
       "      <td>无持续风向微风</td>\n",
       "      <td>361</td>\n",
       "      <td>严重</td>\n",
       "    </tr>\n",
       "    <tr>\n",
       "      <th>2</th>\n",
       "      <td>2017-01-03</td>\n",
       "      <td>周二</td>\n",
       "      <td>-</td>\n",
       "      <td>-</td>\n",
       "      <td>霾~雾</td>\n",
       "      <td>无持续风向微风</td>\n",
       "      <td>280</td>\n",
       "      <td>重度</td>\n",
       "    </tr>\n",
       "    <tr>\n",
       "      <th>3</th>\n",
       "      <td>2017-01-04</td>\n",
       "      <td>周三</td>\n",
       "      <td>9°</td>\n",
       "      <td>2°</td>\n",
       "      <td>小雨</td>\n",
       "      <td>无持续风向微风</td>\n",
       "      <td>193</td>\n",
       "      <td>中度</td>\n",
       "    </tr>\n",
       "    <tr>\n",
       "      <th>4</th>\n",
       "      <td>2017-01-05</td>\n",
       "      <td>周四</td>\n",
       "      <td>5°</td>\n",
       "      <td>1°</td>\n",
       "      <td>小雨</td>\n",
       "      <td>无持续风向微风</td>\n",
       "      <td>216</td>\n",
       "      <td>重度</td>\n",
       "    </tr>\n",
       "  </tbody>\n",
       "</table>\n",
       "</div>"
      ],
      "text/plain": [
       "         date week max_temperature min_temperature day_status     wind  aqi  \\\n",
       "0  2017-01-01   周日               -               -         多云  无持续风向微风  372   \n",
       "1  2017-01-02   周一               -               -          霾  无持续风向微风  361   \n",
       "2  2017-01-03   周二               -               -        霾~雾  无持续风向微风  280   \n",
       "3  2017-01-04   周三              9°              2°         小雨  无持续风向微风  193   \n",
       "4  2017-01-05   周四              5°              1°         小雨  无持续风向微风  216   \n",
       "\n",
       "  aqi_status  \n",
       "0         严重  \n",
       "1         严重  \n",
       "2         重度  \n",
       "3         中度  \n",
       "4         重度  "
      ]
     },
     "execution_count": 3,
     "metadata": {},
     "output_type": "execute_result"
    }
   ],
   "source": [
    "df.head()"
   ]
  },
  {
   "cell_type": "markdown",
   "metadata": {},
   "source": [
    "## 将日期列转换成pandas的日期"
   ]
  },
  {
   "cell_type": "code",
   "execution_count": 4,
   "metadata": {
    "ExecuteTime": {
     "end_time": "2020-08-25T02:31:21.177402Z",
     "start_time": "2020-08-25T02:31:21.171331Z"
    }
   },
   "outputs": [],
   "source": [
    "df.set_index(pd.to_datetime(df['date']), drop=False, inplace=True)"
   ]
  },
  {
   "cell_type": "code",
   "execution_count": 5,
   "metadata": {
    "ExecuteTime": {
     "end_time": "2020-08-25T02:31:21.196280Z",
     "start_time": "2020-08-25T02:31:21.179312Z"
    }
   },
   "outputs": [
    {
     "data": {
      "text/html": [
       "<div>\n",
       "<style scoped>\n",
       "    .dataframe tbody tr th:only-of-type {\n",
       "        vertical-align: middle;\n",
       "    }\n",
       "\n",
       "    .dataframe tbody tr th {\n",
       "        vertical-align: top;\n",
       "    }\n",
       "\n",
       "    .dataframe thead th {\n",
       "        text-align: right;\n",
       "    }\n",
       "</style>\n",
       "<table border=\"1\" class=\"dataframe\">\n",
       "  <thead>\n",
       "    <tr style=\"text-align: right;\">\n",
       "      <th></th>\n",
       "      <th>date</th>\n",
       "      <th>week</th>\n",
       "      <th>max_temperature</th>\n",
       "      <th>min_temperature</th>\n",
       "      <th>day_status</th>\n",
       "      <th>wind</th>\n",
       "      <th>aqi</th>\n",
       "      <th>aqi_status</th>\n",
       "    </tr>\n",
       "    <tr>\n",
       "      <th>date</th>\n",
       "      <th></th>\n",
       "      <th></th>\n",
       "      <th></th>\n",
       "      <th></th>\n",
       "      <th></th>\n",
       "      <th></th>\n",
       "      <th></th>\n",
       "      <th></th>\n",
       "    </tr>\n",
       "  </thead>\n",
       "  <tbody>\n",
       "    <tr>\n",
       "      <th>2017-01-01</th>\n",
       "      <td>2017-01-01</td>\n",
       "      <td>周日</td>\n",
       "      <td>-</td>\n",
       "      <td>-</td>\n",
       "      <td>多云</td>\n",
       "      <td>无持续风向微风</td>\n",
       "      <td>372</td>\n",
       "      <td>严重</td>\n",
       "    </tr>\n",
       "    <tr>\n",
       "      <th>2017-01-02</th>\n",
       "      <td>2017-01-02</td>\n",
       "      <td>周一</td>\n",
       "      <td>-</td>\n",
       "      <td>-</td>\n",
       "      <td>霾</td>\n",
       "      <td>无持续风向微风</td>\n",
       "      <td>361</td>\n",
       "      <td>严重</td>\n",
       "    </tr>\n",
       "    <tr>\n",
       "      <th>2017-01-03</th>\n",
       "      <td>2017-01-03</td>\n",
       "      <td>周二</td>\n",
       "      <td>-</td>\n",
       "      <td>-</td>\n",
       "      <td>霾~雾</td>\n",
       "      <td>无持续风向微风</td>\n",
       "      <td>280</td>\n",
       "      <td>重度</td>\n",
       "    </tr>\n",
       "    <tr>\n",
       "      <th>2017-01-04</th>\n",
       "      <td>2017-01-04</td>\n",
       "      <td>周三</td>\n",
       "      <td>9°</td>\n",
       "      <td>2°</td>\n",
       "      <td>小雨</td>\n",
       "      <td>无持续风向微风</td>\n",
       "      <td>193</td>\n",
       "      <td>中度</td>\n",
       "    </tr>\n",
       "    <tr>\n",
       "      <th>2017-01-05</th>\n",
       "      <td>2017-01-05</td>\n",
       "      <td>周四</td>\n",
       "      <td>5°</td>\n",
       "      <td>1°</td>\n",
       "      <td>小雨</td>\n",
       "      <td>无持续风向微风</td>\n",
       "      <td>216</td>\n",
       "      <td>重度</td>\n",
       "    </tr>\n",
       "  </tbody>\n",
       "</table>\n",
       "</div>"
      ],
      "text/plain": [
       "                  date week max_temperature min_temperature day_status  \\\n",
       "date                                                                     \n",
       "2017-01-01  2017-01-01   周日               -               -         多云   \n",
       "2017-01-02  2017-01-02   周一               -               -          霾   \n",
       "2017-01-03  2017-01-03   周二               -               -        霾~雾   \n",
       "2017-01-04  2017-01-04   周三              9°              2°         小雨   \n",
       "2017-01-05  2017-01-05   周四              5°              1°         小雨   \n",
       "\n",
       "               wind  aqi aqi_status  \n",
       "date                                 \n",
       "2017-01-01  无持续风向微风  372         严重  \n",
       "2017-01-02  无持续风向微风  361         严重  \n",
       "2017-01-03  无持续风向微风  280         重度  \n",
       "2017-01-04  无持续风向微风  193         中度  \n",
       "2017-01-05  无持续风向微风  216         重度  "
      ]
     },
     "execution_count": 5,
     "metadata": {},
     "output_type": "execute_result"
    }
   ],
   "source": [
    "df.head()"
   ]
  },
  {
   "cell_type": "code",
   "execution_count": 6,
   "metadata": {
    "ExecuteTime": {
     "end_time": "2020-08-25T02:31:21.210228Z",
     "start_time": "2020-08-25T02:31:21.198260Z"
    }
   },
   "outputs": [
    {
     "data": {
      "text/plain": [
       "DatetimeIndex(['2017-01-01', '2017-01-02', '2017-01-03', '2017-01-04',\n",
       "               '2017-01-05', '2017-01-06', '2017-01-07', '2017-01-08',\n",
       "               '2017-01-09', '2017-01-10',\n",
       "               ...\n",
       "               '2019-12-22', '2019-12-23', '2019-12-24', '2019-12-25',\n",
       "               '2019-12-26', '2019-12-27', '2019-12-28', '2019-12-29',\n",
       "               '2019-12-30', '2019-12-31'],\n",
       "              dtype='datetime64[ns]', name='date', length=1095, freq=None)"
      ]
     },
     "execution_count": 6,
     "metadata": {},
     "output_type": "execute_result"
    }
   ],
   "source": [
    "df.index"
   ]
  },
  {
   "cell_type": "code",
   "execution_count": 7,
   "metadata": {
    "ExecuteTime": {
     "end_time": "2020-08-25T02:31:21.223207Z",
     "start_time": "2020-08-25T02:31:21.211225Z"
    }
   },
   "outputs": [
    {
     "data": {
      "text/plain": [
       "Timestamp('2017-01-01 00:00:00')"
      ]
     },
     "execution_count": 7,
     "metadata": {},
     "output_type": "execute_result"
    }
   ],
   "source": [
    "# DatetimeIndex是Timestamp的列表形式\n",
    "df.index[0]"
   ]
  },
  {
   "cell_type": "markdown",
   "metadata": {},
   "source": [
    "## 方便的对DatetimeIndex进行查询"
   ]
  },
  {
   "cell_type": "code",
   "execution_count": 8,
   "metadata": {
    "ExecuteTime": {
     "end_time": "2020-08-25T02:31:21.240202Z",
     "start_time": "2020-08-25T02:31:21.226186Z"
    }
   },
   "outputs": [
    {
     "data": {
      "text/plain": [
       "date               2018-01-05\n",
       "week                       周五\n",
       "max_temperature            0°\n",
       "min_temperature           -8°\n",
       "day_status              多云~小雪\n",
       "wind                   南风1-2级\n",
       "aqi                        92\n",
       "aqi_status                  良\n",
       "Name: 2018-01-05 00:00:00, dtype: object"
      ]
     },
     "execution_count": 8,
     "metadata": {},
     "output_type": "execute_result"
    }
   ],
   "source": [
    "# 筛选固定的某一天\n",
    "df.loc['2018-01-05']"
   ]
  },
  {
   "cell_type": "code",
   "execution_count": 9,
   "metadata": {
    "ExecuteTime": {
     "end_time": "2020-08-25T02:31:21.262212Z",
     "start_time": "2020-08-25T02:31:21.243464Z"
    }
   },
   "outputs": [
    {
     "data": {
      "text/html": [
       "<div>\n",
       "<style scoped>\n",
       "    .dataframe tbody tr th:only-of-type {\n",
       "        vertical-align: middle;\n",
       "    }\n",
       "\n",
       "    .dataframe tbody tr th {\n",
       "        vertical-align: top;\n",
       "    }\n",
       "\n",
       "    .dataframe thead th {\n",
       "        text-align: right;\n",
       "    }\n",
       "</style>\n",
       "<table border=\"1\" class=\"dataframe\">\n",
       "  <thead>\n",
       "    <tr style=\"text-align: right;\">\n",
       "      <th></th>\n",
       "      <th>date</th>\n",
       "      <th>week</th>\n",
       "      <th>max_temperature</th>\n",
       "      <th>min_temperature</th>\n",
       "      <th>day_status</th>\n",
       "      <th>wind</th>\n",
       "      <th>aqi</th>\n",
       "      <th>aqi_status</th>\n",
       "    </tr>\n",
       "    <tr>\n",
       "      <th>date</th>\n",
       "      <th></th>\n",
       "      <th></th>\n",
       "      <th></th>\n",
       "      <th></th>\n",
       "      <th></th>\n",
       "      <th></th>\n",
       "      <th></th>\n",
       "      <th></th>\n",
       "    </tr>\n",
       "  </thead>\n",
       "  <tbody>\n",
       "    <tr>\n",
       "      <th>2018-01-05</th>\n",
       "      <td>2018-01-05</td>\n",
       "      <td>周五</td>\n",
       "      <td>0°</td>\n",
       "      <td>-8°</td>\n",
       "      <td>多云~小雪</td>\n",
       "      <td>南风1-2级</td>\n",
       "      <td>92</td>\n",
       "      <td>良</td>\n",
       "    </tr>\n",
       "    <tr>\n",
       "      <th>2018-01-06</th>\n",
       "      <td>2018-01-06</td>\n",
       "      <td>周六</td>\n",
       "      <td>-2°</td>\n",
       "      <td>-6°</td>\n",
       "      <td>中雪~小雪</td>\n",
       "      <td>无持续风向微风</td>\n",
       "      <td>160</td>\n",
       "      <td>中度</td>\n",
       "    </tr>\n",
       "    <tr>\n",
       "      <th>2018-01-07</th>\n",
       "      <td>2018-01-07</td>\n",
       "      <td>周日</td>\n",
       "      <td>0°</td>\n",
       "      <td>-5°</td>\n",
       "      <td>阴~多云</td>\n",
       "      <td>西风1-2级</td>\n",
       "      <td>177</td>\n",
       "      <td>中度</td>\n",
       "    </tr>\n",
       "    <tr>\n",
       "      <th>2018-01-08</th>\n",
       "      <td>2018-01-08</td>\n",
       "      <td>周一</td>\n",
       "      <td>1°</td>\n",
       "      <td>-5°</td>\n",
       "      <td>多云~晴</td>\n",
       "      <td>西风4-5级</td>\n",
       "      <td>64</td>\n",
       "      <td>良</td>\n",
       "    </tr>\n",
       "    <tr>\n",
       "      <th>2018-01-09</th>\n",
       "      <td>2018-01-09</td>\n",
       "      <td>周二</td>\n",
       "      <td>2°</td>\n",
       "      <td>-5°</td>\n",
       "      <td>晴</td>\n",
       "      <td>西风3-4级</td>\n",
       "      <td>52</td>\n",
       "      <td>良</td>\n",
       "    </tr>\n",
       "    <tr>\n",
       "      <th>2018-01-10</th>\n",
       "      <td>2018-01-10</td>\n",
       "      <td>周三</td>\n",
       "      <td>4°</td>\n",
       "      <td>-8°</td>\n",
       "      <td>晴</td>\n",
       "      <td>西风3-4级</td>\n",
       "      <td>50</td>\n",
       "      <td>优</td>\n",
       "    </tr>\n",
       "  </tbody>\n",
       "</table>\n",
       "</div>"
      ],
      "text/plain": [
       "                  date week max_temperature min_temperature day_status  \\\n",
       "date                                                                     \n",
       "2018-01-05  2018-01-05   周五              0°             -8°      多云~小雪   \n",
       "2018-01-06  2018-01-06   周六             -2°             -6°      中雪~小雪   \n",
       "2018-01-07  2018-01-07   周日              0°             -5°       阴~多云   \n",
       "2018-01-08  2018-01-08   周一              1°             -5°       多云~晴   \n",
       "2018-01-09  2018-01-09   周二              2°             -5°          晴   \n",
       "2018-01-10  2018-01-10   周三              4°             -8°          晴   \n",
       "\n",
       "               wind  aqi aqi_status  \n",
       "date                                 \n",
       "2018-01-05   南风1-2级   92          良  \n",
       "2018-01-06  无持续风向微风  160         中度  \n",
       "2018-01-07   西风1-2级  177         中度  \n",
       "2018-01-08   西风4-5级   64          良  \n",
       "2018-01-09   西风3-4级   52          良  \n",
       "2018-01-10   西风3-4级   50          优  "
      ]
     },
     "execution_count": 9,
     "metadata": {},
     "output_type": "execute_result"
    }
   ],
   "source": [
    "# 日期区间\n",
    "df.loc['2018-01-05':'2018-01-10']"
   ]
  },
  {
   "cell_type": "code",
   "execution_count": 10,
   "metadata": {
    "ExecuteTime": {
     "end_time": "2020-08-25T02:31:21.288183Z",
     "start_time": "2020-08-25T02:31:21.264083Z"
    },
    "scrolled": true
   },
   "outputs": [
    {
     "data": {
      "text/html": [
       "<div>\n",
       "<style scoped>\n",
       "    .dataframe tbody tr th:only-of-type {\n",
       "        vertical-align: middle;\n",
       "    }\n",
       "\n",
       "    .dataframe tbody tr th {\n",
       "        vertical-align: top;\n",
       "    }\n",
       "\n",
       "    .dataframe thead th {\n",
       "        text-align: right;\n",
       "    }\n",
       "</style>\n",
       "<table border=\"1\" class=\"dataframe\">\n",
       "  <thead>\n",
       "    <tr style=\"text-align: right;\">\n",
       "      <th></th>\n",
       "      <th>date</th>\n",
       "      <th>week</th>\n",
       "      <th>max_temperature</th>\n",
       "      <th>min_temperature</th>\n",
       "      <th>day_status</th>\n",
       "      <th>wind</th>\n",
       "      <th>aqi</th>\n",
       "      <th>aqi_status</th>\n",
       "    </tr>\n",
       "    <tr>\n",
       "      <th>date</th>\n",
       "      <th></th>\n",
       "      <th></th>\n",
       "      <th></th>\n",
       "      <th></th>\n",
       "      <th></th>\n",
       "      <th></th>\n",
       "      <th></th>\n",
       "      <th></th>\n",
       "    </tr>\n",
       "  </thead>\n",
       "  <tbody>\n",
       "    <tr>\n",
       "      <th>2019-03-01</th>\n",
       "      <td>2019-03-01</td>\n",
       "      <td>周五</td>\n",
       "      <td>10°</td>\n",
       "      <td>4°</td>\n",
       "      <td>小雨</td>\n",
       "      <td>东南风2级</td>\n",
       "      <td>91</td>\n",
       "      <td>良</td>\n",
       "    </tr>\n",
       "    <tr>\n",
       "      <th>2019-03-02</th>\n",
       "      <td>2019-03-02</td>\n",
       "      <td>周六</td>\n",
       "      <td>8°</td>\n",
       "      <td>2°</td>\n",
       "      <td>小雨</td>\n",
       "      <td>东南风1级</td>\n",
       "      <td>126</td>\n",
       "      <td>轻度</td>\n",
       "    </tr>\n",
       "    <tr>\n",
       "      <th>2019-03-03</th>\n",
       "      <td>2019-03-03</td>\n",
       "      <td>周日</td>\n",
       "      <td>15°</td>\n",
       "      <td>2°</td>\n",
       "      <td>多云~晴</td>\n",
       "      <td>西南风2级</td>\n",
       "      <td>131</td>\n",
       "      <td>轻度</td>\n",
       "    </tr>\n",
       "    <tr>\n",
       "      <th>2019-03-04</th>\n",
       "      <td>2019-03-04</td>\n",
       "      <td>周一</td>\n",
       "      <td>14°</td>\n",
       "      <td>2°</td>\n",
       "      <td>阴</td>\n",
       "      <td>西南风2级</td>\n",
       "      <td>116</td>\n",
       "      <td>轻度</td>\n",
       "    </tr>\n",
       "    <tr>\n",
       "      <th>2019-03-05</th>\n",
       "      <td>2019-03-05</td>\n",
       "      <td>周二</td>\n",
       "      <td>17°</td>\n",
       "      <td>6°</td>\n",
       "      <td>多云</td>\n",
       "      <td>东南风2级</td>\n",
       "      <td>136</td>\n",
       "      <td>轻度</td>\n",
       "    </tr>\n",
       "    <tr>\n",
       "      <th>2019-03-06</th>\n",
       "      <td>2019-03-06</td>\n",
       "      <td>周三</td>\n",
       "      <td>15°</td>\n",
       "      <td>1°</td>\n",
       "      <td>多云</td>\n",
       "      <td>东北风3级</td>\n",
       "      <td>133</td>\n",
       "      <td>轻度</td>\n",
       "    </tr>\n",
       "    <tr>\n",
       "      <th>2019-03-07</th>\n",
       "      <td>2019-03-07</td>\n",
       "      <td>周四</td>\n",
       "      <td>11°</td>\n",
       "      <td>1°</td>\n",
       "      <td>多云</td>\n",
       "      <td>东南风2级</td>\n",
       "      <td>68</td>\n",
       "      <td>良</td>\n",
       "    </tr>\n",
       "    <tr>\n",
       "      <th>2019-03-08</th>\n",
       "      <td>2019-03-08</td>\n",
       "      <td>周五</td>\n",
       "      <td>12°</td>\n",
       "      <td>2°</td>\n",
       "      <td>多云~阴</td>\n",
       "      <td>东南风2级</td>\n",
       "      <td>71</td>\n",
       "      <td>良</td>\n",
       "    </tr>\n",
       "    <tr>\n",
       "      <th>2019-03-09</th>\n",
       "      <td>2019-03-09</td>\n",
       "      <td>周六</td>\n",
       "      <td>18°</td>\n",
       "      <td>4°</td>\n",
       "      <td>多云</td>\n",
       "      <td>西南风2级</td>\n",
       "      <td>117</td>\n",
       "      <td>轻度</td>\n",
       "    </tr>\n",
       "    <tr>\n",
       "      <th>2019-03-10</th>\n",
       "      <td>2019-03-10</td>\n",
       "      <td>周日</td>\n",
       "      <td>19°</td>\n",
       "      <td>6°</td>\n",
       "      <td>多云</td>\n",
       "      <td>西南风2级</td>\n",
       "      <td>152</td>\n",
       "      <td>中度</td>\n",
       "    </tr>\n",
       "    <tr>\n",
       "      <th>2019-03-11</th>\n",
       "      <td>2019-03-11</td>\n",
       "      <td>周一</td>\n",
       "      <td>18°</td>\n",
       "      <td>5°</td>\n",
       "      <td>晴</td>\n",
       "      <td>西北风3级</td>\n",
       "      <td>67</td>\n",
       "      <td>良</td>\n",
       "    </tr>\n",
       "    <tr>\n",
       "      <th>2019-03-12</th>\n",
       "      <td>2019-03-12</td>\n",
       "      <td>周二</td>\n",
       "      <td>14°</td>\n",
       "      <td>2°</td>\n",
       "      <td>晴~多云</td>\n",
       "      <td>西风3级</td>\n",
       "      <td>69</td>\n",
       "      <td>良</td>\n",
       "    </tr>\n",
       "    <tr>\n",
       "      <th>2019-03-13</th>\n",
       "      <td>2019-03-13</td>\n",
       "      <td>周三</td>\n",
       "      <td>16°</td>\n",
       "      <td>6°</td>\n",
       "      <td>阴~多云</td>\n",
       "      <td>东南风2级</td>\n",
       "      <td>94</td>\n",
       "      <td>良</td>\n",
       "    </tr>\n",
       "    <tr>\n",
       "      <th>2019-03-14</th>\n",
       "      <td>2019-03-14</td>\n",
       "      <td>周四</td>\n",
       "      <td>20°</td>\n",
       "      <td>7°</td>\n",
       "      <td>晴</td>\n",
       "      <td>西北风3级</td>\n",
       "      <td>76</td>\n",
       "      <td>良</td>\n",
       "    </tr>\n",
       "    <tr>\n",
       "      <th>2019-03-15</th>\n",
       "      <td>2019-03-15</td>\n",
       "      <td>周五</td>\n",
       "      <td>20°</td>\n",
       "      <td>6°</td>\n",
       "      <td>晴</td>\n",
       "      <td>西北风3级</td>\n",
       "      <td>60</td>\n",
       "      <td>良</td>\n",
       "    </tr>\n",
       "    <tr>\n",
       "      <th>2019-03-16</th>\n",
       "      <td>2019-03-16</td>\n",
       "      <td>周六</td>\n",
       "      <td>23°</td>\n",
       "      <td>6°</td>\n",
       "      <td>多云</td>\n",
       "      <td>西南风2级</td>\n",
       "      <td>73</td>\n",
       "      <td>良</td>\n",
       "    </tr>\n",
       "    <tr>\n",
       "      <th>2019-03-17</th>\n",
       "      <td>2019-03-17</td>\n",
       "      <td>周日</td>\n",
       "      <td>21°</td>\n",
       "      <td>10°</td>\n",
       "      <td>阴~多云</td>\n",
       "      <td>东南风2级</td>\n",
       "      <td>98</td>\n",
       "      <td>良</td>\n",
       "    </tr>\n",
       "    <tr>\n",
       "      <th>2019-03-18</th>\n",
       "      <td>2019-03-18</td>\n",
       "      <td>周一</td>\n",
       "      <td>24°</td>\n",
       "      <td>9°</td>\n",
       "      <td>多云~晴</td>\n",
       "      <td>西南风3级</td>\n",
       "      <td>73</td>\n",
       "      <td>良</td>\n",
       "    </tr>\n",
       "    <tr>\n",
       "      <th>2019-03-19</th>\n",
       "      <td>2019-03-19</td>\n",
       "      <td>周二</td>\n",
       "      <td>23°</td>\n",
       "      <td>13°</td>\n",
       "      <td>小雨</td>\n",
       "      <td>东南风3级</td>\n",
       "      <td>71</td>\n",
       "      <td>良</td>\n",
       "    </tr>\n",
       "    <tr>\n",
       "      <th>2019-03-20</th>\n",
       "      <td>2019-03-20</td>\n",
       "      <td>周三</td>\n",
       "      <td>25°</td>\n",
       "      <td>11°</td>\n",
       "      <td>多云</td>\n",
       "      <td>西北风2级</td>\n",
       "      <td>88</td>\n",
       "      <td>良</td>\n",
       "    </tr>\n",
       "    <tr>\n",
       "      <th>2019-03-21</th>\n",
       "      <td>2019-03-21</td>\n",
       "      <td>周四</td>\n",
       "      <td>14°</td>\n",
       "      <td>4°</td>\n",
       "      <td>阴~多云</td>\n",
       "      <td>东北风3级</td>\n",
       "      <td>94</td>\n",
       "      <td>良</td>\n",
       "    </tr>\n",
       "    <tr>\n",
       "      <th>2019-03-22</th>\n",
       "      <td>2019-03-22</td>\n",
       "      <td>周五</td>\n",
       "      <td>16°</td>\n",
       "      <td>6°</td>\n",
       "      <td>多云</td>\n",
       "      <td>西南风2级</td>\n",
       "      <td>74</td>\n",
       "      <td>良</td>\n",
       "    </tr>\n",
       "    <tr>\n",
       "      <th>2019-03-23</th>\n",
       "      <td>2019-03-23</td>\n",
       "      <td>周六</td>\n",
       "      <td>14°</td>\n",
       "      <td>4°</td>\n",
       "      <td>多云~阴</td>\n",
       "      <td>东北风3级</td>\n",
       "      <td>83</td>\n",
       "      <td>良</td>\n",
       "    </tr>\n",
       "    <tr>\n",
       "      <th>2019-03-24</th>\n",
       "      <td>2019-03-24</td>\n",
       "      <td>周日</td>\n",
       "      <td>20°</td>\n",
       "      <td>7°</td>\n",
       "      <td>多云</td>\n",
       "      <td>西南风3级</td>\n",
       "      <td>95</td>\n",
       "      <td>良</td>\n",
       "    </tr>\n",
       "    <tr>\n",
       "      <th>2019-03-25</th>\n",
       "      <td>2019-03-25</td>\n",
       "      <td>周一</td>\n",
       "      <td>24°</td>\n",
       "      <td>8°</td>\n",
       "      <td>晴</td>\n",
       "      <td>西南风3级</td>\n",
       "      <td>81</td>\n",
       "      <td>良</td>\n",
       "    </tr>\n",
       "    <tr>\n",
       "      <th>2019-03-26</th>\n",
       "      <td>2019-03-26</td>\n",
       "      <td>周二</td>\n",
       "      <td>27°</td>\n",
       "      <td>13°</td>\n",
       "      <td>多云</td>\n",
       "      <td>西南风3级</td>\n",
       "      <td>106</td>\n",
       "      <td>轻度</td>\n",
       "    </tr>\n",
       "    <tr>\n",
       "      <th>2019-03-27</th>\n",
       "      <td>2019-03-27</td>\n",
       "      <td>周三</td>\n",
       "      <td>26°</td>\n",
       "      <td>11°</td>\n",
       "      <td>多云~阴</td>\n",
       "      <td>东南风2级</td>\n",
       "      <td>97</td>\n",
       "      <td>良</td>\n",
       "    </tr>\n",
       "    <tr>\n",
       "      <th>2019-03-28</th>\n",
       "      <td>2019-03-28</td>\n",
       "      <td>周四</td>\n",
       "      <td>19°</td>\n",
       "      <td>7°</td>\n",
       "      <td>多云~晴</td>\n",
       "      <td>东北风3级</td>\n",
       "      <td>104</td>\n",
       "      <td>轻度</td>\n",
       "    </tr>\n",
       "    <tr>\n",
       "      <th>2019-03-29</th>\n",
       "      <td>2019-03-29</td>\n",
       "      <td>周五</td>\n",
       "      <td>21°</td>\n",
       "      <td>8°</td>\n",
       "      <td>多云</td>\n",
       "      <td>西北风3级</td>\n",
       "      <td>88</td>\n",
       "      <td>良</td>\n",
       "    </tr>\n",
       "    <tr>\n",
       "      <th>2019-03-30</th>\n",
       "      <td>2019-03-30</td>\n",
       "      <td>周六</td>\n",
       "      <td>17°</td>\n",
       "      <td>3°</td>\n",
       "      <td>多云</td>\n",
       "      <td>东北风3级</td>\n",
       "      <td>92</td>\n",
       "      <td>良</td>\n",
       "    </tr>\n",
       "    <tr>\n",
       "      <th>2019-03-31</th>\n",
       "      <td>2019-03-31</td>\n",
       "      <td>周日</td>\n",
       "      <td>18°</td>\n",
       "      <td>5°</td>\n",
       "      <td>晴</td>\n",
       "      <td>西南风2级</td>\n",
       "      <td>78</td>\n",
       "      <td>良</td>\n",
       "    </tr>\n",
       "  </tbody>\n",
       "</table>\n",
       "</div>"
      ],
      "text/plain": [
       "                  date week max_temperature min_temperature day_status   wind  \\\n",
       "date                                                                            \n",
       "2019-03-01  2019-03-01   周五             10°              4°         小雨  东南风2级   \n",
       "2019-03-02  2019-03-02   周六              8°              2°         小雨  东南风1级   \n",
       "2019-03-03  2019-03-03   周日             15°              2°       多云~晴  西南风2级   \n",
       "2019-03-04  2019-03-04   周一             14°              2°          阴  西南风2级   \n",
       "2019-03-05  2019-03-05   周二             17°              6°         多云  东南风2级   \n",
       "2019-03-06  2019-03-06   周三             15°              1°         多云  东北风3级   \n",
       "2019-03-07  2019-03-07   周四             11°              1°         多云  东南风2级   \n",
       "2019-03-08  2019-03-08   周五             12°              2°       多云~阴  东南风2级   \n",
       "2019-03-09  2019-03-09   周六             18°              4°         多云  西南风2级   \n",
       "2019-03-10  2019-03-10   周日             19°              6°         多云  西南风2级   \n",
       "2019-03-11  2019-03-11   周一             18°              5°          晴  西北风3级   \n",
       "2019-03-12  2019-03-12   周二             14°              2°       晴~多云   西风3级   \n",
       "2019-03-13  2019-03-13   周三             16°              6°       阴~多云  东南风2级   \n",
       "2019-03-14  2019-03-14   周四             20°              7°          晴  西北风3级   \n",
       "2019-03-15  2019-03-15   周五             20°              6°          晴  西北风3级   \n",
       "2019-03-16  2019-03-16   周六             23°              6°         多云  西南风2级   \n",
       "2019-03-17  2019-03-17   周日             21°             10°       阴~多云  东南风2级   \n",
       "2019-03-18  2019-03-18   周一             24°              9°       多云~晴  西南风3级   \n",
       "2019-03-19  2019-03-19   周二             23°             13°         小雨  东南风3级   \n",
       "2019-03-20  2019-03-20   周三             25°             11°         多云  西北风2级   \n",
       "2019-03-21  2019-03-21   周四             14°              4°       阴~多云  东北风3级   \n",
       "2019-03-22  2019-03-22   周五             16°              6°         多云  西南风2级   \n",
       "2019-03-23  2019-03-23   周六             14°              4°       多云~阴  东北风3级   \n",
       "2019-03-24  2019-03-24   周日             20°              7°         多云  西南风3级   \n",
       "2019-03-25  2019-03-25   周一             24°              8°          晴  西南风3级   \n",
       "2019-03-26  2019-03-26   周二             27°             13°         多云  西南风3级   \n",
       "2019-03-27  2019-03-27   周三             26°             11°       多云~阴  东南风2级   \n",
       "2019-03-28  2019-03-28   周四             19°              7°       多云~晴  东北风3级   \n",
       "2019-03-29  2019-03-29   周五             21°              8°         多云  西北风3级   \n",
       "2019-03-30  2019-03-30   周六             17°              3°         多云  东北风3级   \n",
       "2019-03-31  2019-03-31   周日             18°              5°          晴  西南风2级   \n",
       "\n",
       "            aqi aqi_status  \n",
       "date                        \n",
       "2019-03-01   91          良  \n",
       "2019-03-02  126         轻度  \n",
       "2019-03-03  131         轻度  \n",
       "2019-03-04  116         轻度  \n",
       "2019-03-05  136         轻度  \n",
       "2019-03-06  133         轻度  \n",
       "2019-03-07   68          良  \n",
       "2019-03-08   71          良  \n",
       "2019-03-09  117         轻度  \n",
       "2019-03-10  152         中度  \n",
       "2019-03-11   67          良  \n",
       "2019-03-12   69          良  \n",
       "2019-03-13   94          良  \n",
       "2019-03-14   76          良  \n",
       "2019-03-15   60          良  \n",
       "2019-03-16   73          良  \n",
       "2019-03-17   98          良  \n",
       "2019-03-18   73          良  \n",
       "2019-03-19   71          良  \n",
       "2019-03-20   88          良  \n",
       "2019-03-21   94          良  \n",
       "2019-03-22   74          良  \n",
       "2019-03-23   83          良  \n",
       "2019-03-24   95          良  \n",
       "2019-03-25   81          良  \n",
       "2019-03-26  106         轻度  \n",
       "2019-03-27   97          良  \n",
       "2019-03-28  104         轻度  \n",
       "2019-03-29   88          良  \n",
       "2019-03-30   92          良  \n",
       "2019-03-31   78          良  "
      ]
     },
     "execution_count": 10,
     "metadata": {},
     "output_type": "execute_result"
    }
   ],
   "source": [
    "# 按月份前缀筛选\n",
    "df.loc['2019-03']"
   ]
  },
  {
   "cell_type": "code",
   "execution_count": 11,
   "metadata": {
    "ExecuteTime": {
     "end_time": "2020-08-25T02:31:21.301983Z",
     "start_time": "2020-08-25T02:31:21.291021Z"
    }
   },
   "outputs": [
    {
     "data": {
      "text/plain": [
       "DatetimeIndex(['2018-07-01', '2018-07-02', '2018-07-03', '2018-07-04',\n",
       "               '2018-07-05', '2018-07-06', '2018-07-07', '2018-07-08',\n",
       "               '2018-07-09', '2018-07-10', '2018-07-11', '2018-07-12',\n",
       "               '2018-07-13', '2018-07-14', '2018-07-15', '2018-07-16',\n",
       "               '2018-07-17', '2018-07-18', '2018-07-19', '2018-07-20',\n",
       "               '2018-07-21', '2018-07-22', '2018-07-23', '2018-07-24',\n",
       "               '2018-07-25', '2018-07-26', '2018-07-27', '2018-07-28',\n",
       "               '2018-07-29', '2018-07-30', '2018-07-31', '2018-08-01',\n",
       "               '2018-08-02', '2018-08-03', '2018-08-04', '2018-08-05',\n",
       "               '2018-08-06', '2018-08-07', '2018-08-08', '2018-08-09',\n",
       "               '2018-08-10', '2018-08-11', '2018-08-12', '2018-08-13',\n",
       "               '2018-08-14', '2018-08-15', '2018-08-16', '2018-08-17',\n",
       "               '2018-08-18', '2018-08-19', '2018-08-20', '2018-08-21',\n",
       "               '2018-08-22', '2018-08-23', '2018-08-24', '2018-08-25',\n",
       "               '2018-08-26', '2018-08-27', '2018-08-28', '2018-08-29',\n",
       "               '2018-08-30', '2018-08-31', '2018-09-01', '2018-09-02',\n",
       "               '2018-09-03', '2018-09-04', '2018-09-05', '2018-09-06',\n",
       "               '2018-09-07', '2018-09-08', '2018-09-09', '2018-09-10',\n",
       "               '2018-09-11', '2018-09-12', '2018-09-13', '2018-09-14',\n",
       "               '2018-09-15', '2018-09-16', '2018-09-17', '2018-09-18',\n",
       "               '2018-09-19', '2018-09-20', '2018-09-21', '2018-09-22',\n",
       "               '2018-09-23', '2018-09-24', '2018-09-25', '2018-09-26',\n",
       "               '2018-09-27', '2018-09-28', '2018-09-29', '2018-09-30'],\n",
       "              dtype='datetime64[ns]', name='date', freq=None)"
      ]
     },
     "execution_count": 11,
     "metadata": {},
     "output_type": "execute_result"
    }
   ],
   "source": [
    "# 按月份前缀筛选\n",
    "df.loc[\"2018-07\":\"2018-09\"].index"
   ]
  },
  {
   "cell_type": "code",
   "execution_count": 12,
   "metadata": {
    "ExecuteTime": {
     "end_time": "2020-08-25T02:31:21.320933Z",
     "start_time": "2020-08-25T02:31:21.304001Z"
    }
   },
   "outputs": [
    {
     "data": {
      "text/html": [
       "<div>\n",
       "<style scoped>\n",
       "    .dataframe tbody tr th:only-of-type {\n",
       "        vertical-align: middle;\n",
       "    }\n",
       "\n",
       "    .dataframe tbody tr th {\n",
       "        vertical-align: top;\n",
       "    }\n",
       "\n",
       "    .dataframe thead th {\n",
       "        text-align: right;\n",
       "    }\n",
       "</style>\n",
       "<table border=\"1\" class=\"dataframe\">\n",
       "  <thead>\n",
       "    <tr style=\"text-align: right;\">\n",
       "      <th></th>\n",
       "      <th>date</th>\n",
       "      <th>week</th>\n",
       "      <th>max_temperature</th>\n",
       "      <th>min_temperature</th>\n",
       "      <th>day_status</th>\n",
       "      <th>wind</th>\n",
       "      <th>aqi</th>\n",
       "      <th>aqi_status</th>\n",
       "    </tr>\n",
       "    <tr>\n",
       "      <th>date</th>\n",
       "      <th></th>\n",
       "      <th></th>\n",
       "      <th></th>\n",
       "      <th></th>\n",
       "      <th></th>\n",
       "      <th></th>\n",
       "      <th></th>\n",
       "      <th></th>\n",
       "    </tr>\n",
       "  </thead>\n",
       "  <tbody>\n",
       "    <tr>\n",
       "      <th>2018-01-01</th>\n",
       "      <td>2018-01-01</td>\n",
       "      <td>周一</td>\n",
       "      <td>11°</td>\n",
       "      <td>-2°</td>\n",
       "      <td>晴~多云</td>\n",
       "      <td>东北风1-2级</td>\n",
       "      <td>227</td>\n",
       "      <td>重度</td>\n",
       "    </tr>\n",
       "    <tr>\n",
       "      <th>2018-01-02</th>\n",
       "      <td>2018-01-02</td>\n",
       "      <td>周二</td>\n",
       "      <td>5°</td>\n",
       "      <td>-2°</td>\n",
       "      <td>阴~雨夹雪</td>\n",
       "      <td>东北风3-4级</td>\n",
       "      <td>179</td>\n",
       "      <td>中度</td>\n",
       "    </tr>\n",
       "    <tr>\n",
       "      <th>2018-01-03</th>\n",
       "      <td>2018-01-03</td>\n",
       "      <td>周三</td>\n",
       "      <td>1°</td>\n",
       "      <td>-6°</td>\n",
       "      <td>小雪~大雪</td>\n",
       "      <td>东北风1-2级</td>\n",
       "      <td>67</td>\n",
       "      <td>良</td>\n",
       "    </tr>\n",
       "    <tr>\n",
       "      <th>2018-01-04</th>\n",
       "      <td>2018-01-04</td>\n",
       "      <td>周四</td>\n",
       "      <td>-2°</td>\n",
       "      <td>-10°</td>\n",
       "      <td>大雪~阴</td>\n",
       "      <td>东北风1-2级</td>\n",
       "      <td>61</td>\n",
       "      <td>良</td>\n",
       "    </tr>\n",
       "    <tr>\n",
       "      <th>2018-01-05</th>\n",
       "      <td>2018-01-05</td>\n",
       "      <td>周五</td>\n",
       "      <td>0°</td>\n",
       "      <td>-8°</td>\n",
       "      <td>多云~小雪</td>\n",
       "      <td>南风1-2级</td>\n",
       "      <td>92</td>\n",
       "      <td>良</td>\n",
       "    </tr>\n",
       "  </tbody>\n",
       "</table>\n",
       "</div>"
      ],
      "text/plain": [
       "                  date week max_temperature min_temperature day_status  \\\n",
       "date                                                                     \n",
       "2018-01-01  2018-01-01   周一             11°             -2°       晴~多云   \n",
       "2018-01-02  2018-01-02   周二              5°             -2°      阴~雨夹雪   \n",
       "2018-01-03  2018-01-03   周三              1°             -6°      小雪~大雪   \n",
       "2018-01-04  2018-01-04   周四             -2°            -10°       大雪~阴   \n",
       "2018-01-05  2018-01-05   周五              0°             -8°      多云~小雪   \n",
       "\n",
       "               wind  aqi aqi_status  \n",
       "date                                 \n",
       "2018-01-01  东北风1-2级  227         重度  \n",
       "2018-01-02  东北风3-4级  179         中度  \n",
       "2018-01-03  东北风1-2级   67          良  \n",
       "2018-01-04  东北风1-2级   61          良  \n",
       "2018-01-05   南风1-2级   92          良  "
      ]
     },
     "execution_count": 12,
     "metadata": {},
     "output_type": "execute_result"
    }
   ],
   "source": [
    "# 按年份前缀筛选\n",
    "df.loc[\"2018\"].head()"
   ]
  },
  {
   "cell_type": "markdown",
   "metadata": {},
   "source": [
    "## 方便的获取周、月、季度\n",
    "Timestamp、DatetimeIndex支持大量的属性可以获取日期分量：\n",
    "https://pandas.pydata.org/pandas-docs/stable/user_guide/timeseries.html#time-date-components"
   ]
  },
  {
   "cell_type": "code",
   "execution_count": 13,
   "metadata": {
    "ExecuteTime": {
     "end_time": "2020-08-25T02:31:21.334929Z",
     "start_time": "2020-08-25T02:31:21.322849Z"
    }
   },
   "outputs": [
    {
     "data": {
      "text/plain": [
       "date\n",
       "2017-01-01    52\n",
       "2017-01-02     1\n",
       "2017-01-03     1\n",
       "2017-01-04     1\n",
       "2017-01-05     1\n",
       "              ..\n",
       "2019-12-27    52\n",
       "2019-12-28    52\n",
       "2019-12-29    52\n",
       "2019-12-30     1\n",
       "2019-12-31     1\n",
       "Name: week, Length: 1095, dtype: UInt32"
      ]
     },
     "execution_count": 13,
     "metadata": {},
     "output_type": "execute_result"
    }
   ],
   "source": [
    "# 周数字列表\n",
    "df.index.isocalendar().week"
   ]
  },
  {
   "cell_type": "code",
   "execution_count": 14,
   "metadata": {
    "ExecuteTime": {
     "end_time": "2020-08-25T02:31:21.345867Z",
     "start_time": "2020-08-25T02:31:21.336084Z"
    }
   },
   "outputs": [
    {
     "data": {
      "text/plain": [
       "Int64Index([ 1,  1,  1,  1,  1,  1,  1,  1,  1,  1,\n",
       "            ...\n",
       "            12, 12, 12, 12, 12, 12, 12, 12, 12, 12],\n",
       "           dtype='int64', name='date', length=1095)"
      ]
     },
     "execution_count": 14,
     "metadata": {},
     "output_type": "execute_result"
    }
   ],
   "source": [
    "# 月数字列表\n",
    "df.index.month"
   ]
  },
  {
   "cell_type": "code",
   "execution_count": 15,
   "metadata": {
    "ExecuteTime": {
     "end_time": "2020-08-25T02:31:21.360907Z",
     "start_time": "2020-08-25T02:31:21.346862Z"
    }
   },
   "outputs": [
    {
     "data": {
      "text/plain": [
       "Int64Index([1, 1, 1, 1, 1, 1, 1, 1, 1, 1,\n",
       "            ...\n",
       "            4, 4, 4, 4, 4, 4, 4, 4, 4, 4],\n",
       "           dtype='int64', name='date', length=1095)"
      ]
     },
     "execution_count": 15,
     "metadata": {},
     "output_type": "execute_result"
    }
   ],
   "source": [
    "# 季度数字列表\n",
    "df.index.quarter"
   ]
  },
  {
   "cell_type": "markdown",
   "metadata": {},
   "source": [
    "## 统计每周、每月、每个季度的最高温度¶\n",
    "统计每周的数据"
   ]
  },
  {
   "cell_type": "code",
   "execution_count": 16,
   "metadata": {
    "ExecuteTime": {
     "end_time": "2020-08-25T02:31:21.378814Z",
     "start_time": "2020-08-25T02:31:21.362066Z"
    }
   },
   "outputs": [
    {
     "data": {
      "text/html": [
       "<div>\n",
       "<style scoped>\n",
       "    .dataframe tbody tr th:only-of-type {\n",
       "        vertical-align: middle;\n",
       "    }\n",
       "\n",
       "    .dataframe tbody tr th {\n",
       "        vertical-align: top;\n",
       "    }\n",
       "\n",
       "    .dataframe thead th {\n",
       "        text-align: right;\n",
       "    }\n",
       "</style>\n",
       "<table border=\"1\" class=\"dataframe\">\n",
       "  <thead>\n",
       "    <tr style=\"text-align: right;\">\n",
       "      <th></th>\n",
       "      <th>date</th>\n",
       "      <th>week</th>\n",
       "      <th>max_temperature</th>\n",
       "      <th>min_temperature</th>\n",
       "      <th>day_status</th>\n",
       "      <th>wind</th>\n",
       "      <th>aqi</th>\n",
       "      <th>aqi_status</th>\n",
       "    </tr>\n",
       "    <tr>\n",
       "      <th>date</th>\n",
       "      <th></th>\n",
       "      <th></th>\n",
       "      <th></th>\n",
       "      <th></th>\n",
       "      <th></th>\n",
       "      <th></th>\n",
       "      <th></th>\n",
       "      <th></th>\n",
       "    </tr>\n",
       "  </thead>\n",
       "  <tbody>\n",
       "    <tr>\n",
       "      <th>2017-01-01</th>\n",
       "      <td>2017-01-01</td>\n",
       "      <td>周日</td>\n",
       "      <td>-</td>\n",
       "      <td>-</td>\n",
       "      <td>多云</td>\n",
       "      <td>无持续风向微风</td>\n",
       "      <td>372</td>\n",
       "      <td>严重</td>\n",
       "    </tr>\n",
       "    <tr>\n",
       "      <th>2017-01-02</th>\n",
       "      <td>2017-01-02</td>\n",
       "      <td>周一</td>\n",
       "      <td>-</td>\n",
       "      <td>-</td>\n",
       "      <td>霾</td>\n",
       "      <td>无持续风向微风</td>\n",
       "      <td>361</td>\n",
       "      <td>严重</td>\n",
       "    </tr>\n",
       "    <tr>\n",
       "      <th>2017-01-03</th>\n",
       "      <td>2017-01-03</td>\n",
       "      <td>周二</td>\n",
       "      <td>-</td>\n",
       "      <td>-</td>\n",
       "      <td>霾~雾</td>\n",
       "      <td>无持续风向微风</td>\n",
       "      <td>280</td>\n",
       "      <td>重度</td>\n",
       "    </tr>\n",
       "    <tr>\n",
       "      <th>2017-01-04</th>\n",
       "      <td>2017-01-04</td>\n",
       "      <td>周三</td>\n",
       "      <td>9°</td>\n",
       "      <td>2°</td>\n",
       "      <td>小雨</td>\n",
       "      <td>无持续风向微风</td>\n",
       "      <td>193</td>\n",
       "      <td>中度</td>\n",
       "    </tr>\n",
       "    <tr>\n",
       "      <th>2017-01-05</th>\n",
       "      <td>2017-01-05</td>\n",
       "      <td>周四</td>\n",
       "      <td>5°</td>\n",
       "      <td>1°</td>\n",
       "      <td>小雨</td>\n",
       "      <td>无持续风向微风</td>\n",
       "      <td>216</td>\n",
       "      <td>重度</td>\n",
       "    </tr>\n",
       "  </tbody>\n",
       "</table>\n",
       "</div>"
      ],
      "text/plain": [
       "                  date week max_temperature min_temperature day_status  \\\n",
       "date                                                                     \n",
       "2017-01-01  2017-01-01   周日               -               -         多云   \n",
       "2017-01-02  2017-01-02   周一               -               -          霾   \n",
       "2017-01-03  2017-01-03   周二               -               -        霾~雾   \n",
       "2017-01-04  2017-01-04   周三              9°              2°         小雨   \n",
       "2017-01-05  2017-01-05   周四              5°              1°         小雨   \n",
       "\n",
       "               wind  aqi aqi_status  \n",
       "date                                 \n",
       "2017-01-01  无持续风向微风  372         严重  \n",
       "2017-01-02  无持续风向微风  361         严重  \n",
       "2017-01-03  无持续风向微风  280         重度  \n",
       "2017-01-04  无持续风向微风  193         中度  \n",
       "2017-01-05  无持续风向微风  216         重度  "
      ]
     },
     "execution_count": 16,
     "metadata": {},
     "output_type": "execute_result"
    }
   ],
   "source": [
    "df.head()"
   ]
  },
  {
   "cell_type": "code",
   "execution_count": 17,
   "metadata": {
    "ExecuteTime": {
     "end_time": "2020-08-25T02:31:21.394770Z",
     "start_time": "2020-08-25T02:31:21.380451Z"
    }
   },
   "outputs": [],
   "source": [
    "# 替换掉温度的后缀°\n",
    "df['min_temperature'] = df['min_temperature'].map(\n",
    "    lambda x: int(x.replace('°', '')) if x != '-' else np.nan)\n",
    "df['max_temperature'] = df['max_temperature'].map(\n",
    "    lambda x: int(x.replace('°', '')) if x != '-' else np.nan)"
   ]
  },
  {
   "cell_type": "code",
   "execution_count": 18,
   "metadata": {
    "ExecuteTime": {
     "end_time": "2020-08-25T02:31:21.412721Z",
     "start_time": "2020-08-25T02:31:21.396107Z"
    }
   },
   "outputs": [
    {
     "data": {
      "text/html": [
       "<div>\n",
       "<style scoped>\n",
       "    .dataframe tbody tr th:only-of-type {\n",
       "        vertical-align: middle;\n",
       "    }\n",
       "\n",
       "    .dataframe tbody tr th {\n",
       "        vertical-align: top;\n",
       "    }\n",
       "\n",
       "    .dataframe thead th {\n",
       "        text-align: right;\n",
       "    }\n",
       "</style>\n",
       "<table border=\"1\" class=\"dataframe\">\n",
       "  <thead>\n",
       "    <tr style=\"text-align: right;\">\n",
       "      <th></th>\n",
       "      <th>date</th>\n",
       "      <th>week</th>\n",
       "      <th>max_temperature</th>\n",
       "      <th>min_temperature</th>\n",
       "      <th>day_status</th>\n",
       "      <th>wind</th>\n",
       "      <th>aqi</th>\n",
       "      <th>aqi_status</th>\n",
       "    </tr>\n",
       "    <tr>\n",
       "      <th>date</th>\n",
       "      <th></th>\n",
       "      <th></th>\n",
       "      <th></th>\n",
       "      <th></th>\n",
       "      <th></th>\n",
       "      <th></th>\n",
       "      <th></th>\n",
       "      <th></th>\n",
       "    </tr>\n",
       "  </thead>\n",
       "  <tbody>\n",
       "    <tr>\n",
       "      <th>2017-01-01</th>\n",
       "      <td>2017-01-01</td>\n",
       "      <td>周日</td>\n",
       "      <td>NaN</td>\n",
       "      <td>NaN</td>\n",
       "      <td>多云</td>\n",
       "      <td>无持续风向微风</td>\n",
       "      <td>372</td>\n",
       "      <td>严重</td>\n",
       "    </tr>\n",
       "    <tr>\n",
       "      <th>2017-01-02</th>\n",
       "      <td>2017-01-02</td>\n",
       "      <td>周一</td>\n",
       "      <td>NaN</td>\n",
       "      <td>NaN</td>\n",
       "      <td>霾</td>\n",
       "      <td>无持续风向微风</td>\n",
       "      <td>361</td>\n",
       "      <td>严重</td>\n",
       "    </tr>\n",
       "    <tr>\n",
       "      <th>2017-01-03</th>\n",
       "      <td>2017-01-03</td>\n",
       "      <td>周二</td>\n",
       "      <td>NaN</td>\n",
       "      <td>NaN</td>\n",
       "      <td>霾~雾</td>\n",
       "      <td>无持续风向微风</td>\n",
       "      <td>280</td>\n",
       "      <td>重度</td>\n",
       "    </tr>\n",
       "    <tr>\n",
       "      <th>2017-01-04</th>\n",
       "      <td>2017-01-04</td>\n",
       "      <td>周三</td>\n",
       "      <td>9.0</td>\n",
       "      <td>2.0</td>\n",
       "      <td>小雨</td>\n",
       "      <td>无持续风向微风</td>\n",
       "      <td>193</td>\n",
       "      <td>中度</td>\n",
       "    </tr>\n",
       "    <tr>\n",
       "      <th>2017-01-05</th>\n",
       "      <td>2017-01-05</td>\n",
       "      <td>周四</td>\n",
       "      <td>5.0</td>\n",
       "      <td>1.0</td>\n",
       "      <td>小雨</td>\n",
       "      <td>无持续风向微风</td>\n",
       "      <td>216</td>\n",
       "      <td>重度</td>\n",
       "    </tr>\n",
       "  </tbody>\n",
       "</table>\n",
       "</div>"
      ],
      "text/plain": [
       "                  date week  max_temperature  min_temperature day_status  \\\n",
       "date                                                                       \n",
       "2017-01-01  2017-01-01   周日              NaN              NaN         多云   \n",
       "2017-01-02  2017-01-02   周一              NaN              NaN          霾   \n",
       "2017-01-03  2017-01-03   周二              NaN              NaN        霾~雾   \n",
       "2017-01-04  2017-01-04   周三              9.0              2.0         小雨   \n",
       "2017-01-05  2017-01-05   周四              5.0              1.0         小雨   \n",
       "\n",
       "               wind  aqi aqi_status  \n",
       "date                                 \n",
       "2017-01-01  无持续风向微风  372         严重  \n",
       "2017-01-02  无持续风向微风  361         严重  \n",
       "2017-01-03  无持续风向微风  280         重度  \n",
       "2017-01-04  无持续风向微风  193         中度  \n",
       "2017-01-05  无持续风向微风  216         重度  "
      ]
     },
     "execution_count": 18,
     "metadata": {},
     "output_type": "execute_result"
    }
   ],
   "source": [
    "df.head()"
   ]
  },
  {
   "cell_type": "code",
   "execution_count": 19,
   "metadata": {
    "ExecuteTime": {
     "end_time": "2020-08-25T02:31:21.428678Z",
     "start_time": "2020-08-25T02:31:21.414361Z"
    }
   },
   "outputs": [],
   "source": [
    "# 缺失值\n",
    "df['max_temperature'].fillna(method='ffill', inplace=True)\n",
    "df['max_temperature'].fillna(method='bfill', inplace=True)\n",
    "df['max_temperature'].fillna(df['max_temperature'].interpolate(), inplace=True)\n",
    "df['min_temperature'].fillna(method='ffill', inplace=True)\n",
    "df['min_temperature'].fillna(method='bfill', inplace=True)\n",
    "df['min_temperature'].fillna(df['min_temperature'].interpolate(), inplace=True)"
   ]
  },
  {
   "cell_type": "code",
   "execution_count": 20,
   "metadata": {
    "ExecuteTime": {
     "end_time": "2020-08-25T02:31:21.444682Z",
     "start_time": "2020-08-25T02:31:21.429640Z"
    }
   },
   "outputs": [
    {
     "data": {
      "text/plain": [
       "date\n",
       "2017-01-01    False\n",
       "2017-01-02    False\n",
       "2017-01-03    False\n",
       "2017-01-04    False\n",
       "2017-01-05    False\n",
       "              ...  \n",
       "2019-12-27    False\n",
       "2019-12-28    False\n",
       "2019-12-29    False\n",
       "2019-12-30    False\n",
       "2019-12-31    False\n",
       "Name: max_temperature, Length: 1095, dtype: bool"
      ]
     },
     "execution_count": 20,
     "metadata": {},
     "output_type": "execute_result"
    }
   ],
   "source": [
    "df['max_temperature'].isnull()"
   ]
  },
  {
   "cell_type": "code",
   "execution_count": 21,
   "metadata": {
    "ExecuteTime": {
     "end_time": "2020-08-25T02:31:21.461584Z",
     "start_time": "2020-08-25T02:31:21.445683Z"
    }
   },
   "outputs": [
    {
     "data": {
      "text/html": [
       "<div>\n",
       "<style scoped>\n",
       "    .dataframe tbody tr th:only-of-type {\n",
       "        vertical-align: middle;\n",
       "    }\n",
       "\n",
       "    .dataframe tbody tr th {\n",
       "        vertical-align: top;\n",
       "    }\n",
       "\n",
       "    .dataframe thead th {\n",
       "        text-align: right;\n",
       "    }\n",
       "</style>\n",
       "<table border=\"1\" class=\"dataframe\">\n",
       "  <thead>\n",
       "    <tr style=\"text-align: right;\">\n",
       "      <th></th>\n",
       "      <th>date</th>\n",
       "      <th>week</th>\n",
       "      <th>max_temperature</th>\n",
       "      <th>min_temperature</th>\n",
       "      <th>day_status</th>\n",
       "      <th>wind</th>\n",
       "      <th>aqi</th>\n",
       "      <th>aqi_status</th>\n",
       "    </tr>\n",
       "    <tr>\n",
       "      <th>date</th>\n",
       "      <th></th>\n",
       "      <th></th>\n",
       "      <th></th>\n",
       "      <th></th>\n",
       "      <th></th>\n",
       "      <th></th>\n",
       "      <th></th>\n",
       "      <th></th>\n",
       "    </tr>\n",
       "  </thead>\n",
       "  <tbody>\n",
       "  </tbody>\n",
       "</table>\n",
       "</div>"
      ],
      "text/plain": [
       "Empty DataFrame\n",
       "Columns: [date, week, max_temperature, min_temperature, day_status, wind, aqi, aqi_status]\n",
       "Index: []"
      ]
     },
     "execution_count": 21,
     "metadata": {},
     "output_type": "execute_result"
    }
   ],
   "source": [
    "# 有空值的行\n",
    "df.loc[df['max_temperature'].isnull()]"
   ]
  },
  {
   "cell_type": "code",
   "execution_count": 22,
   "metadata": {
    "ExecuteTime": {
     "end_time": "2020-08-25T02:31:21.485519Z",
     "start_time": "2020-08-25T02:31:21.462552Z"
    }
   },
   "outputs": [
    {
     "data": {
      "text/html": [
       "<div>\n",
       "<style scoped>\n",
       "    .dataframe tbody tr th:only-of-type {\n",
       "        vertical-align: middle;\n",
       "    }\n",
       "\n",
       "    .dataframe tbody tr th {\n",
       "        vertical-align: top;\n",
       "    }\n",
       "\n",
       "    .dataframe thead th {\n",
       "        text-align: right;\n",
       "    }\n",
       "</style>\n",
       "<table border=\"1\" class=\"dataframe\">\n",
       "  <thead>\n",
       "    <tr style=\"text-align: right;\">\n",
       "      <th></th>\n",
       "      <th>date</th>\n",
       "      <th>week</th>\n",
       "      <th>max_temperature</th>\n",
       "      <th>min_temperature</th>\n",
       "      <th>day_status</th>\n",
       "      <th>wind</th>\n",
       "      <th>aqi</th>\n",
       "      <th>aqi_status</th>\n",
       "    </tr>\n",
       "    <tr>\n",
       "      <th>date</th>\n",
       "      <th></th>\n",
       "      <th></th>\n",
       "      <th></th>\n",
       "      <th></th>\n",
       "      <th></th>\n",
       "      <th></th>\n",
       "      <th></th>\n",
       "      <th></th>\n",
       "    </tr>\n",
       "  </thead>\n",
       "  <tbody>\n",
       "  </tbody>\n",
       "</table>\n",
       "</div>"
      ],
      "text/plain": [
       "Empty DataFrame\n",
       "Columns: [date, week, max_temperature, min_temperature, day_status, wind, aqi, aqi_status]\n",
       "Index: []"
      ]
     },
     "execution_count": 22,
     "metadata": {},
     "output_type": "execute_result"
    }
   ],
   "source": [
    "# 有空值的行\n",
    "df.loc[df['min_temperature'].isnull()]"
   ]
  },
  {
   "cell_type": "markdown",
   "metadata": {},
   "source": [
    "### 每周的数据"
   ]
  },
  {
   "cell_type": "code",
   "execution_count": 23,
   "metadata": {
    "ExecuteTime": {
     "end_time": "2020-08-25T02:31:21.513444Z",
     "start_time": "2020-08-25T02:31:21.489494Z"
    }
   },
   "outputs": [
    {
     "data": {
      "text/plain": [
       "week\n",
       "1    11.0\n",
       "2    11.0\n",
       "3    11.0\n",
       "4    14.0\n",
       "5    12.0\n",
       "Name: max_temperature, dtype: float64"
      ]
     },
     "execution_count": 23,
     "metadata": {},
     "output_type": "execute_result"
    }
   ],
   "source": [
    "df.groupby(df.index.isocalendar().week)[\"max_temperature\"].max().head()"
   ]
  },
  {
   "cell_type": "code",
   "execution_count": 24,
   "metadata": {
    "ExecuteTime": {
     "end_time": "2020-08-25T02:31:21.663051Z",
     "start_time": "2020-08-25T02:31:21.516409Z"
    }
   },
   "outputs": [
    {
     "data": {
      "text/plain": [
       "<AxesSubplot:xlabel='week'>"
      ]
     },
     "execution_count": 24,
     "metadata": {},
     "output_type": "execute_result"
    },
    {
     "data": {
      "image/png": "[encoded data removed]",
      "text/plain": [
       "<Figure size 432x288 with 1 Axes>"
      ]
     },
     "metadata": {
      "needs_background": "light"
     },
     "output_type": "display_data"
    }
   ],
   "source": [
    "fig1 = df.groupby(df.index.isocalendar().week)[\n",
    "    [\"max_temperature\", 'min_temperature']].max()\n",
    "fig1.plot()"
   ]
  },
  {
   "cell_type": "markdown",
   "metadata": {},
   "source": [
    "###  每月的数据"
   ]
  },
  {
   "cell_type": "code",
   "execution_count": 25,
   "metadata": {
    "ExecuteTime": {
     "end_time": "2020-08-25T02:31:21.671993Z",
     "start_time": "2020-08-25T02:31:21.664013Z"
    }
   },
   "outputs": [
    {
     "data": {
      "text/plain": [
       "date\n",
       "1     14.0\n",
       "2     21.0\n",
       "3     31.0\n",
       "4     34.0\n",
       "5     39.0\n",
       "6     39.0\n",
       "7     39.0\n",
       "8     37.0\n",
       "9     36.0\n",
       "10    32.0\n",
       "11    24.0\n",
       "12    16.0\n",
       "Name: max_temperature, dtype: float64"
      ]
     },
     "execution_count": 25,
     "metadata": {},
     "output_type": "execute_result"
    }
   ],
   "source": [
    "months = df.groupby(df.index.month)\n",
    "months['max_temperature'].max()"
   ]
  },
  {
   "cell_type": "code",
   "execution_count": 26,
   "metadata": {
    "ExecuteTime": {
     "end_time": "2020-08-25T02:31:21.686987Z",
     "start_time": "2020-08-25T02:31:21.673988Z"
    }
   },
   "outputs": [
    {
     "data": {
      "text/html": [
       "<div>\n",
       "<style scoped>\n",
       "    .dataframe tbody tr th:only-of-type {\n",
       "        vertical-align: middle;\n",
       "    }\n",
       "\n",
       "    .dataframe tbody tr th {\n",
       "        vertical-align: top;\n",
       "    }\n",
       "\n",
       "    .dataframe thead th {\n",
       "        text-align: right;\n",
       "    }\n",
       "</style>\n",
       "<table border=\"1\" class=\"dataframe\">\n",
       "  <thead>\n",
       "    <tr style=\"text-align: right;\">\n",
       "      <th></th>\n",
       "      <th>max_temperature</th>\n",
       "      <th>min_temperature</th>\n",
       "    </tr>\n",
       "    <tr>\n",
       "      <th>date</th>\n",
       "      <th></th>\n",
       "      <th></th>\n",
       "    </tr>\n",
       "  </thead>\n",
       "  <tbody>\n",
       "    <tr>\n",
       "      <th>1</th>\n",
       "      <td>14.0</td>\n",
       "      <td>2.0</td>\n",
       "    </tr>\n",
       "    <tr>\n",
       "      <th>2</th>\n",
       "      <td>21.0</td>\n",
       "      <td>6.0</td>\n",
       "    </tr>\n",
       "    <tr>\n",
       "      <th>3</th>\n",
       "      <td>31.0</td>\n",
       "      <td>15.0</td>\n",
       "    </tr>\n",
       "    <tr>\n",
       "      <th>4</th>\n",
       "      <td>34.0</td>\n",
       "      <td>19.0</td>\n",
       "    </tr>\n",
       "    <tr>\n",
       "      <th>5</th>\n",
       "      <td>39.0</td>\n",
       "      <td>25.0</td>\n",
       "    </tr>\n",
       "    <tr>\n",
       "      <th>6</th>\n",
       "      <td>39.0</td>\n",
       "      <td>26.0</td>\n",
       "    </tr>\n",
       "    <tr>\n",
       "      <th>7</th>\n",
       "      <td>39.0</td>\n",
       "      <td>29.0</td>\n",
       "    </tr>\n",
       "    <tr>\n",
       "      <th>8</th>\n",
       "      <td>37.0</td>\n",
       "      <td>27.0</td>\n",
       "    </tr>\n",
       "    <tr>\n",
       "      <th>9</th>\n",
       "      <td>36.0</td>\n",
       "      <td>25.0</td>\n",
       "    </tr>\n",
       "    <tr>\n",
       "      <th>10</th>\n",
       "      <td>32.0</td>\n",
       "      <td>21.0</td>\n",
       "    </tr>\n",
       "    <tr>\n",
       "      <th>11</th>\n",
       "      <td>24.0</td>\n",
       "      <td>12.0</td>\n",
       "    </tr>\n",
       "    <tr>\n",
       "      <th>12</th>\n",
       "      <td>16.0</td>\n",
       "      <td>7.0</td>\n",
       "    </tr>\n",
       "  </tbody>\n",
       "</table>\n",
       "</div>"
      ],
      "text/plain": [
       "      max_temperature  min_temperature\n",
       "date                                  \n",
       "1                14.0              2.0\n",
       "2                21.0              6.0\n",
       "3                31.0             15.0\n",
       "4                34.0             19.0\n",
       "5                39.0             25.0\n",
       "6                39.0             26.0\n",
       "7                39.0             29.0\n",
       "8                37.0             27.0\n",
       "9                36.0             25.0\n",
       "10               32.0             21.0\n",
       "11               24.0             12.0\n",
       "12               16.0              7.0"
      ]
     },
     "execution_count": 26,
     "metadata": {},
     "output_type": "execute_result"
    }
   ],
   "source": [
    "months[['max_temperature', 'min_temperature']].max()"
   ]
  },
  {
   "cell_type": "code",
   "execution_count": 27,
   "metadata": {
    "ExecuteTime": {
     "end_time": "2020-08-25T02:31:21.816606Z",
     "start_time": "2020-08-25T02:31:21.688948Z"
    }
   },
   "outputs": [
    {
     "data": {
      "text/plain": [
       "<AxesSubplot:xlabel='date'>"
      ]
     },
     "execution_count": 27,
     "metadata": {},
     "output_type": "execute_result"
    },
    {
     "data": {
      "image/png": "[encoded data removed]",
      "text/plain": [
       "<Figure size 432x288 with 1 Axes>"
      ]
     },
     "metadata": {
      "needs_background": "light"
     },
     "output_type": "display_data"
    }
   ],
   "source": [
    "months[['max_temperature', 'min_temperature']].max().plot()"
   ]
  },
  {
   "cell_type": "markdown",
   "metadata": {},
   "source": [
    "### 统计每个季度的数据"
   ]
  },
  {
   "cell_type": "code",
   "execution_count": 28,
   "metadata": {
    "ExecuteTime": {
     "end_time": "2020-08-25T02:31:21.825664Z",
     "start_time": "2020-08-25T02:31:21.817756Z"
    }
   },
   "outputs": [
    {
     "data": {
      "text/plain": [
       "date\n",
       "1    31.0\n",
       "2    39.0\n",
       "3    39.0\n",
       "4    32.0\n",
       "Name: max_temperature, dtype: float64"
      ]
     },
     "execution_count": 28,
     "metadata": {},
     "output_type": "execute_result"
    }
   ],
   "source": [
    "df.groupby(df.index.quarter)[\"max_temperature\"].max()"
   ]
  },
  {
   "cell_type": "code",
   "execution_count": 29,
   "metadata": {
    "ExecuteTime": {
     "end_time": "2020-08-25T02:31:21.949285Z",
     "start_time": "2020-08-25T02:31:21.827028Z"
    }
   },
   "outputs": [
    {
     "data": {
      "text/plain": [
       "<AxesSubplot:xlabel='quarter'>"
      ]
     },
     "execution_count": 29,
     "metadata": {},
     "output_type": "execute_result"
    },
    {
     "data": {
      "image/png": "[encoded data removed]",
      "text/plain": [
       "<Figure size 432x288 with 1 Axes>"
      ]
     },
     "metadata": {
      "needs_background": "light"
     },
     "output_type": "display_data"
    }
   ],
   "source": [
    "df.groupby(df.index.quarter)[\n",
    "    ['max_temperature', 'min_temperature']].max().plot(xlabel='quarter')"
   ]
  },
  {
   "cell_type": "code",
   "execution_count": 30,
   "metadata": {
    "ExecuteTime": {
     "end_time": "2020-08-25T02:31:21.956233Z",
     "start_time": "2020-08-25T02:31:21.950498Z"
    }
   },
   "outputs": [
    {
     "data": {
      "text/plain": [
       "Int64Index([2017, 2017, 2017, 2017, 2017, 2017, 2017, 2017, 2017, 2017,\n",
       "            ...\n",
       "            2019, 2019, 2019, 2019, 2019, 2019, 2019, 2019, 2019, 2019],\n",
       "           dtype='int64', name='date', length=1095)"
      ]
     },
     "execution_count": 30,
     "metadata": {},
     "output_type": "execute_result"
    }
   ],
   "source": [
    "df.index.year"
   ]
  },
  {
   "cell_type": "code",
   "execution_count": 31,
   "metadata": {
    "ExecuteTime": {
     "end_time": "2020-08-25T02:31:21.978208Z",
     "start_time": "2020-08-25T02:31:21.957526Z"
    },
    "scrolled": true
   },
   "outputs": [
    {
     "data": {
      "text/plain": [
       "date  date\n",
       "2017  1       14.0\n",
       "      2       21.0\n",
       "      3       21.0\n",
       "      4       34.0\n",
       "      5       39.0\n",
       "      6       38.0\n",
       "      7       38.0\n",
       "      8       37.0\n",
       "      9       33.0\n",
       "      10      25.0\n",
       "      11      24.0\n",
       "      12      14.0\n",
       "2018  1       11.0\n",
       "      2       21.0\n",
       "      3       31.0\n",
       "      4       32.0\n",
       "      5       35.0\n",
       "      6       37.0\n",
       "      7       39.0\n",
       "      8       36.0\n",
       "      9       35.0\n",
       "      10      28.0\n",
       "      11      22.0\n",
       "      12      16.0\n",
       "2019  1       13.0\n",
       "      2       14.0\n",
       "      3       27.0\n",
       "      4       31.0\n",
       "      5       38.0\n",
       "      6       39.0\n",
       "      7       38.0\n",
       "      8       34.0\n",
       "      9       36.0\n",
       "      10      32.0\n",
       "      11      22.0\n",
       "      12      16.0\n",
       "Name: max_temperature, dtype: float64"
      ]
     },
     "execution_count": 31,
     "metadata": {},
     "output_type": "execute_result"
    }
   ],
   "source": [
    "group_data = df.groupby([df.index.year, df.index.month])[\n",
    "    'max_temperature'].max()\n",
    "group_data"
   ]
  },
  {
   "cell_type": "code",
   "execution_count": 32,
   "metadata": {
    "ExecuteTime": {
     "end_time": "2020-08-25T02:31:21.984158Z",
     "start_time": "2020-08-25T02:31:21.980169Z"
    }
   },
   "outputs": [],
   "source": [
    "group_data = group_data.unstack(level=1)"
   ]
  },
  {
   "cell_type": "code",
   "execution_count": 33,
   "metadata": {
    "ExecuteTime": {
     "end_time": "2020-08-25T02:31:22.004104Z",
     "start_time": "2020-08-25T02:31:21.985967Z"
    }
   },
   "outputs": [
    {
     "data": {
      "text/html": [
       "<div>\n",
       "<style scoped>\n",
       "    .dataframe tbody tr th:only-of-type {\n",
       "        vertical-align: middle;\n",
       "    }\n",
       "\n",
       "    .dataframe tbody tr th {\n",
       "        vertical-align: top;\n",
       "    }\n",
       "\n",
       "    .dataframe thead th {\n",
       "        text-align: right;\n",
       "    }\n",
       "</style>\n",
       "<table border=\"1\" class=\"dataframe\">\n",
       "  <thead>\n",
       "    <tr style=\"text-align: right;\">\n",
       "      <th>date</th>\n",
       "      <th>1</th>\n",
       "      <th>2</th>\n",
       "      <th>3</th>\n",
       "      <th>4</th>\n",
       "      <th>5</th>\n",
       "      <th>6</th>\n",
       "      <th>7</th>\n",
       "      <th>8</th>\n",
       "      <th>9</th>\n",
       "      <th>10</th>\n",
       "      <th>11</th>\n",
       "      <th>12</th>\n",
       "    </tr>\n",
       "    <tr>\n",
       "      <th>date</th>\n",
       "      <th></th>\n",
       "      <th></th>\n",
       "      <th></th>\n",
       "      <th></th>\n",
       "      <th></th>\n",
       "      <th></th>\n",
       "      <th></th>\n",
       "      <th></th>\n",
       "      <th></th>\n",
       "      <th></th>\n",
       "      <th></th>\n",
       "      <th></th>\n",
       "    </tr>\n",
       "  </thead>\n",
       "  <tbody>\n",
       "    <tr>\n",
       "      <th>2017</th>\n",
       "      <td>14.0</td>\n",
       "      <td>21.0</td>\n",
       "      <td>21.0</td>\n",
       "      <td>34.0</td>\n",
       "      <td>39.0</td>\n",
       "      <td>38.0</td>\n",
       "      <td>38.0</td>\n",
       "      <td>37.0</td>\n",
       "      <td>33.0</td>\n",
       "      <td>25.0</td>\n",
       "      <td>24.0</td>\n",
       "      <td>14.0</td>\n",
       "    </tr>\n",
       "    <tr>\n",
       "      <th>2018</th>\n",
       "      <td>11.0</td>\n",
       "      <td>21.0</td>\n",
       "      <td>31.0</td>\n",
       "      <td>32.0</td>\n",
       "      <td>35.0</td>\n",
       "      <td>37.0</td>\n",
       "      <td>39.0</td>\n",
       "      <td>36.0</td>\n",
       "      <td>35.0</td>\n",
       "      <td>28.0</td>\n",
       "      <td>22.0</td>\n",
       "      <td>16.0</td>\n",
       "    </tr>\n",
       "    <tr>\n",
       "      <th>2019</th>\n",
       "      <td>13.0</td>\n",
       "      <td>14.0</td>\n",
       "      <td>27.0</td>\n",
       "      <td>31.0</td>\n",
       "      <td>38.0</td>\n",
       "      <td>39.0</td>\n",
       "      <td>38.0</td>\n",
       "      <td>34.0</td>\n",
       "      <td>36.0</td>\n",
       "      <td>32.0</td>\n",
       "      <td>22.0</td>\n",
       "      <td>16.0</td>\n",
       "    </tr>\n",
       "  </tbody>\n",
       "</table>\n",
       "</div>"
      ],
      "text/plain": [
       "date    1     2     3     4     5     6     7     8     9     10    11    12\n",
       "date                                                                        \n",
       "2017  14.0  21.0  21.0  34.0  39.0  38.0  38.0  37.0  33.0  25.0  24.0  14.0\n",
       "2018  11.0  21.0  31.0  32.0  35.0  37.0  39.0  36.0  35.0  28.0  22.0  16.0\n",
       "2019  13.0  14.0  27.0  31.0  38.0  39.0  38.0  34.0  36.0  32.0  22.0  16.0"
      ]
     },
     "execution_count": 33,
     "metadata": {},
     "output_type": "execute_result"
    }
   ],
   "source": [
    "group_data"
   ]
  },
  {
   "cell_type": "code",
   "execution_count": 34,
   "metadata": {
    "ExecuteTime": {
     "end_time": "2020-08-25T02:31:22.185756Z",
     "start_time": "2020-08-25T02:31:22.005641Z"
    }
   },
   "outputs": [
    {
     "data": {
      "text/plain": [
       "<AxesSubplot:xlabel='date'>"
      ]
     },
     "execution_count": 34,
     "metadata": {},
     "output_type": "execute_result"
    },
    {
     "data": {
      "image/png": "[encoded data removed]",
      "text/plain": [
       "<Figure size 432x288 with 1 Axes>"
      ]
     },
     "metadata": {
      "needs_background": "light"
     },
     "output_type": "display_data"
    }
   ],
   "source": [
    "group_data.plot(xticks=[i for i in range(1, 13)])"
   ]
  }
 ],
 "metadata": {
  "kernelspec": {
   "display_name": "Python 3",
   "language": "python",
   "name": "python3"
  },
  "language_info": {
   "codemirror_mode": {
    "name": "ipython",
    "version": 3
   },
   "file_extension": ".py",
   "mimetype": "text/x-python",
   "name": "python",
   "nbconvert_exporter": "python",
   "pygments_lexer": "ipython3",
   "version": "3.7.2"
  },
  "toc": {
   "base_numbering": 1,
   "nav_menu": {},
   "number_sections": true,
   "sideBar": true,
   "skip_h1_title": false,
   "title_cell": "Table of Contents",
   "title_sidebar": "Contents",
   "toc_cell": false,
   "toc_position": {},
   "toc_section_display": true,
   "toc_window_display": false
  },
  "varInspector": {
   "cols": {
    "lenName": 16,
    "lenType": 16,
    "lenVar": 40
   },
   "kernels_config": {
    "python": {
     "delete_cmd_postfix": "",
     "delete_cmd_prefix": "del ",
     "library": "var_list.py",
     "varRefreshCmd": "print(var_dic_list())"
    },
    "r": {
     "delete_cmd_postfix": ") ",
     "delete_cmd_prefix": "rm(",
     "library": "var_list.r",
     "varRefreshCmd": "cat(var_dic_list()) "
    }
   },
   "types_to_exclude": [
    "module",
    "function",
    "builtin_function_or_method",
    "instance",
    "_Feature"
   ],
   "window_display": false
  }
 },
 "nbformat": 4,
 "nbformat_minor": 2
}
